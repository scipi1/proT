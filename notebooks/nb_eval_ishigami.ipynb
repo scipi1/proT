{
 "cells": [
  {
   "cell_type": "code",
   "execution_count": 1,
   "id": "56b29bd3",
   "metadata": {},
   "outputs": [],
   "source": [
    "import numpy as np\n",
    "import pandas as pd\n",
    "from omegaconf import OmegaConf\n",
    "from os.path import join, isdir, dirname, abspath\n",
    "from os import listdir\n",
    "from typing import List\n",
    "from pathlib import Path\n",
    "import boto3\n",
    "import matplotlib.pyplot as plt\n",
    "import seaborn as sns\n",
    "from matplotlib.gridspec import GridSpec\n",
    "import matplotlib as mpl\n",
    "from collections import OrderedDict\n",
    "import torch\n",
    "from scipy.stats import linregress\n",
    "\n",
    "from matplotlib import colors\n",
    "\n",
    "\n",
    "root_path = dirname(abspath(\"./\"))\n",
    "import sys\n",
    "sys.path.append(root_path)\n",
    "\n",
    "from prochain_transformer.subroutines.eval_sweeps import get_df_recursive, has_logs_subfolder, get_df_kfold_loss"
   ]
  },
  {
   "cell_type": "code",
   "execution_count": 2,
   "id": "afd1f3ca",
   "metadata": {},
   "outputs": [],
   "source": [
    "def post_process_sweep(\n",
    "    df: pd.DataFrame,\n",
    "    compound_cols: List[dict],\n",
    "    columns_name_map: dict=None,\n",
    "    columns_to_dump: list=None\n",
    "    ):\n",
    "    \n",
    "    df_ = df.copy()\n",
    "    \n",
    "    # extract sweeps and base info\n",
    "    for compound_col in compound_cols:\n",
    "        df_[compound_col[\"new_label\"]] = df_[compound_col[\"old_label\"]].str.extract(compound_col[\"regex\"])\n",
    "        df_[compound_col[\"new_label\"]] = df_[compound_col[\"new_label\"]].astype(compound_col[\"type\"])\n",
    "        \n",
    "    if columns_name_map is not None:\n",
    "        df_ = df_.rename(columns=columns_name_map)\n",
    "        \n",
    "    if columns_to_dump is not None:\n",
    "        df_ = df_.drop(columns=columns_to_dump)\n",
    "        \n",
    "    return df_"
   ]
  },
  {
   "cell_type": "code",
   "execution_count": 9,
   "id": "6b1e96d4",
   "metadata": {},
   "outputs": [
    {
     "data": {
      "application/vnd.microsoft.datawrangler.viewer.v0+json": {
       "columns": [
        {
         "name": "index",
         "rawType": "int64",
         "type": "integer"
        },
        {
         "name": "k",
         "rawType": "object",
         "type": "string"
        },
        {
         "name": "val_loss",
         "rawType": "float64",
         "type": "float"
        },
        {
         "name": "train_loss",
         "rawType": "float64",
         "type": "float"
        },
        {
         "name": "test_loss",
         "rawType": "float64",
         "type": "float"
        },
        {
         "name": "level_0",
         "rawType": "object",
         "type": "string"
        }
       ],
       "ref": "f20f7c0a-cfa9-4c5d-9973-17a46d37a221",
       "rows": [
        [
         "0",
         "k_0",
         "0.2408189922571182",
         "0.0040359762497246",
         "0.1961267590522766",
         "combo_d_base_emb_100_max_data_size_100"
        ],
        [
         "1",
         "k_1",
         "0.167648583650589",
         "0.0069263195618987",
         "0.1888477057218551",
         "combo_d_base_emb_100_max_data_size_100"
        ],
        [
         "2",
         "k_2",
         "0.2626956403255462",
         "0.0016251379856839",
         "0.3009408414363861",
         "combo_d_base_emb_100_max_data_size_100"
        ],
        [
         "3",
         "k_3",
         "0.5325461626052856",
         "0.0035320450551807",
         "0.227385401725769",
         "combo_d_base_emb_100_max_data_size_100"
        ],
        [
         "4",
         "k_4",
         "0.6336718797683716",
         "0.0069475737400352",
         "0.3951712548732757",
         "combo_d_base_emb_100_max_data_size_100"
        ],
        [
         "0",
         "k_0",
         "0.2130507528781891",
         "0.0241640582680702",
         "0.1836308687925338",
         "combo_d_base_emb_100_max_data_size_1000"
        ],
        [
         "1",
         "k_1",
         "0.2304058372974395",
         "0.0155508574098348",
         "0.2837468087673187",
         "combo_d_base_emb_100_max_data_size_1000"
        ],
        [
         "2",
         "k_2",
         "0.1836250722408294",
         "0.0213393177837133",
         "0.2005417197942733",
         "combo_d_base_emb_100_max_data_size_1000"
        ],
        [
         "3",
         "k_3",
         "0.2004106342792511",
         "0.0155571047216653",
         "0.2109420895576477",
         "combo_d_base_emb_100_max_data_size_1000"
        ],
        [
         "4",
         "k_4",
         "0.1813752800226211",
         "0.029129784554243",
         "0.1523871123790741",
         "combo_d_base_emb_100_max_data_size_1000"
        ],
        [
         "0",
         "k_0",
         "0.6879917979240417",
         "0.0036816834472119",
         "0.5925973653793335",
         "combo_d_base_emb_100_max_data_size_16000"
        ],
        [
         "1",
         "k_1",
         "0.016666192561388",
         "0.0036182354670017",
         "0.0159801952540874",
         "combo_d_base_emb_100_max_data_size_16000"
        ],
        [
         "2",
         "k_2",
         "0.3585870862007141",
         "0.0037411972880363",
         "0.3780810832977295",
         "combo_d_base_emb_100_max_data_size_16000"
        ],
        [
         "3",
         "k_3",
         "0.6432387828826904",
         "0.0294308215379714",
         "0.619071364402771",
         "combo_d_base_emb_100_max_data_size_16000"
        ],
        [
         "4",
         "k_4",
         "0.2048878967761993",
         "0.0051130345091223",
         "0.1965944468975067",
         "combo_d_base_emb_100_max_data_size_16000"
        ],
        [
         "0",
         "k_0",
         "0.2002198696136474",
         "0.0137472646310925",
         "0.1927203685045242",
         "combo_d_base_emb_100_max_data_size_200"
        ],
        [
         "1",
         "k_1",
         "0.1561847925186157",
         "0.0024271975271403",
         "0.166800171136856",
         "combo_d_base_emb_100_max_data_size_200"
        ],
        [
         "2",
         "k_2",
         "0.2545062601566314",
         "0.0017300361068919",
         "0.2517774105072021",
         "combo_d_base_emb_100_max_data_size_200"
        ],
        [
         "3",
         "k_3",
         "0.247861623764038",
         "0.0003097544540651",
         "0.2061318904161453",
         "combo_d_base_emb_100_max_data_size_200"
        ],
        [
         "4",
         "k_4",
         "0.3000162839889526",
         "0.0017613942036405",
         "0.1887285262346267",
         "combo_d_base_emb_100_max_data_size_200"
        ],
        [
         "0",
         "k_0",
         "0.228508859872818",
         "0.0025596809573471",
         "0.2653032839298248",
         "combo_d_base_emb_10_max_data_size_100"
        ],
        [
         "1",
         "k_1",
         "0.1700927913188934",
         "0.0061617186293005",
         "0.1853922456502914",
         "combo_d_base_emb_10_max_data_size_100"
        ],
        [
         "2",
         "k_2",
         "0.2362133562564849",
         "0.0016114977188408",
         "0.2808793485164642",
         "combo_d_base_emb_10_max_data_size_100"
        ],
        [
         "3",
         "k_3",
         "0.1753015667200088",
         "0.0035143848508596",
         "0.1657363027334213",
         "combo_d_base_emb_10_max_data_size_100"
        ],
        [
         "4",
         "k_4",
         "0.7479016780853271",
         "0.0049727465957403",
         "0.2348429858684539",
         "combo_d_base_emb_10_max_data_size_100"
        ],
        [
         "0",
         "k_0",
         "0.240896850824356",
         "0.0043248711153864",
         "0.2464280277490615",
         "combo_d_base_emb_10_max_data_size_1000"
        ],
        [
         "1",
         "k_1",
         "0.1678485572338104",
         "0.0033481034915894",
         "0.1532367318868637",
         "combo_d_base_emb_10_max_data_size_1000"
        ],
        [
         "2",
         "k_2",
         "0.1450859755277633",
         "0.0036116216797381",
         "0.1318166702985763",
         "combo_d_base_emb_10_max_data_size_1000"
        ],
        [
         "3",
         "k_3",
         "0.256539523601532",
         "0.0024379366077482",
         "0.2612458169460296",
         "combo_d_base_emb_10_max_data_size_1000"
        ],
        [
         "4",
         "k_4",
         "0.1681068688631057",
         "0.005571992136538",
         "0.1423584520816803",
         "combo_d_base_emb_10_max_data_size_1000"
        ],
        [
         "0",
         "k_0",
         "0.2608337104320526",
         "0.003062717616558",
         "0.2476796954870224",
         "combo_d_base_emb_10_max_data_size_16000"
        ],
        [
         "1",
         "k_1",
         "0.2161163091659546",
         "0.0031227055005729",
         "0.2142438143491745",
         "combo_d_base_emb_10_max_data_size_16000"
        ],
        [
         "2",
         "k_2",
         "0.2832294106483459",
         "0.0034088809043169",
         "0.2929806113243103",
         "combo_d_base_emb_10_max_data_size_16000"
        ],
        [
         "3",
         "k_3",
         "0.328153133392334",
         "0.0031756542157381",
         "0.3208051919937134",
         "combo_d_base_emb_10_max_data_size_16000"
        ],
        [
         "4",
         "k_4",
         "0.2817713618278503",
         "0.0033807475119829",
         "0.2729809284210205",
         "combo_d_base_emb_10_max_data_size_16000"
        ],
        [
         "0",
         "k_0",
         "0.0624357834458351",
         "0.0014661524910479",
         "0.0303369425237178",
         "combo_d_base_emb_10_max_data_size_200"
        ],
        [
         "1",
         "k_1",
         "1.375990629196167",
         "0.0018487446941435",
         "1.362573504447937",
         "combo_d_base_emb_10_max_data_size_200"
        ],
        [
         "2",
         "k_2",
         "0.4764753580093384",
         "0.0008558418485336",
         "0.3803814947605133",
         "combo_d_base_emb_10_max_data_size_200"
        ],
        [
         "3",
         "k_3",
         "0.0542620532214641",
         "0.0001121234672609",
         "0.0096933906897902",
         "combo_d_base_emb_10_max_data_size_200"
        ],
        [
         "4",
         "k_4",
         "0.5069286823272705",
         "0.0011251331306993",
         "0.5581350326538086",
         "combo_d_base_emb_10_max_data_size_200"
        ],
        [
         "0",
         "k_0",
         "0.2088428437709808",
         "0.0026110608596354",
         "0.1394380331039428",
         "combo_d_base_emb_110_max_data_size_100"
        ],
        [
         "1",
         "k_1",
         "0.1830849349498748",
         "0.0177798010408878",
         "0.1678562611341476",
         "combo_d_base_emb_110_max_data_size_100"
        ],
        [
         "2",
         "k_2",
         "0.3089476525783539",
         "0.0049280426464974",
         "0.1704562306404113",
         "combo_d_base_emb_110_max_data_size_100"
        ],
        [
         "3",
         "k_3",
         "0.3627874851226806",
         "0.0163141675293445",
         "0.5483680963516235",
         "combo_d_base_emb_110_max_data_size_100"
        ],
        [
         "4",
         "k_4",
         "0.2142297774553299",
         "0.0149801690131425",
         "0.1149192079901695",
         "combo_d_base_emb_110_max_data_size_100"
        ],
        [
         "0",
         "k_0",
         "0.254116952419281",
         "0.0310106128454208",
         "0.2554044425487518",
         "combo_d_base_emb_110_max_data_size_1000"
        ],
        [
         "1",
         "k_1",
         "0.1256256997585296",
         "0.0481223501265049",
         "0.1296430826187133",
         "combo_d_base_emb_110_max_data_size_1000"
        ],
        [
         "2",
         "k_2",
         "0.1415055096149444",
         "0.0263051241636276",
         "0.1072236075997352",
         "combo_d_base_emb_110_max_data_size_1000"
        ],
        [
         "3",
         "k_3",
         "0.4322621822357178",
         "0.0301035735756158",
         "0.4577360451221466",
         "combo_d_base_emb_110_max_data_size_1000"
        ],
        [
         "4",
         "k_4",
         "0.2979776263236999",
         "0.0280186478048563",
         "0.2502437829971313",
         "combo_d_base_emb_110_max_data_size_1000"
        ]
       ],
       "shape": {
        "columns": 5,
        "rows": 217
       }
      },
      "text/html": [
       "<div>\n",
       "<style scoped>\n",
       "    .dataframe tbody tr th:only-of-type {\n",
       "        vertical-align: middle;\n",
       "    }\n",
       "\n",
       "    .dataframe tbody tr th {\n",
       "        vertical-align: top;\n",
       "    }\n",
       "\n",
       "    .dataframe thead th {\n",
       "        text-align: right;\n",
       "    }\n",
       "</style>\n",
       "<table border=\"1\" class=\"dataframe\">\n",
       "  <thead>\n",
       "    <tr style=\"text-align: right;\">\n",
       "      <th></th>\n",
       "      <th>k</th>\n",
       "      <th>val_loss</th>\n",
       "      <th>train_loss</th>\n",
       "      <th>test_loss</th>\n",
       "      <th>level_0</th>\n",
       "    </tr>\n",
       "  </thead>\n",
       "  <tbody>\n",
       "    <tr>\n",
       "      <th>0</th>\n",
       "      <td>k_0</td>\n",
       "      <td>0.240819</td>\n",
       "      <td>0.004036</td>\n",
       "      <td>0.196127</td>\n",
       "      <td>combo_d_base_emb_100_max_data_size_100</td>\n",
       "    </tr>\n",
       "    <tr>\n",
       "      <th>1</th>\n",
       "      <td>k_1</td>\n",
       "      <td>0.167649</td>\n",
       "      <td>0.006926</td>\n",
       "      <td>0.188848</td>\n",
       "      <td>combo_d_base_emb_100_max_data_size_100</td>\n",
       "    </tr>\n",
       "    <tr>\n",
       "      <th>2</th>\n",
       "      <td>k_2</td>\n",
       "      <td>0.262696</td>\n",
       "      <td>0.001625</td>\n",
       "      <td>0.300941</td>\n",
       "      <td>combo_d_base_emb_100_max_data_size_100</td>\n",
       "    </tr>\n",
       "    <tr>\n",
       "      <th>3</th>\n",
       "      <td>k_3</td>\n",
       "      <td>0.532546</td>\n",
       "      <td>0.003532</td>\n",
       "      <td>0.227385</td>\n",
       "      <td>combo_d_base_emb_100_max_data_size_100</td>\n",
       "    </tr>\n",
       "    <tr>\n",
       "      <th>4</th>\n",
       "      <td>k_4</td>\n",
       "      <td>0.633672</td>\n",
       "      <td>0.006948</td>\n",
       "      <td>0.395171</td>\n",
       "      <td>combo_d_base_emb_100_max_data_size_100</td>\n",
       "    </tr>\n",
       "    <tr>\n",
       "      <th>...</th>\n",
       "      <td>...</td>\n",
       "      <td>...</td>\n",
       "      <td>...</td>\n",
       "      <td>...</td>\n",
       "      <td>...</td>\n",
       "    </tr>\n",
       "    <tr>\n",
       "      <th>0</th>\n",
       "      <td>k_0</td>\n",
       "      <td>0.206081</td>\n",
       "      <td>0.001979</td>\n",
       "      <td>0.171004</td>\n",
       "      <td>combo_d_base_emb_90_max_data_size_200</td>\n",
       "    </tr>\n",
       "    <tr>\n",
       "      <th>1</th>\n",
       "      <td>k_1</td>\n",
       "      <td>0.278059</td>\n",
       "      <td>0.002049</td>\n",
       "      <td>0.336767</td>\n",
       "      <td>combo_d_base_emb_90_max_data_size_200</td>\n",
       "    </tr>\n",
       "    <tr>\n",
       "      <th>2</th>\n",
       "      <td>k_2</td>\n",
       "      <td>0.534824</td>\n",
       "      <td>0.002571</td>\n",
       "      <td>0.329427</td>\n",
       "      <td>combo_d_base_emb_90_max_data_size_200</td>\n",
       "    </tr>\n",
       "    <tr>\n",
       "      <th>3</th>\n",
       "      <td>k_3</td>\n",
       "      <td>0.252945</td>\n",
       "      <td>0.001424</td>\n",
       "      <td>0.428101</td>\n",
       "      <td>combo_d_base_emb_90_max_data_size_200</td>\n",
       "    </tr>\n",
       "    <tr>\n",
       "      <th>4</th>\n",
       "      <td>k_4</td>\n",
       "      <td>0.357967</td>\n",
       "      <td>0.001862</td>\n",
       "      <td>0.234237</td>\n",
       "      <td>combo_d_base_emb_90_max_data_size_200</td>\n",
       "    </tr>\n",
       "  </tbody>\n",
       "</table>\n",
       "<p>217 rows × 5 columns</p>\n",
       "</div>"
      ],
      "text/plain": [
       "      k  val_loss  train_loss  test_loss  \\\n",
       "0   k_0  0.240819    0.004036   0.196127   \n",
       "1   k_1  0.167649    0.006926   0.188848   \n",
       "2   k_2  0.262696    0.001625   0.300941   \n",
       "3   k_3  0.532546    0.003532   0.227385   \n",
       "4   k_4  0.633672    0.006948   0.395171   \n",
       "..  ...       ...         ...        ...   \n",
       "0   k_0  0.206081    0.001979   0.171004   \n",
       "1   k_1  0.278059    0.002049   0.336767   \n",
       "2   k_2  0.534824    0.002571   0.329427   \n",
       "3   k_3  0.252945    0.001424   0.428101   \n",
       "4   k_4  0.357967    0.001862   0.234237   \n",
       "\n",
       "                                   level_0  \n",
       "0   combo_d_base_emb_100_max_data_size_100  \n",
       "1   combo_d_base_emb_100_max_data_size_100  \n",
       "2   combo_d_base_emb_100_max_data_size_100  \n",
       "3   combo_d_base_emb_100_max_data_size_100  \n",
       "4   combo_d_base_emb_100_max_data_size_100  \n",
       "..                                     ...  \n",
       "0    combo_d_base_emb_90_max_data_size_200  \n",
       "1    combo_d_base_emb_90_max_data_size_200  \n",
       "2    combo_d_base_emb_90_max_data_size_200  \n",
       "3    combo_d_base_emb_90_max_data_size_200  \n",
       "4    combo_d_base_emb_90_max_data_size_200  \n",
       "\n",
       "[217 rows x 5 columns]"
      ]
     },
     "execution_count": 9,
     "metadata": {},
     "output_type": "execute_result"
    }
   ],
   "source": [
    "dirpath_sum = \"../experiments/training/ishigami_sum/combinations_new\"\n",
    "dirpath_cat = \"../experiments/training/ishigami_cat/combinations_new\"\n",
    "df_sum = get_df_recursive(filepath=dirpath_sum, bottom_action=get_df_kfold_loss, is_bottom= has_logs_subfolder)\n",
    "df_cat = get_df_recursive(filepath=dirpath_cat, bottom_action=get_df_kfold_loss, is_bottom= has_logs_subfolder)\n",
    "df_cat"
   ]
  },
  {
   "cell_type": "code",
   "execution_count": 10,
   "id": "9dd2b755",
   "metadata": {},
   "outputs": [
    {
     "data": {
      "application/vnd.microsoft.datawrangler.viewer.v0+json": {
       "columns": [
        {
         "name": "index",
         "rawType": "int64",
         "type": "integer"
        },
        {
         "name": "k",
         "rawType": "object",
         "type": "string"
        },
        {
         "name": "validation",
         "rawType": "float64",
         "type": "float"
        },
        {
         "name": "train",
         "rawType": "float64",
         "type": "float"
        },
        {
         "name": "test",
         "rawType": "float64",
         "type": "float"
        },
        {
         "name": "d_emb",
         "rawType": "int32",
         "type": "integer"
        },
        {
         "name": "ds size",
         "rawType": "int32",
         "type": "integer"
        }
       ],
       "ref": "746a19f3-a3bb-4258-b193-1acb92a22b5e",
       "rows": [
        [
         "0",
         "k_0",
         "0.2408189922571182",
         "0.0040359762497246",
         "0.1961267590522766",
         "100",
         "100"
        ],
        [
         "1",
         "k_1",
         "0.167648583650589",
         "0.0069263195618987",
         "0.1888477057218551",
         "100",
         "100"
        ],
        [
         "2",
         "k_2",
         "0.2626956403255462",
         "0.0016251379856839",
         "0.3009408414363861",
         "100",
         "100"
        ],
        [
         "3",
         "k_3",
         "0.5325461626052856",
         "0.0035320450551807",
         "0.227385401725769",
         "100",
         "100"
        ],
        [
         "4",
         "k_4",
         "0.6336718797683716",
         "0.0069475737400352",
         "0.3951712548732757",
         "100",
         "100"
        ],
        [
         "0",
         "k_0",
         "0.2130507528781891",
         "0.0241640582680702",
         "0.1836308687925338",
         "100",
         "1000"
        ],
        [
         "1",
         "k_1",
         "0.2304058372974395",
         "0.0155508574098348",
         "0.2837468087673187",
         "100",
         "1000"
        ],
        [
         "2",
         "k_2",
         "0.1836250722408294",
         "0.0213393177837133",
         "0.2005417197942733",
         "100",
         "1000"
        ],
        [
         "3",
         "k_3",
         "0.2004106342792511",
         "0.0155571047216653",
         "0.2109420895576477",
         "100",
         "1000"
        ],
        [
         "4",
         "k_4",
         "0.1813752800226211",
         "0.029129784554243",
         "0.1523871123790741",
         "100",
         "1000"
        ],
        [
         "0",
         "k_0",
         "0.6879917979240417",
         "0.0036816834472119",
         "0.5925973653793335",
         "100",
         "16000"
        ],
        [
         "1",
         "k_1",
         "0.016666192561388",
         "0.0036182354670017",
         "0.0159801952540874",
         "100",
         "16000"
        ],
        [
         "2",
         "k_2",
         "0.3585870862007141",
         "0.0037411972880363",
         "0.3780810832977295",
         "100",
         "16000"
        ],
        [
         "3",
         "k_3",
         "0.6432387828826904",
         "0.0294308215379714",
         "0.619071364402771",
         "100",
         "16000"
        ],
        [
         "4",
         "k_4",
         "0.2048878967761993",
         "0.0051130345091223",
         "0.1965944468975067",
         "100",
         "16000"
        ],
        [
         "0",
         "k_0",
         "0.2002198696136474",
         "0.0137472646310925",
         "0.1927203685045242",
         "100",
         "200"
        ],
        [
         "1",
         "k_1",
         "0.1561847925186157",
         "0.0024271975271403",
         "0.166800171136856",
         "100",
         "200"
        ],
        [
         "2",
         "k_2",
         "0.2545062601566314",
         "0.0017300361068919",
         "0.2517774105072021",
         "100",
         "200"
        ],
        [
         "3",
         "k_3",
         "0.247861623764038",
         "0.0003097544540651",
         "0.2061318904161453",
         "100",
         "200"
        ],
        [
         "4",
         "k_4",
         "0.3000162839889526",
         "0.0017613942036405",
         "0.1887285262346267",
         "100",
         "200"
        ],
        [
         "0",
         "k_0",
         "0.228508859872818",
         "0.0025596809573471",
         "0.2653032839298248",
         "10",
         "100"
        ],
        [
         "1",
         "k_1",
         "0.1700927913188934",
         "0.0061617186293005",
         "0.1853922456502914",
         "10",
         "100"
        ],
        [
         "2",
         "k_2",
         "0.2362133562564849",
         "0.0016114977188408",
         "0.2808793485164642",
         "10",
         "100"
        ],
        [
         "3",
         "k_3",
         "0.1753015667200088",
         "0.0035143848508596",
         "0.1657363027334213",
         "10",
         "100"
        ],
        [
         "4",
         "k_4",
         "0.7479016780853271",
         "0.0049727465957403",
         "0.2348429858684539",
         "10",
         "100"
        ],
        [
         "0",
         "k_0",
         "0.240896850824356",
         "0.0043248711153864",
         "0.2464280277490615",
         "10",
         "1000"
        ],
        [
         "1",
         "k_1",
         "0.1678485572338104",
         "0.0033481034915894",
         "0.1532367318868637",
         "10",
         "1000"
        ],
        [
         "2",
         "k_2",
         "0.1450859755277633",
         "0.0036116216797381",
         "0.1318166702985763",
         "10",
         "1000"
        ],
        [
         "3",
         "k_3",
         "0.256539523601532",
         "0.0024379366077482",
         "0.2612458169460296",
         "10",
         "1000"
        ],
        [
         "4",
         "k_4",
         "0.1681068688631057",
         "0.005571992136538",
         "0.1423584520816803",
         "10",
         "1000"
        ],
        [
         "0",
         "k_0",
         "0.2608337104320526",
         "0.003062717616558",
         "0.2476796954870224",
         "10",
         "16000"
        ],
        [
         "1",
         "k_1",
         "0.2161163091659546",
         "0.0031227055005729",
         "0.2142438143491745",
         "10",
         "16000"
        ],
        [
         "2",
         "k_2",
         "0.2832294106483459",
         "0.0034088809043169",
         "0.2929806113243103",
         "10",
         "16000"
        ],
        [
         "3",
         "k_3",
         "0.328153133392334",
         "0.0031756542157381",
         "0.3208051919937134",
         "10",
         "16000"
        ],
        [
         "4",
         "k_4",
         "0.2817713618278503",
         "0.0033807475119829",
         "0.2729809284210205",
         "10",
         "16000"
        ],
        [
         "0",
         "k_0",
         "0.0624357834458351",
         "0.0014661524910479",
         "0.0303369425237178",
         "10",
         "200"
        ],
        [
         "1",
         "k_1",
         "1.375990629196167",
         "0.0018487446941435",
         "1.362573504447937",
         "10",
         "200"
        ],
        [
         "2",
         "k_2",
         "0.4764753580093384",
         "0.0008558418485336",
         "0.3803814947605133",
         "10",
         "200"
        ],
        [
         "3",
         "k_3",
         "0.0542620532214641",
         "0.0001121234672609",
         "0.0096933906897902",
         "10",
         "200"
        ],
        [
         "4",
         "k_4",
         "0.5069286823272705",
         "0.0011251331306993",
         "0.5581350326538086",
         "10",
         "200"
        ],
        [
         "0",
         "k_0",
         "0.2088428437709808",
         "0.0026110608596354",
         "0.1394380331039428",
         "110",
         "100"
        ],
        [
         "1",
         "k_1",
         "0.1830849349498748",
         "0.0177798010408878",
         "0.1678562611341476",
         "110",
         "100"
        ],
        [
         "2",
         "k_2",
         "0.3089476525783539",
         "0.0049280426464974",
         "0.1704562306404113",
         "110",
         "100"
        ],
        [
         "3",
         "k_3",
         "0.3627874851226806",
         "0.0163141675293445",
         "0.5483680963516235",
         "110",
         "100"
        ],
        [
         "4",
         "k_4",
         "0.2142297774553299",
         "0.0149801690131425",
         "0.1149192079901695",
         "110",
         "100"
        ],
        [
         "0",
         "k_0",
         "0.254116952419281",
         "0.0310106128454208",
         "0.2554044425487518",
         "110",
         "1000"
        ],
        [
         "1",
         "k_1",
         "0.1256256997585296",
         "0.0481223501265049",
         "0.1296430826187133",
         "110",
         "1000"
        ],
        [
         "2",
         "k_2",
         "0.1415055096149444",
         "0.0263051241636276",
         "0.1072236075997352",
         "110",
         "1000"
        ],
        [
         "3",
         "k_3",
         "0.4322621822357178",
         "0.0301035735756158",
         "0.4577360451221466",
         "110",
         "1000"
        ],
        [
         "4",
         "k_4",
         "0.2979776263236999",
         "0.0280186478048563",
         "0.2502437829971313",
         "110",
         "1000"
        ]
       ],
       "shape": {
        "columns": 6,
        "rows": 217
       }
      },
      "text/html": [
       "<div>\n",
       "<style scoped>\n",
       "    .dataframe tbody tr th:only-of-type {\n",
       "        vertical-align: middle;\n",
       "    }\n",
       "\n",
       "    .dataframe tbody tr th {\n",
       "        vertical-align: top;\n",
       "    }\n",
       "\n",
       "    .dataframe thead th {\n",
       "        text-align: right;\n",
       "    }\n",
       "</style>\n",
       "<table border=\"1\" class=\"dataframe\">\n",
       "  <thead>\n",
       "    <tr style=\"text-align: right;\">\n",
       "      <th></th>\n",
       "      <th>k</th>\n",
       "      <th>validation</th>\n",
       "      <th>train</th>\n",
       "      <th>test</th>\n",
       "      <th>d_emb</th>\n",
       "      <th>ds size</th>\n",
       "    </tr>\n",
       "  </thead>\n",
       "  <tbody>\n",
       "    <tr>\n",
       "      <th>0</th>\n",
       "      <td>k_0</td>\n",
       "      <td>0.240819</td>\n",
       "      <td>0.004036</td>\n",
       "      <td>0.196127</td>\n",
       "      <td>100</td>\n",
       "      <td>100</td>\n",
       "    </tr>\n",
       "    <tr>\n",
       "      <th>1</th>\n",
       "      <td>k_1</td>\n",
       "      <td>0.167649</td>\n",
       "      <td>0.006926</td>\n",
       "      <td>0.188848</td>\n",
       "      <td>100</td>\n",
       "      <td>100</td>\n",
       "    </tr>\n",
       "    <tr>\n",
       "      <th>2</th>\n",
       "      <td>k_2</td>\n",
       "      <td>0.262696</td>\n",
       "      <td>0.001625</td>\n",
       "      <td>0.300941</td>\n",
       "      <td>100</td>\n",
       "      <td>100</td>\n",
       "    </tr>\n",
       "    <tr>\n",
       "      <th>3</th>\n",
       "      <td>k_3</td>\n",
       "      <td>0.532546</td>\n",
       "      <td>0.003532</td>\n",
       "      <td>0.227385</td>\n",
       "      <td>100</td>\n",
       "      <td>100</td>\n",
       "    </tr>\n",
       "    <tr>\n",
       "      <th>4</th>\n",
       "      <td>k_4</td>\n",
       "      <td>0.633672</td>\n",
       "      <td>0.006948</td>\n",
       "      <td>0.395171</td>\n",
       "      <td>100</td>\n",
       "      <td>100</td>\n",
       "    </tr>\n",
       "    <tr>\n",
       "      <th>...</th>\n",
       "      <td>...</td>\n",
       "      <td>...</td>\n",
       "      <td>...</td>\n",
       "      <td>...</td>\n",
       "      <td>...</td>\n",
       "      <td>...</td>\n",
       "    </tr>\n",
       "    <tr>\n",
       "      <th>0</th>\n",
       "      <td>k_0</td>\n",
       "      <td>0.206081</td>\n",
       "      <td>0.001979</td>\n",
       "      <td>0.171004</td>\n",
       "      <td>90</td>\n",
       "      <td>200</td>\n",
       "    </tr>\n",
       "    <tr>\n",
       "      <th>1</th>\n",
       "      <td>k_1</td>\n",
       "      <td>0.278059</td>\n",
       "      <td>0.002049</td>\n",
       "      <td>0.336767</td>\n",
       "      <td>90</td>\n",
       "      <td>200</td>\n",
       "    </tr>\n",
       "    <tr>\n",
       "      <th>2</th>\n",
       "      <td>k_2</td>\n",
       "      <td>0.534824</td>\n",
       "      <td>0.002571</td>\n",
       "      <td>0.329427</td>\n",
       "      <td>90</td>\n",
       "      <td>200</td>\n",
       "    </tr>\n",
       "    <tr>\n",
       "      <th>3</th>\n",
       "      <td>k_3</td>\n",
       "      <td>0.252945</td>\n",
       "      <td>0.001424</td>\n",
       "      <td>0.428101</td>\n",
       "      <td>90</td>\n",
       "      <td>200</td>\n",
       "    </tr>\n",
       "    <tr>\n",
       "      <th>4</th>\n",
       "      <td>k_4</td>\n",
       "      <td>0.357967</td>\n",
       "      <td>0.001862</td>\n",
       "      <td>0.234237</td>\n",
       "      <td>90</td>\n",
       "      <td>200</td>\n",
       "    </tr>\n",
       "  </tbody>\n",
       "</table>\n",
       "<p>217 rows × 6 columns</p>\n",
       "</div>"
      ],
      "text/plain": [
       "      k  validation     train      test  d_emb  ds size\n",
       "0   k_0    0.240819  0.004036  0.196127    100      100\n",
       "1   k_1    0.167649  0.006926  0.188848    100      100\n",
       "2   k_2    0.262696  0.001625  0.300941    100      100\n",
       "3   k_3    0.532546  0.003532  0.227385    100      100\n",
       "4   k_4    0.633672  0.006948  0.395171    100      100\n",
       "..  ...         ...       ...       ...    ...      ...\n",
       "0   k_0    0.206081  0.001979  0.171004     90      200\n",
       "1   k_1    0.278059  0.002049  0.336767     90      200\n",
       "2   k_2    0.534824  0.002571  0.329427     90      200\n",
       "3   k_3    0.252945  0.001424  0.428101     90      200\n",
       "4   k_4    0.357967  0.001862  0.234237     90      200\n",
       "\n",
       "[217 rows x 6 columns]"
      ]
     },
     "execution_count": 10,
     "metadata": {},
     "output_type": "execute_result"
    }
   ],
   "source": [
    "columns_name_map = {\n",
    "    \"val_loss\"  : \"validation\",\n",
    "    \"train_loss\"  : \"train\",\n",
    "    \"test_loss\"  : \"test\",\n",
    "    \"level_2\": \"sweep variable\"\n",
    "    }\n",
    "\n",
    "compound_cols = [\n",
    "        {\n",
    "            \"old_label\" :\"level_0\",\n",
    "            \"new_label\": [\"d_emb\", \"ds size\"],\n",
    "            \"regex\":r\"(\\d+).+?(\\d+)\", \n",
    "            \"type\":int}\n",
    "        ]\n",
    "\n",
    "columns_to_dump = [\n",
    "    \"level_0\",\n",
    "]\n",
    "\n",
    "df_S = post_process_sweep(df_sum, compound_cols, columns_name_map, columns_to_dump)\n",
    "df_C = post_process_sweep(df_cat, compound_cols, columns_name_map, columns_to_dump)\n",
    "df_C"
   ]
  },
  {
   "cell_type": "code",
   "execution_count": 11,
   "id": "823167b8",
   "metadata": {},
   "outputs": [
    {
     "data": {
      "text/plain": [
       "<Axes: xlabel='d_emb', ylabel='train'>"
      ]
     },
     "execution_count": 11,
     "metadata": {},
     "output_type": "execute_result"
    },
    {
     "data": {
      "image/png": "[encoded data removed]",
      "text/plain": [
       "<Figure size 640x480 with 1 Axes>"
      ]
     },
     "metadata": {},
     "output_type": "display_data"
    }
   ],
   "source": [
    "sns.lineplot(df_S, x=\"d_emb\",y=\"train\", hue=\"ds size\", palette=\"tab10\")"
   ]
  },
  {
   "cell_type": "code",
   "execution_count": 12,
   "id": "45bd2d2b",
   "metadata": {},
   "outputs": [
    {
     "data": {
      "image/png": "[encoded data removed]",
      "text/plain": [
       "<Figure size 1200x800 with 4 Axes>"
      ]
     },
     "metadata": {},
     "output_type": "display_data"
    }
   ],
   "source": [
    "val_lim = (0,5)\n",
    "train_lim = (0,0.3)\n",
    "fig = plt.figure(figsize=(12,8))\n",
    "g = GridSpec(2,2,\n",
    "             hspace=0.5)\n",
    "ax0 = fig.add_subplot(g[0,0])\n",
    "sns.lineplot(df_S, x=\"d_emb\",y=\"validation\", hue=\"ds size\", ax=ax0, palette=\"tab10\")\n",
    "ax0.set_ylim(val_lim)\n",
    "ax0.set_title(\"sum validation\")\n",
    "ax1 = fig.add_subplot(g[1,0])\n",
    "sns.lineplot(df_S, x=\"d_emb\",y=\"train\", hue=\"ds size\", palette=\"tab10\", ax=ax1)\n",
    "ax1.set_ylim(train_lim)\n",
    "ax1.set_title(\"sum train\")\n",
    "ax2 = fig.add_subplot(g[0,1])\n",
    "sns.lineplot(df_C, x=\"d_emb\",y=\"validation\", hue=\"ds size\", ax=ax2, palette=\"tab10\")\n",
    "ax2.set_ylim(val_lim)\n",
    "ax2.set_title(\"cat validation\")\n",
    "ax3 = fig.add_subplot(g[1,1])\n",
    "sns.lineplot(df_C, x=\"d_emb\",y=\"train\", hue=\"ds size\", palette=\"tab10\", ax=ax3)\n",
    "ax3.set_title(\"cat train\")\n",
    "ax3.set_ylim(train_lim)\n",
    "\n",
    "ax0.set_xscale(\"log\")\n",
    "ax1.set_xscale(\"log\")\n",
    "ax2.set_xscale(\"log\")\n",
    "ax3.set_xscale(\"log\")\n",
    "\n",
    "\n"
   ]
  },
  {
   "cell_type": "code",
   "execution_count": null,
   "id": "025ae225",
   "metadata": {},
   "outputs": [],
   "source": []
  }
 ],
 "metadata": {
  "kernelspec": {
   "display_name": "prochain_transformer",
   "language": "python",
   "name": "python3"
  },
  "language_info": {
   "codemirror_mode": {
    "name": "ipython",
    "version": 3
   },
   "file_extension": ".py",
   "mimetype": "text/x-python",
   "name": "python",
   "nbconvert_exporter": "python",
   "pygments_lexer": "ipython3",
   "version": "3.11.9"
  }
 },
 "nbformat": 4,
 "nbformat_minor": 5
}
