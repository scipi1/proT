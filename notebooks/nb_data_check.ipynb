{
 "cells": [
  {
   "cell_type": "code",
   "execution_count": 6,
   "metadata": {},
   "outputs": [],
   "source": [
    "import pandas as pd \n",
    "import numpy as np\n",
    "import torch\n",
    "\n",
    "\n",
    "from os.path import dirname, abspath,join\n",
    "import sys\n",
    "ROOT_DIR = \"../\"\n",
    "sys.path.append(ROOT_DIR)\n",
    "from prochain_transformer.labels import *\n",
    "\n",
    "\n",
    "INPUT_DIR,_,_, EXPERIMENTS_DIR = get_dirs(ROOT_DIR)\n",
    "dataset = \"Dyconex_01_00_240615\""
   ]
  },
  {
   "cell_type": "code",
   "execution_count": 19,
   "metadata": {},
   "outputs": [
    {
     "data": {
      "text/plain": [
       "torch.Size([4968, 7, 1558])"
      ]
     },
     "execution_count": 19,
     "metadata": {},
     "output_type": "execute_result"
    }
   ],
   "source": [
    "X = torch.Tensor(np.load(join(INPUT_DIR, dataset, \"X_np.npy\")))\n",
    "Y = torch.Tensor(np.load(join(INPUT_DIR, dataset, \"Y_np.npy\")))\n",
    "X.shape"
   ]
  },
  {
   "cell_type": "code",
   "execution_count": 31,
   "metadata": {},
   "outputs": [
    {
     "data": {
      "text/plain": [
       "tensor([[[[2.0220e+03, 1.0000e+00, 4.0000e+00, 1.8000e+01, 3.5000e+01],\n",
       "          [2.0220e+03, 1.0000e+00, 4.0000e+00, 1.8000e+01, 3.5000e+01],\n",
       "          [2.0220e+03, 1.0000e+00, 4.0000e+00, 1.8000e+01, 3.5000e+01],\n",
       "          ...,\n",
       "          [0.0000e+00, 0.0000e+00, 0.0000e+00, 0.0000e+00, 0.0000e+00],\n",
       "          [0.0000e+00, 0.0000e+00, 0.0000e+00, 0.0000e+00, 0.0000e+00],\n",
       "          [0.0000e+00, 0.0000e+00, 0.0000e+00, 0.0000e+00, 0.0000e+00]],\n",
       "\n",
       "         [[2.0220e+03, 1.0000e+00, 4.0000e+00, 1.8000e+01, 3.5000e+01],\n",
       "          [2.0220e+03, 1.0000e+00, 4.0000e+00, 1.8000e+01, 3.5000e+01],\n",
       "          [2.0220e+03, 1.0000e+00, 4.0000e+00, 1.8000e+01, 3.5000e+01],\n",
       "          ...,\n",
       "          [0.0000e+00, 0.0000e+00, 0.0000e+00, 0.0000e+00, 0.0000e+00],\n",
       "          [0.0000e+00, 0.0000e+00, 0.0000e+00, 0.0000e+00, 0.0000e+00],\n",
       "          [0.0000e+00, 0.0000e+00, 0.0000e+00, 0.0000e+00, 0.0000e+00]],\n",
       "\n",
       "         [[2.0220e+03, 1.0000e+00, 4.0000e+00, 1.8000e+01, 3.5000e+01],\n",
       "          [2.0220e+03, 1.0000e+00, 4.0000e+00, 1.8000e+01, 3.5000e+01],\n",
       "          [2.0220e+03, 1.0000e+00, 4.0000e+00, 1.8000e+01, 3.5000e+01],\n",
       "          ...,\n",
       "          [0.0000e+00, 0.0000e+00, 0.0000e+00, 0.0000e+00, 0.0000e+00],\n",
       "          [0.0000e+00, 0.0000e+00, 0.0000e+00, 0.0000e+00, 0.0000e+00],\n",
       "          [0.0000e+00, 0.0000e+00, 0.0000e+00, 0.0000e+00, 0.0000e+00]],\n",
       "\n",
       "         ...,\n",
       "\n",
       "         [[2.0230e+03, 1.1000e+01, 1.6000e+01, 1.2000e+01, 1.2000e+01],\n",
       "          [2.0230e+03, 1.1000e+01, 1.6000e+01, 1.2000e+01, 1.2000e+01],\n",
       "          [2.0230e+03, 1.1000e+01, 1.6000e+01, 1.2000e+01, 1.2000e+01],\n",
       "          ...,\n",
       "          [0.0000e+00, 0.0000e+00, 0.0000e+00, 0.0000e+00, 0.0000e+00],\n",
       "          [0.0000e+00, 0.0000e+00, 0.0000e+00, 0.0000e+00, 0.0000e+00],\n",
       "          [0.0000e+00, 0.0000e+00, 0.0000e+00, 0.0000e+00, 0.0000e+00]],\n",
       "\n",
       "         [[2.0230e+03, 1.1000e+01, 1.6000e+01, 1.2000e+01, 1.2000e+01],\n",
       "          [2.0230e+03, 1.1000e+01, 1.6000e+01, 1.2000e+01, 1.2000e+01],\n",
       "          [2.0230e+03, 1.1000e+01, 1.6000e+01, 1.2000e+01, 1.2000e+01],\n",
       "          ...,\n",
       "          [0.0000e+00, 0.0000e+00, 0.0000e+00, 0.0000e+00, 0.0000e+00],\n",
       "          [0.0000e+00, 0.0000e+00, 0.0000e+00, 0.0000e+00, 0.0000e+00],\n",
       "          [0.0000e+00, 0.0000e+00, 0.0000e+00, 0.0000e+00, 0.0000e+00]],\n",
       "\n",
       "         [[2.0230e+03, 1.1000e+01, 1.6000e+01, 1.2000e+01, 1.2000e+01],\n",
       "          [2.0230e+03, 1.1000e+01, 1.6000e+01, 1.2000e+01, 1.2000e+01],\n",
       "          [2.0230e+03, 1.1000e+01, 1.6000e+01, 1.2000e+01, 1.2000e+01],\n",
       "          ...,\n",
       "          [0.0000e+00, 0.0000e+00, 0.0000e+00, 0.0000e+00, 0.0000e+00],\n",
       "          [0.0000e+00, 0.0000e+00, 0.0000e+00, 0.0000e+00, 0.0000e+00],\n",
       "          [0.0000e+00, 0.0000e+00, 0.0000e+00, 0.0000e+00, 0.0000e+00]]]])"
      ]
     },
     "execution_count": 31,
     "metadata": {},
     "output_type": "execute_result"
    }
   ],
   "source": [
    "X_val,X_pos,X_time = X[:,0,:].unsqueeze(-1),X[:,1,:],X[:,2:,:].permute(0,2,1)\n",
    "X[:,2:,:].unsqueeze(0).permute(0,1,3,2)\n"
   ]
  },
  {
   "cell_type": "code",
   "execution_count": 8,
   "metadata": {},
   "outputs": [
    {
     "name": "stdout",
     "output_type": "stream",
     "text": [
      "X shape (4968, 7, 1558), Y shape:(4968, 7, 250)\n"
     ]
    }
   ],
   "source": [
    "print(f\"X shape {X_np.shape}, Y shape:{Y_np.shape}\")"
   ]
  },
  {
   "cell_type": "code",
   "execution_count": 4,
   "metadata": {},
   "outputs": [
    {
     "data": {
      "text/plain": [
       "torch.Size([3414, 1500, 1])"
      ]
     },
     "execution_count": 4,
     "metadata": {},
     "output_type": "execute_result"
    }
   ],
   "source": [
    "X_val = torch.Tensor(X_np[:,0,:])#permute(0,2,1)\n",
    "X_val.reshape(X_val.shape[0],X_val.shape[1],1).shape"
   ]
  },
  {
   "cell_type": "code",
   "execution_count": 5,
   "metadata": {},
   "outputs": [
    {
     "name": "stdout",
     "output_type": "stream",
     "text": [
      "Shapes X_val, Y_val: torch.Size([1, 1500, 1]), torch.Size([1, 250, 1])\n",
      "Shapes X_pos, Y_pos: torch.Size([1, 1500]), torch.Size([1, 250])\n",
      "Shapes X_time, Y_time: torch.Size([1, 1500, 5]), torch.Size([1, 250, 5])\n"
     ]
    }
   ],
   "source": [
    "BATCH_SIZE = 1\n",
    "\n",
    "X_val = torch.Tensor(X_np[:BATCH_SIZE,0,:])#permute(0,2,1)\n",
    "X_val = X_val.reshape(X_val.shape[0],X_val.shape[1],1)\n",
    "X_pos = torch.Tensor(X_np[:BATCH_SIZE,1,:])\n",
    "X_time = torch.Tensor(X_np[:BATCH_SIZE,2:,:]).permute(0,2,1)\n",
    "\n",
    "Y_val = torch.Tensor(Y_np[:BATCH_SIZE,0,:])#permute(0,2,1)\n",
    "Y_val = Y_val.reshape(Y_val.shape[0],Y_val.shape[1],1)\n",
    "Y_pos = torch.Tensor(Y_np[:BATCH_SIZE,1,:])\n",
    "Y_time = torch.Tensor(Y_np[:BATCH_SIZE,2:,:]).permute(0,2,1)\n",
    "\n",
    "print(f\"Shapes X_val, Y_val: {X_val.shape}, {Y_val.shape}\")\n",
    "print(f\"Shapes X_pos, Y_pos: {X_pos.shape}, {Y_pos.shape}\")\n",
    "print(f\"Shapes X_time, Y_time: {X_time.shape}, {Y_time.shape}\")"
   ]
  },
  {
   "cell_type": "code",
   "execution_count": 11,
   "metadata": {},
   "outputs": [
    {
     "data": {
      "text/plain": [
       "torch.Size([1, 1500, 1, 1])"
      ]
     },
     "execution_count": 11,
     "metadata": {},
     "output_type": "execute_result"
    }
   ],
   "source": [
    "X_val.unsqueeze(-1).shape"
   ]
  },
  {
   "cell_type": "code",
   "execution_count": null,
   "metadata": {},
   "outputs": [
    {
     "data": {
      "text/plain": [
       "<torch.utils.data.dataset.TensorDataset at 0x1fca6e7ef50>"
      ]
     },
     "execution_count": 8,
     "metadata": {},
     "output_type": "execute_result"
    }
   ],
   "source": [
    "from torch.utils.data.dataset import TensorDataset\n",
    "TensorDataset(X_val,Y_val)"
   ]
  },
  {
   "cell_type": "code",
   "execution_count": null,
   "metadata": {},
   "outputs": [],
   "source": []
  }
 ],
 "metadata": {
  "kernelspec": {
   "display_name": "prochain_transformer",
   "language": "python",
   "name": "python3"
  },
  "language_info": {
   "codemirror_mode": {
    "name": "ipython",
    "version": 3
   },
   "file_extension": ".py",
   "mimetype": "text/x-python",
   "name": "python",
   "nbconvert_exporter": "python",
   "pygments_lexer": "ipython3",
   "version": "3.11.9"
  }
 },
 "nbformat": 4,
 "nbformat_minor": 2
}
