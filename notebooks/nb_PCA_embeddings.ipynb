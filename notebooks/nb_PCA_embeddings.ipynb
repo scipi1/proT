{
 "cells": [
  {
   "cell_type": "code",
   "execution_count": 1,
   "id": "df12dddb",
   "metadata": {},
   "outputs": [],
   "source": [
    "import numpy as np\n",
    "import pandas as pd\n",
    "import json\n",
    "import matplotlib.pyplot as plt\n",
    "import torch\n",
    "# import torch.nn as nn\n",
    "# from omegaconf import OmegaConf\n",
    "from os.path import join\n",
    "from os import listdir\n",
    "import re\n",
    "from sklearn.decomposition import PCA\n",
    "import matplotlib.pyplot as plt\n",
    "import seaborn as sns\n",
    "import plotly.express as px\n",
    "from plotly.subplots import make_subplots"
   ]
  },
  {
   "cell_type": "code",
   "execution_count": 2,
   "id": "f2b5aa89",
   "metadata": {},
   "outputs": [
    {
     "ename": "FileNotFoundError",
     "evalue": "[Errno 2] No such file or directory: '../../process_pipeline/data/builds/dx_250415_200_mean_clip/output/variables_vocabulary.json'",
     "output_type": "error",
     "traceback": [
      "\u001b[1;31m---------------------------------------------------------------------------\u001b[0m",
      "\u001b[1;31mFileNotFoundError\u001b[0m                         Traceback (most recent call last)",
      "Cell \u001b[1;32mIn[2], line 6\u001b[0m\n\u001b[0;32m      3\u001b[0m pos_vocab_filepath \u001b[38;5;241m=\u001b[39m \u001b[38;5;124m\"\u001b[39m\u001b[38;5;124m../../process_pipeline/data/builds/dx_250415_200_mean_clip/output/position_vocabulary.json\u001b[39m\u001b[38;5;124m\"\u001b[39m\n\u001b[0;32m      4\u001b[0m rating_filepath \u001b[38;5;241m=\u001b[39m \u001b[38;5;124m\"\u001b[39m\u001b[38;5;124m../../process_pipeline/data/builds/dx_250415_200_mean_clip/control/steps_selected.xlsx\u001b[39m\u001b[38;5;124m\"\u001b[39m\n\u001b[1;32m----> 6\u001b[0m \u001b[38;5;28;01mwith\u001b[39;00m \u001b[38;5;28mopen\u001b[39m(var_vocab_filepath, \u001b[38;5;124m'\u001b[39m\u001b[38;5;124mr\u001b[39m\u001b[38;5;124m'\u001b[39m, encoding\u001b[38;5;241m=\u001b[39m\u001b[38;5;124m'\u001b[39m\u001b[38;5;124mutf-8\u001b[39m\u001b[38;5;124m'\u001b[39m) \u001b[38;5;28;01mas\u001b[39;00m file:\n\u001b[0;32m      7\u001b[0m     inv_var_dict \u001b[38;5;241m=\u001b[39m json\u001b[38;5;241m.\u001b[39mload(file)\n\u001b[0;32m      9\u001b[0m \u001b[38;5;28;01mwith\u001b[39;00m \u001b[38;5;28mopen\u001b[39m(pos_vocab_filepath, \u001b[38;5;124m'\u001b[39m\u001b[38;5;124mr\u001b[39m\u001b[38;5;124m'\u001b[39m, encoding\u001b[38;5;241m=\u001b[39m\u001b[38;5;124m'\u001b[39m\u001b[38;5;124mutf-8\u001b[39m\u001b[38;5;124m'\u001b[39m) \u001b[38;5;28;01mas\u001b[39;00m file:\n",
      "File \u001b[1;32mc:\\ProgramData\\anaconda3\\envs\\prochain_transformer\\Lib\\site-packages\\IPython\\core\\interactiveshell.py:310\u001b[0m, in \u001b[0;36m_modified_open\u001b[1;34m(file, *args, **kwargs)\u001b[0m\n\u001b[0;32m    303\u001b[0m \u001b[38;5;28;01mif\u001b[39;00m file \u001b[38;5;129;01min\u001b[39;00m {\u001b[38;5;241m0\u001b[39m, \u001b[38;5;241m1\u001b[39m, \u001b[38;5;241m2\u001b[39m}:\n\u001b[0;32m    304\u001b[0m     \u001b[38;5;28;01mraise\u001b[39;00m \u001b[38;5;167;01mValueError\u001b[39;00m(\n\u001b[0;32m    305\u001b[0m         \u001b[38;5;124mf\u001b[39m\u001b[38;5;124m\"\u001b[39m\u001b[38;5;124mIPython won\u001b[39m\u001b[38;5;124m'\u001b[39m\u001b[38;5;124mt let you open fd=\u001b[39m\u001b[38;5;132;01m{\u001b[39;00mfile\u001b[38;5;132;01m}\u001b[39;00m\u001b[38;5;124m by default \u001b[39m\u001b[38;5;124m\"\u001b[39m\n\u001b[0;32m    306\u001b[0m         \u001b[38;5;124m\"\u001b[39m\u001b[38;5;124mas it is likely to crash IPython. If you know what you are doing, \u001b[39m\u001b[38;5;124m\"\u001b[39m\n\u001b[0;32m    307\u001b[0m         \u001b[38;5;124m\"\u001b[39m\u001b[38;5;124myou can use builtins\u001b[39m\u001b[38;5;124m'\u001b[39m\u001b[38;5;124m open.\u001b[39m\u001b[38;5;124m\"\u001b[39m\n\u001b[0;32m    308\u001b[0m     )\n\u001b[1;32m--> 310\u001b[0m \u001b[38;5;28;01mreturn\u001b[39;00m io_open(file, \u001b[38;5;241m*\u001b[39margs, \u001b[38;5;241m*\u001b[39m\u001b[38;5;241m*\u001b[39mkwargs)\n",
      "\u001b[1;31mFileNotFoundError\u001b[0m: [Errno 2] No such file or directory: '../../process_pipeline/data/builds/dx_250415_200_mean_clip/output/variables_vocabulary.json'"
     ]
    }
   ],
   "source": [
    "# files\n",
    "var_vocab_filepath = \"../../process_pipeline/data/builds/dx_250415_200_mean_clip/output/variables_vocabulary.json\"\n",
    "pos_vocab_filepath = \"../../process_pipeline/data/builds/dx_250415_200_mean_clip/output/position_vocabulary.json\"\n",
    "rating_filepath = \"../../process_pipeline/data/builds/dx_250415_200_mean_clip/control/steps_selected.xlsx\"\n",
    "\n",
    "with open(var_vocab_filepath, 'r', encoding='utf-8') as file:\n",
    "    inv_var_dict = json.load(file)\n",
    "    \n",
    "with open(pos_vocab_filepath, 'r', encoding='utf-8') as file:\n",
    "    inv_pos_dict = json.load(file)\n",
    "    \n",
    "# maps\n",
    "var_map = {v: k[:3] for k, v in inv_var_dict.items()}\n",
    "pos_map = {v: int(float(k)) for k, v in inv_pos_dict.items()}\n",
    "rate_map = pd.read_excel(rating_filepath).set_index(\"Step\")[\"Bewertung \"].to_dict()"
   ]
  },
  {
   "cell_type": "code",
   "execution_count": 27,
   "id": "cb503cf9",
   "metadata": {},
   "outputs": [
    {
     "data": {
      "text/plain": [
       "{0: 'las',\n",
       " 1: 'las',\n",
       " 2: 'las',\n",
       " 3: 'las',\n",
       " 4: 'las',\n",
       " 5: 'las',\n",
       " 6: 'las',\n",
       " 7: 'las',\n",
       " 8: 'gal',\n",
       " 9: 'gal',\n",
       " 10: 'gal',\n",
       " 11: 'gal',\n",
       " 12: 'gal',\n",
       " 13: 'gal',\n",
       " 14: 'gal',\n",
       " 15: 'gal',\n",
       " 16: 'gal',\n",
       " 17: 'gal',\n",
       " 18: 'gal',\n",
       " 19: 'gal',\n",
       " 20: 'gal',\n",
       " 21: 'gal',\n",
       " 22: 'gal',\n",
       " 23: 'gal',\n",
       " 24: 'gal',\n",
       " 25: 'gal',\n",
       " 26: 'gal',\n",
       " 27: 'gal',\n",
       " 28: 'gal',\n",
       " 29: 'gal',\n",
       " 30: 'gal',\n",
       " 31: 'gal',\n",
       " 32: 'gal',\n",
       " 33: 'gal',\n",
       " 34: 'gal',\n",
       " 35: 'gal',\n",
       " 36: 'gal',\n",
       " 37: 'gal',\n",
       " 38: 'gal',\n",
       " 39: 'gal',\n",
       " 40: 'gal',\n",
       " 41: 'gal',\n",
       " 42: 'gal',\n",
       " 43: 'gal',\n",
       " 44: 'gal',\n",
       " 45: 'gal',\n",
       " 46: 'gal',\n",
       " 47: 'gal',\n",
       " 48: 'gal',\n",
       " 49: 'gal',\n",
       " 50: 'gal',\n",
       " 51: 'gal',\n",
       " 52: 'gal',\n",
       " 53: 'gal',\n",
       " 54: 'gal',\n",
       " 55: 'gal',\n",
       " 56: 'gal',\n",
       " 57: 'gal',\n",
       " 58: 'gal',\n",
       " 59: 'gal',\n",
       " 60: 'gal',\n",
       " 61: 'gal',\n",
       " 62: 'gal',\n",
       " 63: 'gal',\n",
       " 64: 'gal',\n",
       " 65: 'gal',\n",
       " 66: 'gal',\n",
       " 67: 'gal',\n",
       " 68: 'gal',\n",
       " 69: 'gal',\n",
       " 70: 'gal',\n",
       " 71: 'gal',\n",
       " 72: 'gal',\n",
       " 73: 'gal',\n",
       " 74: 'gal',\n",
       " 75: 'gal',\n",
       " 76: 'gal',\n",
       " 77: 'gal',\n",
       " 78: 'gal',\n",
       " 79: 'gal',\n",
       " 80: 'gal',\n",
       " 81: 'gal',\n",
       " 82: 'gal',\n",
       " 83: 'gal',\n",
       " 84: 'gal',\n",
       " 85: 'gal',\n",
       " 86: 'gal',\n",
       " 87: 'gal',\n",
       " 88: 'gal',\n",
       " 89: 'gal',\n",
       " 90: 'gal',\n",
       " 91: 'gal',\n",
       " 92: 'gal',\n",
       " 93: 'gal',\n",
       " 94: 'gal',\n",
       " 95: 'gal',\n",
       " 96: 'gal',\n",
       " 97: 'gal',\n",
       " 98: 'gal',\n",
       " 99: 'gal',\n",
       " 100: 'gal',\n",
       " 101: 'gal',\n",
       " 102: 'gal',\n",
       " 103: 'gal',\n",
       " 104: 'gal',\n",
       " 105: 'gal',\n",
       " 106: 'gal',\n",
       " 107: 'gal',\n",
       " 108: 'gal',\n",
       " 109: 'gal',\n",
       " 110: 'gal',\n",
       " 111: 'gal',\n",
       " 112: 'gal',\n",
       " 113: 'gal',\n",
       " 114: 'gal',\n",
       " 115: 'gal',\n",
       " 116: 'gal',\n",
       " 117: 'gal',\n",
       " 118: 'gal',\n",
       " 119: 'gal',\n",
       " 120: 'gal',\n",
       " 121: 'gal',\n",
       " 122: 'gal',\n",
       " 123: 'gal',\n",
       " 124: 'gal',\n",
       " 125: 'gal',\n",
       " 126: 'gal',\n",
       " 127: 'gal',\n",
       " 128: 'gal',\n",
       " 129: 'gal',\n",
       " 130: 'gal',\n",
       " 131: 'gal',\n",
       " 132: 'gal',\n",
       " 133: 'gal',\n",
       " 134: 'gal',\n",
       " 135: 'gal',\n",
       " 136: 'gal',\n",
       " 137: 'gal',\n",
       " 138: 'gal',\n",
       " 139: 'gal',\n",
       " 140: 'gal',\n",
       " 141: 'gal',\n",
       " 142: 'gal',\n",
       " 143: 'gal',\n",
       " 144: 'gal',\n",
       " 145: 'gal',\n",
       " 146: 'gal',\n",
       " 147: 'gal',\n",
       " 148: 'gal',\n",
       " 149: 'gal',\n",
       " 150: 'gal',\n",
       " 151: 'gal',\n",
       " 152: 'gal',\n",
       " 153: 'gal',\n",
       " 154: 'gal',\n",
       " 155: 'gal',\n",
       " 156: 'gal',\n",
       " 157: 'gal',\n",
       " 158: 'gal',\n",
       " 159: 'gal',\n",
       " 160: 'gal',\n",
       " 161: 'gal',\n",
       " 162: 'gal',\n",
       " 163: 'gal',\n",
       " 164: 'gal',\n",
       " 165: 'gal',\n",
       " 166: 'gal',\n",
       " 167: 'gal',\n",
       " 168: 'gal',\n",
       " 169: 'gal',\n",
       " 170: 'gal',\n",
       " 171: 'gal',\n",
       " 172: 'gal',\n",
       " 173: 'gal',\n",
       " 174: 'gal',\n",
       " 175: 'gal',\n",
       " 176: 'gal',\n",
       " 177: 'gal',\n",
       " 178: 'gal',\n",
       " 179: 'gal',\n",
       " 180: 'gal',\n",
       " 181: 'gal',\n",
       " 182: 'gal',\n",
       " 183: 'gal',\n",
       " 184: 'gal',\n",
       " 185: 'gal',\n",
       " 186: 'gal',\n",
       " 187: 'gal',\n",
       " 188: 'gal',\n",
       " 189: 'gal',\n",
       " 190: 'gal',\n",
       " 191: 'gal',\n",
       " 192: 'gal',\n",
       " 193: 'gal',\n",
       " 194: 'gal',\n",
       " 195: 'gal',\n",
       " 196: 'gal',\n",
       " 197: 'gal',\n",
       " 198: 'gal',\n",
       " 199: 'gal',\n",
       " 200: 'mic',\n",
       " 201: 'mic',\n",
       " 202: 'mic',\n",
       " 203: 'mic',\n",
       " 204: 'mic',\n",
       " 205: 'mic',\n",
       " 206: 'mic',\n",
       " 207: 'mic',\n",
       " 208: 'mic',\n",
       " 209: 'mic',\n",
       " 210: 'mic',\n",
       " 211: 'mic',\n",
       " 212: 'mic',\n",
       " 213: 'mic',\n",
       " 214: 'mic',\n",
       " 215: 'mic',\n",
       " 216: 'mic',\n",
       " 217: 'mic',\n",
       " 218: 'mic',\n",
       " 219: 'mic',\n",
       " 220: 'mic',\n",
       " 221: 'mic',\n",
       " 222: 'mic',\n",
       " 223: 'mic',\n",
       " 224: 'mic',\n",
       " 225: 'mic',\n",
       " 226: 'mic',\n",
       " 227: 'mic',\n",
       " 228: 'mic',\n",
       " 229: 'mic',\n",
       " 230: 'mic',\n",
       " 231: 'mic',\n",
       " 232: 'mic',\n",
       " 233: 'mic',\n",
       " 234: 'mul',\n",
       " 235: 'mul',\n",
       " 236: 'mul',\n",
       " 237: 'mul',\n",
       " 238: 'mul',\n",
       " 239: 'mul',\n",
       " 240: 'mul',\n",
       " 241: 'mul',\n",
       " 242: 'mul',\n",
       " 243: 'mul',\n",
       " 244: 'mul',\n",
       " 245: 'mul',\n",
       " 246: 'mul',\n",
       " 247: 'mul',\n",
       " 248: 'mul',\n",
       " 249: 'mul',\n",
       " 250: 'mul',\n",
       " 251: 'mul',\n",
       " 252: 'mul',\n",
       " 253: 'mul',\n",
       " 254: 'mul',\n",
       " 255: 'mul',\n",
       " 256: 'mul',\n",
       " 257: 'mul',\n",
       " 258: 'mul',\n",
       " 259: 'mul',\n",
       " 260: 'mul',\n",
       " 261: 'mul',\n",
       " 262: 'mul',\n",
       " 263: 'mul',\n",
       " 264: 'mul',\n",
       " 265: 'mul',\n",
       " 266: 'mul',\n",
       " 267: 'mul',\n",
       " 268: 'mul',\n",
       " 269: 'mul',\n",
       " 270: 'mul',\n",
       " 271: 'mul',\n",
       " 272: 'mul',\n",
       " 273: 'mul',\n",
       " 274: 'mul',\n",
       " 275: 'mul',\n",
       " 276: 'mul',\n",
       " 277: 'mul',\n",
       " 278: 'mul',\n",
       " 279: 'mul',\n",
       " 280: 'mul',\n",
       " 281: 'mul',\n",
       " 282: 'mul',\n",
       " 283: 'mul',\n",
       " 284: 'mul',\n",
       " 285: 'mul',\n",
       " 286: 'mul',\n",
       " 287: 'mul',\n",
       " 288: 'mul',\n",
       " 289: 'mul',\n",
       " 290: 'mul',\n",
       " 291: 'mul',\n",
       " 292: 'mul',\n",
       " 293: 'mul',\n",
       " 294: 'mul',\n",
       " 295: 'mul',\n",
       " 296: 'mul',\n",
       " 297: 'mul',\n",
       " 298: 'mul',\n",
       " 299: 'mul',\n",
       " 300: 'mul',\n",
       " 301: 'mul',\n",
       " 302: 'mul',\n",
       " 303: 'mul',\n",
       " 304: 'mul',\n",
       " 305: 'mul',\n",
       " 306: 'mul',\n",
       " 307: 'mul',\n",
       " 308: 'mul',\n",
       " 309: 'mul',\n",
       " 310: 'mul',\n",
       " 311: 'mul',\n",
       " 312: 'mul',\n",
       " 313: 'mul',\n",
       " 314: 'mul',\n",
       " 315: 'mul',\n",
       " 316: 'mul',\n",
       " 317: 'mul',\n",
       " 318: 'mul',\n",
       " 319: 'mul',\n",
       " 320: 'mul',\n",
       " 321: 'mul',\n",
       " 322: 'mul',\n",
       " 323: 'mul',\n",
       " 324: 'mul',\n",
       " 325: 'mul',\n",
       " 326: 'mul',\n",
       " 327: 'mul',\n",
       " 328: 'mul',\n",
       " 329: 'mul',\n",
       " 330: 'mul',\n",
       " 331: 'mul',\n",
       " 332: 'mul',\n",
       " 333: 'mul',\n",
       " 334: 'mul',\n",
       " 335: 'mul',\n",
       " 336: 'mul',\n",
       " 337: 'mul',\n",
       " 338: 'mul',\n",
       " 339: 'mul',\n",
       " 340: 'mul',\n",
       " 341: 'mul',\n",
       " 342: 'mul',\n",
       " 343: 'pla',\n",
       " 344: 'pla',\n",
       " 345: 'pla',\n",
       " 346: 'pla',\n",
       " 347: 'pla',\n",
       " 348: 'pla',\n",
       " 349: 'pla',\n",
       " 350: 'pla',\n",
       " 351: 'pla',\n",
       " 352: 'pla',\n",
       " 353: 'pla',\n",
       " 354: 'pla',\n",
       " 355: 'pla',\n",
       " 356: 'pla',\n",
       " 357: 'pla',\n",
       " 358: 'pla',\n",
       " 359: 'pla',\n",
       " 360: 'pla',\n",
       " 361: 'pla',\n",
       " 362: 'pla',\n",
       " 363: 'pla',\n",
       " 364: 'pla',\n",
       " 365: 'pla',\n",
       " 366: 'pla',\n",
       " 367: 'pla',\n",
       " 368: 'pla',\n",
       " 369: 'pla',\n",
       " 370: 'pla',\n",
       " 371: 'pla',\n",
       " 372: 'pla',\n",
       " 373: 'pla',\n",
       " 374: 'pla',\n",
       " 375: 'pla',\n",
       " 376: 'pla',\n",
       " 377: 'pla',\n",
       " 378: 'pla',\n",
       " 379: 'pla',\n",
       " 380: 'pla',\n",
       " 381: 'pla',\n",
       " 382: 'pla',\n",
       " 383: 'pla',\n",
       " 384: 'pla',\n",
       " 385: 'pla',\n",
       " 386: 'pla',\n",
       " 387: 'pla',\n",
       " 388: 'pla',\n",
       " 389: 'pla',\n",
       " 390: 'pla',\n",
       " 391: 'pla',\n",
       " 392: 'pla',\n",
       " 393: 'pla',\n",
       " 394: 'pla',\n",
       " 395: 'pla',\n",
       " 396: 'pla',\n",
       " 397: 'pla',\n",
       " 398: 'pla',\n",
       " 399: 'del',\n",
       " 400: 'del'}"
      ]
     },
     "execution_count": 27,
     "metadata": {},
     "output_type": "execute_result"
    }
   ],
   "source": [
    "var_map"
   ]
  },
  {
   "cell_type": "code",
   "execution_count": 5,
   "id": "1fffb7c0",
   "metadata": {},
   "outputs": [
    {
     "name": "stdout",
     "output_type": "stream",
     "text": [
      "dict_keys([199, 299, 399, 499, 599, 699, 799, 899, 99, 999])\n",
      "model.enc_embedding.embed_modules_list.0.embedding.embedding.weight torch.Size([400, 20])\n",
      "model.enc_embedding.embed_modules_list.1.embedding.embedding.weight torch.Size([26, 20])\n",
      "model.enc_embedding.embed_modules_list.2.embedding.embedding.weight torch.Size([20, 1])\n",
      "model.enc_embedding.embed_modules_list.2.embedding.embedding.bias torch.Size([20])\n",
      "model.enc_embedding.embed_modules_list.3.embedding.embed_weight torch.Size([5, 4])\n",
      "model.enc_embedding.embed_modules_list.3.embedding.embed_bias torch.Size([5, 4])\n",
      "model.dec_embedding.embed_modules_list.0.embedding.embedding.weight torch.Size([5, 20])\n",
      "model.dec_embedding.embed_modules_list.2.embedding.embedding.weight torch.Size([20, 1])\n",
      "model.dec_embedding.embed_modules_list.2.embedding.embedding.bias torch.Size([20])\n",
      "model.dec_embedding.embed_modules_list.3.embedding.embed_weight torch.Size([5, 4])\n",
      "model.dec_embedding.embed_modules_list.3.embedding.embed_bias torch.Size([5, 4])\n",
      "model.encoder.layers.0.global_attention.query_projection.weight torch.Size([20, 80])\n",
      "model.encoder.layers.0.global_attention.query_projection.bias torch.Size([20])\n",
      "model.encoder.layers.0.global_attention.key_projection.weight torch.Size([20, 80])\n",
      "model.encoder.layers.0.global_attention.key_projection.bias torch.Size([20])\n",
      "model.encoder.layers.0.global_attention.value_projection.weight torch.Size([80, 80])\n",
      "model.encoder.layers.0.global_attention.value_projection.bias torch.Size([80])\n",
      "model.encoder.layers.0.global_attention.out_projection.weight torch.Size([80, 80])\n",
      "model.encoder.layers.0.global_attention.out_projection.bias torch.Size([80])\n",
      "model.encoder.layers.0.norm1.norm.weight torch.Size([80])\n",
      "model.encoder.layers.0.norm1.norm.bias torch.Size([80])\n",
      "model.encoder.layers.0.norm1.norm.running_mean torch.Size([80])\n",
      "model.encoder.layers.0.norm1.norm.running_var torch.Size([80])\n",
      "model.encoder.layers.0.norm1.norm.num_batches_tracked torch.Size([])\n",
      "model.encoder.layers.0.norm2.norm.weight torch.Size([80])\n",
      "model.encoder.layers.0.norm2.norm.bias torch.Size([80])\n",
      "model.encoder.layers.0.norm2.norm.running_mean torch.Size([80])\n",
      "model.encoder.layers.0.norm2.norm.running_var torch.Size([80])\n",
      "model.encoder.layers.0.norm2.norm.num_batches_tracked torch.Size([])\n",
      "model.encoder.layers.0.conv1.weight torch.Size([20, 80, 1])\n",
      "model.encoder.layers.0.conv1.bias torch.Size([20])\n",
      "model.encoder.layers.0.conv2.weight torch.Size([80, 20, 1])\n",
      "model.encoder.layers.0.conv2.bias torch.Size([80])\n",
      "model.encoder.layers.0.linear1.weight torch.Size([20, 80])\n",
      "model.encoder.layers.0.linear1.bias torch.Size([20])\n",
      "model.encoder.layers.0.linear2.weight torch.Size([80, 20])\n",
      "model.encoder.layers.0.linear2.bias torch.Size([80])\n",
      "model.encoder.norm_layer.norm.weight torch.Size([80])\n",
      "model.encoder.norm_layer.norm.bias torch.Size([80])\n",
      "model.encoder.norm_layer.norm.running_mean torch.Size([80])\n",
      "model.encoder.norm_layer.norm.running_var torch.Size([80])\n",
      "model.encoder.norm_layer.norm.num_batches_tracked torch.Size([])\n",
      "model.decoder.layers.0.global_self_attention.query_projection.weight torch.Size([20, 80])\n",
      "model.decoder.layers.0.global_self_attention.query_projection.bias torch.Size([20])\n",
      "model.decoder.layers.0.global_self_attention.key_projection.weight torch.Size([20, 80])\n",
      "model.decoder.layers.0.global_self_attention.key_projection.bias torch.Size([20])\n",
      "model.decoder.layers.0.global_self_attention.value_projection.weight torch.Size([80, 80])\n",
      "model.decoder.layers.0.global_self_attention.value_projection.bias torch.Size([80])\n",
      "model.decoder.layers.0.global_self_attention.out_projection.weight torch.Size([80, 80])\n",
      "model.decoder.layers.0.global_self_attention.out_projection.bias torch.Size([80])\n",
      "model.decoder.layers.0.global_cross_attention.query_projection.weight torch.Size([20, 80])\n",
      "model.decoder.layers.0.global_cross_attention.query_projection.bias torch.Size([20])\n",
      "model.decoder.layers.0.global_cross_attention.key_projection.weight torch.Size([20, 80])\n",
      "model.decoder.layers.0.global_cross_attention.key_projection.bias torch.Size([20])\n",
      "model.decoder.layers.0.global_cross_attention.value_projection.weight torch.Size([80, 80])\n",
      "model.decoder.layers.0.global_cross_attention.value_projection.bias torch.Size([80])\n",
      "model.decoder.layers.0.global_cross_attention.out_projection.weight torch.Size([80, 80])\n",
      "model.decoder.layers.0.global_cross_attention.out_projection.bias torch.Size([80])\n",
      "model.decoder.layers.0.norm1.norm.weight torch.Size([80])\n",
      "model.decoder.layers.0.norm1.norm.bias torch.Size([80])\n",
      "model.decoder.layers.0.norm1.norm.running_mean torch.Size([80])\n",
      "model.decoder.layers.0.norm1.norm.running_var torch.Size([80])\n",
      "model.decoder.layers.0.norm1.norm.num_batches_tracked torch.Size([])\n",
      "model.decoder.layers.0.norm2.norm.weight torch.Size([80])\n",
      "model.decoder.layers.0.norm2.norm.bias torch.Size([80])\n",
      "model.decoder.layers.0.norm2.norm.running_mean torch.Size([80])\n",
      "model.decoder.layers.0.norm2.norm.running_var torch.Size([80])\n",
      "model.decoder.layers.0.norm2.norm.num_batches_tracked torch.Size([])\n",
      "model.decoder.layers.0.norm3.norm.weight torch.Size([80])\n",
      "model.decoder.layers.0.norm3.norm.bias torch.Size([80])\n",
      "model.decoder.layers.0.norm3.norm.running_mean torch.Size([80])\n",
      "model.decoder.layers.0.norm3.norm.running_var torch.Size([80])\n",
      "model.decoder.layers.0.norm3.norm.num_batches_tracked torch.Size([])\n",
      "model.decoder.layers.0.conv1.weight torch.Size([20, 80, 1])\n",
      "model.decoder.layers.0.conv1.bias torch.Size([20])\n",
      "model.decoder.layers.0.conv2.weight torch.Size([80, 20, 1])\n",
      "model.decoder.layers.0.conv2.bias torch.Size([80])\n",
      "model.decoder.layers.0.linear1.weight torch.Size([20, 80])\n",
      "model.decoder.layers.0.linear1.bias torch.Size([20])\n",
      "model.decoder.layers.0.linear2.weight torch.Size([80, 20])\n",
      "model.decoder.layers.0.linear2.bias torch.Size([80])\n",
      "model.decoder.norm_layer.norm.weight torch.Size([80])\n",
      "model.decoder.norm_layer.norm.bias torch.Size([80])\n",
      "model.decoder.norm_layer.norm.running_mean torch.Size([80])\n",
      "model.decoder.norm_layer.norm.running_var torch.Size([80])\n",
      "model.decoder.norm_layer.norm.num_batches_tracked torch.Size([])\n",
      "model.forecaster.weight torch.Size([1, 80])\n",
      "model.forecaster.bias torch.Size([1])\n",
      "model.reconstructor.weight torch.Size([1, 80])\n",
      "model.reconstructor.bias torch.Size([1])\n"
     ]
    }
   ],
   "source": [
    "experiment_dirpath = \"../experiments/training/dx_250618_cat/emb20_mod20/sweeps/sweep_dec_pos_emb_hidden/sweep_dec_pos_emb_hidden_20/k_0/checkpoints/\"\n",
    "sweep_subpath = \"\" #\"sweeps/sweep_optimization/sweep_optimization_4\"\n",
    "ckpt_subpath = \"k_0/checkpoints/\"\n",
    "\n",
    "working_dirpath = experiment_dirpath#join(experiment_dirpath, sweep_subpath, ckpt_subpath)\n",
    "\n",
    "regex_pattern = r\"epoch=(\\d+).*\"\n",
    "\n",
    "ckpt_dict = {}\n",
    "\n",
    "for file in listdir(working_dirpath):\n",
    "    match = re.search(regex_pattern, file)\n",
    "    if match:\n",
    "        file_path = join(working_dirpath, file)\n",
    "        ckpt_dict[int(match.group(1))] = torch.load(file_path, map_location=\"cpu\")[\"state_dict\"]\n",
    "\n",
    "\n",
    "\n",
    "print(ckpt_dict.keys())\n",
    "ckpt_example = ckpt_dict[list(ckpt_dict.keys())[0]]\n",
    "\n",
    "\n",
    "for k in ckpt_example.keys():\n",
    "    print(k, ckpt_example[k].shape)"
   ]
  },
  {
   "cell_type": "code",
   "execution_count": 6,
   "id": "e63c1b3a",
   "metadata": {},
   "outputs": [],
   "source": [
    "key_list = [\n",
    "    \"model.enc_embedding.embed_modules_list.0.embedding.embedding.weight\",\n",
    "    \"model.enc_embedding.embed_modules_list.1.embedding.embedding.weight\",\n",
    "    \"model.dec_embedding.embed_modules_list.0.embedding.embedding.weight\",\n",
    "    ]"
   ]
  },
  {
   "cell_type": "code",
   "execution_count": 7,
   "id": "86e6856a",
   "metadata": {},
   "outputs": [
    {
     "data": {
      "text/plain": [
       "OrderedDict([('model.enc_embedding.embed_modules_list.0.embedding.embedding.weight',\n",
       "              tensor([[ 0.0000,  0.0000,  0.0000,  ...,  0.0000,  0.0000,  0.0000],\n",
       "                      [ 0.6541, -0.1949, -0.1492,  ...,  0.1385,  0.0050, -0.0605],\n",
       "                      [ 0.3415,  0.0496, -0.0119,  ..., -0.1770,  0.1677, -0.1559],\n",
       "                      ...,\n",
       "                      [-0.2295, -0.0505,  0.0935,  ..., -0.0570, -0.2183,  0.2375],\n",
       "                      [ 0.1604, -0.1880,  0.0108,  ..., -0.1005,  0.1652, -0.2653],\n",
       "                      [ 0.0708,  0.6756, -0.1170,  ...,  0.0540,  0.0039,  0.0478]])),\n",
       "             ('model.enc_embedding.embed_modules_list.1.embedding.embedding.weight',\n",
       "              tensor([[ 0.0000,  0.0000,  0.0000,  0.0000,  0.0000,  0.0000,  0.0000,  0.0000,\n",
       "                        0.0000,  0.0000,  0.0000,  0.0000,  0.0000,  0.0000,  0.0000,  0.0000,\n",
       "                        0.0000,  0.0000,  0.0000,  0.0000],\n",
       "                      [-0.2829, -0.0201, -0.2308, -0.1443,  0.0630, -0.1389, -0.0752, -0.4950,\n",
       "                        0.1612,  0.0736, -0.3293, -0.2875, -0.1368,  0.0538, -0.0819, -0.1818,\n",
       "                       -0.0402, -0.0764, -0.0036,  0.0716],\n",
       "                      [ 0.3813,  0.0462, -0.0613, -0.2452,  0.1561, -0.2197,  0.0912,  0.0759,\n",
       "                       -0.0297, -0.2179,  0.0110, -0.2337,  0.3863, -0.3135,  0.3424, -0.2586,\n",
       "                        0.0915,  0.0548,  0.1341, -0.0885],\n",
       "                      [ 0.2444,  0.2235, -0.0088,  0.0777,  0.2675,  0.0460,  0.2099,  0.0668,\n",
       "                       -0.1987,  0.0028, -0.1755,  0.6200, -0.0550, -0.2888, -0.3274, -0.2639,\n",
       "                        0.0390, -0.0349, -0.0309,  0.1572],\n",
       "                      [ 0.1970,  0.0751,  0.0989,  0.1139,  0.1747, -0.1083, -0.1125,  0.0348,\n",
       "                       -0.3246,  0.0122,  0.0884, -0.3963, -0.1635, -0.2096, -0.2930,  0.2027,\n",
       "                        0.1418,  0.3555,  0.3634, -0.3562],\n",
       "                      [ 0.0085,  0.1961, -0.2005,  0.1853, -0.1444,  0.0462,  0.1753,  0.4115,\n",
       "                       -0.2500, -0.2322,  0.2112,  0.0724, -0.3502, -0.3613,  0.1149,  0.0493,\n",
       "                        0.0290,  0.0331, -0.2261, -0.1685],\n",
       "                      [-0.1473, -0.1490, -0.2935,  0.2630, -0.2399, -0.0199, -0.1458,  0.0459,\n",
       "                        0.2644,  0.0456,  0.2237, -0.2848, -0.2851,  0.3216,  0.0299,  0.0547,\n",
       "                       -0.2794, -0.3766, -0.3254,  0.0633],\n",
       "                      [-0.0689, -0.0068, -0.0534,  0.0249, -0.0333, -0.0566, -0.0938,  0.1323,\n",
       "                       -0.0442,  0.0034, -0.0090,  0.0381, -0.0634, -0.0604,  0.0133,  0.0696,\n",
       "                        0.0344, -0.0474, -0.0639,  0.0730],\n",
       "                      [-0.3180,  0.0882, -0.1381,  0.1320,  0.1117,  0.4077, -0.2667,  0.1484,\n",
       "                        0.2784,  0.3920,  0.1005, -0.0383, -0.0127, -0.2606,  0.0142, -0.0466,\n",
       "                        0.1384,  0.2930,  0.3162, -0.0955],\n",
       "                      [-0.4680, -0.0725, -0.3112, -0.1709,  0.0705,  0.0689,  0.0178,  0.2295,\n",
       "                        0.2245,  0.1042, -0.2623,  0.3510,  0.2074, -0.1051, -0.2305,  0.2028,\n",
       "                        0.0590, -0.1781,  0.1972, -0.3210],\n",
       "                      [ 0.1012, -0.0958,  0.3084, -0.3677,  0.1245,  0.2372,  0.1895,  0.2626,\n",
       "                        0.2152,  0.0836,  0.3303,  0.0967, -0.0487,  0.1144, -0.4735, -0.1110,\n",
       "                       -0.0688,  0.1443,  0.2277, -0.0109],\n",
       "                      [ 0.2163,  0.0990,  0.2913,  0.1170,  0.0764,  0.1609,  0.1920, -0.1708,\n",
       "                        0.3958,  0.2733,  0.0331, -0.3117, -0.4416,  0.1444,  0.2273, -0.1813,\n",
       "                        0.2515, -0.1013,  0.1251,  0.1591],\n",
       "                      [ 0.2944,  0.5609, -0.0213,  0.1810,  0.2058,  0.0661, -0.1556,  0.2595,\n",
       "                        0.0730, -0.1088,  0.0754, -0.0204,  0.1901, -0.0218, -0.2764, -0.1469,\n",
       "                       -0.2941,  0.2252, -0.2659,  0.2158],\n",
       "                      [-0.0106, -0.0654, -0.0078,  0.4496,  0.3037, -0.0942,  0.3522,  0.0763,\n",
       "                       -0.0938, -0.3583,  0.0034, -0.0752, -0.0607, -0.1924,  0.3783, -0.4285,\n",
       "                       -0.0309,  0.0241, -0.1156, -0.1805],\n",
       "                      [-0.0346, -0.1808, -0.0582, -0.0196,  0.0446, -0.1084,  0.1161,  0.1704,\n",
       "                        0.1905, -0.1781, -0.3421, -0.1462,  0.3312,  0.1893, -0.5573,  0.2807,\n",
       "                       -0.3252, -0.1023, -0.0904,  0.1928],\n",
       "                      [-0.2808,  0.2722,  0.1716, -0.0140,  0.0286,  0.0553, -0.3037,  0.3555,\n",
       "                        0.0998,  0.0040, -0.1357,  0.0303,  0.1403, -0.0311,  0.3046, -0.2256,\n",
       "                        0.4667, -0.1947,  0.2579,  0.2155],\n",
       "                      [ 0.1903, -0.1776, -0.2765, -0.1846, -0.4811, -0.0214,  0.3039, -0.1668,\n",
       "                       -0.1595, -0.1591,  0.3627,  0.0543,  0.1504,  0.0350, -0.1401, -0.2698,\n",
       "                        0.2149,  0.2034, -0.2816, -0.0050],\n",
       "                      [-0.1220, -0.0061,  0.2154, -0.1555,  0.0196, -0.0516, -0.5816,  0.2023,\n",
       "                        0.1517,  0.3381,  0.3977,  0.1548, -0.0176,  0.0269,  0.2059, -0.2815,\n",
       "                        0.2161, -0.1574, -0.0892, -0.0978],\n",
       "                      [ 0.1158, -0.1345, -0.2988, -0.1511, -0.0350,  0.4310, -0.1084,  0.1411,\n",
       "                        0.0139,  0.1353, -0.3853,  0.3764,  0.2340, -0.0342,  0.1051,  0.1439,\n",
       "                        0.3126, -0.3066, -0.2218,  0.0228],\n",
       "                      [ 0.0252,  0.1281,  0.1896, -0.0828,  0.0224, -0.0127,  0.1695, -0.0049,\n",
       "                       -0.0620, -0.1838, -0.0223, -0.0519, -0.0574,  0.0736, -0.0442, -0.2288,\n",
       "                       -0.0393,  0.1002, -0.0607,  0.1222],\n",
       "                      [-0.2217, -0.0439,  0.0077,  0.2539, -0.2653, -0.2368, -0.1376,  0.1623,\n",
       "                       -0.1766,  0.4119, -0.2701, -0.0082, -0.1136,  0.1075,  0.3114,  0.1280,\n",
       "                       -0.4408, -0.0557, -0.2643, -0.0665],\n",
       "                      [-0.1539, -0.1316, -0.1767, -0.0980,  0.4211, -0.2586,  0.0311, -0.2518,\n",
       "                        0.2302,  0.2528, -0.1817,  0.1137,  0.1059, -0.2617, -0.0644,  0.1353,\n",
       "                       -0.0161,  0.1193,  0.2519, -0.5156],\n",
       "                      [ 0.2105, -0.2093,  0.1272, -0.0393, -0.4185,  0.1270,  0.0382, -0.2055,\n",
       "                        0.0680, -0.0820, -0.1796,  0.2284,  0.2761, -0.2126,  0.0315, -0.5128,\n",
       "                       -0.3275, -0.2357, -0.1046, -0.0367],\n",
       "                      [-0.1486, -0.0031,  0.0360,  0.0046, -0.5264, -0.0728, -0.4281, -0.3366,\n",
       "                        0.0204, -0.2704, -0.1844, -0.0043, -0.4330, -0.0435, -0.0316,  0.1275,\n",
       "                       -0.1867,  0.1287, -0.0880,  0.1526],\n",
       "                      [ 0.0313,  0.0922,  0.2998,  0.1605,  0.2685,  0.5357,  0.2711, -0.2424,\n",
       "                        0.0918, -0.0387,  0.1807,  0.0012,  0.0025,  0.1477, -0.2730, -0.1720,\n",
       "                        0.3011, -0.0130,  0.1127, -0.3310],\n",
       "                      [-0.1198, -0.0495,  0.1548,  0.0755, -0.1682,  0.2908, -0.4489, -0.2418,\n",
       "                       -0.3777, -0.0792, -0.1877, -0.0015,  0.0382, -0.0073,  0.4158, -0.0094,\n",
       "                        0.1386, -0.1386,  0.3054, -0.0644]])),\n",
       "             ('model.enc_embedding.embed_modules_list.2.embedding.embedding.weight',\n",
       "              tensor([[ 0.6549],\n",
       "                      [-0.5893],\n",
       "                      [ 0.4365],\n",
       "                      [-0.3665],\n",
       "                      [ 0.4707],\n",
       "                      [-0.4974],\n",
       "                      [ 0.9097],\n",
       "                      [-0.7138],\n",
       "                      [-0.3260],\n",
       "                      [ 1.0683],\n",
       "                      [ 0.1683],\n",
       "                      [-0.5122],\n",
       "                      [ 0.9350],\n",
       "                      [-0.4331],\n",
       "                      [ 0.7681],\n",
       "                      [ 0.0743],\n",
       "                      [-0.8182],\n",
       "                      [ 0.3577],\n",
       "                      [ 0.1855],\n",
       "                      [ 0.7582]])),\n",
       "             ('model.enc_embedding.embed_modules_list.2.embedding.embedding.bias',\n",
       "              tensor([ 0.4589, -0.7607, -0.8985, -0.5229, -0.5956,  0.2729,  0.5591,  0.1592,\n",
       "                       0.1683, -0.8499,  0.8010, -0.5456,  0.0963, -0.2025, -0.1740,  0.6020,\n",
       "                      -0.9067,  0.8866, -0.7165,  0.2843])),\n",
       "             ('model.enc_embedding.embed_modules_list.3.embedding.embed_weight',\n",
       "              tensor([[ 0.3521,  0.9078, -0.0215,  0.3440],\n",
       "                      [ 0.5578,  0.1208,  0.6325,  0.7986],\n",
       "                      [ 0.5109,  0.1319,  0.3250,  0.5510],\n",
       "                      [ 0.9911,  0.2035,  0.5695,  0.3504],\n",
       "                      [ 0.4142,  0.4420,  0.5312,  0.8172]])),\n",
       "             ('model.enc_embedding.embed_modules_list.3.embedding.embed_bias',\n",
       "              tensor([[0.3148, 0.2003, 0.5927, 0.2999],\n",
       "                      [0.1047, 0.2087, 0.1277, 0.0504],\n",
       "                      [0.2135, 0.6894, 0.9486, 0.2571],\n",
       "                      [0.4424, 0.1003, 0.3875, 0.8890],\n",
       "                      [0.2555, 0.6595, 0.7770, 0.5827]])),\n",
       "             ('model.dec_embedding.embed_modules_list.0.embedding.embedding.weight',\n",
       "              tensor([[-1.7039,  0.2470, -0.8492,  0.0926,  0.1475, -0.2246,  0.6096,  1.3382,\n",
       "                        0.4124, -0.1423, -0.5014, -0.6148, -0.1801,  1.0169,  0.8074,  0.1857,\n",
       "                        1.0552, -1.1895,  0.6283,  0.3338],\n",
       "                      [-0.8176, -1.1030, -0.5505, -2.7189,  0.5091, -1.2142, -1.1408, -0.9804,\n",
       "                        0.0195,  0.8088,  0.7475,  0.3738,  0.8119,  0.9063,  0.0044, -1.1935,\n",
       "                       -0.0355,  0.1569,  1.3714, -0.4560],\n",
       "                      [-0.2482, -0.2150, -0.2147,  0.1472, -0.1917, -0.7104,  0.9041,  0.8561,\n",
       "                       -0.9044, -1.0680,  2.4630, -0.9898, -0.9937, -0.3950,  0.0243, -1.2589,\n",
       "                       -1.2079,  0.4262,  0.8389, -0.8394],\n",
       "                      [ 0.2041,  0.4005, -0.3612, -2.4317, -0.7465, -0.8851,  2.0120, -0.7360,\n",
       "                       -1.3480, -1.6169,  2.1639, -0.4988, -0.4262, -0.8284,  0.8189, -0.8275,\n",
       "                        0.1062, -1.0050,  1.1350,  0.7647],\n",
       "                      [ 0.3434,  0.8641, -0.2484, -1.6180, -0.0725, -0.7126, -0.5554,  0.3542,\n",
       "                       -1.1953,  0.4063,  0.3969, -1.0318,  0.2296,  0.0039, -1.7041, -1.3590,\n",
       "                       -0.0249,  0.1610, -1.5637,  1.4270]])),\n",
       "             ('model.dec_embedding.embed_modules_list.2.embedding.embedding.weight',\n",
       "              tensor([[-0.2833],\n",
       "                      [-0.4026],\n",
       "                      [-0.3414],\n",
       "                      [-0.2061],\n",
       "                      [ 0.2701],\n",
       "                      [-0.1702],\n",
       "                      [-0.4931],\n",
       "                      [ 0.6027],\n",
       "                      [-0.4430],\n",
       "                      [ 0.9331],\n",
       "                      [ 0.5015],\n",
       "                      [ 0.9650],\n",
       "                      [ 0.7346],\n",
       "                      [ 0.4284],\n",
       "                      [-0.5496],\n",
       "                      [-0.7887],\n",
       "                      [-0.7812],\n",
       "                      [ 0.3937],\n",
       "                      [-0.7927],\n",
       "                      [-0.0548]])),\n",
       "             ('model.dec_embedding.embed_modules_list.2.embedding.embedding.bias',\n",
       "              tensor([ 0.1070,  0.3640, -0.2274,  0.1874, -0.8291,  0.1099, -0.0175, -0.0505,\n",
       "                      -0.0780,  0.2605, -0.9879, -0.1515,  0.6654,  0.1963, -0.5033, -0.5517,\n",
       "                       0.1873, -0.7702,  0.7881,  0.5031])),\n",
       "             ('model.dec_embedding.embed_modules_list.3.embedding.embed_weight',\n",
       "              tensor([[0.2408, 0.0577, 0.2617, 0.5265],\n",
       "                      [0.6512, 0.5477, 0.1263, 0.3183],\n",
       "                      [1.0675, 0.0892, 0.5643, 0.2395],\n",
       "                      [0.3672, 0.7990, 0.4539, 0.6705],\n",
       "                      [0.5936, 0.7945, 0.1096, 0.3950]])),\n",
       "             ('model.dec_embedding.embed_modules_list.3.embedding.embed_bias',\n",
       "              tensor([[ 0.4983,  0.3246,  0.1738,  0.6719],\n",
       "                      [ 0.1442,  0.5928,  0.5967,  0.9922],\n",
       "                      [ 0.2268,  0.6425,  0.8325,  0.2417],\n",
       "                      [ 0.3576,  0.6965,  0.3319,  0.5177],\n",
       "                      [ 0.2906,  0.5351, -0.0963,  0.2404]])),\n",
       "             ('model.encoder.layers.0.global_attention.query_projection.weight',\n",
       "              tensor([[ 0.0674,  0.0151, -0.0889,  ..., -0.0548,  0.0024,  0.1458],\n",
       "                      [-0.0577, -0.0530,  0.0862,  ..., -0.0517,  0.1217,  0.0665],\n",
       "                      [ 0.0702,  0.0368, -0.0369,  ..., -0.0548, -0.0862, -0.2160],\n",
       "                      ...,\n",
       "                      [-0.0704, -0.0586, -0.0762,  ...,  0.2521, -0.0833, -0.0453],\n",
       "                      [-0.0649, -0.0052, -0.1444,  ...,  0.0483,  0.0500, -0.1723],\n",
       "                      [ 0.1033,  0.0229,  0.1364,  ...,  0.0039, -0.1970,  0.1154]])),\n",
       "             ('model.encoder.layers.0.global_attention.query_projection.bias',\n",
       "              tensor([-0.1076,  0.0749, -0.0528,  0.0676, -0.0253,  0.0464,  0.0072,  0.0126,\n",
       "                       0.0390,  0.0476,  0.0338,  0.0338, -0.1183, -0.1078,  0.2124, -0.0757,\n",
       "                       0.0466, -0.0702,  0.1825, -0.1504])),\n",
       "             ('model.encoder.layers.0.global_attention.key_projection.weight',\n",
       "              tensor([[-0.1230, -0.1203,  0.0871,  ..., -0.0171, -0.0127, -0.0180],\n",
       "                      [-0.1131,  0.0999,  0.1132,  ..., -0.1135, -0.0391, -0.1194],\n",
       "                      [ 0.0972,  0.0847, -0.1162,  ..., -0.0848, -0.0830,  0.1824],\n",
       "                      ...,\n",
       "                      [ 0.0974,  0.0757,  0.0466,  ...,  0.0888, -0.2258,  0.0802],\n",
       "                      [-0.0167,  0.0649,  0.0311,  ..., -0.0355,  0.0932,  0.1873],\n",
       "                      [-0.0500, -0.0526, -0.2399,  ...,  0.2607, -0.0625, -0.0287]])),\n",
       "             ('model.encoder.layers.0.global_attention.key_projection.bias',\n",
       "              tensor([-4.4660e-02,  5.8107e-02,  2.7790e-02, -8.6346e-02, -1.4056e-02,\n",
       "                      -9.1137e-02, -1.0525e-01,  1.0193e-01, -5.6255e-02,  4.9877e-02,\n",
       "                      -2.4898e-02, -2.2631e-02, -8.4114e-05,  8.7173e-02, -1.5470e-02,\n",
       "                       9.2549e-02,  6.5407e-02,  7.6673e-02, -1.0136e-01, -5.2259e-02])),\n",
       "             ('model.encoder.layers.0.global_attention.value_projection.weight',\n",
       "              tensor([[-0.0415, -0.1774, -0.0101,  ...,  0.0779, -0.0280, -0.0297],\n",
       "                      [ 0.0856, -0.0181, -0.0765,  ..., -0.0693,  0.0506,  0.0432],\n",
       "                      [-0.0474,  0.0131,  0.0773,  ...,  0.0205, -0.1063,  0.0093],\n",
       "                      ...,\n",
       "                      [ 0.1573, -0.0618, -0.0131,  ..., -0.0239, -0.0802, -0.1170],\n",
       "                      [ 0.1662, -0.0931, -0.1392,  ..., -0.0741,  0.0388, -0.0149],\n",
       "                      [-0.0136, -0.0296,  0.1612,  ..., -0.0876, -0.1118, -0.0846]])),\n",
       "             ('model.encoder.layers.0.global_attention.value_projection.bias',\n",
       "              tensor([ 0.1278,  0.1261,  0.1499,  0.0443, -0.0207,  0.0159,  0.0578, -0.0613,\n",
       "                      -0.0780, -0.1400,  0.1226,  0.0265,  0.1397, -0.0703,  0.1315,  0.0180,\n",
       "                      -0.0373, -0.1012,  0.0792, -0.0746,  0.0576,  0.0885, -0.0819, -0.0838,\n",
       "                      -0.0634,  0.1038,  0.1557, -0.0441, -0.0584,  0.1047, -0.0173, -0.0604,\n",
       "                       0.0213, -0.0298,  0.1102,  0.0657, -0.0789, -0.0008,  0.0495,  0.0303,\n",
       "                      -0.0322,  0.1078, -0.0813, -0.0297, -0.1281, -0.0249, -0.0158, -0.0775,\n",
       "                       0.1044, -0.0611,  0.0304, -0.0301,  0.0841,  0.0392, -0.0821,  0.1203,\n",
       "                      -0.0502, -0.0481,  0.0436, -0.0790, -0.0962,  0.1664,  0.0263, -0.1166,\n",
       "                      -0.0047, -0.0480,  0.0636,  0.0052, -0.0671,  0.1227, -0.0039, -0.1109,\n",
       "                      -0.1599,  0.0279, -0.0647,  0.1395,  0.0542,  0.1690, -0.0688,  0.0360])),\n",
       "             ('model.encoder.layers.0.global_attention.out_projection.weight',\n",
       "              tensor([[-0.0870, -0.0403,  0.0932,  ..., -0.0471, -0.0734, -0.0392],\n",
       "                      [ 0.0107,  0.0451,  0.0823,  ..., -0.0448,  0.0721,  0.0942],\n",
       "                      [ 0.0030,  0.0287, -0.1060,  ...,  0.0600, -0.1002,  0.0344],\n",
       "                      ...,\n",
       "                      [-0.0985, -0.0685, -0.0900,  ..., -0.0551,  0.0112, -0.1096],\n",
       "                      [-0.0476,  0.0147, -0.1078,  ..., -0.0954,  0.0866,  0.0641],\n",
       "                      [-0.0102,  0.1034,  0.0007,  ...,  0.0916, -0.0518, -0.0718]])),\n",
       "             ('model.encoder.layers.0.global_attention.out_projection.bias',\n",
       "              tensor([ 0.0524, -0.0240,  0.0721,  0.1044,  0.0795,  0.0139, -0.0094, -0.0801,\n",
       "                      -0.0655, -0.0665,  0.0678,  0.0046, -0.0742,  0.1006, -0.0353,  0.1098,\n",
       "                       0.1063,  0.0193, -0.0916,  0.0368,  0.0024, -0.0550, -0.0669, -0.0779,\n",
       "                       0.0173,  0.0466,  0.0189,  0.0647, -0.0408, -0.0403,  0.1095, -0.0848,\n",
       "                      -0.1030,  0.1088,  0.0693, -0.0187,  0.0342, -0.0352, -0.0155,  0.0155,\n",
       "                      -0.0384,  0.0079, -0.0420, -0.0925,  0.0521, -0.0820, -0.1092,  0.0221,\n",
       "                       0.0818,  0.0388, -0.0791,  0.0673, -0.0324, -0.0138,  0.0666,  0.0439,\n",
       "                      -0.0394,  0.0679, -0.0298, -0.0301,  0.0771, -0.0253, -0.0022,  0.1046,\n",
       "                       0.1075,  0.0263,  0.0841, -0.0158, -0.0514,  0.1046,  0.0587,  0.0764,\n",
       "                      -0.0541,  0.0585,  0.0915,  0.0107,  0.0745, -0.1014,  0.0442, -0.0276])),\n",
       "             ('model.encoder.layers.0.norm1.norm.weight',\n",
       "              tensor([0.9461, 0.9830, 1.0607, 1.0390, 1.0627, 0.9831, 1.0230, 0.9936, 1.0018,\n",
       "                      0.9928, 1.0070, 1.0976, 1.0096, 1.0696, 1.0608, 1.0324, 0.9564, 1.0798,\n",
       "                      1.0012, 1.0143, 0.9338, 0.9200, 1.0359, 0.9555, 0.9541, 1.0021, 0.9782,\n",
       "                      1.0149, 0.9773, 0.9841, 0.9680, 0.9900, 0.9667, 0.9605, 0.9376, 0.9348,\n",
       "                      0.9614, 0.9727, 0.9449, 0.9298, 0.9169, 0.9058, 0.9256, 0.9211, 0.9185,\n",
       "                      0.8324, 0.9118, 0.8926, 0.9259, 0.9368, 0.9117, 0.9128, 0.9140, 0.9141,\n",
       "                      0.8857, 0.9038, 0.8871, 0.9080, 0.9262, 0.8439, 1.0282, 0.4615, 0.8162,\n",
       "                      0.6559, 0.9490, 1.0248, 0.9964, 1.0170, 1.0216, 1.0430, 1.1713, 1.1588,\n",
       "                      1.0538, 1.0839, 1.1131, 1.1051, 1.1008, 1.0782, 1.0850, 1.1042])),\n",
       "             ('model.encoder.layers.0.norm1.norm.bias',\n",
       "              tensor([-0.0694,  0.0345,  0.0129,  0.0050, -0.0056, -0.0349,  0.0320,  0.0292,\n",
       "                       0.0164,  0.0585, -0.0071, -0.0796, -0.0298, -0.0052, -0.0174,  0.0504,\n",
       "                       0.0389,  0.0838, -0.0115, -0.0327, -0.0618,  0.0264, -0.0144, -0.0457,\n",
       "                       0.0243, -0.0408,  0.0323, -0.0836,  0.0106,  0.0202, -0.0037, -0.0167,\n",
       "                       0.0225,  0.0171,  0.0592,  0.0034,  0.0326, -0.0349,  0.1341,  0.0352,\n",
       "                       0.0306, -0.0846,  0.0056, -0.0247, -0.0475,  0.0110, -0.0159, -0.0337,\n",
       "                      -0.0201,  0.0333, -0.0195, -0.0410,  0.0402, -0.0095, -0.0061, -0.0031,\n",
       "                       0.0001,  0.0627,  0.0546, -0.0459,  0.0287, -0.0551,  0.0089,  0.0291,\n",
       "                      -0.0336, -0.0634,  0.0261,  0.0212, -0.0131, -0.0225, -0.0487,  0.0224,\n",
       "                      -0.0113,  0.0325, -0.0142, -0.0003, -0.0587, -0.0388,  0.0138, -0.0107])),\n",
       "             ('model.encoder.layers.0.norm1.norm.running_mean',\n",
       "              tensor([ 5.7805e-03, -5.4270e-03,  1.1235e-02,  7.6575e-03, -2.6637e-03,\n",
       "                      -1.9623e-02,  4.3597e-03,  3.9646e-03, -6.5452e-03, -2.9593e-03,\n",
       "                       4.1559e-03, -7.8365e-03,  1.0122e-02,  3.4310e-03,  1.0411e-03,\n",
       "                      -1.1902e-03, -7.2003e-03,  4.6687e-03,  1.5074e-02,  5.5692e-03,\n",
       "                       3.9682e-02,  5.1935e-02, -4.3865e-02,  4.7890e-03,  4.3098e-02,\n",
       "                      -1.4004e-02,  5.2973e-03,  1.9593e-02,  3.4899e-03, -2.0250e-02,\n",
       "                      -1.7193e-02,  7.1961e-02,  2.0375e-02, -9.1661e-02, -7.5379e-02,\n",
       "                      -4.6734e-02, -1.4721e-02,  3.9793e-02, -2.4655e-02, -2.2252e-02,\n",
       "                       6.7280e-01, -9.5312e-01, -7.5595e-01, -6.4262e-01, -4.4187e-01,\n",
       "                       1.1045e-01,  8.5608e-01, -7.3757e-02,  6.1736e-02, -5.0099e-01,\n",
       "                       8.5607e-01, -7.1294e-01,  4.0167e-01, -3.4392e-01,  7.6810e-02,\n",
       "                       6.2636e-01, -1.1738e+00,  1.0033e+00, -6.5577e-01,  5.3177e-01,\n",
       "                       5.0717e+02,  6.9745e-01,  7.5336e-01, -6.0758e-01,  3.0124e+00,\n",
       "                       6.4458e-01,  1.0230e-01,  2.4374e-01,  5.8979e+00,  3.0274e-01,\n",
       "                       3.0428e-01,  1.1135e-01,  8.6888e+00,  1.6311e-01,  1.9666e-01,\n",
       "                       3.3587e-01,  3.5307e+00,  4.6867e-01,  5.1348e-01,  4.0441e-01])),\n",
       "             ('model.encoder.layers.0.norm1.norm.running_var',\n",
       "              tensor([6.2011e-02, 5.0423e-02, 4.3236e-02, 4.9161e-02, 2.1463e-02, 2.0826e-02,\n",
       "                      2.1245e-02, 1.7579e-02, 2.0945e-02, 2.2279e-02, 1.7161e-02, 1.7487e-02,\n",
       "                      2.0958e-02, 2.1838e-02, 2.2834e-02, 1.8002e-02, 5.3272e-02, 4.6853e-02,\n",
       "                      5.1426e-02, 5.2846e-02, 2.6968e-02, 3.6434e-02, 1.3415e-02, 1.4748e-02,\n",
       "                      5.2652e-02, 2.1599e-02, 3.5166e-02, 3.5676e-02, 2.1639e-02, 2.5799e-02,\n",
       "                      3.1507e-02, 4.2091e-02, 3.2408e-02, 2.3683e-02, 4.0537e-02, 2.6658e-02,\n",
       "                      2.2053e-02, 1.2176e-02, 2.5396e-02, 4.1267e-02, 7.0897e-02, 5.7392e-02,\n",
       "                      3.1472e-02, 2.2218e-02, 3.6608e-02, 4.0881e-02, 1.3668e-01, 8.4121e-02,\n",
       "                      1.7590e-02, 1.8859e-01, 4.6964e-03, 4.3372e-02, 1.4450e-01, 3.0994e-02,\n",
       "                      9.7502e-02, 9.2029e-04, 1.1061e-01, 2.1121e-02, 5.7137e-03, 9.4916e-02,\n",
       "                      1.0293e+05, 1.0058e-01, 4.0307e-02, 3.2760e-01, 4.7012e+00, 9.6815e-02,\n",
       "                      3.2332e-01, 2.4117e-01, 2.7109e+01, 4.1357e-01, 4.6532e-01, 3.8630e-01,\n",
       "                      5.6881e+01, 3.0743e-01, 3.4444e-01, 4.4423e-01, 4.2530e+01, 1.8743e-01,\n",
       "                      2.2750e-01, 1.9407e-01])),\n",
       "             ('model.encoder.layers.0.norm1.norm.num_batches_tracked',\n",
       "              tensor(4000)),\n",
       "             ('model.encoder.layers.0.norm2.norm.weight',\n",
       "              tensor([0.9103, 0.9440, 0.9383, 0.9571, 1.0082, 0.9583, 0.9707, 1.0332, 0.9806,\n",
       "                      1.0349, 1.0061, 1.0193, 0.9292, 0.9718, 0.9485, 1.0135, 0.9755, 0.9704,\n",
       "                      0.9781, 1.0212, 0.9541, 0.9812, 1.0492, 0.9608, 0.9193, 1.0010, 0.9875,\n",
       "                      1.0465, 1.0476, 0.9138, 0.9582, 0.9805, 0.9844, 0.9674, 1.0354, 1.0364,\n",
       "                      0.9854, 1.0280, 0.9760, 1.0217, 0.9857, 0.9739, 1.0368, 1.0320, 0.9730,\n",
       "                      0.9496, 0.9350, 0.9288, 1.0338, 0.9563, 0.9617, 0.9915, 0.9723, 0.9847,\n",
       "                      1.0422, 1.0441, 0.9640, 1.0316, 0.9801, 1.0284, 0.9466, 0.7630, 0.8996,\n",
       "                      0.9427, 1.0589, 0.9503, 1.0339, 1.1387, 1.0996, 0.9438, 1.0396, 1.0879,\n",
       "                      1.1064, 1.0650, 1.1012, 1.0680, 0.9929, 0.9541, 1.0526, 0.9807])),\n",
       "             ('model.encoder.layers.0.norm2.norm.bias',\n",
       "              tensor([-0.0118, -0.0091,  0.0482, -0.0030, -0.0862, -0.0065, -0.0365, -0.0462,\n",
       "                       0.0022,  0.0406, -0.0167, -0.0047, -0.0581,  0.0482,  0.0974, -0.0610,\n",
       "                      -0.0062, -0.0380, -0.0149, -0.0671, -0.0353,  0.0276, -0.0290, -0.0448,\n",
       "                      -0.0678,  0.0518,  0.0949,  0.0716,  0.0157, -0.0323,  0.0510,  0.0790,\n",
       "                      -0.0078, -0.0005,  0.0123, -0.0013, -0.0098,  0.0313,  0.0641,  0.0801,\n",
       "                      -0.0341, -0.0137,  0.0169,  0.0738, -0.0132, -0.0159, -0.0579,  0.0242,\n",
       "                       0.0371, -0.0092,  0.0578, -0.0322, -0.0404,  0.0031, -0.0721, -0.0544,\n",
       "                       0.0611,  0.0230,  0.0256,  0.0871, -0.0596,  0.0009, -0.0635, -0.0032,\n",
       "                       0.0569, -0.0270,  0.0171,  0.0251, -0.0846, -0.0304, -0.0351, -0.0494,\n",
       "                      -0.1876,  0.0440,  0.0512,  0.0206, -0.0670,  0.1192,  0.0108, -0.0190])),\n",
       "             ('model.encoder.layers.0.norm2.norm.running_mean',\n",
       "              tensor([ 3.7568e-01,  1.1082e-01,  1.1924e-01, -2.3193e-01, -3.3524e-01,\n",
       "                      -3.5221e-01,  1.2972e-01, -9.7483e-02, -5.1937e-01, -4.1177e-02,\n",
       "                       2.8716e-01,  8.3379e-02,  3.6987e-01,  3.3312e-02,  5.6242e-02,\n",
       "                      -1.0268e-01, -1.3559e-01, -3.3132e-01,  2.0094e-02, -4.5393e-01,\n",
       "                      -1.5731e-01, -2.3612e-02, -4.3556e-01,  1.0277e-01,  2.9504e-01,\n",
       "                       1.9612e-01,  4.2431e-01,  7.3811e-02, -3.0072e-02,  4.9603e-01,\n",
       "                      -3.4523e-01,  2.7425e-01, -3.8742e-02, -2.3523e-01,  5.0818e-02,\n",
       "                       2.0111e-01, -1.3843e-01, -8.7208e-02,  6.2638e-01,  1.9214e-01,\n",
       "                       6.2458e-01, -6.1867e-01, -1.0764e+00, -2.9564e-01, -1.0087e+00,\n",
       "                      -5.6869e-02,  1.2418e+00,  1.3558e-01,  2.6192e-01, -9.5459e-01,\n",
       "                       1.2744e+00, -1.1342e+00,  6.2975e-01, -3.8679e-01, -2.0767e-02,\n",
       "                       5.2431e-01, -1.3579e+00,  9.1029e-01, -9.7737e-01,  5.2103e-01,\n",
       "                       5.0713e+02,  6.4520e-01,  7.6022e-01, -1.1338e+00,  3.0087e+00,\n",
       "                       5.2997e-01,  3.7153e-01,  1.7159e-01,  5.5906e+00,  4.8812e-01,\n",
       "                       3.1422e-01,  1.8101e-01,  8.2667e+00,  2.4703e-01,  2.1934e-01,\n",
       "                       4.5589e-01,  3.4112e+00,  7.0316e-01,  5.7468e-01,  6.2525e-01])),\n",
       "             ('model.encoder.layers.0.norm2.norm.running_var',\n",
       "              tensor([2.1974e-01, 9.1029e-02, 1.8446e-01, 1.7569e-01, 2.5643e-01, 2.7400e-01,\n",
       "                      1.2844e-01, 1.1339e-01, 3.8727e-01, 1.1677e-01, 1.7528e-01, 1.1943e-01,\n",
       "                      2.4995e-01, 1.6642e-01, 1.0492e-01, 1.0242e-01, 1.1286e-01, 1.8508e-01,\n",
       "                      2.2492e-01, 2.7893e-01, 1.7014e-01, 1.1711e-01, 3.0280e-01, 1.3834e-01,\n",
       "                      2.1601e-01, 3.4968e-01, 3.2539e-01, 1.5595e-01, 8.4049e-02, 4.0108e-01,\n",
       "                      1.8393e-01, 1.8339e-01, 2.0425e-01, 1.7291e-01, 1.2918e-01, 1.9616e-01,\n",
       "                      1.1211e-01, 1.5134e-01, 5.7139e-01, 1.4896e-01, 1.6781e-01, 2.0190e-01,\n",
       "                      2.4145e-01, 1.4132e-01, 3.3109e-01, 2.7477e-01, 4.3897e-01, 1.6710e-01,\n",
       "                      1.1450e-01, 2.5565e-01, 2.5197e-01, 3.1730e-01, 2.7106e-01, 1.4942e-01,\n",
       "                      1.6635e-01, 8.7463e-02, 2.5599e-01, 1.0220e-01, 1.8747e-01, 1.3768e-01,\n",
       "                      1.0291e+05, 3.1546e-01, 2.8604e-01, 1.1419e+00, 4.5950e+00, 1.9835e-01,\n",
       "                      3.7642e-01, 3.1881e-01, 2.5776e+01, 3.9488e-01, 5.2568e-01, 4.2686e-01,\n",
       "                      5.3092e+01, 4.3733e-01, 3.6522e-01, 4.6965e-01, 4.0962e+01, 2.5285e-01,\n",
       "                      3.3846e-01, 2.3456e-01])),\n",
       "             ('model.encoder.layers.0.norm2.norm.num_batches_tracked',\n",
       "              tensor(4000)),\n",
       "             ('model.encoder.layers.0.conv1.weight',\n",
       "              tensor([[[ 0.1016],\n",
       "                       [ 0.0404],\n",
       "                       [ 0.1107],\n",
       "                       ...,\n",
       "                       [-0.0085],\n",
       "                       [ 0.0441],\n",
       "                       [-0.0906]],\n",
       "              \n",
       "                      [[ 0.0647],\n",
       "                       [-0.0299],\n",
       "                       [-0.0887],\n",
       "                       ...,\n",
       "                       [-0.0137],\n",
       "                       [-0.0535],\n",
       "                       [-0.0483]],\n",
       "              \n",
       "                      [[ 0.0532],\n",
       "                       [-0.0119],\n",
       "                       [-0.0775],\n",
       "                       ...,\n",
       "                       [-0.1094],\n",
       "                       [ 0.0561],\n",
       "                       [ 0.0570]],\n",
       "              \n",
       "                      ...,\n",
       "              \n",
       "                      [[ 0.0288],\n",
       "                       [ 0.0821],\n",
       "                       [ 0.0268],\n",
       "                       ...,\n",
       "                       [ 0.0352],\n",
       "                       [ 0.0268],\n",
       "                       [ 0.0278]],\n",
       "              \n",
       "                      [[-0.0063],\n",
       "                       [ 0.0208],\n",
       "                       [-0.0765],\n",
       "                       ...,\n",
       "                       [ 0.0714],\n",
       "                       [-0.0582],\n",
       "                       [-0.0487]],\n",
       "              \n",
       "                      [[-0.0067],\n",
       "                       [-0.0841],\n",
       "                       [-0.0720],\n",
       "                       ...,\n",
       "                       [ 0.1051],\n",
       "                       [-0.0001],\n",
       "                       [-0.0638]]])),\n",
       "             ('model.encoder.layers.0.conv1.bias',\n",
       "              tensor([-0.0086, -0.0044,  0.0272,  0.0364,  0.0701, -0.0557, -0.0242, -0.0960,\n",
       "                      -0.0402, -0.0983, -0.0097, -0.0676, -0.0383,  0.1046,  0.1012,  0.0146,\n",
       "                       0.0569,  0.0722,  0.0049,  0.0223])),\n",
       "             ('model.encoder.layers.0.conv2.weight',\n",
       "              tensor([[[-0.0150],\n",
       "                       [-0.1784],\n",
       "                       [ 0.1781],\n",
       "                       ...,\n",
       "                       [-0.1540],\n",
       "                       [-0.1617],\n",
       "                       [-0.0967]],\n",
       "              \n",
       "                      [[ 0.1924],\n",
       "                       [ 0.0888],\n",
       "                       [ 0.1252],\n",
       "                       ...,\n",
       "                       [-0.0598],\n",
       "                       [ 0.1759],\n",
       "                       [ 0.0993]],\n",
       "              \n",
       "                      [[ 0.1306],\n",
       "                       [ 0.1094],\n",
       "                       [-0.1252],\n",
       "                       ...,\n",
       "                       [ 0.1400],\n",
       "                       [-0.1241],\n",
       "                       [-0.0078]],\n",
       "              \n",
       "                      ...,\n",
       "              \n",
       "                      [[-0.1665],\n",
       "                       [ 0.1082],\n",
       "                       [-0.1620],\n",
       "                       ...,\n",
       "                       [ 0.0350],\n",
       "                       [ 0.1816],\n",
       "                       [-0.0687]],\n",
       "              \n",
       "                      [[ 0.0477],\n",
       "                       [-0.2208],\n",
       "                       [-0.0913],\n",
       "                       ...,\n",
       "                       [ 0.0520],\n",
       "                       [-0.1731],\n",
       "                       [ 0.1926]],\n",
       "              \n",
       "                      [[ 0.1644],\n",
       "                       [-0.1702],\n",
       "                       [-0.2052],\n",
       "                       ...,\n",
       "                       [ 0.2210],\n",
       "                       [-0.1982],\n",
       "                       [-0.1917]]])),\n",
       "             ('model.encoder.layers.0.conv2.bias',\n",
       "              tensor([-0.1617,  0.1268, -0.1903,  0.1357,  0.2170,  0.2099,  0.2084,  0.0363,\n",
       "                      -0.1955,  0.0548,  0.0921, -0.0169, -0.1960,  0.1687,  0.0431,  0.1506,\n",
       "                      -0.0248, -0.1999,  0.1904, -0.2188, -0.1597,  0.2043, -0.0644,  0.1214,\n",
       "                       0.1370, -0.0263, -0.0450,  0.0994, -0.0454,  0.0924, -0.0708, -0.1227,\n",
       "                      -0.1412, -0.2223, -0.0681, -0.1022,  0.0708,  0.0019, -0.1479, -0.1621,\n",
       "                      -0.0336,  0.0806,  0.0132,  0.0260, -0.1201, -0.1005, -0.0308,  0.0932,\n",
       "                      -0.2052,  0.0951,  0.1256, -0.2209,  0.0938,  0.0337,  0.0890, -0.1241,\n",
       "                       0.1409, -0.1291, -0.0973,  0.0720, -0.0482,  0.1558, -0.0259, -0.1743,\n",
       "                      -0.1863,  0.0115, -0.1743,  0.1999,  0.1944,  0.1346, -0.1706, -0.0514,\n",
       "                       0.1650,  0.0455,  0.0176, -0.0173, -0.1227, -0.0711,  0.1303, -0.0436])),\n",
       "             ('model.encoder.layers.0.linear1.weight',\n",
       "              tensor([[-0.0881,  0.0777, -0.0525,  ..., -0.0312, -0.0021,  0.0190],\n",
       "                      [ 0.0056, -0.0707, -0.0236,  ..., -0.0877,  0.0028, -0.0164],\n",
       "                      [ 0.0586,  0.0358, -0.0588,  ...,  0.0078,  0.0933,  0.0493],\n",
       "                      ...,\n",
       "                      [-0.0510, -0.0217, -0.0393,  ..., -0.0195, -0.0340,  0.0773],\n",
       "                      [-0.0169,  0.0146, -0.0575,  ..., -0.0489, -0.1453,  0.0566],\n",
       "                      [-0.0570,  0.0806, -0.0383,  ..., -0.1268, -0.0037,  0.1051]])),\n",
       "             ('model.encoder.layers.0.linear1.bias',\n",
       "              tensor([-0.0838, -0.1540,  0.1116,  0.0692, -0.0651,  0.0499, -0.0186, -0.0906,\n",
       "                       0.0467,  0.0639,  0.0270,  0.0044,  0.0445,  0.0405, -0.0106, -0.1111,\n",
       "                      -0.1054,  0.0511,  0.0091, -0.0355])),\n",
       "             ('model.encoder.layers.0.linear2.weight',\n",
       "              tensor([[-0.1785, -0.0707, -0.0944,  ..., -0.0844, -0.1791, -0.0564],\n",
       "                      [-0.0942,  0.2567, -0.0448,  ...,  0.0330,  0.1688, -0.2050],\n",
       "                      [ 0.2463,  0.1951,  0.1299,  ...,  0.0769,  0.0938, -0.1126],\n",
       "                      ...,\n",
       "                      [ 0.0739, -0.1370,  0.2029,  ..., -0.1913, -0.1088,  0.1034],\n",
       "                      [-0.1616,  0.1952,  0.0465,  ...,  0.1087,  0.1809, -0.0518],\n",
       "                      [-0.0092,  0.0060, -0.1262,  ...,  0.2127,  0.1640,  0.0444]])),\n",
       "             ('model.encoder.layers.0.linear2.bias',\n",
       "              tensor([ 0.1842, -0.0529,  0.1283, -0.0127, -0.1499, -0.1131, -0.1422,  0.0594,\n",
       "                      -0.0053,  0.1765,  0.0570, -0.0506, -0.0286,  0.1442, -0.1196,  0.2208,\n",
       "                      -0.0142,  0.0445,  0.2067, -0.1974,  0.1513,  0.1821,  0.1850,  0.0775,\n",
       "                      -0.0695, -0.1521,  0.1642,  0.0529,  0.1730,  0.1365, -0.1198,  0.1492,\n",
       "                       0.0187, -0.2048,  0.0196, -0.1113, -0.0821, -0.0775, -0.2086, -0.1493,\n",
       "                       0.1834, -0.1189, -0.0418, -0.0311,  0.1781,  0.1110, -0.0944,  0.0109,\n",
       "                      -0.1002,  0.0188, -0.1132, -0.1293, -0.0604, -0.1683, -0.0947,  0.0802,\n",
       "                      -0.0392, -0.1805, -0.1519, -0.1339,  0.1372, -0.1532, -0.0145,  0.1266,\n",
       "                      -0.2027,  0.0412,  0.0855,  0.2007,  0.0864, -0.0729,  0.2210, -0.0266,\n",
       "                      -0.0046,  0.0690, -0.1681,  0.1867,  0.0628,  0.1542,  0.0649, -0.1869])),\n",
       "             ('model.encoder.norm_layer.norm.weight',\n",
       "              tensor([0.9229, 0.9506, 1.0191, 1.0219, 0.9465, 0.9608, 0.8714, 0.9910, 0.9280,\n",
       "                      0.8990, 1.0222, 0.9368, 0.9483, 0.9705, 0.9890, 1.0544, 0.9901, 0.8993,\n",
       "                      1.0637, 0.9446, 0.9959, 0.9135, 0.9525, 0.9487, 0.9746, 0.8690, 0.9819,\n",
       "                      1.0426, 0.9721, 0.9357, 0.9688, 0.9774, 0.9221, 1.0165, 0.9961, 1.0430,\n",
       "                      0.9735, 0.9987, 0.8779, 1.0619, 0.9848, 0.9061, 1.0158, 0.9368, 0.9169,\n",
       "                      1.0637, 0.9411, 0.9933, 0.9321, 0.9644, 0.9277, 0.9520, 0.9581, 0.9656,\n",
       "                      0.9297, 0.9829, 0.9636, 1.0035, 1.0212, 0.9898, 0.9737, 0.8279, 0.9778,\n",
       "                      0.9725, 1.0079, 0.9938, 0.9320, 1.0149, 1.0196, 1.0309, 1.0794, 1.0496,\n",
       "                      1.0022, 1.1295, 1.0369, 0.9293, 1.0235, 1.0408, 1.1157, 0.9353])),\n",
       "             ('model.encoder.norm_layer.norm.bias',\n",
       "              tensor([ 3.5687e-03,  8.0997e-04,  5.4322e-03,  6.3789e-04,  1.9571e-03,\n",
       "                       2.3624e-03, -2.2791e-03,  5.8915e-03,  1.8573e-03, -3.3849e-04,\n",
       "                       3.3548e-03,  1.0311e-03,  1.2166e-03,  1.4893e-03,  5.3362e-03,\n",
       "                       1.1733e-03, -8.0021e-04, -2.5183e-03,  7.5735e-04,  1.7683e-03,\n",
       "                      -4.7226e-03, -4.5129e-03, -6.7786e-03,  1.2708e-03,  2.0466e-03,\n",
       "                      -3.4417e-03, -1.1203e-03,  7.2029e-03, -2.4710e-03,  4.5931e-03,\n",
       "                      -7.8827e-04, -1.3707e-03, -3.7156e-05, -7.2736e-03,  3.9240e-03,\n",
       "                      -2.2022e-03,  1.2203e-03, -2.4782e-03, -9.0740e-04, -3.3274e-03,\n",
       "                       8.5480e-04,  2.7680e-03,  5.7041e-03, -5.2503e-03, -1.1570e-03,\n",
       "                       3.6902e-03,  3.8106e-03, -6.8037e-04, -2.1044e-03,  2.1847e-03,\n",
       "                       5.3540e-03,  3.5587e-03, -6.6126e-03,  3.7719e-03, -1.5508e-04,\n",
       "                       3.3121e-03,  3.7397e-04,  2.1890e-03,  2.7294e-03,  1.4578e-03,\n",
       "                      -3.7590e-03,  7.3706e-03,  3.5140e-04, -4.1157e-04,  2.3874e-03,\n",
       "                      -4.1333e-03,  4.4820e-03, -4.5329e-03,  7.6739e-03,  3.0394e-03,\n",
       "                      -4.6359e-03,  4.9319e-03, -2.0441e-03, -5.9989e-04,  3.2456e-03,\n",
       "                      -1.8068e-03,  3.6518e-03,  5.5583e-03, -5.8745e-04,  1.4574e-03])),\n",
       "             ('model.encoder.norm_layer.norm.running_mean',\n",
       "              tensor([ 3.0732e-01,  3.1792e-01,  4.5329e-01, -5.5754e-01, -7.8160e-01,\n",
       "                      -7.1232e-01, -4.1549e-01,  1.6968e-01, -3.0263e-01,  2.2997e-02,\n",
       "                       5.7693e-01, -2.5123e-01,  4.7269e-01,  2.9467e-01, -3.4542e-02,\n",
       "                       4.6555e-02, -5.5578e-01, -2.9632e-01,  4.2302e-01, -3.6209e-01,\n",
       "                      -1.7951e-01, -3.5070e-02, -1.0276e-01,  3.2618e-01, -5.2893e-02,\n",
       "                       2.9094e-01,  4.5990e-01,  7.4422e-02,  6.2844e-01,  5.0651e-01,\n",
       "                      -2.0188e-01,  5.4329e-01,  1.4081e-01, -3.6435e-01,  4.4712e-01,\n",
       "                       9.1062e-02, -3.7239e-01, -4.0097e-01,  5.6592e-01,  4.4036e-02,\n",
       "                       8.5784e-01, -1.1224e+00, -8.6584e-01, -2.1152e-01, -6.7330e-01,\n",
       "                       4.4611e-01,  1.1792e+00,  1.7225e-01, -3.0520e-01, -8.2130e-01,\n",
       "                       1.0950e+00, -1.2026e+00,  4.8247e-01, -9.8736e-01,  2.2396e-02,\n",
       "                       3.6383e-01, -9.8597e-01,  8.9576e-01, -9.8508e-01,  1.0933e-01,\n",
       "                       5.0727e+02,  1.0616e+00,  7.8754e-01, -9.9200e-01,  2.9363e+00,\n",
       "                       7.8328e-01,  5.8160e-01,  6.4323e-01,  5.6979e+00,  7.3020e-01,\n",
       "                       3.6069e-01,  2.0420e-01,  8.1797e+00,  1.2612e-01, -2.1900e-02,\n",
       "                       5.5432e-01,  3.2867e+00,  1.3033e+00,  3.8830e-01,  2.9955e-01])),\n",
       "             ('model.encoder.norm_layer.norm.running_var',\n",
       "              tensor([4.2052e-01, 2.3900e-01, 3.1186e-01, 4.5479e-01, 2.6837e-01, 6.2386e-01,\n",
       "                      3.4611e-01, 1.7716e-01, 6.7378e-01, 1.1796e-01, 3.0984e-01, 2.4345e-01,\n",
       "                      4.3125e-01, 2.0689e-01, 1.5950e-01, 1.8168e-01, 2.5277e-01, 3.8726e-01,\n",
       "                      6.6103e-01, 5.6783e-01, 2.8403e-01, 2.5053e-01, 5.6936e-01, 1.8174e-01,\n",
       "                      3.3903e-01, 5.5961e-01, 3.5013e-01, 2.5417e-01, 1.6728e-01, 6.7011e-01,\n",
       "                      3.6789e-01, 1.6416e-01, 3.1719e-01, 2.8060e-01, 2.5308e-01, 2.7674e-01,\n",
       "                      2.4084e-01, 2.0694e-01, 7.8002e-01, 3.0701e-01, 3.8593e-01, 4.3992e-01,\n",
       "                      2.8628e-01, 4.3044e-01, 3.3386e-01, 4.6243e-01, 1.0535e+00, 4.1569e-01,\n",
       "                      1.9894e-01, 4.7138e-01, 6.3581e-01, 5.1442e-01, 4.0812e-01, 2.5285e-01,\n",
       "                      4.4729e-01, 1.3556e-01, 6.7142e-01, 1.8184e-01, 5.8509e-01, 2.6558e-01,\n",
       "                      1.0281e+05, 4.5241e-01, 4.1869e-01, 1.9673e+00, 5.4630e+00, 3.2945e-01,\n",
       "                      3.0695e-01, 5.1626e-01, 2.5288e+01, 5.3717e-01, 4.9471e-01, 5.8588e-01,\n",
       "                      5.6323e+01, 7.7213e-01, 3.7294e-01, 5.2894e-01, 4.1858e+01, 3.5681e-01,\n",
       "                      5.5771e-01, 3.0401e-01])),\n",
       "             ('model.encoder.norm_layer.norm.num_batches_tracked',\n",
       "              tensor(4000)),\n",
       "             ('model.decoder.layers.0.global_self_attention.query_projection.weight',\n",
       "              tensor([[ 0.0852, -0.0281,  0.1196,  ...,  0.0598, -0.0157, -0.0278],\n",
       "                      [ 0.0964,  0.1142,  0.0237,  ..., -0.1104, -0.1482,  0.0654],\n",
       "                      [-0.0179,  0.1291,  0.0180,  ...,  0.0327,  0.0551, -0.0368],\n",
       "                      ...,\n",
       "                      [ 0.0548, -0.1056, -0.0647,  ...,  0.0514,  0.1190, -0.0169],\n",
       "                      [-0.0262,  0.0645, -0.0616,  ..., -0.0503, -0.0425, -0.0341],\n",
       "                      [-0.0155, -0.1068,  0.0718,  ...,  0.0135,  0.1111,  0.0225]])),\n",
       "             ('model.decoder.layers.0.global_self_attention.query_projection.bias',\n",
       "              tensor([ 0.1730,  0.0631,  0.0912,  0.1563, -0.0457,  0.1211, -0.0588,  0.0120,\n",
       "                       0.0082,  0.0527, -0.1358,  0.0391,  0.1499, -0.1068,  0.0448,  0.1616,\n",
       "                      -0.0860,  0.0762,  0.1077,  0.1597])),\n",
       "             ('model.decoder.layers.0.global_self_attention.key_projection.weight',\n",
       "              tensor([[ 0.1251,  0.0509, -0.0144,  ...,  0.1587,  0.0143,  0.2539],\n",
       "                      [ 0.1007,  0.0110, -0.0448,  ..., -0.1472,  0.1370, -0.1406],\n",
       "                      [-0.0381, -0.0187, -0.1224,  ..., -0.0245,  0.0195,  0.1060],\n",
       "                      ...,\n",
       "                      [ 0.0881,  0.0675, -0.0057,  ...,  0.0381,  0.1524,  0.0393],\n",
       "                      [ 0.0511,  0.0261, -0.0519,  ..., -0.1434, -0.0305, -0.2117],\n",
       "                      [ 0.1527, -0.0743, -0.0150,  ...,  0.0936, -0.0096, -0.1256]])),\n",
       "             ('model.decoder.layers.0.global_self_attention.key_projection.bias',\n",
       "              tensor([ 0.0621, -0.0548, -0.0783,  0.0538, -0.0469, -0.0730, -0.0338, -0.0547,\n",
       "                       0.0013, -0.0480,  0.0038, -0.0065,  0.0769,  0.0699, -0.0545,  0.0432,\n",
       "                      -0.0997, -0.0877, -0.0762, -0.0479])),\n",
       "             ('model.decoder.layers.0.global_self_attention.value_projection.weight',\n",
       "              tensor([[-0.0929,  0.0948,  0.1066,  ...,  0.0451,  0.0481,  0.1135],\n",
       "                      [ 0.1030, -0.0214,  0.0751,  ...,  0.0035, -0.0883, -0.0680],\n",
       "                      [-0.0102,  0.0774, -0.0677,  ..., -0.0313, -0.0702, -0.1893],\n",
       "                      ...,\n",
       "                      [-0.0453,  0.0208,  0.0056,  ..., -0.0342,  0.0729,  0.0551],\n",
       "                      [ 0.0392, -0.0456, -0.0541,  ...,  0.1447,  0.0185, -0.0725],\n",
       "                      [-0.0788, -0.0608,  0.0735,  ..., -0.1119,  0.0348,  0.1623]])),\n",
       "             ('model.decoder.layers.0.global_self_attention.value_projection.bias',\n",
       "              tensor([-0.0753, -0.1066, -0.0976, -0.0827, -0.0759,  0.1046, -0.0378,  0.0631,\n",
       "                       0.0494,  0.0416, -0.1065,  0.1147,  0.0670, -0.1145, -0.0859,  0.0497,\n",
       "                      -0.0309, -0.0907,  0.0137, -0.1161,  0.0931,  0.0863,  0.0577,  0.0507,\n",
       "                      -0.0643, -0.0076,  0.0494,  0.0339,  0.0971,  0.0214, -0.0871, -0.0669,\n",
       "                       0.0740,  0.0637,  0.0387,  0.0283,  0.0551, -0.1022, -0.1138, -0.0523,\n",
       "                      -0.0435, -0.0263,  0.0354, -0.0369, -0.0054, -0.0858, -0.0416,  0.0888,\n",
       "                       0.0873, -0.0281,  0.0487,  0.0973,  0.0834, -0.0104, -0.0798, -0.0259,\n",
       "                       0.0551, -0.0395,  0.0620, -0.0846,  0.0570,  0.0606, -0.0109,  0.1165,\n",
       "                       0.0766,  0.0184, -0.0175,  0.0219, -0.0642, -0.0095, -0.1014,  0.0486,\n",
       "                       0.0145, -0.0876, -0.0209,  0.0488, -0.0702,  0.0445, -0.0895,  0.0065])),\n",
       "             ('model.decoder.layers.0.global_self_attention.out_projection.weight',\n",
       "              tensor([[-0.0149, -0.0823, -0.0179,  ..., -0.0065,  0.1053, -0.0646],\n",
       "                      [-0.0305,  0.0199,  0.0089,  ...,  0.0322, -0.0723,  0.0623],\n",
       "                      [-0.0302,  0.0992, -0.0372,  ...,  0.0854,  0.0959,  0.0722],\n",
       "                      ...,\n",
       "                      [ 0.0147,  0.0881,  0.1115,  ..., -0.0015,  0.0969,  0.0042],\n",
       "                      [ 0.0715,  0.0515, -0.0541,  ...,  0.0502, -0.0157,  0.0916],\n",
       "                      [ 0.0467,  0.0417,  0.0893,  ..., -0.0463, -0.0117,  0.0664]])),\n",
       "             ('model.decoder.layers.0.global_self_attention.out_projection.bias',\n",
       "              tensor([-0.0887, -0.0895,  0.0830,  0.0253, -0.0288, -0.1097, -0.0229,  0.0628,\n",
       "                      -0.0581, -0.0324, -0.0650, -0.0169,  0.0165,  0.0506, -0.0659, -0.0916,\n",
       "                       0.0288, -0.0848,  0.0604, -0.0627, -0.0867, -0.0190,  0.0504, -0.0838,\n",
       "                      -0.0095, -0.0521, -0.0522, -0.0789,  0.0539, -0.0568, -0.0854, -0.1000,\n",
       "                       0.1070,  0.0049, -0.0036,  0.1014,  0.0795, -0.0298,  0.0814, -0.0114,\n",
       "                       0.0888, -0.0686,  0.0369, -0.0908, -0.0453, -0.0015, -0.0828,  0.0038,\n",
       "                      -0.0056,  0.1072,  0.0157,  0.0697,  0.0655,  0.0669,  0.0596,  0.0307,\n",
       "                       0.0829,  0.0979, -0.0333,  0.0595,  0.0407,  0.0660, -0.0516,  0.0079,\n",
       "                       0.0140,  0.0351,  0.0189,  0.0691, -0.0463, -0.0217, -0.1050,  0.0800,\n",
       "                      -0.1042,  0.0314, -0.0834,  0.0344, -0.0602,  0.0682, -0.0956,  0.0686])),\n",
       "             ('model.decoder.layers.0.global_cross_attention.query_projection.weight',\n",
       "              tensor([[-0.0809, -0.0969, -0.0649,  ..., -0.0397, -0.0511,  0.0138],\n",
       "                      [-0.0760, -0.1129, -0.0196,  ..., -0.0013,  0.0634,  0.1075],\n",
       "                      [-0.0041,  0.0398, -0.0057,  ..., -0.0180, -0.0158,  0.1096],\n",
       "                      ...,\n",
       "                      [ 0.0002, -0.0118, -0.0033,  ..., -0.0111,  0.0215, -0.0657],\n",
       "                      [-0.0369,  0.0946,  0.0387,  ...,  0.0726, -0.0829, -0.0637],\n",
       "                      [ 0.1145, -0.0499, -0.0034,  ..., -0.0701,  0.0785, -0.0425]])),\n",
       "             ('model.decoder.layers.0.global_cross_attention.query_projection.bias',\n",
       "              tensor([ 0.1930, -0.1310, -0.1247,  0.1981,  0.1120,  0.0296, -0.0994,  0.0689,\n",
       "                      -0.1562, -0.1623,  0.0286, -0.0359,  0.0309, -0.0250, -0.0890,  0.0491,\n",
       "                       0.0521,  0.0823, -0.0830, -0.2229])),\n",
       "             ('model.decoder.layers.0.global_cross_attention.key_projection.weight',\n",
       "              tensor([[ 5.1874e-02,  1.0413e-02, -3.2501e-02,  ..., -8.7238e-02,\n",
       "                        5.8916e-02,  6.6050e-02],\n",
       "                      [ 1.6407e-04, -5.7383e-02,  1.5175e-02,  ..., -1.0818e-01,\n",
       "                        6.1285e-02, -1.6970e-02],\n",
       "                      [ 1.7474e-02,  1.5660e-01,  1.0674e-01,  ..., -1.0863e-02,\n",
       "                        8.6066e-02,  1.2409e-01],\n",
       "                      ...,\n",
       "                      [ 1.5563e-02,  6.3122e-02,  1.2079e-01,  ...,  1.0797e-01,\n",
       "                        7.0859e-03,  5.4366e-02],\n",
       "                      [-1.2279e-01, -5.3669e-02, -1.1678e-01,  ..., -4.0734e-03,\n",
       "                        2.9772e-02, -5.8847e-03],\n",
       "                      [-7.5525e-02, -1.6434e-01,  7.0008e-03,  ...,  4.8619e-02,\n",
       "                       -8.5127e-02,  6.8369e-02]])),\n",
       "             ('model.decoder.layers.0.global_cross_attention.key_projection.bias',\n",
       "              tensor([ 0.0333, -0.1076,  0.1097,  0.0381,  0.0033, -0.0191,  0.0792,  0.0512,\n",
       "                       0.0338,  0.0864,  0.0151, -0.0348, -0.0527,  0.0207, -0.0223, -0.0772,\n",
       "                      -0.0812, -0.0605, -0.0732,  0.0098])),\n",
       "             ('model.decoder.layers.0.global_cross_attention.value_projection.weight',\n",
       "              tensor([[-0.1364, -0.0064,  0.1347,  ..., -0.1286,  0.0952,  0.0658],\n",
       "                      [ 0.0900, -0.0878,  0.0584,  ...,  0.0375, -0.0707,  0.1032],\n",
       "                      [ 0.1469, -0.0007, -0.0918,  ..., -0.0730, -0.1376,  0.0288],\n",
       "                      ...,\n",
       "                      [ 0.1464, -0.0560, -0.0711,  ...,  0.1577, -0.0110, -0.0614],\n",
       "                      [ 0.0140,  0.0211,  0.0545,  ...,  0.0439, -0.1223,  0.0747],\n",
       "                      [ 0.0572, -0.0326, -0.0273,  ...,  0.0501,  0.0528,  0.0022]])),\n",
       "             ('model.decoder.layers.0.global_cross_attention.value_projection.bias',\n",
       "              tensor([ 0.0790,  0.0976, -0.0835,  0.1010, -0.1090, -0.0395, -0.0694,  0.1139,\n",
       "                      -0.0706,  0.0169,  0.0568, -0.0300,  0.0782, -0.0176, -0.0496, -0.0367,\n",
       "                       0.0201, -0.0423,  0.0364, -0.0630,  0.0492,  0.0119, -0.0806,  0.0670,\n",
       "                       0.0268, -0.0684, -0.1084,  0.0614,  0.0331, -0.0246, -0.1099, -0.0590,\n",
       "                       0.0191,  0.0184,  0.0844, -0.0983, -0.0979,  0.1180,  0.0986,  0.0235,\n",
       "                       0.0586, -0.0154, -0.0127,  0.0643, -0.0728,  0.0945,  0.0511,  0.0346,\n",
       "                       0.0129,  0.0047,  0.0410, -0.0463,  0.0779, -0.0671,  0.0834, -0.0356,\n",
       "                       0.0615,  0.0697,  0.0260, -0.0284, -0.0556,  0.0993,  0.0978, -0.0783,\n",
       "                       0.0244, -0.0258, -0.0362,  0.0765,  0.0533, -0.0134, -0.0026,  0.0232,\n",
       "                       0.0283, -0.0346, -0.0776, -0.0921, -0.0480,  0.0329,  0.0398,  0.0591])),\n",
       "             ('model.decoder.layers.0.global_cross_attention.out_projection.weight',\n",
       "              tensor([[-0.0704,  0.0103,  0.0461,  ..., -0.0086,  0.0729, -0.0468],\n",
       "                      [-0.0539, -0.0154, -0.0374,  ..., -0.0048,  0.0974, -0.0153],\n",
       "                      [ 0.1032,  0.1085,  0.0775,  ..., -0.0265, -0.0738,  0.0990],\n",
       "                      ...,\n",
       "                      [ 0.0163, -0.0788,  0.1029,  ..., -0.0004,  0.0058, -0.0311],\n",
       "                      [-0.0093,  0.0427, -0.0011,  ..., -0.0238, -0.0382,  0.0101],\n",
       "                      [-0.0794,  0.0368, -0.0159,  ...,  0.0451,  0.0695,  0.0612]])),\n",
       "             ('model.decoder.layers.0.global_cross_attention.out_projection.bias',\n",
       "              tensor([-0.0423,  0.0628, -0.0652, -0.0616,  0.0690,  0.0495,  0.0866, -0.0730,\n",
       "                       0.0142, -0.0043, -0.0575, -0.0207,  0.0663,  0.0355, -0.0419, -0.0162,\n",
       "                       0.0104,  0.0459, -0.0139,  0.0268, -0.1117, -0.0864, -0.0736, -0.0384,\n",
       "                      -0.0890,  0.0341, -0.0300,  0.0340,  0.0263, -0.0897, -0.0544, -0.0013,\n",
       "                       0.0943,  0.0009,  0.0114, -0.0429, -0.0414,  0.0824,  0.0795, -0.0793,\n",
       "                       0.0072,  0.0298,  0.0988,  0.0530, -0.1035,  0.0063,  0.0914, -0.0181,\n",
       "                       0.0794, -0.0470, -0.0672,  0.0353,  0.0353,  0.0309,  0.0389, -0.0722,\n",
       "                       0.0897, -0.0567, -0.0549, -0.0285,  0.0270,  0.1091,  0.0556, -0.0833,\n",
       "                      -0.1076,  0.0469,  0.0836,  0.0905,  0.0358,  0.0298,  0.0803,  0.0547,\n",
       "                       0.0952, -0.0049, -0.0115,  0.0266,  0.1082, -0.0198,  0.0698,  0.0429])),\n",
       "             ('model.decoder.layers.0.norm1.norm.weight',\n",
       "              tensor([0.9269, 0.9438, 0.8807, 0.9082, 0.9785, 0.9145, 0.9265, 0.9407, 0.8965,\n",
       "                      0.9780, 0.9389, 0.9795, 0.9552, 0.9373, 0.9070, 0.9796, 0.9354, 0.9512,\n",
       "                      0.8304, 0.8983, 1.0904, 1.0007, 1.0610, 1.0098, 1.0637, 1.0124, 1.0114,\n",
       "                      1.0901, 1.0451, 1.1104, 0.9944, 1.0347, 1.0171, 1.0321, 1.0313, 1.0236,\n",
       "                      1.0198, 0.9826, 1.0135, 1.0227, 1.0000, 1.0003, 1.0004, 1.0004, 0.9967,\n",
       "                      0.9997, 1.0000, 0.9998, 1.0000, 1.0004, 1.0000, 1.0000, 1.0007, 1.0002,\n",
       "                      0.9991, 1.0009, 1.0001, 1.0019, 0.9973, 1.0000, 0.9589, 0.5267, 0.5826,\n",
       "                      0.5714, 1.0055, 0.9853, 0.9544, 0.9839, 1.0612, 1.0443, 1.0390, 1.0749,\n",
       "                      0.9917, 1.0324, 1.0570, 1.0071, 1.0294, 1.0113, 0.9625, 1.1620])),\n",
       "             ('model.decoder.layers.0.norm1.norm.bias',\n",
       "              tensor([ 1.0699e-01, -8.3496e-02,  6.9528e-02, -3.9315e-02, -8.4460e-02,\n",
       "                      -6.8331e-02, -7.2489e-02, -7.5045e-03, -5.6452e-02, -1.9190e-03,\n",
       "                       1.6120e-02,  2.8748e-02,  3.4641e-02, -1.5633e-02,  5.6770e-02,\n",
       "                       4.2671e-02,  2.9212e-02,  4.0689e-02,  6.2544e-02, -5.8830e-02,\n",
       "                      -8.8551e-03, -1.7855e-02, -2.4820e-02,  4.9613e-02,  3.9018e-02,\n",
       "                       3.5382e-03,  6.7233e-02,  1.8952e-02,  4.2868e-02,  5.3819e-02,\n",
       "                      -4.8438e-02,  1.5441e-01, -3.4994e-02, -3.0709e-03, -5.3433e-02,\n",
       "                       9.8799e-02, -2.9036e-02, -4.2836e-03, -2.5039e-02, -5.7223e-02,\n",
       "                      -7.1152e-02,  7.5599e-02,  5.9694e-02,  1.0644e-01,  4.8096e-02,\n",
       "                       3.7705e-03,  1.0379e-03,  5.5859e-02, -7.7056e-02,  5.8404e-04,\n",
       "                      -8.2303e-02, -9.6887e-02,  7.0805e-02,  3.5412e-03,  2.7613e-02,\n",
       "                      -4.9042e-02,  6.6994e-02, -1.1500e-01, -9.4179e-02, -1.6444e-05,\n",
       "                       9.6452e-02, -4.7712e-02,  1.0860e-02,  1.3557e-01,  7.3234e-02,\n",
       "                      -6.6901e-02,  8.6996e-02,  1.7397e-02,  6.1646e-02, -6.4476e-02,\n",
       "                       2.2841e-02, -1.2245e-02,  6.5597e-02, -4.3955e-02,  3.9134e-02,\n",
       "                      -4.8098e-02,  9.4431e-02, -9.6532e-02,  7.1058e-03,  2.4909e-02])),\n",
       "             ('model.decoder.layers.0.norm1.norm.running_mean',\n",
       "              tensor([-6.3055e-01, -5.9564e-01, -4.2249e-01, -1.2032e+00,  1.6401e-01,\n",
       "                      -9.0866e-01, -7.9538e-02,  3.1684e-02, -3.6647e-01, -1.1357e-01,\n",
       "                       1.4231e+00, -3.1983e-01, -8.1362e-02,  3.2763e-01,  7.6712e-02,\n",
       "                      -1.1140e+00, -4.7853e-01,  1.7207e-01,  1.0724e+00, -5.6675e-01,\n",
       "                       9.6445e-04,  7.4225e-02,  1.5357e-02,  6.6176e-02,  7.0195e-03,\n",
       "                       8.5529e-02,  9.7212e-03,  8.2185e-02,  1.4351e-01, -8.3052e-02,\n",
       "                       6.4454e-01,  5.0942e-01,  3.4217e-01,  9.0804e-01,  1.4237e-01,\n",
       "                       9.8503e-01,  5.7074e-02,  9.9762e-01,  2.2747e-02,  9.9962e-01,\n",
       "                       1.0700e-01,  3.6399e-01, -2.2738e-01,  1.8730e-01, -8.2912e-01,\n",
       "                       1.0990e-01, -1.7503e-02, -5.0517e-02, -7.7989e-02,  2.6056e-01,\n",
       "                      -9.8787e-01, -1.5153e-01,  6.6550e-01,  1.9632e-01, -5.0323e-01,\n",
       "                      -5.5177e-01,  1.8721e-01, -7.7010e-01,  7.8816e-01,  5.0305e-01,\n",
       "                       4.5036e+02, -6.6378e-01,  7.8529e-01, -3.6731e-01,  4.5450e+00,\n",
       "                       1.2107e-01,  8.6853e-01, -8.7280e-02,  1.6602e+01,  6.1960e-01,\n",
       "                       1.3856e-02,  5.5022e-02,  2.5400e+00, -1.1909e-01,  7.8919e-02,\n",
       "                      -9.6611e-02,  1.6419e+01, -7.9910e-03,  6.2919e-03, -8.3674e-03])),\n",
       "             ('model.decoder.layers.0.norm1.norm.running_var',\n",
       "              tensor([1.6590e-01, 2.3903e-01, 4.0318e-02, 2.0289e+00, 1.1303e-01, 9.6268e-02,\n",
       "                      1.0016e+00, 9.1552e-01, 2.4402e-01, 8.1091e-01, 9.6875e-01, 4.3526e-01,\n",
       "                      7.5114e-01, 4.2644e-01, 4.2797e-02, 1.3587e-01, 5.0173e-01, 1.6431e-01,\n",
       "                      8.1403e-02, 9.8240e-02, 4.6290e-01, 5.2658e-01, 4.5995e-01, 5.3026e-01,\n",
       "                      4.5726e-01, 5.3068e-01, 4.5893e-01, 5.2944e-01, 4.6478e-01, 4.9876e-01,\n",
       "                      1.1922e-01, 1.9968e-01, 4.9122e-02, 8.0660e-03, 9.0256e-03, 2.1823e-04,\n",
       "                      1.4641e-03, 5.5464e-06, 2.3290e-04, 1.3958e-07, 1.5937e-16, 3.3057e-16,\n",
       "                      3.1424e-16, 1.6416e-16, 5.1106e-15, 1.3621e-16, 2.3547e-18, 2.1014e-17,\n",
       "                      3.8379e-17, 6.3843e-16, 6.9183e-15, 1.3431e-16, 2.7727e-15, 8.8717e-17,\n",
       "                      1.5694e-15, 4.6031e-15, 9.5331e-17, 1.4044e-15, 2.8315e-15, 1.8242e-15,\n",
       "                      1.6170e+04, 7.6251e-02, 4.6845e-02, 7.6761e-02, 5.9968e+00, 2.5510e-01,\n",
       "                      1.6141e-02, 5.4937e-01, 9.5028e+01, 1.3302e-01, 5.1010e-01, 4.6260e-01,\n",
       "                      1.3539e+00, 4.2809e-01, 4.3900e-01, 4.5583e-01, 1.1430e+02, 4.1575e-01,\n",
       "                      4.2505e-01, 4.7721e-01])),\n",
       "             ('model.decoder.layers.0.norm1.norm.num_batches_tracked',\n",
       "              tensor(4000)),\n",
       "             ('model.decoder.layers.0.norm2.norm.weight',\n",
       "              tensor([0.9949, 1.0291, 0.9362, 0.9595, 0.9871, 0.9123, 1.0226, 0.9975, 0.8991,\n",
       "                      1.0538, 1.0319, 0.9541, 1.0007, 1.0160, 1.0169, 0.9384, 1.0178, 0.9394,\n",
       "                      0.9092, 0.9243, 0.8104, 0.8773, 0.7970, 0.7794, 0.9720, 0.9103, 0.9682,\n",
       "                      1.1076, 1.1117, 0.9929, 0.9953, 1.0610, 0.9155, 0.9738, 1.0134, 0.9897,\n",
       "                      1.0011, 1.0603, 0.9672, 1.0234, 0.9409, 0.9246, 0.9248, 0.9884, 1.0362,\n",
       "                      0.9759, 0.9548, 0.9376, 1.0117, 0.9085, 0.9703, 0.8935, 0.9557, 0.9723,\n",
       "                      0.9513, 0.9803, 0.9632, 0.9592, 0.9847, 0.9252, 0.9785, 0.9859, 0.9258,\n",
       "                      0.8540, 0.9891, 0.9294, 0.9797, 1.0311, 1.0143, 1.0047, 1.0819, 1.0090,\n",
       "                      0.9436, 0.9867, 0.9822, 1.0191, 0.9985, 0.9906, 0.9642, 1.0300])),\n",
       "             ('model.decoder.layers.0.norm2.norm.bias',\n",
       "              tensor([ 0.0336,  0.0037, -0.0801,  0.0066,  0.0416,  0.0699,  0.0231, -0.0183,\n",
       "                       0.0510, -0.0018, -0.0045,  0.0191,  0.0474, -0.0125, -0.0380,  0.0782,\n",
       "                       0.0102,  0.0088, -0.1017,  0.0414, -0.0502,  0.0116,  0.0313, -0.0382,\n",
       "                       0.0418,  0.0025, -0.0102,  0.0595, -0.0135,  0.0655,  0.0610,  0.0891,\n",
       "                       0.0045, -0.0038, -0.0090,  0.0176,  0.0235,  0.0761, -0.1116,  0.0499,\n",
       "                      -0.0164, -0.0162, -0.0949,  0.0625,  0.0472,  0.0235,  0.0210, -0.0422,\n",
       "                       0.0015,  0.1017,  0.0223, -0.0310,  0.0584, -0.1032, -0.0339,  0.0745,\n",
       "                       0.0682,  0.0003, -0.0160, -0.0131, -0.0316,  0.0411,  0.0447,  0.0175,\n",
       "                       0.0503, -0.0175,  0.0335,  0.0431,  0.0155, -0.0377, -0.0975, -0.0236,\n",
       "                       0.0235,  0.0256, -0.0249,  0.0191,  0.0294, -0.0494,  0.0136, -0.0453])),\n",
       "             ('model.decoder.layers.0.norm2.norm.running_mean',\n",
       "              tensor([-2.4282e-01, -6.7638e-01, -7.9415e-01, -1.7436e+00, -1.2387e-01,\n",
       "                      -6.1104e-01, -4.1417e-01,  1.3391e-01, -1.4222e-01,  9.9314e-02,\n",
       "                       1.2562e+00, -1.8742e-01, -1.9874e-01, -8.9686e-02,  3.4220e-01,\n",
       "                      -4.5643e-01, -4.3522e-01, -9.4718e-02,  1.1917e+00, -9.0477e-01,\n",
       "                       3.9191e-02,  4.3865e-01, -5.9159e-01,  2.9769e-01,  1.3134e+00,\n",
       "                      -1.6655e-01, -7.4859e-01,  1.3655e-01,  9.9255e-01,  1.0510e-01,\n",
       "                      -4.2939e-02,  5.5196e-01, -9.6023e-02,  7.9047e-01, -2.4401e-02,\n",
       "                       2.1313e+00,  3.0989e-01,  1.1867e+00, -4.7891e-01,  1.0664e+00,\n",
       "                      -8.6849e-02, -4.9287e-01, -2.8969e-01,  3.3059e-01, -5.0802e-01,\n",
       "                       4.8391e-02, -1.8678e-01, -4.7582e-02, -4.3927e-01,  7.8553e-01,\n",
       "                      -8.2578e-01, -3.1746e-01,  4.6928e-01, -4.3456e-01, -1.7047e+00,\n",
       "                      -5.6951e-01,  1.2765e-01, -3.9457e-01,  6.1967e-01,  4.6442e-02,\n",
       "                       4.5061e+02, -9.9223e-01,  1.3790e+00, -5.2825e-01,  4.9651e+00,\n",
       "                       2.3743e-01,  1.5245e+00,  3.9525e-01,  1.6198e+01,  6.8131e-01,\n",
       "                       2.6083e-02,  9.9892e-02,  2.8183e+00, -3.6530e-01, -3.0019e-02,\n",
       "                       1.9681e-01,  1.6788e+01, -1.8670e-01, -1.8991e-01,  3.0935e-02])),\n",
       "             ('model.decoder.layers.0.norm2.norm.running_var',\n",
       "              tensor([2.7621e-01, 4.0147e-01, 2.2057e-01, 2.4431e+00, 2.7706e-01, 1.9988e-01,\n",
       "                      1.2421e+00, 1.1495e+00, 5.6621e-01, 1.0912e+00, 7.4546e-01, 6.2048e-01,\n",
       "                      9.4189e-01, 6.8440e-01, 1.4101e+00, 9.6114e-01, 6.4585e-01, 1.4111e-01,\n",
       "                      2.8806e-01, 1.8347e-01, 6.2451e-01, 1.3570e+00, 1.1853e+00, 1.3936e+00,\n",
       "                      2.4585e+00, 6.3356e-01, 1.0676e+00, 7.5209e-01, 1.6451e+00, 8.3111e-01,\n",
       "                      1.0074e+00, 3.7046e-01, 8.6258e-01, 4.9219e-01, 1.3749e-01, 1.6329e+00,\n",
       "                      2.5169e-01, 1.3965e-01, 2.8197e-01, 2.5029e-01, 1.1790e-01, 1.1816e+00,\n",
       "                      3.7520e-01, 1.1960e-01, 2.1691e-01, 1.2922e-01, 1.7565e-01, 1.1900e-01,\n",
       "                      2.6334e-01, 3.8867e-01, 1.3708e-01, 3.8330e-01, 1.5202e-01, 7.9510e-01,\n",
       "                      9.1438e-01, 1.2171e-01, 3.3780e-01, 3.3847e-01, 3.0336e-01, 4.7922e-01,\n",
       "                      1.6163e+04, 3.9847e-01, 1.4622e+00, 1.8279e-01, 6.6157e+00, 4.8393e-01,\n",
       "                      1.5792e+00, 3.0395e+00, 1.0188e+02, 5.8628e-01, 8.4494e-01, 4.4141e-01,\n",
       "                      1.5396e+00, 7.8004e-01, 9.2709e-01, 6.8868e-01, 1.1121e+02, 4.0680e-01,\n",
       "                      5.5128e-01, 7.5391e-01])),\n",
       "             ('model.decoder.layers.0.norm2.norm.num_batches_tracked',\n",
       "              tensor(4000)),\n",
       "             ('model.decoder.layers.0.norm3.norm.weight',\n",
       "              tensor([0.9569, 1.0598, 0.9735, 0.9468, 0.9931, 0.9247, 1.0358, 0.9839, 0.9780,\n",
       "                      0.9941, 0.9766, 1.0358, 0.9840, 1.0225, 1.0256, 0.9795, 1.0597, 1.0336,\n",
       "                      0.9802, 1.0641, 0.9281, 0.9932, 0.6378, 0.8924, 0.9889, 0.9572, 1.0314,\n",
       "                      0.9959, 0.9827, 0.8984, 0.9717, 0.9502, 0.9969, 1.0349, 1.0355, 1.0239,\n",
       "                      1.0363, 1.0448, 1.0210, 0.9864, 1.1044, 0.9153, 1.0404, 1.0238, 1.0237,\n",
       "                      0.8868, 1.0708, 0.9829, 0.9797, 0.9677, 1.0535, 1.0374, 0.9368, 1.0211,\n",
       "                      0.9975, 1.0342, 1.0263, 1.0375, 1.0243, 1.0172, 0.8687, 1.0764, 0.9844,\n",
       "                      1.0274, 1.0283, 1.0989, 1.0378, 1.0176, 1.0575, 1.0400, 0.9805, 0.9810,\n",
       "                      1.0186, 1.1227, 1.0666, 1.1146, 1.0318, 0.8518, 1.0837, 1.0223])),\n",
       "             ('model.decoder.layers.0.norm3.norm.bias',\n",
       "              tensor([ 9.3568e-02, -6.5589e-02, -5.7786e-02, -5.1039e-02, -4.4638e-02,\n",
       "                       4.0775e-03, -2.4975e-02, -2.9975e-02,  9.5307e-02,  6.1736e-02,\n",
       "                       6.8844e-02,  6.2090e-02, -5.1964e-02,  8.6837e-02,  1.9909e-02,\n",
       "                      -6.1400e-02, -2.1189e-03,  8.1734e-03, -5.3284e-02, -1.5486e-01,\n",
       "                       1.3815e-01, -8.2206e-02,  1.0377e-01, -1.0842e-01,  1.2166e-01,\n",
       "                       7.8075e-02, -6.3437e-02,  7.8599e-02,  1.2328e-01, -8.5273e-03,\n",
       "                       1.2544e-02, -5.6788e-03, -6.0919e-05, -9.7008e-02,  8.0055e-02,\n",
       "                       8.5291e-02, -3.5423e-02,  1.0797e-01, -8.2103e-02,  4.2673e-03,\n",
       "                       4.1947e-02,  6.4006e-02, -8.2453e-02, -3.4818e-02,  1.5707e-02,\n",
       "                       6.8191e-03,  1.1976e-01,  8.0776e-02, -2.6054e-03, -5.5834e-02,\n",
       "                      -1.4798e-02, -8.8096e-02,  8.7105e-02, -7.0431e-02, -4.5602e-02,\n",
       "                       3.1750e-02,  1.5448e-03,  8.7874e-02,  8.2435e-04,  1.2613e-02,\n",
       "                      -1.1696e-02, -9.5430e-02,  3.2236e-02, -4.6553e-03, -5.9412e-02,\n",
       "                       6.5682e-02,  7.6442e-02,  1.3338e-01,  3.9392e-02, -1.8354e-02,\n",
       "                       1.0812e-01, -1.0657e-01,  1.0348e-01, -3.5559e-02,  4.8262e-02,\n",
       "                       1.0254e-01,  2.3051e-02,  1.1776e-01, -7.7797e-02, -5.1797e-02])),\n",
       "             ('model.decoder.layers.0.norm3.norm.running_mean',\n",
       "              tensor([-3.3889e-02, -2.5342e-01, -9.9047e-01, -1.6282e+00, -1.4346e-01,\n",
       "                      -9.1870e-01, -6.6454e-01,  4.3840e-03, -1.5696e-01,  3.0497e-01,\n",
       "                       8.2695e-01, -2.7232e-01, -4.0453e-01, -2.8997e-01,  6.6539e-01,\n",
       "                      -3.9771e-01,  2.1975e-02, -2.0793e-01,  1.7013e+00, -9.7296e-01,\n",
       "                       1.0206e-01,  6.6624e-01, -1.1012e+00,  1.6531e-01,  1.0051e+00,\n",
       "                      -6.6244e-03, -9.5895e-01, -3.8211e-02,  1.0729e+00,  2.6392e-01,\n",
       "                      -1.2133e-01,  7.1184e-01, -3.2332e-01,  4.4394e-01,  2.8089e-01,\n",
       "                       2.1081e+00,  6.1148e-01,  1.1334e+00, -2.2673e-01,  1.8317e+00,\n",
       "                       1.9946e-01, -2.8063e-01, -1.1793e-01,  1.5936e-01, -7.5091e-01,\n",
       "                      -2.9630e-01,  7.6305e-02,  3.0141e-01, -5.6315e-01,  8.7505e-01,\n",
       "                      -1.3157e+00, -6.1397e-01,  5.4984e-01, -9.1487e-01, -1.6124e+00,\n",
       "                      -3.6056e-01,  4.1453e-01, -1.2350e-01,  4.3572e-01,  2.9799e-02,\n",
       "                       4.5058e+02, -1.4526e+00,  1.4481e+00, -8.8203e-01,  5.0413e+00,\n",
       "                       1.0572e-01,  2.0433e+00,  8.5584e-01,  1.6377e+01,  8.3788e-01,\n",
       "                      -1.8233e-02,  2.7509e-01,  2.3882e+00, -6.5850e-01,  8.6981e-02,\n",
       "                       3.1683e-01,  1.6815e+01,  1.4826e-01, -1.1392e-01, -1.2515e-01])),\n",
       "             ('model.decoder.layers.0.norm3.norm.running_var',\n",
       "              tensor([8.3012e-01, 1.5192e+00, 7.9197e-01, 2.6638e+00, 7.0239e-01, 6.0791e-01,\n",
       "                      1.8050e+00, 1.8271e+00, 1.2465e+00, 1.4884e+00, 1.3359e+00, 9.7559e-01,\n",
       "                      1.1256e+00, 2.7170e+00, 2.3045e+00, 1.0947e+00, 1.4838e+00, 2.6125e+00,\n",
       "                      6.9217e-01, 1.0075e+00, 1.5115e+00, 4.1424e+00, 1.4215e+00, 1.0753e+01,\n",
       "                      3.4812e+00, 3.0820e+00, 3.2457e+00, 1.2242e+00, 2.3207e+00, 1.2368e+00,\n",
       "                      1.3886e+00, 4.2894e-01, 2.7910e+00, 3.6377e+00, 1.5783e+00, 2.3420e+00,\n",
       "                      4.3043e+00, 1.8232e+00, 3.7135e+00, 6.1283e-01, 8.0836e-01, 2.3343e+00,\n",
       "                      1.3596e+00, 4.8249e-01, 5.4025e-01, 7.0994e-01, 3.2485e+00, 9.5840e-01,\n",
       "                      4.2540e-01, 6.9179e-01, 1.9539e+00, 1.0497e+00, 3.9749e-01, 1.2003e+00,\n",
       "                      1.2894e+00, 6.4029e-01, 1.2536e+00, 1.4851e+00, 1.0582e+00, 9.4938e-01,\n",
       "                      1.6165e+04, 2.1250e+00, 4.3958e+00, 3.2213e+00, 8.4775e+00, 1.5295e+00,\n",
       "                      2.5559e+00, 3.5847e+00, 1.0262e+02, 1.6588e+00, 1.1800e+00, 2.1323e+00,\n",
       "                      1.6405e+00, 1.1411e+00, 1.1002e+00, 1.5416e+00, 1.1068e+02, 8.0438e-01,\n",
       "                      1.9900e+00, 9.3435e-01])),\n",
       "             ('model.decoder.layers.0.norm3.norm.num_batches_tracked',\n",
       "              tensor(4000)),\n",
       "             ('model.decoder.layers.0.conv1.weight',\n",
       "              tensor([[[ 0.0116],\n",
       "                       [-0.1044],\n",
       "                       [ 0.0994],\n",
       "                       ...,\n",
       "                       [ 0.0313],\n",
       "                       [ 0.0379],\n",
       "                       [-0.0081]],\n",
       "              \n",
       "                      [[-0.0055],\n",
       "                       [-0.0396],\n",
       "                       [ 0.1039],\n",
       "                       ...,\n",
       "                       [ 0.0055],\n",
       "                       [-0.1071],\n",
       "                       [-0.0822]],\n",
       "              \n",
       "                      [[ 0.0788],\n",
       "                       [-0.0989],\n",
       "                       [-0.0508],\n",
       "                       ...,\n",
       "                       [ 0.0645],\n",
       "                       [ 0.0499],\n",
       "                       [ 0.0957]],\n",
       "              \n",
       "                      ...,\n",
       "              \n",
       "                      [[-0.0406],\n",
       "                       [-0.1009],\n",
       "                       [ 0.0182],\n",
       "                       ...,\n",
       "                       [-0.0451],\n",
       "                       [-0.0527],\n",
       "                       [ 0.1105]],\n",
       "              \n",
       "                      [[ 0.0332],\n",
       "                       [-0.0984],\n",
       "                       [-0.0403],\n",
       "                       ...,\n",
       "                       [-0.0650],\n",
       "                       [-0.1011],\n",
       "                       [ 0.0619]],\n",
       "              \n",
       "                      [[-0.0850],\n",
       "                       [ 0.0413],\n",
       "                       [-0.0478],\n",
       "                       ...,\n",
       "                       [ 0.0862],\n",
       "                       [ 0.0007],\n",
       "                       [-0.0705]]])),\n",
       "             ('model.decoder.layers.0.conv1.bias',\n",
       "              tensor([-0.0658, -0.0458, -0.0642, -0.0029, -0.0310,  0.0501, -0.0122, -0.0411,\n",
       "                       0.0371,  0.0881, -0.0176, -0.1053, -0.0392, -0.0265,  0.0537,  0.0867,\n",
       "                      -0.1006, -0.0933,  0.1095, -0.0919])),\n",
       "             ('model.decoder.layers.0.conv2.weight',\n",
       "              tensor([[[-0.0030],\n",
       "                       [-0.0645],\n",
       "                       [ 0.0260],\n",
       "                       ...,\n",
       "                       [-0.1014],\n",
       "                       [ 0.0016],\n",
       "                       [ 0.0132]],\n",
       "              \n",
       "                      [[-0.0231],\n",
       "                       [-0.0253],\n",
       "                       [-0.1952],\n",
       "                       ...,\n",
       "                       [-0.1541],\n",
       "                       [-0.0455],\n",
       "                       [-0.0625]],\n",
       "              \n",
       "                      [[-0.1535],\n",
       "                       [ 0.1056],\n",
       "                       [ 0.1220],\n",
       "                       ...,\n",
       "                       [-0.2212],\n",
       "                       [ 0.0683],\n",
       "                       [-0.1490]],\n",
       "              \n",
       "                      ...,\n",
       "              \n",
       "                      [[-0.0856],\n",
       "                       [-0.1524],\n",
       "                       [ 0.0702],\n",
       "                       ...,\n",
       "                       [-0.1646],\n",
       "                       [ 0.2112],\n",
       "                       [-0.0683]],\n",
       "              \n",
       "                      [[-0.1462],\n",
       "                       [-0.1511],\n",
       "                       [ 0.0651],\n",
       "                       ...,\n",
       "                       [ 0.0601],\n",
       "                       [ 0.1731],\n",
       "                       [-0.0788]],\n",
       "              \n",
       "                      [[ 0.2186],\n",
       "                       [-0.0166],\n",
       "                       [ 0.1800],\n",
       "                       ...,\n",
       "                       [ 0.1570],\n",
       "                       [-0.0989],\n",
       "                       [-0.1839]]])),\n",
       "             ('model.decoder.layers.0.conv2.bias',\n",
       "              tensor([ 0.1053, -0.1216, -0.0916,  0.0820, -0.1977, -0.0307, -0.0151,  0.0625,\n",
       "                       0.0933, -0.1327,  0.1885,  0.0268, -0.0784,  0.1707,  0.2224, -0.0369,\n",
       "                       0.0456, -0.0311,  0.1310,  0.1666, -0.0543,  0.1768,  0.0409,  0.0055,\n",
       "                      -0.0073, -0.1035, -0.0628,  0.1547, -0.1023,  0.0462,  0.1850, -0.0040,\n",
       "                       0.0468,  0.0477,  0.1135, -0.1810,  0.1420, -0.2097,  0.0126,  0.1545,\n",
       "                       0.1030, -0.1292, -0.0295, -0.1698, -0.0527,  0.1512,  0.2199,  0.0477,\n",
       "                       0.1898,  0.0500,  0.0625,  0.1950, -0.0042, -0.1703, -0.0802,  0.1124,\n",
       "                       0.0962,  0.2185, -0.0193,  0.1342, -0.1289, -0.0293, -0.0402,  0.1480,\n",
       "                      -0.0112, -0.1972, -0.2057, -0.0139, -0.1775,  0.1058,  0.1079, -0.0325,\n",
       "                       0.1311,  0.2078,  0.1894, -0.0129,  0.0825, -0.1135,  0.1565,  0.2140])),\n",
       "             ('model.decoder.layers.0.linear1.weight',\n",
       "              tensor([[ 0.0467, -0.0833, -0.0556,  ..., -0.0850,  0.0593, -0.0423],\n",
       "                      [-0.0017, -0.0868, -0.0361,  ...,  0.0145, -0.1454,  0.0701],\n",
       "                      [-0.1078, -0.0894,  0.0185,  ..., -0.0776,  0.0099,  0.0286],\n",
       "                      ...,\n",
       "                      [ 0.0800,  0.1282,  0.0457,  ...,  0.1081,  0.0516,  0.0292],\n",
       "                      [-0.0110,  0.0772,  0.0123,  ...,  0.0256,  0.0940, -0.0692],\n",
       "                      [-0.0181, -0.1267, -0.0139,  ...,  0.0013, -0.1146, -0.0571]])),\n",
       "             ('model.decoder.layers.0.linear1.bias',\n",
       "              tensor([-0.0065,  0.0720, -0.1009,  0.0153,  0.0160, -0.0476, -0.0972,  0.0641,\n",
       "                       0.1143, -0.0500,  0.0752,  0.0023, -0.0617, -0.0840,  0.0602,  0.0305,\n",
       "                      -0.0778,  0.0014, -0.1564,  0.1759])),\n",
       "             ('model.decoder.layers.0.linear2.weight',\n",
       "              tensor([[ 0.1319,  0.1311, -0.0188,  ...,  0.0492,  0.2391,  0.0076],\n",
       "                      [-0.2490,  0.1954,  0.0010,  ...,  0.1598, -0.2019,  0.0442],\n",
       "                      [ 0.1351, -0.1484,  0.0792,  ..., -0.1812, -0.0593,  0.2375],\n",
       "                      ...,\n",
       "                      [-0.2240, -0.1870,  0.0091,  ...,  0.1800,  0.1020,  0.0059],\n",
       "                      [ 0.1273,  0.1048, -0.0398,  ..., -0.1299, -0.0227,  0.1226],\n",
       "                      [ 0.1075, -0.1350, -0.2469,  ...,  0.1725,  0.0048, -0.2698]])),\n",
       "             ('model.decoder.layers.0.linear2.bias',\n",
       "              tensor([-0.2036,  0.2018,  0.2039,  0.1348, -0.1699,  0.1073,  0.2023, -0.1778,\n",
       "                       0.0148, -0.1614, -0.0236, -0.0112,  0.2186, -0.1258,  0.1885,  0.0058,\n",
       "                       0.0992, -0.0608,  0.1129,  0.0271, -0.0766, -0.1689,  0.0389,  0.1421,\n",
       "                      -0.1565,  0.1143,  0.1341,  0.1880,  0.0855, -0.1504,  0.0794, -0.1156,\n",
       "                      -0.1390, -0.1676,  0.0083,  0.1109, -0.1696,  0.1747, -0.1424,  0.1359,\n",
       "                      -0.1194, -0.1314, -0.1657, -0.1781,  0.2026,  0.1914, -0.1674,  0.1556,\n",
       "                      -0.0284,  0.2156, -0.1305,  0.0178, -0.1034, -0.0465,  0.1639, -0.1721,\n",
       "                       0.1148, -0.1543,  0.1040,  0.0687,  0.0012,  0.0650, -0.1667, -0.0632,\n",
       "                      -0.0493,  0.0433,  0.1953,  0.1904, -0.1189,  0.0085, -0.0323, -0.0727,\n",
       "                       0.0012, -0.0710,  0.1102,  0.0314,  0.1523,  0.0679, -0.0966,  0.0228])),\n",
       "             ('model.decoder.norm_layer.norm.weight',\n",
       "              tensor([0.3074, 0.9588, 0.7458, 0.9212, 0.8762, 0.7409, 0.9073, 0.9207, 0.9056,\n",
       "                      0.3761, 0.8364, 0.9260, 0.8709, 0.9197, 0.9516, 0.8985, 0.9134, 0.9336,\n",
       "                      0.8948, 0.9302, 0.8781, 0.9020, 0.7518, 0.8934, 0.9373, 0.9034, 0.9350,\n",
       "                      0.9392, 0.8944, 0.8818, 0.8194, 0.8321, 0.9482, 0.9191, 0.9450, 0.9420,\n",
       "                      0.9405, 0.9125, 0.9338, 0.8276, 0.9303, 0.9440, 0.9250, 0.9510, 0.9326,\n",
       "                      0.6259, 0.9127, 0.5495, 0.7595, 0.4460, 0.9162, 0.9291, 0.7705, 0.9540,\n",
       "                      0.9114, 0.9292, 0.9111, 0.9494, 0.9284, 0.9006, 0.8787, 0.9440, 0.9341,\n",
       "                      0.9198, 0.9338, 0.9386, 0.9418, 0.9417, 0.9314, 0.8832, 0.8882, 0.9417,\n",
       "                      0.8449, 0.3635, 0.9027, 0.9456, 0.8560, 0.7116, 0.9120, 0.6486])),\n",
       "             ('model.decoder.norm_layer.norm.bias',\n",
       "              tensor([ 0.0013,  0.1050,  0.0437,  0.0907,  0.0703, -0.0100,  0.0988, -0.0935,\n",
       "                      -0.0893, -0.0028, -0.0761, -0.1007,  0.0740,  0.1013,  0.1046, -0.0822,\n",
       "                       0.0985,  0.1027,  0.0875,  0.1033, -0.0810,  0.0972,  0.0366,  0.0970,\n",
       "                      -0.1028, -0.0987,  0.1028, -0.1021, -0.0905,  0.0714, -0.0646, -0.0598,\n",
       "                       0.1023,  0.1028, -0.1043, -0.1036,  0.1043, -0.1008,  0.1021, -0.0488,\n",
       "                      -0.1020,  0.1037,  0.1026,  0.1039,  0.0992, -0.0080, -0.1006, -0.0061,\n",
       "                       0.0412,  0.0010, -0.0965, -0.0989, -0.0317,  0.1033,  0.0915, -0.0989,\n",
       "                       0.0971, -0.1053, -0.1000,  0.0878, -0.0809,  0.1042, -0.1033, -0.1004,\n",
       "                      -0.1023, -0.1042, -0.1012, -0.1033,  0.1001, -0.0975, -0.0758, -0.1039,\n",
       "                      -0.0665, -0.0009, -0.0945, -0.1036, -0.0900,  0.0306,  0.1009, -0.0276])),\n",
       "             ('model.decoder.norm_layer.norm.running_mean',\n",
       "              tensor([-3.5856e-01,  1.5078e-01, -1.3935e+00, -1.9962e+00,  4.1300e-02,\n",
       "                      -9.1837e-01,  7.6746e-03, -1.9561e-02,  2.3384e-02, -1.3679e-01,\n",
       "                       2.8187e-01, -2.9839e-01, -8.1288e-01, -5.3729e-01,  9.9066e-01,\n",
       "                      -6.5238e-01,  5.7680e-01, -3.8897e-01,  2.2811e+00,  6.2921e-02,\n",
       "                      -4.6073e-01,  2.3432e-01, -1.1420e+00,  6.5840e-01,  1.0726e+00,\n",
       "                       6.7820e-02, -7.9148e-01, -2.9520e-01,  1.5672e+00,  5.3460e-01,\n",
       "                      -2.1702e-01,  1.0351e+00,  1.6192e-01,  1.0831e+00, -1.8726e-01,\n",
       "                       2.1259e+00, -1.2179e-01,  5.2252e-01,  1.3178e-01,  1.8910e+00,\n",
       "                       1.1086e-01, -1.2341e-01,  4.7105e-02,  1.2888e-01, -6.8048e-01,\n",
       "                       4.7344e-01,  1.0524e-01,  4.6683e-02, -4.4433e-01,  8.0502e-01,\n",
       "                      -1.1494e+00, -7.7808e-01,  4.1321e-01, -7.3552e-01, -1.1320e+00,\n",
       "                      -1.1163e+00,  3.1998e-01,  2.2872e-01,  7.2656e-01, -3.9771e-01,\n",
       "                       4.5072e+02, -1.9669e+00,  1.8143e+00, -4.1047e-01,  4.8687e+00,\n",
       "                       5.5299e-01,  2.4717e+00,  1.2557e+00,  1.6535e+01,  1.1609e+00,\n",
       "                       9.7070e-02, -3.2504e-01,  2.2094e+00, -7.5102e-01,  1.5121e-01,\n",
       "                       1.5906e-01,  1.6709e+01,  6.4703e-01,  1.4430e-01, -3.6031e-01])),\n",
       "             ('model.decoder.norm_layer.norm.running_var',\n",
       "              tensor([1.0474e+00, 5.4803e+00, 1.0576e+00, 3.5380e+00, 7.6523e-01, 6.0923e-01,\n",
       "                      2.3058e+00, 2.1108e+00, 1.3351e+00, 1.3390e+00, 1.2063e+00, 2.2962e+00,\n",
       "                      1.4595e+00, 3.4087e+00, 6.6416e+00, 1.3657e+00, 2.4567e+00, 3.6799e+00,\n",
       "                      1.1798e+00, 3.8275e+00, 1.7319e+00, 3.5631e+00, 1.1968e+00, 1.4490e+01,\n",
       "                      5.1666e+00, 4.0714e+00, 8.0509e+00, 3.3960e+00, 2.1961e+00, 1.1846e+00,\n",
       "                      1.5963e+00, 6.0217e-01, 4.1800e+00, 5.0716e+00, 4.5252e+00, 4.9155e+00,\n",
       "                      8.2324e+00, 2.7697e+00, 6.6941e+00, 6.1821e-01, 2.1895e+00, 5.5282e+00,\n",
       "                      3.4296e+00, 2.3365e+00, 1.7419e+00, 9.9307e-01, 3.1395e+00, 6.1284e-01,\n",
       "                      3.9983e-01, 7.6628e-01, 1.8913e+00, 2.4251e+00, 3.3688e-01, 2.4467e+00,\n",
       "                      1.3712e+00, 1.5243e+00, 1.8983e+00, 8.2589e+00, 3.1583e+00, 1.2920e+00,\n",
       "                      1.6167e+04, 7.3327e+00, 1.0408e+01, 5.7963e+00, 7.8700e+00, 3.8920e+00,\n",
       "                      3.1998e+00, 3.7854e+00, 1.0360e+02, 1.9917e+00, 1.3481e+00, 6.2396e+00,\n",
       "                      1.4391e+00, 1.1357e+00, 1.6022e+00, 3.9428e+00, 1.1157e+02, 1.2445e+00,\n",
       "                      2.4640e+00, 1.3208e+00])),\n",
       "             ('model.decoder.norm_layer.norm.num_batches_tracked',\n",
       "              tensor(4000)),\n",
       "             ('model.forecaster.weight',\n",
       "              tensor([[ 0.0002,  0.0666,  0.0008,  0.0092,  0.0042, -0.0008,  0.0264, -0.0130,\n",
       "                       -0.0073, -0.0004, -0.0053, -0.0263,  0.0032,  0.0310,  0.0699, -0.0039,\n",
       "                        0.0268,  0.0399,  0.0088,  0.0524, -0.0046,  0.0204,  0.0005,  0.0108,\n",
       "                       -0.0372, -0.0237,  0.0483, -0.0337, -0.0134,  0.0018, -0.0019, -0.0017,\n",
       "                        0.0303,  0.0529, -0.0585, -0.0593,  0.0684, -0.0363,  0.0407, -0.0006,\n",
       "                       -0.0397,  0.0584,  0.0469,  0.0298,  0.0238,  0.0007, -0.0313, -0.0005,\n",
       "                        0.0020, -0.0002, -0.0144, -0.0164, -0.0010,  0.0338,  0.0104, -0.0138,\n",
       "                        0.0161, -0.0799, -0.0241,  0.0068, -0.0034,  0.0665, -0.0592, -0.0293,\n",
       "                       -0.0444, -0.0706, -0.0286, -0.0544,  0.0401, -0.0198, -0.0047, -0.0560,\n",
       "                       -0.0036, -0.0004, -0.0146, -0.0499, -0.0143,  0.0009,  0.0408, -0.0031]])),\n",
       "             ('model.forecaster.bias', tensor([-0.0036])),\n",
       "             ('model.reconstructor.weight',\n",
       "              tensor([[ 0.0607, -0.0752, -0.1035, -0.0332, -0.0315, -0.0436,  0.1030,  0.0836,\n",
       "                       -0.1060, -0.0717,  0.0267,  0.0428, -0.0794, -0.0132, -0.0526,  0.0074,\n",
       "                       -0.0942, -0.0665,  0.0624, -0.0872, -0.0293, -0.0974, -0.0172,  0.0221,\n",
       "                       -0.0718, -0.0023, -0.1012, -0.0329,  0.1028,  0.0435,  0.1061,  0.1058,\n",
       "                       -0.0874, -0.0586,  0.0652, -0.0225, -0.0827, -0.0485, -0.0369,  0.0976,\n",
       "                       -0.0887, -0.0353, -0.0437,  0.1117, -0.0163,  0.0020,  0.0656, -0.0887,\n",
       "                        0.0537, -0.1082,  0.0276,  0.0303,  0.0858, -0.1063,  0.0808, -0.0679,\n",
       "                        0.0818,  0.1026, -0.0594,  0.0015, -0.0317, -0.1037,  0.0443,  0.1013,\n",
       "                        0.0942,  0.0733, -0.0602,  0.0112,  0.0814, -0.0141, -0.0762,  0.0208,\n",
       "                        0.0481,  0.0884,  0.0991, -0.0188,  0.0642, -0.0833,  0.0157,  0.0829]])),\n",
       "             ('model.reconstructor.bias', tensor([0.0030]))])"
      ]
     },
     "execution_count": 7,
     "metadata": {},
     "output_type": "execute_result"
    }
   ],
   "source": [
    "ckpt_dict[999]"
   ]
  },
  {
   "cell_type": "code",
   "execution_count": 9,
   "id": "1c423b48",
   "metadata": {},
   "outputs": [],
   "source": [
    "var_list = []\n",
    "n_pca_comps = 3\n",
    "\n",
    "full_dict = {}\n",
    "for key in key_list:\n",
    "    key_dict = {}\n",
    "    \n",
    "    for k in ckpt_dict.keys():\n",
    "        epoch_dict = {}\n",
    "        embeddings = ckpt_dict[k][key]\n",
    "        pca = PCA(n_components=n_pca_comps)\n",
    "        pcs = pca.fit_transform(embeddings)\n",
    "        epoch_dict[\"explained_var\"] = pca.explained_variance_ratio_\n",
    "        epoch_dict[\"components\"] = pcs\n",
    "        key_dict[int(k)] = epoch_dict\n",
    "    \n",
    "    full_dict[key] = key_dict\n",
    "\n",
    "pcs_var = full_dict[key_list[0]][999][\"components\"]\n",
    "\n",
    "pcs_pos = full_dict[key_list[1]][999][\"components\"]\n"
   ]
  },
  {
   "cell_type": "code",
   "execution_count": 10,
   "id": "bcaf06a2",
   "metadata": {},
   "outputs": [
    {
     "ename": "NameError",
     "evalue": "name 'var_map' is not defined",
     "output_type": "error",
     "traceback": [
      "\u001b[1;31m---------------------------------------------------------------------------\u001b[0m",
      "\u001b[1;31mNameError\u001b[0m                                 Traceback (most recent call last)",
      "Cell \u001b[1;32mIn[10], line 2\u001b[0m\n\u001b[0;32m      1\u001b[0m df_var \u001b[38;5;241m=\u001b[39m pd\u001b[38;5;241m.\u001b[39mDataFrame(pcs_var, columns\u001b[38;5;241m=\u001b[39m[\u001b[38;5;124mf\u001b[39m\u001b[38;5;124m\"\u001b[39m\u001b[38;5;124mPC\u001b[39m\u001b[38;5;132;01m{\u001b[39;00mi\u001b[38;5;132;01m}\u001b[39;00m\u001b[38;5;124m\"\u001b[39m \u001b[38;5;28;01mfor\u001b[39;00m i \u001b[38;5;129;01min\u001b[39;00m \u001b[38;5;28mrange\u001b[39m(\u001b[38;5;241m1\u001b[39m, n_pca_comps \u001b[38;5;241m+\u001b[39m \u001b[38;5;241m1\u001b[39m)])\n\u001b[1;32m----> 2\u001b[0m df_var[\u001b[38;5;124m\"\u001b[39m\u001b[38;5;124mprocess\u001b[39m\u001b[38;5;124m\"\u001b[39m]\u001b[38;5;241m=\u001b[39mdf_var\u001b[38;5;241m.\u001b[39mindex\u001b[38;5;241m.\u001b[39mmap(var_map)\n\u001b[0;32m      4\u001b[0m df_var_init \u001b[38;5;241m=\u001b[39m pd\u001b[38;5;241m.\u001b[39mDataFrame(pcs_var_init, columns\u001b[38;5;241m=\u001b[39m[\u001b[38;5;124mf\u001b[39m\u001b[38;5;124m\"\u001b[39m\u001b[38;5;124mPC\u001b[39m\u001b[38;5;132;01m{\u001b[39;00mi\u001b[38;5;132;01m}\u001b[39;00m\u001b[38;5;124m\"\u001b[39m \u001b[38;5;28;01mfor\u001b[39;00m i \u001b[38;5;129;01min\u001b[39;00m \u001b[38;5;28mrange\u001b[39m(\u001b[38;5;241m1\u001b[39m, n_pca_comps \u001b[38;5;241m+\u001b[39m \u001b[38;5;241m1\u001b[39m)])\n\u001b[0;32m      5\u001b[0m df_var_init[\u001b[38;5;124m\"\u001b[39m\u001b[38;5;124mprocess\u001b[39m\u001b[38;5;124m\"\u001b[39m]\u001b[38;5;241m=\u001b[39mdf_var\u001b[38;5;241m.\u001b[39mindex\u001b[38;5;241m.\u001b[39mmap(var_map)\n",
      "\u001b[1;31mNameError\u001b[0m: name 'var_map' is not defined"
     ]
    }
   ],
   "source": [
    "df_var = pd.DataFrame(pcs_var, columns=[f\"PC{i}\" for i in range(1, n_pca_comps + 1)])\n",
    "df_var[\"process\"]=df_var.index.map(var_map)\n",
    "\n",
    "df_var_init = pd.DataFrame(pcs_var_init, columns=[f\"PC{i}\" for i in range(1, n_pca_comps + 1)])\n",
    "df_var_init[\"process\"]=df_var.index.map(var_map)\n",
    "\n",
    "df_var"
   ]
  },
  {
   "cell_type": "code",
   "execution_count": 11,
   "id": "9733a7bd",
   "metadata": {},
   "outputs": [
    {
     "ename": "NameError",
     "evalue": "name 'df_var_init' is not defined",
     "output_type": "error",
     "traceback": [
      "\u001b[1;31m---------------------------------------------------------------------------\u001b[0m",
      "\u001b[1;31mNameError\u001b[0m                                 Traceback (most recent call last)",
      "Cell \u001b[1;32mIn[11], line 1\u001b[0m\n\u001b[1;32m----> 1\u001b[0m df \u001b[38;5;241m=\u001b[39m df_var_init\n\u001b[0;32m      2\u001b[0m hue_label \u001b[38;5;241m=\u001b[39m \u001b[38;5;124m\"\u001b[39m\u001b[38;5;124mprocess\u001b[39m\u001b[38;5;124m\"\u001b[39m\n\u001b[0;32m      3\u001b[0m df[hue_label] \u001b[38;5;241m=\u001b[39m df[hue_label]\u001b[38;5;241m.\u001b[39mastype(\u001b[38;5;124m\"\u001b[39m\u001b[38;5;124mcategory\u001b[39m\u001b[38;5;124m\"\u001b[39m)\n",
      "\u001b[1;31mNameError\u001b[0m: name 'df_var_init' is not defined"
     ]
    }
   ],
   "source": [
    "df = df_var_init\n",
    "hue_label = \"process\"\n",
    "df[hue_label] = df[hue_label].astype(\"category\")\n",
    "fig = px.scatter_3d(df, x='PC1', y='PC2', z='PC3', color=hue_label)\n",
    "fig.show()\n"
   ]
  },
  {
   "cell_type": "code",
   "execution_count": 57,
   "id": "4c3bd422",
   "metadata": {},
   "outputs": [
    {
     "data": {
      "application/vnd.plotly.v1+json": {
       "config": {
        "plotlyServerURL": "https://plot.ly"
       },
       "data": [
        {
         "hovertemplate": "process=las<br>PC1=%{x}<br>PC2=%{y}<br>PC3=%{z}<extra></extra>",
         "legendgroup": "las",
         "marker": {
          "color": "#636efa",
          "symbol": "circle"
         },
         "mode": "markers",
         "name": "las",
         "scene": "scene",
         "showlegend": true,
         "type": "scatter3d",
         "x": {
          "bdata": "//z7+mv+pr/zbFi/mMjhP9d10MxXxeM/sBw/ZEbg4z9MB7ugF7HhPxsskHxLpeE/MgFnuu2k4z8VFcu8fybiPw==",
          "dtype": "f8"
         },
         "y": {
          "bdata": "KNmgDpEdpT9yp6Ed62nCv5IAeT1UO9e/iPQcV5Ix07+F/rTqqGzYv4fo9iYrGtm/R0q7cCP8078Fv4Amxknavw==",
          "dtype": "f8"
         },
         "z": {
          "bdata": "gS+Cuwrksj++Hb0P3t7FvxGfQLHvwqQ/ogP/XW+woT8PtDt9GCvAPwYGDomKgb8/wc9sqkdCwT8Ykg1Ui6DBPw==",
          "dtype": "f8"
         }
        },
        {
         "hovertemplate": "process=gal<br>PC1=%{x}<br>PC2=%{y}<br>PC3=%{z}<extra></extra>",
         "legendgroup": "gal",
         "marker": {
          "color": "#EF553B",
          "symbol": "circle"
         },
         "mode": "markers",
         "name": "gal",
         "scene": "scene",
         "showlegend": true,
         "type": "scatter3d",
         "x": {
          "bdata": "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",
          "dtype": "f8"
         },
         "y": {
          "bdata": "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",
          "dtype": "f8"
         },
         "z": {
          "bdata": "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",
          "dtype": "f8"
         }
        },
        {
         "hovertemplate": "process=mic<br>PC1=%{x}<br>PC2=%{y}<br>PC3=%{z}<extra></extra>",
         "legendgroup": "mic",
         "marker": {
          "color": "#00cc96",
          "symbol": "circle"
         },
         "mode": "markers",
         "name": "mic",
         "scene": "scene",
         "showlegend": true,
         "type": "scatter3d",
         "x": {
          "bdata": "4/HdFN8D6j8X36ukFszjv5W7xTXRteS/ladcCRBh4793h4+iQnjmvxgGpoO8Fum//EkzXPtp5r8SYscEGAXjv8uCNoHG+uO/+2KbMS2g4r+Fe0TWqTbivxzIo55h+dm/P0fXcL5H6b9rBzJjkRXavwKaLUkkFNm/tmAjZ0wO2b+o8WYGXFvhv/hqf6yWLdq/NWxIAIJv3L9aKVlPxUDZv6BbFI4OD+i/zKd81S0B27/hl6mT1svav0K0mfbMvdy/KRKOoPma57/giZq2Ljrlv8WT9xEA/OO/rY8CYcC+5r9sqmodnXbnv6pwN/eWVee/mmz03CmZ578+QPQ0Xnfnv/nnWOay/ui/gxVyqT6N5b8=",
          "dtype": "f8"
         },
         "y": {
          "bdata": "MDFdZjpVyD9CXq8CiR3Sv0z4qtMvXc6/Yscj/N8J0L9XLxwEGP/HPwbS8v0+jbK/PtaF75Chyj9TCOZhc0rRvy9so/Wqc8y/8L/7bV8T0r+mHvnrjTDUv4dlKgaCRta/hm/qu29/xD/+RiSwSuDav73OPczjUNi/HtCx9NJa2L8OLDdX9eTlP2D5iAXYc9i/VnlYLG7y1b9rLfaqjJ7Zv4G0ZAMNacQ/BIFEHGM52L+hDnBrudTXvxpiJ52b4di/Wcc7urX5xj+wxrSHlcrPv7PdnSls9NC/2BWTKs+Rx7/FJ2xN967HP03Ht42118k/4D8hPh6Sxj8hfruRyjXJP88hu+iEP8I/b1aHaaW4ur8=",
          "dtype": "f8"
         },
         "z": {
          "bdata": "rmzZYBaitb+wigGS3fzSv3KhnvKC2dG/rzb4unl+1L/Yon16vHPXP7G8YXfi5Y2/+LGduDkC2j9kptAVPprVv3J/YpfZZtO/ctodMSG20b9+bQISUL3Mvx7UJPGJgdO/cjZMgHuaxz+0Awl5TYPRv0iFNjK1eNG/xEDWFGZ50b+FzLfs34G6v6VqwGG+ldS/KW+FZEGW1L/uVyGqQcPTvy/dV1pSCNM/Yvv06PUn0b9yBmQDmTzRv2qrVIsWcdC/OzI3rAFw1z/gIwqoaVvIvzjl1oeTkMu/7LgSsycJx79TcNHdbBvWP+IHVSO4OdI/Pf1FZa8R1j85lKQV/3HUP9lZzM/808c/s99B3bjavz8=",
          "dtype": "f8"
         }
        },
        {
         "hovertemplate": "process=mul<br>PC1=%{x}<br>PC2=%{y}<br>PC3=%{z}<extra></extra>",
         "legendgroup": "mul",
         "marker": {
          "color": "#ab63fa",
          "symbol": "circle"
         },
         "mode": "markers",
         "name": "mul",
         "scene": "scene",
         "showlegend": true,
         "type": "scatter3d",
         "x": {
          "bdata": "BJszvNK13L9tYLAzwx2rv4qaQzDAtde/1TlaW+Ssvr9qe+fDAkblv7OJm/MhJ+K/kZ13A4T94b8v4twbwgriv2b495qsDOe/5dnuEnw+4b/68+mUgUnhv+zO2d25ZuG/VUkbLE7E4b+f4fTKIkHmv9mqqkO2MuK/tPkT7t0Y4L9Qon9v6CXiv/+GckLkIeK/0UtxnAks4b8NtXgB0/zYv/GOOAltveW/Q377Kr4c578uHvGH+gnYv1aX9RgqpWI/v2UJdrbyzr8Npf6cjVXbv2YNEBrGkui/eyxfIF2C57/JuYv2rgzov6j40EnJxue/A1Fox3vV5797zUQDMSDov8HlKl1ihui/TzDCt4Ae578dJMW8ZIbnv1Zqed8jtue/F4HTKSuE57/65xW7oeXNv3bUH4xrcsm/ZAmTF5/G2b8BOL9e6Uflv53tfoZKk+G/3cF4H6Qagz8wVIK34YXnvzbAd58RqOe/khF0P0s5zr9OpRsbPbLIv7OnkGMlqtu/S3QQxcll5b8JFaIEeknUv43oxpYYJ8q/4NAY9GP+1r/JoTXGfzjkv28VdNxkv1S/ohvFjkBcVb8o/aH7uO2rv8Hk+8BM7ee/2dXYIy2pyb8lg8flku/WvwQZt+vGH7+/x0P5EsOV47+jMXMM84urvxGtbIUt6I6/ciYkW+IFr7/Vne5ovfvnv67Q9slhqMa/wNc4ZHyJ1b/gGAhyPoC+v7CAl3rwEOO/OAvx85Ju3b8Vau8e6pHWv0G/8bgEy+W/kqD333V+6L9I2dX5s3HRv9e/M4QfVdG/PXYnH/8G47/3DLFkIH7gv33wmZUfXay/0VZEriZeRr8DLsQemGmpv8N0jiE/9ee/vWF700Q2w78iFiyx937Qv7iGkOvX9rO/EIxh42Uu5b8AY0SRn62pv1sx+kfVYmi/wKIokOJBq7/NYNpJcyXiv9qMpOYF77u/9Yj5t1+Iw799w21G7Xi6v1BE6hiMBua/ob/7ho7XxL8otkfCgEXUv5qVuhqWqb2/q3y4Zm8Z2L9XrgnB3EOov0BI55rudWG/GerBw9BfqL+lyXwRIwTov/wkUp0tyMW/wwZV1Uxi07+QTwl8UNDAv2BW4w+FGOW/oOyFJIoZq787GrVxS12Dv1TlwnbDcqm/sJyDMU/2578=",
          "dtype": "f8"
         },
         "y": {
          "bdata": "jx88w7Au1b8Ry48NmuzmvxCGQP9a8uS/AC6sKV5U6L+PIBhJ2I+SPzT13cGrWsw/Un7NxeUgzT9YhCdzHgHLP/4fZTLAZLQ/zY9PnirvyD97SDgYS77QP7hYZeinp84/dYqcip8L0L+3fiIkquGSP8+2mrnDCOM/JbARqq2A5D/DTt/7CUvjPzr/WSaTTOM/jTAu5RP7yr8AUxPwoY7Vv821m898YLK/COW2KNlurT9DgcFG58Dev6kvj8SVE+i/1LNDDp0K4r/H+2PH6RDdv9WZ379Wsbg/+k2/pA6+qL+J52YlZ62RP6vZ7hy37KI/Q8+DNlZTsz99cPepeZWRP9z3NRCS2YE/U6+YI9h3kL8h36f+EOS9P812lN7GdLM/k2kPE9rbtz9SelaQ0Hblv7A+i/C2xuS/jCAsU3iu279kvqr8DZGKPxn6Lr2sAdC/kjBOXnIH6L+flCLUajC6Pzi3qMFdMbc/QUNv1e/+5b9VorhLwNLkv9WGuUVqhte/igPUdeSoij/9E2DXdRDkv36zxmSIaua/zvGLqSlU4r/DiIVLGNyyP8WMRpU22ue/PnBL8Doz5r+IX35dyD3ovxk0Nfu9j7I/97+HIW2Y578BSn2VEV/jv+mwRNAz4ue/fw0rKrRNoT8G9aUln0novyNzuTEG1uW/0nI+6ycj6L9yo5YheCKzP3jGN8PPLei/RlPv/wbl5L85lu2rRkrovxXi1L4taZs/UeG1FeBE2r9BKicGAcPVvy9TMulJhK+/IuXiSzM1oT8HVNMe86Llv7rZt42kduO/NTaPZAFh1b/dDMZQTTPYvxsrfEGlTOi/PpIcPctO5r/7tQpaa1nov03eedXNo7I/3Z0VQD6U6L96JdHbz5Lkv+QIMBSGZei/L2Jem6s7jz+64wcwWoDov8MxXzTKo+e/Tm6AAP4W6L+Ov59iQfPiPyejxVGRdOi/C+OBfvBH5r+FEqDPAOfnv7sMpB2YfKg/kqeBfDMF5b+JdPMhINjfv0rrOh+OEee/AZ7809bl4b9RItG0sTXovxEebzNbO+a/B+GFO4dy6L+A6D5sdxizP/XrucNa6Oa/P01rbTnZ5L8JoDmkbVnmv51V5cL1up8/aBz9MZws6L+gZzNhLRXmvyiIE/X2Tui/5tLJ0tC9sT8=",
          "dtype": "f8"
         },
         "z": {
          "bdata": "gDIo27HTz79f3fiFAePSvyNjem3TBNS/ycdIdLXE2L+pgCMK2uutv/wTmmHyONU/MzyK+J2q1j8oDzuOpaTVP7n8vUXPAqc/dAJ6Zlip0T/BLtOrrV7SP7rxNJ8rAdM/UuIyfXvY4L/bhpIQ1onAv64hogjPjLe/+ZRXstgJqL8TCfIo3vC5v2IDFeWT8bm/IL52JWcQ3b+8WGV2alThv0cAsoyRwtK/Immvh9MMqD8N+qtElo/iv0tFZR+R6ta/ofijEITM4r9FgO74nj/iv6KimUucBX+/c9SseLFSuT85qbAqSoTEP9GMHwyGYMQ/isqa5sknpz8QkHrjsi3BPx/19zTYEcc/hYeZb63Evz/IBK+RIJyiv+HfWixxYKg/nJC/kToqtD/w4/JF4Mzfv8tmKYsHXNO/k4HAg5rT4r+GbHvUoLu4vx+3gm70FeG/nS8/MH0S179oyvi8Zp+nvyAPDTfdwLY/t0tASWq1378ufXilRPrSvzKrWieyOOO/lhYF8x0kuL8cPJeb7OXcv9YpOi5Trti/ock+liUL4L8T3dX/f5rIv/H60BLAAdi/hsgopOBe27/kD+euuozXv9F8H4pPVMM/nHTagz+P279CsBIRSaDPv+ccGrc+o9u/6aTyWlrutL+1Rt1mIr7Xv8cbzDlHz9u/e0PPJJBi179LHV4w00DCP9kBKwSIcdq/EahD+BrF0b8fUqdZ8Bzav85EullGgbm/Wf14D2BE4b/708Nn+Srgv+LEyCehXMS/XccPp2Tvqr/MwDCO5nXev3KCKwn4OOG/XrrxWLpP2b8msSdTkWHdv51yx0tVxte/ODgrBdw42798lXTq9ZnXv+1tFz6S+MI/Dyvn8j1Z2L9CEcn/Y2HWv72asG7Y29i/VlWa8034nb86AyXoah7Xvwq7s6yxZti/2v399qih178qlygure62v9OXE+1psdi/DhX5PC3L1r8QD2nd/K3bv8iBXg2r6mm/dAZoWPjt4L+OsYZkKPfhvyo0wDQ8ONu/jyHQIgXU4L9IGxrTXTfYv5fMvSCXSdu/E169e6ay17/v3oazfmnDPyKPf7V+RN2/B395Dk9o2r9StugV5M3dvy8nRBg8+ai/LQnC9/xD2L/fuUuyH33bv3/MB2qxkNe/yIjCbatKwz8=",
          "dtype": "f8"
         }
        },
        {
         "hovertemplate": "process=pla<br>PC1=%{x}<br>PC2=%{y}<br>PC3=%{z}<extra></extra>",
         "legendgroup": "pla",
         "marker": {
          "color": "#FFA15A",
          "symbol": "circle"
         },
         "mode": "markers",
         "name": "pla",
         "scene": "scene",
         "showlegend": true,
         "type": "scatter3d",
         "x": {
          "bdata": "ktuU9JbeyL+E+GaLJ1Tlv7zdw3HBEua/9nlV9jZz6b/jW4ufbpbqv4trC85cIem/LcNON7J46b8AzWCqSrjov27ZWzE0Jum/WFcj3UiB6r8DxU5e+cPov4RxH4p4Ieq/4GnMaWTY6b/lE2ZEYx7pv+W1Ic9anum/dYJptDiH6b8V49D8VNrqv6/XzkC8WOm/1WUioK9w6b/m9gWl7Ebpv6dsshaTo+i/DFzHYKJH6r8DYQTRyxTqv9H/DyZk7Oq/8X+g71AE6r/EnqvngyPqv1Z9o6Qsttm/VnBmvStN678WcVq+e97qv92A+jjxWtq/GBEBrl6/2b9LQNI9vh3rvxfeGWXdzem/sCkmpAEE6r+GkeK5Usbpv6G0MfEXR+q/oj2l6mvI6b8qNRgZgfbpv2+ipkHP3em/s0+XCLXp6b+44hpqxMrpv8UFdLYJ+em/J1tyOfFG579uHBQlXXznv2M8EcY/Sue/FyMauYiD578kgKwk/jnnv8P6t+IOL+e/fG4A36NA579mcvPOVhTpv4rUjhAJPee/eCAnbole579/SvZGJVTnv4soKYuXf+C//usH4YJI578YA8Ocbmnovw==",
          "dtype": "f8"
         },
         "y": {
          "bdata": "M29AbHEy6L+q/7x6JkaqPxbMq5Hhpbm/F+eQ76aItz+DAzz1idTHP4zNtRbRHrM/7Zzz36bGrD+OPIWHWRWvP9N4kbWxT8Y/MOMclTbexT/DAAS2Srl8P7/N+JqOJcE/OMAx0Cq3rD9sue4cWIK0P9g/h3WYuK0/WhiPHL9btD9k0dEjM5C/P98qhPSln7Q/tNcAPG0FsD+RNdWr+Ky4P+dou43wKaY/Gscw56cMwT8Sn2Gv7pC/PwJy2KXsI68/XFFZuMG2xD/xzO10MynEP6UcQlD5Vs+/p5G3lclAxj9EOf85qZjEP97JNt48DtG/kg9nesMQ0L9D8iG209LFPyWeLXy9/sM/DlrACm56wj8U0kDwyxLEP/1jHbrWtsA/G0qGq564wj/J9JrwNcrCP3RelL34AcQ/6qcE9/Tvwj+UTa3dB/bDPyTzbctLB8M/tTpd7SceuT/+lJRmbDG3P10wocpombg/4WkcJUT1uT9rQY3iWOK5PzOfq6i06rg/1Smme2zmuT8F0HcM8d7GPwtgvJvAlrw/7KfZyQHstz/Y6e8odTq5P4g+iK/JC72/GXIx3f8CuT9utgK6kn61vw==",
          "dtype": "f8"
         },
         "z": {
          "bdata": "e0eD8Pce2b+dfwzz9mbaP8Z7jUxxEdQ/41zrYupd1j+4/Cl5PGHbP5cD/KlpRNU/+zvhOGeb0j8dp4M+ST7VP9yFmj5W8dw/jbTeOOXp3T8H431FrcbRPxUj66kY09c/wukn5hm/0z8OnvSvSNPVP4vsiQEZC9Q/pkgvQxqp1T9fgOFkJ8nVPxuTdqmAANY/YRdbe2uq0z9gROxRKCXWPzGrdG+Ajs8/a9N0R5l12z/vHn03kALaPyG0pq3sc9Q/Oy3nsLJa3D9dj3x6ZFndPyfGnRHrl7s/j3JMAi102j9lRmnWIyrYP21GQzADm7k//P0b47VIuz8Izw1588naP2xBlVWPkdw/fgdEgdwE3T8zRG+rB3/cP9uikAwGDds/Qx4CVMKw2j89W4jKmirdP1lSW2gtTtw/x6rCxJjN3D9BF8MAIEHcP23LUIKGb90/0LDES0ry2D+PMo1i1xDaP1h3ZwaK2Ng/K8YyxDQX2j85veoQM5LYP1TG0UGZjNk/jTP8FaCn2D9BnFK97MjZP8h72Tpvotc/jvQgL+jj2T/5bppojunYP1Cnigp2/dI/UTZbu0AG2T8pOrOulBLQPw==",
          "dtype": "f8"
         }
        },
        {
         "hovertemplate": "process=del<br>PC1=%{x}<br>PC2=%{y}<br>PC3=%{z}<extra></extra>",
         "legendgroup": "del",
         "marker": {
          "color": "#19d3f3",
          "symbol": "circle"
         },
         "mode": "markers",
         "name": "del",
         "scene": "scene",
         "showlegend": true,
         "type": "scatter3d",
         "x": {
          "bdata": "FmQwdPPz6b8=",
          "dtype": "f8"
         },
         "y": {
          "bdata": "1Wwp8+eDyj8=",
          "dtype": "f8"
         },
         "z": {
          "bdata": "fK7sXpFh3D8=",
          "dtype": "f8"
         }
        }
       ],
       "layout": {
        "legend": {
         "title": {
          "text": "process"
         },
         "tracegroupgap": 0
        },
        "margin": {
         "t": 60
        },
        "scene": {
         "domain": {
          "x": [
           0,
           1
          ],
          "y": [
           0,
           1
          ]
         },
         "xaxis": {
          "title": {
           "text": "PC1"
          }
         },
         "yaxis": {
          "title": {
           "text": "PC2"
          }
         },
         "zaxis": {
          "title": {
           "text": "PC3"
          }
         }
        },
        "template": {
         "data": {
          "bar": [
           {
            "error_x": {
             "color": "#2a3f5f"
            },
            "error_y": {
             "color": "#2a3f5f"
            },
            "marker": {
             "line": {
              "color": "#E5ECF6",
              "width": 0.5
             },
             "pattern": {
              "fillmode": "overlay",
              "size": 10,
              "solidity": 0.2
             }
            },
            "type": "bar"
           }
          ],
          "barpolar": [
           {
            "marker": {
             "line": {
              "color": "#E5ECF6",
              "width": 0.5
             },
             "pattern": {
              "fillmode": "overlay",
              "size": 10,
              "solidity": 0.2
             }
            },
            "type": "barpolar"
           }
          ],
          "carpet": [
           {
            "aaxis": {
             "endlinecolor": "#2a3f5f",
             "gridcolor": "white",
             "linecolor": "white",
             "minorgridcolor": "white",
             "startlinecolor": "#2a3f5f"
            },
            "baxis": {
             "endlinecolor": "#2a3f5f",
             "gridcolor": "white",
             "linecolor": "white",
             "minorgridcolor": "white",
             "startlinecolor": "#2a3f5f"
            },
            "type": "carpet"
           }
          ],
          "choropleth": [
           {
            "colorbar": {
             "outlinewidth": 0,
             "ticks": ""
            },
            "type": "choropleth"
           }
          ],
          "contour": [
           {
            "colorbar": {
             "outlinewidth": 0,
             "ticks": ""
            },
            "colorscale": [
             [
              0,
              "#0d0887"
             ],
             [
              0.1111111111111111,
              "#46039f"
             ],
             [
              0.2222222222222222,
              "#7201a8"
             ],
             [
              0.3333333333333333,
              "#9c179e"
             ],
             [
              0.4444444444444444,
              "#bd3786"
             ],
             [
              0.5555555555555556,
              "#d8576b"
             ],
             [
              0.6666666666666666,
              "#ed7953"
             ],
             [
              0.7777777777777778,
              "#fb9f3a"
             ],
             [
              0.8888888888888888,
              "#fdca26"
             ],
             [
              1,
              "#f0f921"
             ]
            ],
            "type": "contour"
           }
          ],
          "contourcarpet": [
           {
            "colorbar": {
             "outlinewidth": 0,
             "ticks": ""
            },
            "type": "contourcarpet"
           }
          ],
          "heatmap": [
           {
            "colorbar": {
             "outlinewidth": 0,
             "ticks": ""
            },
            "colorscale": [
             [
              0,
              "#0d0887"
             ],
             [
              0.1111111111111111,
              "#46039f"
             ],
             [
              0.2222222222222222,
              "#7201a8"
             ],
             [
              0.3333333333333333,
              "#9c179e"
             ],
             [
              0.4444444444444444,
              "#bd3786"
             ],
             [
              0.5555555555555556,
              "#d8576b"
             ],
             [
              0.6666666666666666,
              "#ed7953"
             ],
             [
              0.7777777777777778,
              "#fb9f3a"
             ],
             [
              0.8888888888888888,
              "#fdca26"
             ],
             [
              1,
              "#f0f921"
             ]
            ],
            "type": "heatmap"
           }
          ],
          "histogram": [
           {
            "marker": {
             "pattern": {
              "fillmode": "overlay",
              "size": 10,
              "solidity": 0.2
             }
            },
            "type": "histogram"
           }
          ],
          "histogram2d": [
           {
            "colorbar": {
             "outlinewidth": 0,
             "ticks": ""
            },
            "colorscale": [
             [
              0,
              "#0d0887"
             ],
             [
              0.1111111111111111,
              "#46039f"
             ],
             [
              0.2222222222222222,
              "#7201a8"
             ],
             [
              0.3333333333333333,
              "#9c179e"
             ],
             [
              0.4444444444444444,
              "#bd3786"
             ],
             [
              0.5555555555555556,
              "#d8576b"
             ],
             [
              0.6666666666666666,
              "#ed7953"
             ],
             [
              0.7777777777777778,
              "#fb9f3a"
             ],
             [
              0.8888888888888888,
              "#fdca26"
             ],
             [
              1,
              "#f0f921"
             ]
            ],
            "type": "histogram2d"
           }
          ],
          "histogram2dcontour": [
           {
            "colorbar": {
             "outlinewidth": 0,
             "ticks": ""
            },
            "colorscale": [
             [
              0,
              "#0d0887"
             ],
             [
              0.1111111111111111,
              "#46039f"
             ],
             [
              0.2222222222222222,
              "#7201a8"
             ],
             [
              0.3333333333333333,
              "#9c179e"
             ],
             [
              0.4444444444444444,
              "#bd3786"
             ],
             [
              0.5555555555555556,
              "#d8576b"
             ],
             [
              0.6666666666666666,
              "#ed7953"
             ],
             [
              0.7777777777777778,
              "#fb9f3a"
             ],
             [
              0.8888888888888888,
              "#fdca26"
             ],
             [
              1,
              "#f0f921"
             ]
            ],
            "type": "histogram2dcontour"
           }
          ],
          "mesh3d": [
           {
            "colorbar": {
             "outlinewidth": 0,
             "ticks": ""
            },
            "type": "mesh3d"
           }
          ],
          "parcoords": [
           {
            "line": {
             "colorbar": {
              "outlinewidth": 0,
              "ticks": ""
             }
            },
            "type": "parcoords"
           }
          ],
          "pie": [
           {
            "automargin": true,
            "type": "pie"
           }
          ],
          "scatter": [
           {
            "fillpattern": {
             "fillmode": "overlay",
             "size": 10,
             "solidity": 0.2
            },
            "type": "scatter"
           }
          ],
          "scatter3d": [
           {
            "line": {
             "colorbar": {
              "outlinewidth": 0,
              "ticks": ""
             }
            },
            "marker": {
             "colorbar": {
              "outlinewidth": 0,
              "ticks": ""
             }
            },
            "type": "scatter3d"
           }
          ],
          "scattercarpet": [
           {
            "marker": {
             "colorbar": {
              "outlinewidth": 0,
              "ticks": ""
             }
            },
            "type": "scattercarpet"
           }
          ],
          "scattergeo": [
           {
            "marker": {
             "colorbar": {
              "outlinewidth": 0,
              "ticks": ""
             }
            },
            "type": "scattergeo"
           }
          ],
          "scattergl": [
           {
            "marker": {
             "colorbar": {
              "outlinewidth": 0,
              "ticks": ""
             }
            },
            "type": "scattergl"
           }
          ],
          "scattermap": [
           {
            "marker": {
             "colorbar": {
              "outlinewidth": 0,
              "ticks": ""
             }
            },
            "type": "scattermap"
           }
          ],
          "scattermapbox": [
           {
            "marker": {
             "colorbar": {
              "outlinewidth": 0,
              "ticks": ""
             }
            },
            "type": "scattermapbox"
           }
          ],
          "scatterpolar": [
           {
            "marker": {
             "colorbar": {
              "outlinewidth": 0,
              "ticks": ""
             }
            },
            "type": "scatterpolar"
           }
          ],
          "scatterpolargl": [
           {
            "marker": {
             "colorbar": {
              "outlinewidth": 0,
              "ticks": ""
             }
            },
            "type": "scatterpolargl"
           }
          ],
          "scatterternary": [
           {
            "marker": {
             "colorbar": {
              "outlinewidth": 0,
              "ticks": ""
             }
            },
            "type": "scatterternary"
           }
          ],
          "surface": [
           {
            "colorbar": {
             "outlinewidth": 0,
             "ticks": ""
            },
            "colorscale": [
             [
              0,
              "#0d0887"
             ],
             [
              0.1111111111111111,
              "#46039f"
             ],
             [
              0.2222222222222222,
              "#7201a8"
             ],
             [
              0.3333333333333333,
              "#9c179e"
             ],
             [
              0.4444444444444444,
              "#bd3786"
             ],
             [
              0.5555555555555556,
              "#d8576b"
             ],
             [
              0.6666666666666666,
              "#ed7953"
             ],
             [
              0.7777777777777778,
              "#fb9f3a"
             ],
             [
              0.8888888888888888,
              "#fdca26"
             ],
             [
              1,
              "#f0f921"
             ]
            ],
            "type": "surface"
           }
          ],
          "table": [
           {
            "cells": {
             "fill": {
              "color": "#EBF0F8"
             },
             "line": {
              "color": "white"
             }
            },
            "header": {
             "fill": {
              "color": "#C8D4E3"
             },
             "line": {
              "color": "white"
             }
            },
            "type": "table"
           }
          ]
         },
         "layout": {
          "annotationdefaults": {
           "arrowcolor": "#2a3f5f",
           "arrowhead": 0,
           "arrowwidth": 1
          },
          "autotypenumbers": "strict",
          "coloraxis": {
           "colorbar": {
            "outlinewidth": 0,
            "ticks": ""
           }
          },
          "colorscale": {
           "diverging": [
            [
             0,
             "#8e0152"
            ],
            [
             0.1,
             "#c51b7d"
            ],
            [
             0.2,
             "#de77ae"
            ],
            [
             0.3,
             "#f1b6da"
            ],
            [
             0.4,
             "#fde0ef"
            ],
            [
             0.5,
             "#f7f7f7"
            ],
            [
             0.6,
             "#e6f5d0"
            ],
            [
             0.7,
             "#b8e186"
            ],
            [
             0.8,
             "#7fbc41"
            ],
            [
             0.9,
             "#4d9221"
            ],
            [
             1,
             "#276419"
            ]
           ],
           "sequential": [
            [
             0,
             "#0d0887"
            ],
            [
             0.1111111111111111,
             "#46039f"
            ],
            [
             0.2222222222222222,
             "#7201a8"
            ],
            [
             0.3333333333333333,
             "#9c179e"
            ],
            [
             0.4444444444444444,
             "#bd3786"
            ],
            [
             0.5555555555555556,
             "#d8576b"
            ],
            [
             0.6666666666666666,
             "#ed7953"
            ],
            [
             0.7777777777777778,
             "#fb9f3a"
            ],
            [
             0.8888888888888888,
             "#fdca26"
            ],
            [
             1,
             "#f0f921"
            ]
           ],
           "sequentialminus": [
            [
             0,
             "#0d0887"
            ],
            [
             0.1111111111111111,
             "#46039f"
            ],
            [
             0.2222222222222222,
             "#7201a8"
            ],
            [
             0.3333333333333333,
             "#9c179e"
            ],
            [
             0.4444444444444444,
             "#bd3786"
            ],
            [
             0.5555555555555556,
             "#d8576b"
            ],
            [
             0.6666666666666666,
             "#ed7953"
            ],
            [
             0.7777777777777778,
             "#fb9f3a"
            ],
            [
             0.8888888888888888,
             "#fdca26"
            ],
            [
             1,
             "#f0f921"
            ]
           ]
          },
          "colorway": [
           "#636efa",
           "#EF553B",
           "#00cc96",
           "#ab63fa",
           "#FFA15A",
           "#19d3f3",
           "#FF6692",
           "#B6E880",
           "#FF97FF",
           "#FECB52"
          ],
          "font": {
           "color": "#2a3f5f"
          },
          "geo": {
           "bgcolor": "white",
           "lakecolor": "white",
           "landcolor": "#E5ECF6",
           "showlakes": true,
           "showland": true,
           "subunitcolor": "white"
          },
          "hoverlabel": {
           "align": "left"
          },
          "hovermode": "closest",
          "mapbox": {
           "style": "light"
          },
          "paper_bgcolor": "white",
          "plot_bgcolor": "#E5ECF6",
          "polar": {
           "angularaxis": {
            "gridcolor": "white",
            "linecolor": "white",
            "ticks": ""
           },
           "bgcolor": "#E5ECF6",
           "radialaxis": {
            "gridcolor": "white",
            "linecolor": "white",
            "ticks": ""
           }
          },
          "scene": {
           "xaxis": {
            "backgroundcolor": "#E5ECF6",
            "gridcolor": "white",
            "gridwidth": 2,
            "linecolor": "white",
            "showbackground": true,
            "ticks": "",
            "zerolinecolor": "white"
           },
           "yaxis": {
            "backgroundcolor": "#E5ECF6",
            "gridcolor": "white",
            "gridwidth": 2,
            "linecolor": "white",
            "showbackground": true,
            "ticks": "",
            "zerolinecolor": "white"
           },
           "zaxis": {
            "backgroundcolor": "#E5ECF6",
            "gridcolor": "white",
            "gridwidth": 2,
            "linecolor": "white",
            "showbackground": true,
            "ticks": "",
            "zerolinecolor": "white"
           }
          },
          "shapedefaults": {
           "line": {
            "color": "#2a3f5f"
           }
          },
          "ternary": {
           "aaxis": {
            "gridcolor": "white",
            "linecolor": "white",
            "ticks": ""
           },
           "baxis": {
            "gridcolor": "white",
            "linecolor": "white",
            "ticks": ""
           },
           "bgcolor": "#E5ECF6",
           "caxis": {
            "gridcolor": "white",
            "linecolor": "white",
            "ticks": ""
           }
          },
          "title": {
           "x": 0.05
          },
          "xaxis": {
           "automargin": true,
           "gridcolor": "white",
           "linecolor": "white",
           "ticks": "",
           "title": {
            "standoff": 15
           },
           "zerolinecolor": "white",
           "zerolinewidth": 2
          },
          "yaxis": {
           "automargin": true,
           "gridcolor": "white",
           "linecolor": "white",
           "ticks": "",
           "title": {
            "standoff": 15
           },
           "zerolinecolor": "white",
           "zerolinewidth": 2
          }
         }
        }
       }
      }
     },
     "metadata": {},
     "output_type": "display_data"
    }
   ],
   "source": [
    "df = df_var\n",
    "hue_label = \"process\"\n",
    "df[hue_label] = df[hue_label].astype(\"category\")\n",
    "fig = px.scatter_3d(df, x='PC1', y='PC2', z='PC3', color=hue_label)\n",
    "fig.show()"
   ]
  },
  {
   "cell_type": "code",
   "execution_count": 58,
   "id": "dcddd315",
   "metadata": {},
   "outputs": [
    {
     "data": {
      "application/vnd.plotly.v1+json": {
       "config": {
        "plotlyServerURL": "https://plot.ly"
       },
       "data": [
        {
         "hovertemplate": "process=las<br>PC1=%{x}<br>PC2=%{y}<extra></extra>",
         "legendgroup": "las",
         "marker": {
          "color": "#636efa",
          "size": 12,
          "symbol": "circle"
         },
         "mode": "markers",
         "name": "las",
         "orientation": "v",
         "showlegend": true,
         "type": "scatter",
         "x": {
          "bdata": "FLu+r5sRo7+w++WwhVrZv3uG8DaKHN6/Cke5G+s+3b9OvZH0ULnbvxo4lFcXj9u/W+gI6TUN3b/yCeGbhavbvw==",
          "dtype": "f8"
         },
         "xaxis": "x",
         "y": {
          "bdata": "DIYTlSkOsb9UP7Q1LbPFv+2UkB+6rJM/l07noLIElj8XTOaN96q6PwzNilVVkLw/Q8CaeszqND8kDVaJOCa5Pw==",
          "dtype": "f8"
         },
         "yaxis": "y"
        },
        {
         "hovertemplate": "process=gal<br>PC1=%{x}<br>PC2=%{y}<extra></extra>",
         "legendgroup": "gal",
         "marker": {
          "color": "#EF553B",
          "size": 12,
          "symbol": "circle"
         },
         "mode": "markers",
         "name": "gal",
         "orientation": "v",
         "showlegend": true,
         "type": "scatter",
         "x": {
          "bdata": "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",
          "dtype": "f8"
         },
         "xaxis": "x",
         "y": {
          "bdata": "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",
          "dtype": "f8"
         },
         "yaxis": "y"
        },
        {
         "hovertemplate": "process=mic<br>PC1=%{x}<br>PC2=%{y}<extra></extra>",
         "legendgroup": "mic",
         "marker": {
          "color": "#00cc96",
          "size": 12,
          "symbol": "circle"
         },
         "mode": "markers",
         "name": "mic",
         "orientation": "v",
         "showlegend": true,
         "type": "scatter",
         "x": {
          "bdata": "TwC3twbx779iGWFiqA3rP1BXLnbC6+o/uH9RIqHQ6j8Rd+k3DlPqP5p3TyJCHus/pVIdDMvS6j/OC0doNOPqP4FKlSSFJ+s/Rbpz8ks46z+LxD7xW5zqP8Jju+BkhOo/lFuNtp8g6z9G/iXUFqrpP8Q5NyL0v+k/bR2WsLvA6T9YkbQq6lbIv+BEliDZ/+k/2pl4yrd+6j+hwXX2Ca3pP4DO1sgjveo/nEIlavLd6T8cQjEVsOXpPwJnOHcC5Ok/eQxNa7Rn6j+i7VSjy0vrP57Rnm627Oo/aPvQzY5b6z/ddD985ofqP6U2lk4MI+s/TLuYPFh+6j/cVkbHSfHqP6lz5k9uL+s/YQBgOo0C6z8=",
          "dtype": "f8"
         },
         "xaxis": "x",
         "y": {
          "bdata": "0XDhZf5Kmr8UZXt+C0fBP1n8txo3mcA/yaocJti9wj/jjy6j0MfCv0igeXHbGbo/ah/lvW80v7/UM8rjoObAP+zLUfgxv7M/brGVtWtowj8qQTfLnPnLP2RHSdhpMcw/ZG549f27s79dUleBWKvSP/6PPHzqTtI/B8/X80M/0j9HlMwDQ6XnvzFH+d9339A/1l3WpBRSzT9zCUqFAjjSP4Co3n05GLq/UQ7d8lCO0T9wbK0Ou3vRP1NL1QEsjdE/e090cMpJwb/f4hDVzP7CP17gsUiqeco/TgX7E1IqwD8vF1TWdGPAvwosSH9AULm/aAIkorjYwb+93TKn30i8v5TjO9MIgqq/2hMXqrAEvT8=",
          "dtype": "f8"
         },
         "yaxis": "y"
        },
        {
         "hovertemplate": "process=mul<br>PC1=%{x}<br>PC2=%{y}<extra></extra>",
         "legendgroup": "mul",
         "marker": {
          "color": "#ab63fa",
          "size": 12,
          "symbol": "circle"
         },
         "mode": "markers",
         "name": "mul",
         "orientation": "v",
         "showlegend": true,
         "type": "scatter",
         "x": {
          "bdata": "9/K+mDXQ6T/EgTcSnbvqP35bimk4xeo/fF5Hu0Lb6T9TbGYtH7XrPyCkgSV5YOw/m7T5+UNk7D/Z1l8x+UXsP3MpFIhhPus/R80Cz10o7D9ytQ+PDk3sP5hBCIjaFew/pic9BcYv7D8L7C/X9OjrP8OUwVr09cO/65v59d3kxL+xsXdUi13EvyMa17h5U8S/YfQNHH+77D9fdbhyPansP6DHDYzGLuw/y7ba5hgp6z/+nyVXnATsPzUs542UkOk/INpylWQM7D/FTeRJCujrP9YMUtnNWuw/HSGVqnuj6z89LtB1To/rP0dVynXds+s/huknAOpm6z9RVZ5eEcPrP1e13t4pqOs/CaTAI3tu6z9OMrKZdA7sPzQLmxZ8Yes/y40p/rJt6z8G2+C1CNXqP+Qgyla5Reo/SvXLSVNw7D9aXQ50x73rPyZu53D6lew/VVz4o/LF6T8NGHvZtCPsPzPbS626Tus/YK2iq4BV6j+ghd7djCLqP1bbnRITIOw/jB0jq8TI6z/1ygxgUtTrP6vTvsSeBes/T+OOd41r7D+5IzFCJynsP/HXkpXYz+k/xeUO2X/06T8i5xOHc3/pP1CJMBu4Qes/wJP5mhDo6T+30jOOvgjqP/6+6LCwZOk/LRefwiDh6j8xZ22pddToPzp6yscN9Ok/yyj+aHv06D+7m61h6UTrP4ZpdFKBcuk/+ogYn02S6j8PocjDjzvpP84HMa2fdOs/JewoUpJ07D8QRbAKFTbsP2uSl9AJvOs/R+EuTmOr6z+CWiMzr8fqP09zBSx4dus/kkerKdWp7D8Cc059Zq/rP5CLDHpM6+g/oUZ43rpL6T8jirmKlqHoP25ErXMEIus/kyhRGXP86D9YbzD4WSzqPwlixsDm9+g/i+7JFZ/e6z+7vOMeYVXpP5im4lgVjuk/r7AbTfzP6D9vSI4zJF7Dv7gwgFs6vuk/0H0Xjpez6T+TC3pO+MPpPxqZQgfSGes/GAYGOo/i6j8SRZKS/0/sP3D/M8MEjOk/X6KqOIeg6j8rJTBiLR/pPx5Pa/pNq+k/nwxdsYhj6T9UnW5q8mjrP8r2tcAgHuo/aAjRd0RY6j/v/j1SEt7pP9J2CZRJiOs/dD7l2oOQ6D9AIpAz6IDpPyOW1/yB4ug/l7lDxk1d6z8=",
          "dtype": "f8"
         },
         "xaxis": "x",
         "y": {
          "bdata": "ysE4HQIC0j8zK7R/1PXRP/jxTE4e4sw/bO6GzTKb0j/c95VPfFXRv7iXoQWSz8S/0eUr9HWyxb+2iBu/p43EvzthgimJ89K/AnmaFH69yL8wDsSkI2LGv3/STrIHosm/wzreqCACnr9F12MeZL7Qv53+lkQ5Y+e/SiAq1uKV57/GVbix8Hbnv3ZznzmZjue/BD/rxduAtb+YTxJfUsmSvyXezF0FLsW/+yZCNyOP078OOof7uYC7Px0hdUth/tQ/rmk2CQw4wD/ZYRqzrAq5P02w4IB+gcu/+U+Tqi4s0b8QIc4xDbPRvxIdVe59gNC/BTCvlIPF0r+5OecgQZ3Qv3/D8JavS9G/FoZFbsAS0b+nbjfjKXDOv0H92me9oNK/rUBSWpo707/7Y3pO5OHPP0R+YlQ1VdE/180Xy8oooT8MTd5IYF/RvyH8Je5soY+/q/d6kvi61D+h9JtcLyDOv2JPaks2OtO/IZw8K/uwzz9AkpxnB83SP3dHi6xddpo/ZCYLNaMe0b8H0Yu6NxfHP/9HxKVH7ss/hrbzzosTwT/+DHWIp4bNvxB5gzFOwtQ/DpFD0/uo0z/kuWL1v1PVPxMw+dMfPNK/R6v/iL1r0j9U2hqCqWDMP9I5nQa8T9M/FwzjcpUr0L+9833WQDDWP5n1R6RdVNM/zQ4yDzAD1j+fix8X57TSv0hWNQKm/NM/kkC8J2hc0D+9dtCoj8rUPxiGsBz2WtC/ivbsWnzQjb/t2S3IT4Wvvz2e8l31B82/Fkoy9QgVzb/uw+0XStTIP9YiTVaw1L8/zj82S0Z6or9UCqqgh2OyP+/uOo0pHtY/bafH7zi40j+OqWQzukbWP9yx/IJ2qtK/E+4wFqvX1D9KKjD+Q3/QP8sW+/eERtU/DncntoRU0L8TFpiNKXzVP+TJTIvODtQ/MtA41YM61j9hruUzK1Dnv5TQVSkOi9Q/lZYJ+ZNp0j97acdbAjbTP6bCac4X7dK/gZh0oM+QyT8RdyacGfOlPz73t8rpmdM/0znKUYZTwT+vD5kXxMfVPwTRW9Z9X9M/fQQRq+Ot1T9wKn1BqJ3Sv5TtJWs12tE/qc0hGpZuzD8GHvhaySrSP8roQVla5tC/DPf6twGD1j894dnhDR7TPzlhjJ4zO9Y/KAl0kRaj0r8=",
          "dtype": "f8"
         },
         "yaxis": "y"
        },
        {
         "hovertemplate": "process=pla<br>PC1=%{x}<br>PC2=%{y}<extra></extra>",
         "legendgroup": "pla",
         "marker": {
          "color": "#FFA15A",
          "size": 12,
          "symbol": "circle"
         },
         "mode": "markers",
         "name": "pla",
         "orientation": "v",
         "showlegend": true,
         "type": "scatter",
         "x": {
          "bdata": "kP9k8hfA6T/1sFi5OnDrP0lqY6o9i+k/gZ81LeML7D8Q5wBBFjPqP/3Mw+EhV+w/gifIgJrw6z82DCl9nxvsPykrQ+3KgOo/GN82lmQ16z+MyVi6LxnsP+rEq+BP9us//j+X6Kqi6z9yy5++/EvsP/Osip8tlOs/OCantJjX6z+U/qcd5UbrP2TMY5BdzOs/23i4Of696z/B15O3N+zrPyxc6T7Y9+o/JFqv+/8d7D88CRaCF+brP+adUHMLOuw/NRkM66D06z/z4FpVRfLrP2vyKgByCOk/Qrl6sVBR6j+NXjo+t2vpP+bsi0YYXOk/7ECkvgn76D/pYpR+AFfqP/OCo+8r9es/b1rylSwN7D/I/qPvdM7rP0V0LLaKF+w/S1tXDWLQ6z9Wmv3TipDqP5X6cKCZJ+w/9xxmxQki7D/Ru9JBrPrrP8dohlBWD+w/LeAjbncf6z98BiiAMaXrP/00HlvrFes/E/PGoMGx6z9Oc0eOnxXrP0ZsNqd/s+s/3S11siUR6z9xKzjlDxnrP689GptHK+s/En899Les6z9eFq4uRS/rPxqUeTWYN+s/oCw3A3H66j+tQaJKt0DrPw==",
          "dtype": "f8"
         },
         "xaxis": "x",
         "y": {
          "bdata": "zDAeJiSG0j++TAtcDUmuP3BXcDg0CtM/X6gv5PdkcL/agVf3tODDv7PX+gVs1mG/L/5mN21/bz+OTQ/uA7B2P7A5opeHFMG//kDZLQvlwb/6WXIBVEmdP0cShAVuMZi/fotNW27ndL9ygOd/k+Ntv+y9Vvyz33O/mkiD9ePXhb+G7Bu9x1mnvxZ0TWugZY6/8rUg7MJycb9K+VdCrrCIv0Q4JJj7U5m/0l+o8FvoqD/C7la6X7OvP3lZS5Wk2qU/QFx8wfXgoD9yuCv65o+bP4k8Kgk2l9I/xvlM5pqwwb8mSY9c/bHDv4WC6MG0kdA/FmtRzfzD0j8a4Zwt+QzCv+fpAn/TAKg/WNi2zJZ9pD/wXDiVxiWiP2SWeq+JXag/8G/MDWfarT/cDyVHxjikP3lSB1TUNqw/ijliUVTppD/4EY/HtsCoPyNk9qatHaQ/FQxQvAiQrb+eYDYF82ijv/GcETUpLK6/i/njoAsip79j0CxLiz6svyRLRRDV46K/iZbBqJhAq78VvGUrCpq3vyy5KLjLFa2/1iYxoIccpL92GvFgk8Gsv3oWFMEVDcg/wOVoIBmxrr+vujMtQhTAPw==",
          "dtype": "f8"
         },
         "yaxis": "y"
        },
        {
         "hovertemplate": "process=del<br>PC1=%{x}<br>PC2=%{y}<extra></extra>",
         "legendgroup": "del",
         "marker": {
          "color": "#19d3f3",
          "size": 12,
          "symbol": "circle"
         },
         "mode": "markers",
         "name": "del",
         "orientation": "v",
         "showlegend": true,
         "type": "scatter",
         "x": {
          "bdata": "y4E3BHzf6j8=",
          "dtype": "f8"
         },
         "xaxis": "x",
         "y": {
          "bdata": "SK9GY+uQwL8=",
          "dtype": "f8"
         },
         "yaxis": "y"
        },
        {
         "hovertemplate": "process=las<br>PC1=%{x}<br>PC2=%{y}<extra></extra>",
         "legendgroup": "las",
         "marker": {
          "color": "#636efa",
          "size": 12,
          "symbol": "circle"
         },
         "mode": "markers",
         "name": "las",
         "orientation": "v",
         "showlegend": true,
         "type": "scatter",
         "x": {
          "bdata": "//z7+mv+pr/zbFi/mMjhP9d10MxXxeM/sBw/ZEbg4z9MB7ugF7HhPxsskHxLpeE/MgFnuu2k4z8VFcu8fybiPw==",
          "dtype": "f8"
         },
         "xaxis": "x2",
         "y": {
          "bdata": "KNmgDpEdpT9yp6Ed62nCv5IAeT1UO9e/iPQcV5Ix07+F/rTqqGzYv4fo9iYrGtm/R0q7cCP8078Fv4Amxknavw==",
          "dtype": "f8"
         },
         "yaxis": "y2"
        },
        {
         "hovertemplate": "process=gal<br>PC1=%{x}<br>PC2=%{y}<extra></extra>",
         "legendgroup": "gal",
         "marker": {
          "color": "#EF553B",
          "size": 12,
          "symbol": "circle"
         },
         "mode": "markers",
         "name": "gal",
         "orientation": "v",
         "showlegend": true,
         "type": "scatter",
         "x": {
          "bdata": "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",
          "dtype": "f8"
         },
         "xaxis": "x2",
         "y": {
          "bdata": "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",
          "dtype": "f8"
         },
         "yaxis": "y2"
        },
        {
         "hovertemplate": "process=mic<br>PC1=%{x}<br>PC2=%{y}<extra></extra>",
         "legendgroup": "mic",
         "marker": {
          "color": "#00cc96",
          "size": 12,
          "symbol": "circle"
         },
         "mode": "markers",
         "name": "mic",
         "orientation": "v",
         "showlegend": true,
         "type": "scatter",
         "x": {
          "bdata": "4/HdFN8D6j8X36ukFszjv5W7xTXRteS/ladcCRBh4793h4+iQnjmvxgGpoO8Fum//EkzXPtp5r8SYscEGAXjv8uCNoHG+uO/+2KbMS2g4r+Fe0TWqTbivxzIo55h+dm/P0fXcL5H6b9rBzJjkRXavwKaLUkkFNm/tmAjZ0wO2b+o8WYGXFvhv/hqf6yWLdq/NWxIAIJv3L9aKVlPxUDZv6BbFI4OD+i/zKd81S0B27/hl6mT1svav0K0mfbMvdy/KRKOoPma57/giZq2Ljrlv8WT9xEA/OO/rY8CYcC+5r9sqmodnXbnv6pwN/eWVee/mmz03CmZ578+QPQ0Xnfnv/nnWOay/ui/gxVyqT6N5b8=",
          "dtype": "f8"
         },
         "xaxis": "x2",
         "y": {
          "bdata": "MDFdZjpVyD9CXq8CiR3Sv0z4qtMvXc6/Yscj/N8J0L9XLxwEGP/HPwbS8v0+jbK/PtaF75Chyj9TCOZhc0rRvy9so/Wqc8y/8L/7bV8T0r+mHvnrjTDUv4dlKgaCRta/hm/qu29/xD/+RiSwSuDav73OPczjUNi/HtCx9NJa2L8OLDdX9eTlP2D5iAXYc9i/VnlYLG7y1b9rLfaqjJ7Zv4G0ZAMNacQ/BIFEHGM52L+hDnBrudTXvxpiJ52b4di/Wcc7urX5xj+wxrSHlcrPv7PdnSls9NC/2BWTKs+Rx7/FJ2xN967HP03Ht42118k/4D8hPh6Sxj8hfruRyjXJP88hu+iEP8I/b1aHaaW4ur8=",
          "dtype": "f8"
         },
         "yaxis": "y2"
        },
        {
         "hovertemplate": "process=mul<br>PC1=%{x}<br>PC2=%{y}<extra></extra>",
         "legendgroup": "mul",
         "marker": {
          "color": "#ab63fa",
          "size": 12,
          "symbol": "circle"
         },
         "mode": "markers",
         "name": "mul",
         "orientation": "v",
         "showlegend": true,
         "type": "scatter",
         "x": {
          "bdata": "BJszvNK13L9tYLAzwx2rv4qaQzDAtde/1TlaW+Ssvr9qe+fDAkblv7OJm/MhJ+K/kZ13A4T94b8v4twbwgriv2b495qsDOe/5dnuEnw+4b/68+mUgUnhv+zO2d25ZuG/VUkbLE7E4b+f4fTKIkHmv9mqqkO2MuK/tPkT7t0Y4L9Qon9v6CXiv/+GckLkIeK/0UtxnAks4b8NtXgB0/zYv/GOOAltveW/Q377Kr4c578uHvGH+gnYv1aX9RgqpWI/v2UJdrbyzr8Npf6cjVXbv2YNEBrGkui/eyxfIF2C57/JuYv2rgzov6j40EnJxue/A1Fox3vV5797zUQDMSDov8HlKl1ihui/TzDCt4Ae578dJMW8ZIbnv1Zqed8jtue/F4HTKSuE57/65xW7oeXNv3bUH4xrcsm/ZAmTF5/G2b8BOL9e6Uflv53tfoZKk+G/3cF4H6Qagz8wVIK34YXnvzbAd58RqOe/khF0P0s5zr9OpRsbPbLIv7OnkGMlqtu/S3QQxcll5b8JFaIEeknUv43oxpYYJ8q/4NAY9GP+1r/JoTXGfzjkv28VdNxkv1S/ohvFjkBcVb8o/aH7uO2rv8Hk+8BM7ee/2dXYIy2pyb8lg8flku/WvwQZt+vGH7+/x0P5EsOV47+jMXMM84urvxGtbIUt6I6/ciYkW+IFr7/Vne5ovfvnv67Q9slhqMa/wNc4ZHyJ1b/gGAhyPoC+v7CAl3rwEOO/OAvx85Ju3b8Vau8e6pHWv0G/8bgEy+W/kqD333V+6L9I2dX5s3HRv9e/M4QfVdG/PXYnH/8G47/3DLFkIH7gv33wmZUfXay/0VZEriZeRr8DLsQemGmpv8N0jiE/9ee/vWF700Q2w78iFiyx937Qv7iGkOvX9rO/EIxh42Uu5b8AY0SRn62pv1sx+kfVYmi/wKIokOJBq7/NYNpJcyXiv9qMpOYF77u/9Yj5t1+Iw799w21G7Xi6v1BE6hiMBua/ob/7ho7XxL8otkfCgEXUv5qVuhqWqb2/q3y4Zm8Z2L9XrgnB3EOov0BI55rudWG/GerBw9BfqL+lyXwRIwTov/wkUp0tyMW/wwZV1Uxi07+QTwl8UNDAv2BW4w+FGOW/oOyFJIoZq787GrVxS12Dv1TlwnbDcqm/sJyDMU/2578=",
          "dtype": "f8"
         },
         "xaxis": "x2",
         "y": {
          "bdata": "jx88w7Au1b8Ry48NmuzmvxCGQP9a8uS/AC6sKV5U6L+PIBhJ2I+SPzT13cGrWsw/Un7NxeUgzT9YhCdzHgHLP/4fZTLAZLQ/zY9PnirvyD97SDgYS77QP7hYZeinp84/dYqcip8L0L+3fiIkquGSP8+2mrnDCOM/JbARqq2A5D/DTt/7CUvjPzr/WSaTTOM/jTAu5RP7yr8AUxPwoY7Vv821m898YLK/COW2KNlurT9DgcFG58Dev6kvj8SVE+i/1LNDDp0K4r/H+2PH6RDdv9WZ379Wsbg/+k2/pA6+qL+J52YlZ62RP6vZ7hy37KI/Q8+DNlZTsz99cPepeZWRP9z3NRCS2YE/U6+YI9h3kL8h36f+EOS9P812lN7GdLM/k2kPE9rbtz9SelaQ0Hblv7A+i/C2xuS/jCAsU3iu279kvqr8DZGKPxn6Lr2sAdC/kjBOXnIH6L+flCLUajC6Pzi3qMFdMbc/QUNv1e/+5b9VorhLwNLkv9WGuUVqhte/igPUdeSoij/9E2DXdRDkv36zxmSIaua/zvGLqSlU4r/DiIVLGNyyP8WMRpU22ue/PnBL8Doz5r+IX35dyD3ovxk0Nfu9j7I/97+HIW2Y578BSn2VEV/jv+mwRNAz4ue/fw0rKrRNoT8G9aUln0novyNzuTEG1uW/0nI+6ycj6L9yo5YheCKzP3jGN8PPLei/RlPv/wbl5L85lu2rRkrovxXi1L4taZs/UeG1FeBE2r9BKicGAcPVvy9TMulJhK+/IuXiSzM1oT8HVNMe86Llv7rZt42kduO/NTaPZAFh1b/dDMZQTTPYvxsrfEGlTOi/PpIcPctO5r/7tQpaa1nov03eedXNo7I/3Z0VQD6U6L96JdHbz5Lkv+QIMBSGZei/L2Jem6s7jz+64wcwWoDov8MxXzTKo+e/Tm6AAP4W6L+Ov59iQfPiPyejxVGRdOi/C+OBfvBH5r+FEqDPAOfnv7sMpB2YfKg/kqeBfDMF5b+JdPMhINjfv0rrOh+OEee/AZ7809bl4b9RItG0sTXovxEebzNbO+a/B+GFO4dy6L+A6D5sdxizP/XrucNa6Oa/P01rbTnZ5L8JoDmkbVnmv51V5cL1up8/aBz9MZws6L+gZzNhLRXmvyiIE/X2Tui/5tLJ0tC9sT8=",
          "dtype": "f8"
         },
         "yaxis": "y2"
        },
        {
         "hovertemplate": "process=pla<br>PC1=%{x}<br>PC2=%{y}<extra></extra>",
         "legendgroup": "pla",
         "marker": {
          "color": "#FFA15A",
          "size": 12,
          "symbol": "circle"
         },
         "mode": "markers",
         "name": "pla",
         "orientation": "v",
         "showlegend": true,
         "type": "scatter",
         "x": {
          "bdata": "ktuU9JbeyL+E+GaLJ1Tlv7zdw3HBEua/9nlV9jZz6b/jW4ufbpbqv4trC85cIem/LcNON7J46b8AzWCqSrjov27ZWzE0Jum/WFcj3UiB6r8DxU5e+cPov4RxH4p4Ieq/4GnMaWTY6b/lE2ZEYx7pv+W1Ic9anum/dYJptDiH6b8V49D8VNrqv6/XzkC8WOm/1WUioK9w6b/m9gWl7Ebpv6dsshaTo+i/DFzHYKJH6r8DYQTRyxTqv9H/DyZk7Oq/8X+g71AE6r/EnqvngyPqv1Z9o6Qsttm/VnBmvStN678WcVq+e97qv92A+jjxWtq/GBEBrl6/2b9LQNI9vh3rvxfeGWXdzem/sCkmpAEE6r+GkeK5Usbpv6G0MfEXR+q/oj2l6mvI6b8qNRgZgfbpv2+ipkHP3em/s0+XCLXp6b+44hpqxMrpv8UFdLYJ+em/J1tyOfFG579uHBQlXXznv2M8EcY/Sue/FyMauYiD578kgKwk/jnnv8P6t+IOL+e/fG4A36NA579mcvPOVhTpv4rUjhAJPee/eCAnbole579/SvZGJVTnv4soKYuXf+C//usH4YJI578YA8Ocbmnovw==",
          "dtype": "f8"
         },
         "xaxis": "x2",
         "y": {
          "bdata": "M29AbHEy6L+q/7x6JkaqPxbMq5Hhpbm/F+eQ76aItz+DAzz1idTHP4zNtRbRHrM/7Zzz36bGrD+OPIWHWRWvP9N4kbWxT8Y/MOMclTbexT/DAAS2Srl8P7/N+JqOJcE/OMAx0Cq3rD9sue4cWIK0P9g/h3WYuK0/WhiPHL9btD9k0dEjM5C/P98qhPSln7Q/tNcAPG0FsD+RNdWr+Ky4P+dou43wKaY/Gscw56cMwT8Sn2Gv7pC/PwJy2KXsI68/XFFZuMG2xD/xzO10MynEP6UcQlD5Vs+/p5G3lclAxj9EOf85qZjEP97JNt48DtG/kg9nesMQ0L9D8iG209LFPyWeLXy9/sM/DlrACm56wj8U0kDwyxLEP/1jHbrWtsA/G0qGq564wj/J9JrwNcrCP3RelL34AcQ/6qcE9/Tvwj+UTa3dB/bDPyTzbctLB8M/tTpd7SceuT/+lJRmbDG3P10wocpombg/4WkcJUT1uT9rQY3iWOK5PzOfq6i06rg/1Smme2zmuT8F0HcM8d7GPwtgvJvAlrw/7KfZyQHstz/Y6e8odTq5P4g+iK/JC72/GXIx3f8CuT9utgK6kn61vw==",
          "dtype": "f8"
         },
         "yaxis": "y2"
        },
        {
         "hovertemplate": "process=del<br>PC1=%{x}<br>PC2=%{y}<extra></extra>",
         "legendgroup": "del",
         "marker": {
          "color": "#19d3f3",
          "size": 12,
          "symbol": "circle"
         },
         "mode": "markers",
         "name": "del",
         "orientation": "v",
         "showlegend": true,
         "type": "scatter",
         "x": {
          "bdata": "FmQwdPPz6b8=",
          "dtype": "f8"
         },
         "xaxis": "x2",
         "y": {
          "bdata": "1Wwp8+eDyj8=",
          "dtype": "f8"
         },
         "yaxis": "y2"
        }
       ],
       "layout": {
        "annotations": [
         {
          "font": {
           "size": 16
          },
          "showarrow": false,
          "text": "Initialization",
          "x": 0.225,
          "xanchor": "center",
          "xref": "paper",
          "y": 1,
          "yanchor": "bottom",
          "yref": "paper"
         },
         {
          "font": {
           "size": 16
          },
          "showarrow": false,
          "text": "Trained",
          "x": 0.775,
          "xanchor": "center",
          "xref": "paper",
          "y": 1,
          "yanchor": "bottom",
          "yref": "paper"
         }
        ],
        "height": 450,
        "legend": {
         "title": {
          "text": "Group"
         }
        },
        "margin": {
         "b": 40,
         "l": 60,
         "r": 30,
         "t": 60
        },
        "template": {
         "data": {
          "bar": [
           {
            "error_x": {
             "color": "#2a3f5f"
            },
            "error_y": {
             "color": "#2a3f5f"
            },
            "marker": {
             "line": {
              "color": "white",
              "width": 0.5
             },
             "pattern": {
              "fillmode": "overlay",
              "size": 10,
              "solidity": 0.2
             }
            },
            "type": "bar"
           }
          ],
          "barpolar": [
           {
            "marker": {
             "line": {
              "color": "white",
              "width": 0.5
             },
             "pattern": {
              "fillmode": "overlay",
              "size": 10,
              "solidity": 0.2
             }
            },
            "type": "barpolar"
           }
          ],
          "carpet": [
           {
            "aaxis": {
             "endlinecolor": "#2a3f5f",
             "gridcolor": "#C8D4E3",
             "linecolor": "#C8D4E3",
             "minorgridcolor": "#C8D4E3",
             "startlinecolor": "#2a3f5f"
            },
            "baxis": {
             "endlinecolor": "#2a3f5f",
             "gridcolor": "#C8D4E3",
             "linecolor": "#C8D4E3",
             "minorgridcolor": "#C8D4E3",
             "startlinecolor": "#2a3f5f"
            },
            "type": "carpet"
           }
          ],
          "choropleth": [
           {
            "colorbar": {
             "outlinewidth": 0,
             "ticks": ""
            },
            "type": "choropleth"
           }
          ],
          "contour": [
           {
            "colorbar": {
             "outlinewidth": 0,
             "ticks": ""
            },
            "colorscale": [
             [
              0,
              "#0d0887"
             ],
             [
              0.1111111111111111,
              "#46039f"
             ],
             [
              0.2222222222222222,
              "#7201a8"
             ],
             [
              0.3333333333333333,
              "#9c179e"
             ],
             [
              0.4444444444444444,
              "#bd3786"
             ],
             [
              0.5555555555555556,
              "#d8576b"
             ],
             [
              0.6666666666666666,
              "#ed7953"
             ],
             [
              0.7777777777777778,
              "#fb9f3a"
             ],
             [
              0.8888888888888888,
              "#fdca26"
             ],
             [
              1,
              "#f0f921"
             ]
            ],
            "type": "contour"
           }
          ],
          "contourcarpet": [
           {
            "colorbar": {
             "outlinewidth": 0,
             "ticks": ""
            },
            "type": "contourcarpet"
           }
          ],
          "heatmap": [
           {
            "colorbar": {
             "outlinewidth": 0,
             "ticks": ""
            },
            "colorscale": [
             [
              0,
              "#0d0887"
             ],
             [
              0.1111111111111111,
              "#46039f"
             ],
             [
              0.2222222222222222,
              "#7201a8"
             ],
             [
              0.3333333333333333,
              "#9c179e"
             ],
             [
              0.4444444444444444,
              "#bd3786"
             ],
             [
              0.5555555555555556,
              "#d8576b"
             ],
             [
              0.6666666666666666,
              "#ed7953"
             ],
             [
              0.7777777777777778,
              "#fb9f3a"
             ],
             [
              0.8888888888888888,
              "#fdca26"
             ],
             [
              1,
              "#f0f921"
             ]
            ],
            "type": "heatmap"
           }
          ],
          "histogram": [
           {
            "marker": {
             "pattern": {
              "fillmode": "overlay",
              "size": 10,
              "solidity": 0.2
             }
            },
            "type": "histogram"
           }
          ],
          "histogram2d": [
           {
            "colorbar": {
             "outlinewidth": 0,
             "ticks": ""
            },
            "colorscale": [
             [
              0,
              "#0d0887"
             ],
             [
              0.1111111111111111,
              "#46039f"
             ],
             [
              0.2222222222222222,
              "#7201a8"
             ],
             [
              0.3333333333333333,
              "#9c179e"
             ],
             [
              0.4444444444444444,
              "#bd3786"
             ],
             [
              0.5555555555555556,
              "#d8576b"
             ],
             [
              0.6666666666666666,
              "#ed7953"
             ],
             [
              0.7777777777777778,
              "#fb9f3a"
             ],
             [
              0.8888888888888888,
              "#fdca26"
             ],
             [
              1,
              "#f0f921"
             ]
            ],
            "type": "histogram2d"
           }
          ],
          "histogram2dcontour": [
           {
            "colorbar": {
             "outlinewidth": 0,
             "ticks": ""
            },
            "colorscale": [
             [
              0,
              "#0d0887"
             ],
             [
              0.1111111111111111,
              "#46039f"
             ],
             [
              0.2222222222222222,
              "#7201a8"
             ],
             [
              0.3333333333333333,
              "#9c179e"
             ],
             [
              0.4444444444444444,
              "#bd3786"
             ],
             [
              0.5555555555555556,
              "#d8576b"
             ],
             [
              0.6666666666666666,
              "#ed7953"
             ],
             [
              0.7777777777777778,
              "#fb9f3a"
             ],
             [
              0.8888888888888888,
              "#fdca26"
             ],
             [
              1,
              "#f0f921"
             ]
            ],
            "type": "histogram2dcontour"
           }
          ],
          "mesh3d": [
           {
            "colorbar": {
             "outlinewidth": 0,
             "ticks": ""
            },
            "type": "mesh3d"
           }
          ],
          "parcoords": [
           {
            "line": {
             "colorbar": {
              "outlinewidth": 0,
              "ticks": ""
             }
            },
            "type": "parcoords"
           }
          ],
          "pie": [
           {
            "automargin": true,
            "type": "pie"
           }
          ],
          "scatter": [
           {
            "fillpattern": {
             "fillmode": "overlay",
             "size": 10,
             "solidity": 0.2
            },
            "type": "scatter"
           }
          ],
          "scatter3d": [
           {
            "line": {
             "colorbar": {
              "outlinewidth": 0,
              "ticks": ""
             }
            },
            "marker": {
             "colorbar": {
              "outlinewidth": 0,
              "ticks": ""
             }
            },
            "type": "scatter3d"
           }
          ],
          "scattercarpet": [
           {
            "marker": {
             "colorbar": {
              "outlinewidth": 0,
              "ticks": ""
             }
            },
            "type": "scattercarpet"
           }
          ],
          "scattergeo": [
           {
            "marker": {
             "colorbar": {
              "outlinewidth": 0,
              "ticks": ""
             }
            },
            "type": "scattergeo"
           }
          ],
          "scattergl": [
           {
            "marker": {
             "colorbar": {
              "outlinewidth": 0,
              "ticks": ""
             }
            },
            "type": "scattergl"
           }
          ],
          "scattermap": [
           {
            "marker": {
             "colorbar": {
              "outlinewidth": 0,
              "ticks": ""
             }
            },
            "type": "scattermap"
           }
          ],
          "scattermapbox": [
           {
            "marker": {
             "colorbar": {
              "outlinewidth": 0,
              "ticks": ""
             }
            },
            "type": "scattermapbox"
           }
          ],
          "scatterpolar": [
           {
            "marker": {
             "colorbar": {
              "outlinewidth": 0,
              "ticks": ""
             }
            },
            "type": "scatterpolar"
           }
          ],
          "scatterpolargl": [
           {
            "marker": {
             "colorbar": {
              "outlinewidth": 0,
              "ticks": ""
             }
            },
            "type": "scatterpolargl"
           }
          ],
          "scatterternary": [
           {
            "marker": {
             "colorbar": {
              "outlinewidth": 0,
              "ticks": ""
             }
            },
            "type": "scatterternary"
           }
          ],
          "surface": [
           {
            "colorbar": {
             "outlinewidth": 0,
             "ticks": ""
            },
            "colorscale": [
             [
              0,
              "#0d0887"
             ],
             [
              0.1111111111111111,
              "#46039f"
             ],
             [
              0.2222222222222222,
              "#7201a8"
             ],
             [
              0.3333333333333333,
              "#9c179e"
             ],
             [
              0.4444444444444444,
              "#bd3786"
             ],
             [
              0.5555555555555556,
              "#d8576b"
             ],
             [
              0.6666666666666666,
              "#ed7953"
             ],
             [
              0.7777777777777778,
              "#fb9f3a"
             ],
             [
              0.8888888888888888,
              "#fdca26"
             ],
             [
              1,
              "#f0f921"
             ]
            ],
            "type": "surface"
           }
          ],
          "table": [
           {
            "cells": {
             "fill": {
              "color": "#EBF0F8"
             },
             "line": {
              "color": "white"
             }
            },
            "header": {
             "fill": {
              "color": "#C8D4E3"
             },
             "line": {
              "color": "white"
             }
            },
            "type": "table"
           }
          ]
         },
         "layout": {
          "annotationdefaults": {
           "arrowcolor": "#2a3f5f",
           "arrowhead": 0,
           "arrowwidth": 1
          },
          "autotypenumbers": "strict",
          "coloraxis": {
           "colorbar": {
            "outlinewidth": 0,
            "ticks": ""
           }
          },
          "colorscale": {
           "diverging": [
            [
             0,
             "#8e0152"
            ],
            [
             0.1,
             "#c51b7d"
            ],
            [
             0.2,
             "#de77ae"
            ],
            [
             0.3,
             "#f1b6da"
            ],
            [
             0.4,
             "#fde0ef"
            ],
            [
             0.5,
             "#f7f7f7"
            ],
            [
             0.6,
             "#e6f5d0"
            ],
            [
             0.7,
             "#b8e186"
            ],
            [
             0.8,
             "#7fbc41"
            ],
            [
             0.9,
             "#4d9221"
            ],
            [
             1,
             "#276419"
            ]
           ],
           "sequential": [
            [
             0,
             "#0d0887"
            ],
            [
             0.1111111111111111,
             "#46039f"
            ],
            [
             0.2222222222222222,
             "#7201a8"
            ],
            [
             0.3333333333333333,
             "#9c179e"
            ],
            [
             0.4444444444444444,
             "#bd3786"
            ],
            [
             0.5555555555555556,
             "#d8576b"
            ],
            [
             0.6666666666666666,
             "#ed7953"
            ],
            [
             0.7777777777777778,
             "#fb9f3a"
            ],
            [
             0.8888888888888888,
             "#fdca26"
            ],
            [
             1,
             "#f0f921"
            ]
           ],
           "sequentialminus": [
            [
             0,
             "#0d0887"
            ],
            [
             0.1111111111111111,
             "#46039f"
            ],
            [
             0.2222222222222222,
             "#7201a8"
            ],
            [
             0.3333333333333333,
             "#9c179e"
            ],
            [
             0.4444444444444444,
             "#bd3786"
            ],
            [
             0.5555555555555556,
             "#d8576b"
            ],
            [
             0.6666666666666666,
             "#ed7953"
            ],
            [
             0.7777777777777778,
             "#fb9f3a"
            ],
            [
             0.8888888888888888,
             "#fdca26"
            ],
            [
             1,
             "#f0f921"
            ]
           ]
          },
          "colorway": [
           "#636efa",
           "#EF553B",
           "#00cc96",
           "#ab63fa",
           "#FFA15A",
           "#19d3f3",
           "#FF6692",
           "#B6E880",
           "#FF97FF",
           "#FECB52"
          ],
          "font": {
           "color": "#2a3f5f"
          },
          "geo": {
           "bgcolor": "white",
           "lakecolor": "white",
           "landcolor": "white",
           "showlakes": true,
           "showland": true,
           "subunitcolor": "#C8D4E3"
          },
          "hoverlabel": {
           "align": "left"
          },
          "hovermode": "closest",
          "mapbox": {
           "style": "light"
          },
          "paper_bgcolor": "white",
          "plot_bgcolor": "white",
          "polar": {
           "angularaxis": {
            "gridcolor": "#EBF0F8",
            "linecolor": "#EBF0F8",
            "ticks": ""
           },
           "bgcolor": "white",
           "radialaxis": {
            "gridcolor": "#EBF0F8",
            "linecolor": "#EBF0F8",
            "ticks": ""
           }
          },
          "scene": {
           "xaxis": {
            "backgroundcolor": "white",
            "gridcolor": "#DFE8F3",
            "gridwidth": 2,
            "linecolor": "#EBF0F8",
            "showbackground": true,
            "ticks": "",
            "zerolinecolor": "#EBF0F8"
           },
           "yaxis": {
            "backgroundcolor": "white",
            "gridcolor": "#DFE8F3",
            "gridwidth": 2,
            "linecolor": "#EBF0F8",
            "showbackground": true,
            "ticks": "",
            "zerolinecolor": "#EBF0F8"
           },
           "zaxis": {
            "backgroundcolor": "white",
            "gridcolor": "#DFE8F3",
            "gridwidth": 2,
            "linecolor": "#EBF0F8",
            "showbackground": true,
            "ticks": "",
            "zerolinecolor": "#EBF0F8"
           }
          },
          "shapedefaults": {
           "line": {
            "color": "#2a3f5f"
           }
          },
          "ternary": {
           "aaxis": {
            "gridcolor": "#DFE8F3",
            "linecolor": "#A2B1C6",
            "ticks": ""
           },
           "baxis": {
            "gridcolor": "#DFE8F3",
            "linecolor": "#A2B1C6",
            "ticks": ""
           },
           "bgcolor": "white",
           "caxis": {
            "gridcolor": "#DFE8F3",
            "linecolor": "#A2B1C6",
            "ticks": ""
           }
          },
          "title": {
           "x": 0.05
          },
          "xaxis": {
           "automargin": true,
           "gridcolor": "#EBF0F8",
           "linecolor": "#EBF0F8",
           "ticks": "",
           "title": {
            "standoff": 15
           },
           "zerolinecolor": "#EBF0F8",
           "zerolinewidth": 2
          },
          "yaxis": {
           "automargin": true,
           "gridcolor": "#EBF0F8",
           "linecolor": "#EBF0F8",
           "ticks": "",
           "title": {
            "standoff": 15
           },
           "zerolinecolor": "#EBF0F8",
           "zerolinewidth": 2
          }
         }
        },
        "width": 950,
        "xaxis": {
         "anchor": "y",
         "domain": [
          0,
          0.45
         ]
        },
        "xaxis2": {
         "anchor": "y2",
         "domain": [
          0.55,
          1
         ]
        },
        "yaxis": {
         "anchor": "x",
         "domain": [
          0,
          1
         ]
        },
        "yaxis2": {
         "anchor": "x2",
         "domain": [
          0,
          1
         ],
         "matches": "y",
         "showticklabels": false
        }
       }
      }
     },
     "metadata": {},
     "output_type": "display_data"
    }
   ],
   "source": [
    "fig = make_subplots(\n",
    "    rows=1, cols=2,\n",
    "    shared_yaxes=True,          # keep scales aligned (optional)\n",
    "    subplot_titles=(\"Initialization\", \"Trained\")\n",
    ")\n",
    "\n",
    "# --- 3. Create px.scatter for each dataframe and graft its traces ---\n",
    "scatter1 = px.scatter(df_var_init, x=\"PC1\", y=\"PC2\", color=\"process\", height=400)\n",
    "scatter1.update_traces(marker=dict(size=12))\n",
    "for tr in scatter1.data:\n",
    "    fig.add_trace(tr, row=1, col=1)       # left axis\n",
    "\n",
    "scatter2 = px.scatter(df_var, x=\"PC1\", y=\"PC2\", color=\"process\", height=400)\n",
    "scatter2.update_traces(marker=dict(size=12))\n",
    "for tr in scatter2.data:\n",
    "    fig.add_trace(tr, row=1, col=2)       # right axis\n",
    "\n",
    "# --- 4. Global cosmetics --------------------------------------------\n",
    "fig.update_layout(\n",
    "    template=\"plotly_white\",\n",
    "    width=950, height=450,\n",
    "    legend_title_text=\"Group\",\n",
    "    margin=dict(l=60, r=30, t=60, b=40)\n",
    ")\n",
    "\n",
    "fig.show()"
   ]
  },
  {
   "cell_type": "code",
   "execution_count": 59,
   "id": "5d8e7488",
   "metadata": {},
   "outputs": [
    {
     "data": {
      "application/vnd.microsoft.datawrangler.viewer.v0+json": {
       "columns": [
        {
         "name": "index",
         "rawType": "int64",
         "type": "integer"
        },
        {
         "name": "PC1",
         "rawType": "float64",
         "type": "float"
        },
        {
         "name": "PC2",
         "rawType": "float64",
         "type": "float"
        },
        {
         "name": "PC3",
         "rawType": "float64",
         "type": "float"
        },
        {
         "name": "rating",
         "rawType": "float64",
         "type": "float"
        }
       ],
       "ref": "d6bc82c9-7619-4065-b886-23990cbbfa26",
       "rows": [
        [
         "0",
         "0.04948109337318649",
         "-0.028114232441666644",
         "0.05220500117459266",
         "3.0"
        ],
        [
         "1",
         "-0.2688816530633767",
         "0.14803058026518245",
         "0.34002989695481367",
         "3.0"
        ],
        [
         "2",
         "0.8499589307603184",
         "0.1686900653583636",
         "0.2836974097346522",
         "0.0"
        ],
        [
         "3",
         "-0.6381881459917845",
         "-0.09515512614025436",
         "-0.2559692251252618",
         "1.0"
        ],
        [
         "4",
         "-0.5201407056755447",
         "-0.4059570913270633",
         "0.0037260176250300653",
         "3.0"
        ],
        [
         "5",
         "-0.1668429834807213",
         "0.6483598694067279",
         "0.06325255852428881",
         "0.0"
        ],
        [
         "6",
         "-0.09110919891191614",
         "-0.5165241834988678",
         "0.18071594478630618",
         "0.0"
        ],
        [
         "7",
         "0.04822006796680055",
         "-0.3445184192349021",
         "0.5749922739161137",
         "2.0"
        ],
        [
         "8",
         "0.7245924943643653",
         "0.07707515399713838",
         "-0.31154063533832127",
         "1.0"
        ],
        [
         "9",
         "-0.34852026157832894",
         "0.18000658308107567",
         "0.03210418522119828",
         "1.0"
        ],
        [
         "10",
         "-0.6641186010640228",
         "0.01848016976492383",
         "0.26725428930586126",
         "3.0"
        ],
        [
         "11",
         "0.35295428031251663",
         "0.4659375010333679",
         "-0.04734134498973438",
         "0.0"
        ],
        [
         "12",
         "-0.3944336892281868",
         "-0.463808692632599",
         "-0.12777281140663943",
         "1.0"
        ],
        [
         "13",
         "0.15626870679169644",
         "-0.35290338712662134",
         "-0.4456760762658182",
         "3.0"
        ],
        [
         "14",
         "-0.05150022963263725",
         "0.6592065772421137",
         "-0.022683405987593337",
         "0.0"
        ],
        [
         "15",
         "-0.3060595108029161",
         "0.0118647345195178",
         "0.36155426531902657",
         "0.0"
        ],
        [
         "16",
         "0.42234855176744457",
         "-0.2808967419969167",
         "0.41242849827938954",
         "2.0"
        ],
        [
         "17",
         "0.4729313597237316",
         "-0.12376148434901087",
         "-0.5187455137401858",
         "1.0"
        ],
        [
         "18",
         "-0.6183445409968396",
         "0.15765738533641835",
         "-0.33612386566313257",
         "0.0"
        ],
        [
         "19",
         "-0.5904720109628826",
         "-0.014982930957527337",
         "-0.20995887283835135",
         "3.0"
        ],
        [
         "20",
         "0.3744661523526982",
         "0.4580445589586176",
         "-0.03109725824749585",
         "0.0"
        ],
        [
         "21",
         "-0.2154375170516248",
         "0.2782091709841808",
         "-0.4267441268398217",
         "2.0"
        ],
        [
         "22",
         "0.4430813844919763",
         "-0.4813404639775059",
         "-0.447655307722903",
         "3.0"
        ],
        [
         "23",
         "-0.6811645818111117",
         "0.021072222507408957",
         "0.2669794871789709",
         "0.0"
        ],
        [
         "24",
         "0.8412535967446335",
         "0.06332322521633284",
         "0.18824083450691656",
         "0.0"
        ],
        [
         "25",
         "0.819657011602524",
         "-0.24799504398843442",
         "0.15412778163809895",
         null
        ]
       ],
       "shape": {
        "columns": 4,
        "rows": 26
       }
      },
      "text/html": [
       "<div>\n",
       "<style scoped>\n",
       "    .dataframe tbody tr th:only-of-type {\n",
       "        vertical-align: middle;\n",
       "    }\n",
       "\n",
       "    .dataframe tbody tr th {\n",
       "        vertical-align: top;\n",
       "    }\n",
       "\n",
       "    .dataframe thead th {\n",
       "        text-align: right;\n",
       "    }\n",
       "</style>\n",
       "<table border=\"1\" class=\"dataframe\">\n",
       "  <thead>\n",
       "    <tr style=\"text-align: right;\">\n",
       "      <th></th>\n",
       "      <th>PC1</th>\n",
       "      <th>PC2</th>\n",
       "      <th>PC3</th>\n",
       "      <th>rating</th>\n",
       "    </tr>\n",
       "  </thead>\n",
       "  <tbody>\n",
       "    <tr>\n",
       "      <th>0</th>\n",
       "      <td>0.049481</td>\n",
       "      <td>-0.028114</td>\n",
       "      <td>0.052205</td>\n",
       "      <td>3.0</td>\n",
       "    </tr>\n",
       "    <tr>\n",
       "      <th>1</th>\n",
       "      <td>-0.268882</td>\n",
       "      <td>0.148031</td>\n",
       "      <td>0.340030</td>\n",
       "      <td>3.0</td>\n",
       "    </tr>\n",
       "    <tr>\n",
       "      <th>2</th>\n",
       "      <td>0.849959</td>\n",
       "      <td>0.168690</td>\n",
       "      <td>0.283697</td>\n",
       "      <td>0.0</td>\n",
       "    </tr>\n",
       "    <tr>\n",
       "      <th>3</th>\n",
       "      <td>-0.638188</td>\n",
       "      <td>-0.095155</td>\n",
       "      <td>-0.255969</td>\n",
       "      <td>1.0</td>\n",
       "    </tr>\n",
       "    <tr>\n",
       "      <th>4</th>\n",
       "      <td>-0.520141</td>\n",
       "      <td>-0.405957</td>\n",
       "      <td>0.003726</td>\n",
       "      <td>3.0</td>\n",
       "    </tr>\n",
       "    <tr>\n",
       "      <th>5</th>\n",
       "      <td>-0.166843</td>\n",
       "      <td>0.648360</td>\n",
       "      <td>0.063253</td>\n",
       "      <td>0.0</td>\n",
       "    </tr>\n",
       "    <tr>\n",
       "      <th>6</th>\n",
       "      <td>-0.091109</td>\n",
       "      <td>-0.516524</td>\n",
       "      <td>0.180716</td>\n",
       "      <td>0.0</td>\n",
       "    </tr>\n",
       "    <tr>\n",
       "      <th>7</th>\n",
       "      <td>0.048220</td>\n",
       "      <td>-0.344518</td>\n",
       "      <td>0.574992</td>\n",
       "      <td>2.0</td>\n",
       "    </tr>\n",
       "    <tr>\n",
       "      <th>8</th>\n",
       "      <td>0.724592</td>\n",
       "      <td>0.077075</td>\n",
       "      <td>-0.311541</td>\n",
       "      <td>1.0</td>\n",
       "    </tr>\n",
       "    <tr>\n",
       "      <th>9</th>\n",
       "      <td>-0.348520</td>\n",
       "      <td>0.180007</td>\n",
       "      <td>0.032104</td>\n",
       "      <td>1.0</td>\n",
       "    </tr>\n",
       "    <tr>\n",
       "      <th>10</th>\n",
       "      <td>-0.664119</td>\n",
       "      <td>0.018480</td>\n",
       "      <td>0.267254</td>\n",
       "      <td>3.0</td>\n",
       "    </tr>\n",
       "    <tr>\n",
       "      <th>11</th>\n",
       "      <td>0.352954</td>\n",
       "      <td>0.465938</td>\n",
       "      <td>-0.047341</td>\n",
       "      <td>0.0</td>\n",
       "    </tr>\n",
       "    <tr>\n",
       "      <th>12</th>\n",
       "      <td>-0.394434</td>\n",
       "      <td>-0.463809</td>\n",
       "      <td>-0.127773</td>\n",
       "      <td>1.0</td>\n",
       "    </tr>\n",
       "    <tr>\n",
       "      <th>13</th>\n",
       "      <td>0.156269</td>\n",
       "      <td>-0.352903</td>\n",
       "      <td>-0.445676</td>\n",
       "      <td>3.0</td>\n",
       "    </tr>\n",
       "    <tr>\n",
       "      <th>14</th>\n",
       "      <td>-0.051500</td>\n",
       "      <td>0.659207</td>\n",
       "      <td>-0.022683</td>\n",
       "      <td>0.0</td>\n",
       "    </tr>\n",
       "    <tr>\n",
       "      <th>15</th>\n",
       "      <td>-0.306060</td>\n",
       "      <td>0.011865</td>\n",
       "      <td>0.361554</td>\n",
       "      <td>0.0</td>\n",
       "    </tr>\n",
       "    <tr>\n",
       "      <th>16</th>\n",
       "      <td>0.422349</td>\n",
       "      <td>-0.280897</td>\n",
       "      <td>0.412428</td>\n",
       "      <td>2.0</td>\n",
       "    </tr>\n",
       "    <tr>\n",
       "      <th>17</th>\n",
       "      <td>0.472931</td>\n",
       "      <td>-0.123761</td>\n",
       "      <td>-0.518746</td>\n",
       "      <td>1.0</td>\n",
       "    </tr>\n",
       "    <tr>\n",
       "      <th>18</th>\n",
       "      <td>-0.618345</td>\n",
       "      <td>0.157657</td>\n",
       "      <td>-0.336124</td>\n",
       "      <td>0.0</td>\n",
       "    </tr>\n",
       "    <tr>\n",
       "      <th>19</th>\n",
       "      <td>-0.590472</td>\n",
       "      <td>-0.014983</td>\n",
       "      <td>-0.209959</td>\n",
       "      <td>3.0</td>\n",
       "    </tr>\n",
       "    <tr>\n",
       "      <th>20</th>\n",
       "      <td>0.374466</td>\n",
       "      <td>0.458045</td>\n",
       "      <td>-0.031097</td>\n",
       "      <td>0.0</td>\n",
       "    </tr>\n",
       "    <tr>\n",
       "      <th>21</th>\n",
       "      <td>-0.215438</td>\n",
       "      <td>0.278209</td>\n",
       "      <td>-0.426744</td>\n",
       "      <td>2.0</td>\n",
       "    </tr>\n",
       "    <tr>\n",
       "      <th>22</th>\n",
       "      <td>0.443081</td>\n",
       "      <td>-0.481340</td>\n",
       "      <td>-0.447655</td>\n",
       "      <td>3.0</td>\n",
       "    </tr>\n",
       "    <tr>\n",
       "      <th>23</th>\n",
       "      <td>-0.681165</td>\n",
       "      <td>0.021072</td>\n",
       "      <td>0.266979</td>\n",
       "      <td>0.0</td>\n",
       "    </tr>\n",
       "    <tr>\n",
       "      <th>24</th>\n",
       "      <td>0.841254</td>\n",
       "      <td>0.063323</td>\n",
       "      <td>0.188241</td>\n",
       "      <td>0.0</td>\n",
       "    </tr>\n",
       "    <tr>\n",
       "      <th>25</th>\n",
       "      <td>0.819657</td>\n",
       "      <td>-0.247995</td>\n",
       "      <td>0.154128</td>\n",
       "      <td>NaN</td>\n",
       "    </tr>\n",
       "  </tbody>\n",
       "</table>\n",
       "</div>"
      ],
      "text/plain": [
       "         PC1       PC2       PC3  rating\n",
       "0   0.049481 -0.028114  0.052205     3.0\n",
       "1  -0.268882  0.148031  0.340030     3.0\n",
       "2   0.849959  0.168690  0.283697     0.0\n",
       "3  -0.638188 -0.095155 -0.255969     1.0\n",
       "4  -0.520141 -0.405957  0.003726     3.0\n",
       "5  -0.166843  0.648360  0.063253     0.0\n",
       "6  -0.091109 -0.516524  0.180716     0.0\n",
       "7   0.048220 -0.344518  0.574992     2.0\n",
       "8   0.724592  0.077075 -0.311541     1.0\n",
       "9  -0.348520  0.180007  0.032104     1.0\n",
       "10 -0.664119  0.018480  0.267254     3.0\n",
       "11  0.352954  0.465938 -0.047341     0.0\n",
       "12 -0.394434 -0.463809 -0.127773     1.0\n",
       "13  0.156269 -0.352903 -0.445676     3.0\n",
       "14 -0.051500  0.659207 -0.022683     0.0\n",
       "15 -0.306060  0.011865  0.361554     0.0\n",
       "16  0.422349 -0.280897  0.412428     2.0\n",
       "17  0.472931 -0.123761 -0.518746     1.0\n",
       "18 -0.618345  0.157657 -0.336124     0.0\n",
       "19 -0.590472 -0.014983 -0.209959     3.0\n",
       "20  0.374466  0.458045 -0.031097     0.0\n",
       "21 -0.215438  0.278209 -0.426744     2.0\n",
       "22  0.443081 -0.481340 -0.447655     3.0\n",
       "23 -0.681165  0.021072  0.266979     0.0\n",
       "24  0.841254  0.063323  0.188241     0.0\n",
       "25  0.819657 -0.247995  0.154128     NaN"
      ]
     },
     "execution_count": 59,
     "metadata": {},
     "output_type": "execute_result"
    }
   ],
   "source": [
    "df_pos = pd.DataFrame(pcs_pos, columns=[f\"PC{i}\" for i in range(1, n_pca_comps + 1)])\n",
    "df_pos[\"rating\"]=df_pos.index.map(pos_map).map(rate_map)\n",
    "\n",
    "df_pos_init = pd.DataFrame(pcs_pos_init, columns=[f\"PC{i}\" for i in range(1, n_pca_comps + 1)])\n",
    "df_pos_init[\"rating\"]=df_pos_init.index.map(pos_map).map(rate_map)\n",
    "\n",
    "df_pos"
   ]
  },
  {
   "cell_type": "code",
   "execution_count": 60,
   "id": "0df230e2",
   "metadata": {},
   "outputs": [
    {
     "data": {
      "application/vnd.plotly.v1+json": {
       "config": {
        "plotlyServerURL": "https://plot.ly"
       },
       "data": [
        {
         "hovertemplate": "rating=3.0<br>PC1=%{x}<br>PC2=%{y}<br>PC3=%{z}<extra></extra>",
         "legendgroup": "3.0",
         "marker": {
          "color": "#636efa",
          "symbol": "circle"
         },
         "mode": "markers",
         "name": "3.0",
         "scene": "scene",
         "showlegend": true,
         "type": "scatter3d",
         "x": {
          "bdata": "qRu/rlXslD92oSoHY1bdvzMueua2nuW/SsFMmqBJ479tG1lV7l/nPwnMlAxsPsa//JIwyWGZ6z8=",
          "dtype": "f8"
         },
         "y": {
          "bdata": "HE5H9fSAuD8y7GFlr63Mv6Hw+BENN96/oJmNmWsVzL9ZiqlWJlmYv9y6WOqVtuO/uDWdo5sc1D8=",
          "dtype": "f8"
         },
         "z": {
          "bdata": "gfmwtE4oiD85cpZPgsHfPxEjJ57kdL4/4fYg5DYKzb+HUM7uBHbZv+tS332gJca/x0lvsQ2Fwr8=",
          "dtype": "f8"
         }
        },
        {
         "hovertemplate": "rating=0.0<br>PC1=%{x}<br>PC2=%{y}<br>PC3=%{z}<extra></extra>",
         "legendgroup": "0.0",
         "marker": {
          "color": "#EF553B",
          "symbol": "circle"
         },
         "mode": "markers",
         "name": "0.0",
         "scene": "scene",
         "showlegend": true,
         "type": "scatter3d",
         "x": {
          "bdata": "UlvYcn7x7D9WSCywS5nIP46xoZ0V8uS/pZiL+kW+ib+/YW6Y0W/gv314e0JTz8A/JRu0aAJ7yr+0pHptk1jgvwWZMLHogOe/mevuWPtt6z8=",
          "dtype": "f8"
         },
         "y": {
          "bdata": "3ITY0LhObz9qRSw6p2XOP/2Yrtl9AOG/FzXpRsuY5D/eu+31GMDiP8zYTYMBj80/wJ1CsPOU4r81zZ9uy6DaPywN0nQayLY/99H4D3s8vr8=",
          "dtype": "f8"
         },
         "z": {
          "bdata": "GhW63KTYqj90qMiKZlW/vxvCZzUI/KS/dvbwLXuM0D8iG1r1eiLSP0MzT2JTQ+U/6hlPetBMzL/f3o0x4bHPPxrDyf2HQdQ/UWtifzxrxD8=",
          "dtype": "f8"
         }
        },
        {
         "hovertemplate": "rating=1.0<br>PC1=%{x}<br>PC2=%{y}<br>PC3=%{z}<extra></extra>",
         "legendgroup": "1.0",
         "marker": {
          "color": "#00cc96",
          "symbol": "circle"
         },
         "mode": "markers",
         "name": "1.0",
         "scene": "scene",
         "showlegend": true,
         "type": "scatter3d",
         "x": {
          "bdata": "lTQv1x9z4b9Dns2vfwLiP9rN3j5ni9W/M653Ectb5b+ayhvcWgPpPw==",
          "dtype": "f8"
         },
         "y": {
          "bdata": "y44lSPbF4z9nECH8+SjfP8WdJ0IiiuK/B6ZIq5J0vT9udGwKDjm+Pw==",
          "dtype": "f8"
         },
         "z": {
          "bdata": "nZnV6pyc1L/jVFMOI9DDv+l8n/HEI8O/DHSlS+wv2L/QGbnCTFrWvw==",
          "dtype": "f8"
         }
        },
        {
         "hovertemplate": "rating=2.0<br>PC1=%{x}<br>PC2=%{y}<br>PC3=%{z}<extra></extra>",
         "legendgroup": "2.0",
         "marker": {
          "color": "#ab63fa",
          "symbol": "circle"
         },
         "mode": "markers",
         "name": "2.0",
         "scene": "scene",
         "showlegend": true,
         "type": "scatter3d",
         "x": {
          "bdata": "SuHott5j5z94H330+rTjPz7Xxlzv7+W/",
          "dtype": "f8"
         },
         "y": {
          "bdata": "cB+f6lSN0r/J0xk4M9Xgv0s8ybVnUdw/",
          "dtype": "f8"
         },
         "z": {
          "bdata": "wkmrzvlvzT+iLOPbpQfTP91QDr4E5tq/",
          "dtype": "f8"
         }
        }
       ],
       "layout": {
        "legend": {
         "title": {
          "text": "rating"
         },
         "tracegroupgap": 0
        },
        "margin": {
         "t": 60
        },
        "scene": {
         "domain": {
          "x": [
           0,
           1
          ],
          "y": [
           0,
           1
          ]
         },
         "xaxis": {
          "title": {
           "text": "PC1"
          }
         },
         "yaxis": {
          "title": {
           "text": "PC2"
          }
         },
         "zaxis": {
          "title": {
           "text": "PC3"
          }
         }
        },
        "template": {
         "data": {
          "bar": [
           {
            "error_x": {
             "color": "#2a3f5f"
            },
            "error_y": {
             "color": "#2a3f5f"
            },
            "marker": {
             "line": {
              "color": "#E5ECF6",
              "width": 0.5
             },
             "pattern": {
              "fillmode": "overlay",
              "size": 10,
              "solidity": 0.2
             }
            },
            "type": "bar"
           }
          ],
          "barpolar": [
           {
            "marker": {
             "line": {
              "color": "#E5ECF6",
              "width": 0.5
             },
             "pattern": {
              "fillmode": "overlay",
              "size": 10,
              "solidity": 0.2
             }
            },
            "type": "barpolar"
           }
          ],
          "carpet": [
           {
            "aaxis": {
             "endlinecolor": "#2a3f5f",
             "gridcolor": "white",
             "linecolor": "white",
             "minorgridcolor": "white",
             "startlinecolor": "#2a3f5f"
            },
            "baxis": {
             "endlinecolor": "#2a3f5f",
             "gridcolor": "white",
             "linecolor": "white",
             "minorgridcolor": "white",
             "startlinecolor": "#2a3f5f"
            },
            "type": "carpet"
           }
          ],
          "choropleth": [
           {
            "colorbar": {
             "outlinewidth": 0,
             "ticks": ""
            },
            "type": "choropleth"
           }
          ],
          "contour": [
           {
            "colorbar": {
             "outlinewidth": 0,
             "ticks": ""
            },
            "colorscale": [
             [
              0,
              "#0d0887"
             ],
             [
              0.1111111111111111,
              "#46039f"
             ],
             [
              0.2222222222222222,
              "#7201a8"
             ],
             [
              0.3333333333333333,
              "#9c179e"
             ],
             [
              0.4444444444444444,
              "#bd3786"
             ],
             [
              0.5555555555555556,
              "#d8576b"
             ],
             [
              0.6666666666666666,
              "#ed7953"
             ],
             [
              0.7777777777777778,
              "#fb9f3a"
             ],
             [
              0.8888888888888888,
              "#fdca26"
             ],
             [
              1,
              "#f0f921"
             ]
            ],
            "type": "contour"
           }
          ],
          "contourcarpet": [
           {
            "colorbar": {
             "outlinewidth": 0,
             "ticks": ""
            },
            "type": "contourcarpet"
           }
          ],
          "heatmap": [
           {
            "colorbar": {
             "outlinewidth": 0,
             "ticks": ""
            },
            "colorscale": [
             [
              0,
              "#0d0887"
             ],
             [
              0.1111111111111111,
              "#46039f"
             ],
             [
              0.2222222222222222,
              "#7201a8"
             ],
             [
              0.3333333333333333,
              "#9c179e"
             ],
             [
              0.4444444444444444,
              "#bd3786"
             ],
             [
              0.5555555555555556,
              "#d8576b"
             ],
             [
              0.6666666666666666,
              "#ed7953"
             ],
             [
              0.7777777777777778,
              "#fb9f3a"
             ],
             [
              0.8888888888888888,
              "#fdca26"
             ],
             [
              1,
              "#f0f921"
             ]
            ],
            "type": "heatmap"
           }
          ],
          "histogram": [
           {
            "marker": {
             "pattern": {
              "fillmode": "overlay",
              "size": 10,
              "solidity": 0.2
             }
            },
            "type": "histogram"
           }
          ],
          "histogram2d": [
           {
            "colorbar": {
             "outlinewidth": 0,
             "ticks": ""
            },
            "colorscale": [
             [
              0,
              "#0d0887"
             ],
             [
              0.1111111111111111,
              "#46039f"
             ],
             [
              0.2222222222222222,
              "#7201a8"
             ],
             [
              0.3333333333333333,
              "#9c179e"
             ],
             [
              0.4444444444444444,
              "#bd3786"
             ],
             [
              0.5555555555555556,
              "#d8576b"
             ],
             [
              0.6666666666666666,
              "#ed7953"
             ],
             [
              0.7777777777777778,
              "#fb9f3a"
             ],
             [
              0.8888888888888888,
              "#fdca26"
             ],
             [
              1,
              "#f0f921"
             ]
            ],
            "type": "histogram2d"
           }
          ],
          "histogram2dcontour": [
           {
            "colorbar": {
             "outlinewidth": 0,
             "ticks": ""
            },
            "colorscale": [
             [
              0,
              "#0d0887"
             ],
             [
              0.1111111111111111,
              "#46039f"
             ],
             [
              0.2222222222222222,
              "#7201a8"
             ],
             [
              0.3333333333333333,
              "#9c179e"
             ],
             [
              0.4444444444444444,
              "#bd3786"
             ],
             [
              0.5555555555555556,
              "#d8576b"
             ],
             [
              0.6666666666666666,
              "#ed7953"
             ],
             [
              0.7777777777777778,
              "#fb9f3a"
             ],
             [
              0.8888888888888888,
              "#fdca26"
             ],
             [
              1,
              "#f0f921"
             ]
            ],
            "type": "histogram2dcontour"
           }
          ],
          "mesh3d": [
           {
            "colorbar": {
             "outlinewidth": 0,
             "ticks": ""
            },
            "type": "mesh3d"
           }
          ],
          "parcoords": [
           {
            "line": {
             "colorbar": {
              "outlinewidth": 0,
              "ticks": ""
             }
            },
            "type": "parcoords"
           }
          ],
          "pie": [
           {
            "automargin": true,
            "type": "pie"
           }
          ],
          "scatter": [
           {
            "fillpattern": {
             "fillmode": "overlay",
             "size": 10,
             "solidity": 0.2
            },
            "type": "scatter"
           }
          ],
          "scatter3d": [
           {
            "line": {
             "colorbar": {
              "outlinewidth": 0,
              "ticks": ""
             }
            },
            "marker": {
             "colorbar": {
              "outlinewidth": 0,
              "ticks": ""
             }
            },
            "type": "scatter3d"
           }
          ],
          "scattercarpet": [
           {
            "marker": {
             "colorbar": {
              "outlinewidth": 0,
              "ticks": ""
             }
            },
            "type": "scattercarpet"
           }
          ],
          "scattergeo": [
           {
            "marker": {
             "colorbar": {
              "outlinewidth": 0,
              "ticks": ""
             }
            },
            "type": "scattergeo"
           }
          ],
          "scattergl": [
           {
            "marker": {
             "colorbar": {
              "outlinewidth": 0,
              "ticks": ""
             }
            },
            "type": "scattergl"
           }
          ],
          "scattermap": [
           {
            "marker": {
             "colorbar": {
              "outlinewidth": 0,
              "ticks": ""
             }
            },
            "type": "scattermap"
           }
          ],
          "scattermapbox": [
           {
            "marker": {
             "colorbar": {
              "outlinewidth": 0,
              "ticks": ""
             }
            },
            "type": "scattermapbox"
           }
          ],
          "scatterpolar": [
           {
            "marker": {
             "colorbar": {
              "outlinewidth": 0,
              "ticks": ""
             }
            },
            "type": "scatterpolar"
           }
          ],
          "scatterpolargl": [
           {
            "marker": {
             "colorbar": {
              "outlinewidth": 0,
              "ticks": ""
             }
            },
            "type": "scatterpolargl"
           }
          ],
          "scatterternary": [
           {
            "marker": {
             "colorbar": {
              "outlinewidth": 0,
              "ticks": ""
             }
            },
            "type": "scatterternary"
           }
          ],
          "surface": [
           {
            "colorbar": {
             "outlinewidth": 0,
             "ticks": ""
            },
            "colorscale": [
             [
              0,
              "#0d0887"
             ],
             [
              0.1111111111111111,
              "#46039f"
             ],
             [
              0.2222222222222222,
              "#7201a8"
             ],
             [
              0.3333333333333333,
              "#9c179e"
             ],
             [
              0.4444444444444444,
              "#bd3786"
             ],
             [
              0.5555555555555556,
              "#d8576b"
             ],
             [
              0.6666666666666666,
              "#ed7953"
             ],
             [
              0.7777777777777778,
              "#fb9f3a"
             ],
             [
              0.8888888888888888,
              "#fdca26"
             ],
             [
              1,
              "#f0f921"
             ]
            ],
            "type": "surface"
           }
          ],
          "table": [
           {
            "cells": {
             "fill": {
              "color": "#EBF0F8"
             },
             "line": {
              "color": "white"
             }
            },
            "header": {
             "fill": {
              "color": "#C8D4E3"
             },
             "line": {
              "color": "white"
             }
            },
            "type": "table"
           }
          ]
         },
         "layout": {
          "annotationdefaults": {
           "arrowcolor": "#2a3f5f",
           "arrowhead": 0,
           "arrowwidth": 1
          },
          "autotypenumbers": "strict",
          "coloraxis": {
           "colorbar": {
            "outlinewidth": 0,
            "ticks": ""
           }
          },
          "colorscale": {
           "diverging": [
            [
             0,
             "#8e0152"
            ],
            [
             0.1,
             "#c51b7d"
            ],
            [
             0.2,
             "#de77ae"
            ],
            [
             0.3,
             "#f1b6da"
            ],
            [
             0.4,
             "#fde0ef"
            ],
            [
             0.5,
             "#f7f7f7"
            ],
            [
             0.6,
             "#e6f5d0"
            ],
            [
             0.7,
             "#b8e186"
            ],
            [
             0.8,
             "#7fbc41"
            ],
            [
             0.9,
             "#4d9221"
            ],
            [
             1,
             "#276419"
            ]
           ],
           "sequential": [
            [
             0,
             "#0d0887"
            ],
            [
             0.1111111111111111,
             "#46039f"
            ],
            [
             0.2222222222222222,
             "#7201a8"
            ],
            [
             0.3333333333333333,
             "#9c179e"
            ],
            [
             0.4444444444444444,
             "#bd3786"
            ],
            [
             0.5555555555555556,
             "#d8576b"
            ],
            [
             0.6666666666666666,
             "#ed7953"
            ],
            [
             0.7777777777777778,
             "#fb9f3a"
            ],
            [
             0.8888888888888888,
             "#fdca26"
            ],
            [
             1,
             "#f0f921"
            ]
           ],
           "sequentialminus": [
            [
             0,
             "#0d0887"
            ],
            [
             0.1111111111111111,
             "#46039f"
            ],
            [
             0.2222222222222222,
             "#7201a8"
            ],
            [
             0.3333333333333333,
             "#9c179e"
            ],
            [
             0.4444444444444444,
             "#bd3786"
            ],
            [
             0.5555555555555556,
             "#d8576b"
            ],
            [
             0.6666666666666666,
             "#ed7953"
            ],
            [
             0.7777777777777778,
             "#fb9f3a"
            ],
            [
             0.8888888888888888,
             "#fdca26"
            ],
            [
             1,
             "#f0f921"
            ]
           ]
          },
          "colorway": [
           "#636efa",
           "#EF553B",
           "#00cc96",
           "#ab63fa",
           "#FFA15A",
           "#19d3f3",
           "#FF6692",
           "#B6E880",
           "#FF97FF",
           "#FECB52"
          ],
          "font": {
           "color": "#2a3f5f"
          },
          "geo": {
           "bgcolor": "white",
           "lakecolor": "white",
           "landcolor": "#E5ECF6",
           "showlakes": true,
           "showland": true,
           "subunitcolor": "white"
          },
          "hoverlabel": {
           "align": "left"
          },
          "hovermode": "closest",
          "mapbox": {
           "style": "light"
          },
          "paper_bgcolor": "white",
          "plot_bgcolor": "#E5ECF6",
          "polar": {
           "angularaxis": {
            "gridcolor": "white",
            "linecolor": "white",
            "ticks": ""
           },
           "bgcolor": "#E5ECF6",
           "radialaxis": {
            "gridcolor": "white",
            "linecolor": "white",
            "ticks": ""
           }
          },
          "scene": {
           "xaxis": {
            "backgroundcolor": "#E5ECF6",
            "gridcolor": "white",
            "gridwidth": 2,
            "linecolor": "white",
            "showbackground": true,
            "ticks": "",
            "zerolinecolor": "white"
           },
           "yaxis": {
            "backgroundcolor": "#E5ECF6",
            "gridcolor": "white",
            "gridwidth": 2,
            "linecolor": "white",
            "showbackground": true,
            "ticks": "",
            "zerolinecolor": "white"
           },
           "zaxis": {
            "backgroundcolor": "#E5ECF6",
            "gridcolor": "white",
            "gridwidth": 2,
            "linecolor": "white",
            "showbackground": true,
            "ticks": "",
            "zerolinecolor": "white"
           }
          },
          "shapedefaults": {
           "line": {
            "color": "#2a3f5f"
           }
          },
          "ternary": {
           "aaxis": {
            "gridcolor": "white",
            "linecolor": "white",
            "ticks": ""
           },
           "baxis": {
            "gridcolor": "white",
            "linecolor": "white",
            "ticks": ""
           },
           "bgcolor": "#E5ECF6",
           "caxis": {
            "gridcolor": "white",
            "linecolor": "white",
            "ticks": ""
           }
          },
          "title": {
           "x": 0.05
          },
          "xaxis": {
           "automargin": true,
           "gridcolor": "white",
           "linecolor": "white",
           "ticks": "",
           "title": {
            "standoff": 15
           },
           "zerolinecolor": "white",
           "zerolinewidth": 2
          },
          "yaxis": {
           "automargin": true,
           "gridcolor": "white",
           "linecolor": "white",
           "ticks": "",
           "title": {
            "standoff": 15
           },
           "zerolinecolor": "white",
           "zerolinewidth": 2
          }
         }
        }
       }
      }
     },
     "metadata": {},
     "output_type": "display_data"
    }
   ],
   "source": [
    "df = df_pos_init\n",
    "df[\"rating\"] = df[\"rating\"].astype(\"category\")\n",
    "fig = px.scatter_3d(df, x='PC1', y='PC2', z='PC3', color='rating')\n",
    "fig.show()"
   ]
  },
  {
   "cell_type": "code",
   "execution_count": 61,
   "id": "f964d7a5",
   "metadata": {},
   "outputs": [
    {
     "data": {
      "application/vnd.plotly.v1+json": {
       "config": {
        "plotlyServerURL": "https://plot.ly"
       },
       "data": [
        {
         "hovertemplate": "rating=3.0<br>PC1=%{x}<br>PC2=%{y}<br>PC3=%{z}<extra></extra>",
         "legendgroup": "3.0",
         "marker": {
          "color": "#636efa",
          "symbol": "circle"
         },
         "mode": "markers",
         "name": "3.0",
         "scene": "scene",
         "showlegend": true,
         "type": "scatter3d",
         "x": {
          "bdata": "7cad+5VVqT8ptJlkWzXRvwQ8Bh/+pOC/KIcHp3VA5b+LfofsnADEP/M+CY8l5eK/EAH3BXJb3D8=",
          "dtype": "f8"
         },
         "y": {
          "bdata": "WnCOM/rJnL+Q/4WCqvLCP7MOtXMz+9m/njsPM3fskj9X0JYW+JXWv/66r/Ner46/NZfBO0jO3r8=",
          "dtype": "f8"
         },
         "z": {
          "bdata": "egx3KZ26qj+8UsXBDMPVP5uaAHsGhm4/jjMSvLEa0T9u9grz9IXcv0RBLK7u38q/az6jcmKm3L8=",
          "dtype": "f8"
         }
        },
        {
         "hovertemplate": "rating=0.0<br>PC1=%{x}<br>PC2=%{y}<br>PC3=%{z}<extra></extra>",
         "legendgroup": "0.0",
         "marker": {
          "color": "#EF553B",
          "symbol": "circle"
         },
         "mode": "markers",
         "name": "0.0",
         "scene": "scene",
         "showlegend": true,
         "type": "scatter3d",
         "x": {
          "bdata": "1uBREt0y6z8y8s5iHFvFvx8CsbXuUre//jq7jM2W1j8DcAT0PF6qv2XPYaF6ltO/1rqnfXrJ478sFXThQPfXP81PQqoZzOW/aiO1qYzr6j8=",
          "dtype": "f8"
         },
         "y": {
          "bdata": "N+jv1KKXxT/WgGQyXb/kP00Qd7ldh+C/H8U6huvR3T/nA1JkOBjlPx175bWJTIg/oxP/AB4uxD/moTUgmlDdP8rqF+r0k5U/6aJhbfM1sD8=",
          "dtype": "f8"
         },
         "z": {
          "bdata": "qksxLhko0j+ZCUDWUTGwP92IXDizIcc/O4n18B89qL/CsIObUTqXv9aRUYC0I9c/emibrA2D1b+ZTKys9defv+68iCExFtE/ZU79kUYYyD8=",
          "dtype": "f8"
         }
        },
        {
         "hovertemplate": "rating=1.0<br>PC1=%{x}<br>PC2=%{y}<br>PC3=%{z}<extra></extra>",
         "legendgroup": "1.0",
         "marker": {
          "color": "#00cc96",
          "symbol": "circle"
         },
         "mode": "markers",
         "name": "1.0",
         "scene": "scene",
         "showlegend": true,
         "type": "scatter3d",
         "x": {
          "bdata": "yVj3iwls5L+8GkeZ3C/nP/g5Xu0nTta/gD7rzGY+2b8PCtHkgUTePw==",
          "dtype": "f8"
         },
         "y": {
          "bdata": "obPRGhZcuL/AesCBMruzP0Xvsql0Csc/J0idpwqv3b8Njsgn1a6/vw==",
          "dtype": "f8"
         },
         "z": {
          "bdata": "b4Ksvsxh0L89zQkiSPDTv7/2LbP1b6A/cJ0nB9xawL8Dvw4xkJngvw==",
          "dtype": "f8"
         }
        },
        {
         "hovertemplate": "rating=2.0<br>PC1=%{x}<br>PC2=%{y}<br>PC3=%{z}<extra></extra>",
         "legendgroup": "2.0",
         "marker": {
          "color": "#ab63fa",
          "symbol": "circle"
         },
         "mode": "markers",
         "name": "2.0",
         "scene": "scene",
         "showlegend": true,
         "type": "scatter3d",
         "x": {
          "bdata": "3krb/UywqD8wqlY4wgfbP9O5COF0k8u/",
          "dtype": "f8"
         },
         "y": {
          "bdata": "BvLe+5YM1r9SgBtUNvrRv83BtNYtztE/",
          "dtype": "f8"
         },
         "z": {
          "bdata": "KIR9MlZm4j+AGAOAOmXaPwNgIpnGT9u/",
          "dtype": "f8"
         }
        }
       ],
       "layout": {
        "legend": {
         "title": {
          "text": "rating"
         },
         "tracegroupgap": 0
        },
        "margin": {
         "t": 60
        },
        "scene": {
         "domain": {
          "x": [
           0,
           1
          ],
          "y": [
           0,
           1
          ]
         },
         "xaxis": {
          "title": {
           "text": "PC1"
          }
         },
         "yaxis": {
          "title": {
           "text": "PC2"
          }
         },
         "zaxis": {
          "title": {
           "text": "PC3"
          }
         }
        },
        "template": {
         "data": {
          "bar": [
           {
            "error_x": {
             "color": "#2a3f5f"
            },
            "error_y": {
             "color": "#2a3f5f"
            },
            "marker": {
             "line": {
              "color": "#E5ECF6",
              "width": 0.5
             },
             "pattern": {
              "fillmode": "overlay",
              "size": 10,
              "solidity": 0.2
             }
            },
            "type": "bar"
           }
          ],
          "barpolar": [
           {
            "marker": {
             "line": {
              "color": "#E5ECF6",
              "width": 0.5
             },
             "pattern": {
              "fillmode": "overlay",
              "size": 10,
              "solidity": 0.2
             }
            },
            "type": "barpolar"
           }
          ],
          "carpet": [
           {
            "aaxis": {
             "endlinecolor": "#2a3f5f",
             "gridcolor": "white",
             "linecolor": "white",
             "minorgridcolor": "white",
             "startlinecolor": "#2a3f5f"
            },
            "baxis": {
             "endlinecolor": "#2a3f5f",
             "gridcolor": "white",
             "linecolor": "white",
             "minorgridcolor": "white",
             "startlinecolor": "#2a3f5f"
            },
            "type": "carpet"
           }
          ],
          "choropleth": [
           {
            "colorbar": {
             "outlinewidth": 0,
             "ticks": ""
            },
            "type": "choropleth"
           }
          ],
          "contour": [
           {
            "colorbar": {
             "outlinewidth": 0,
             "ticks": ""
            },
            "colorscale": [
             [
              0,
              "#0d0887"
             ],
             [
              0.1111111111111111,
              "#46039f"
             ],
             [
              0.2222222222222222,
              "#7201a8"
             ],
             [
              0.3333333333333333,
              "#9c179e"
             ],
             [
              0.4444444444444444,
              "#bd3786"
             ],
             [
              0.5555555555555556,
              "#d8576b"
             ],
             [
              0.6666666666666666,
              "#ed7953"
             ],
             [
              0.7777777777777778,
              "#fb9f3a"
             ],
             [
              0.8888888888888888,
              "#fdca26"
             ],
             [
              1,
              "#f0f921"
             ]
            ],
            "type": "contour"
           }
          ],
          "contourcarpet": [
           {
            "colorbar": {
             "outlinewidth": 0,
             "ticks": ""
            },
            "type": "contourcarpet"
           }
          ],
          "heatmap": [
           {
            "colorbar": {
             "outlinewidth": 0,
             "ticks": ""
            },
            "colorscale": [
             [
              0,
              "#0d0887"
             ],
             [
              0.1111111111111111,
              "#46039f"
             ],
             [
              0.2222222222222222,
              "#7201a8"
             ],
             [
              0.3333333333333333,
              "#9c179e"
             ],
             [
              0.4444444444444444,
              "#bd3786"
             ],
             [
              0.5555555555555556,
              "#d8576b"
             ],
             [
              0.6666666666666666,
              "#ed7953"
             ],
             [
              0.7777777777777778,
              "#fb9f3a"
             ],
             [
              0.8888888888888888,
              "#fdca26"
             ],
             [
              1,
              "#f0f921"
             ]
            ],
            "type": "heatmap"
           }
          ],
          "histogram": [
           {
            "marker": {
             "pattern": {
              "fillmode": "overlay",
              "size": 10,
              "solidity": 0.2
             }
            },
            "type": "histogram"
           }
          ],
          "histogram2d": [
           {
            "colorbar": {
             "outlinewidth": 0,
             "ticks": ""
            },
            "colorscale": [
             [
              0,
              "#0d0887"
             ],
             [
              0.1111111111111111,
              "#46039f"
             ],
             [
              0.2222222222222222,
              "#7201a8"
             ],
             [
              0.3333333333333333,
              "#9c179e"
             ],
             [
              0.4444444444444444,
              "#bd3786"
             ],
             [
              0.5555555555555556,
              "#d8576b"
             ],
             [
              0.6666666666666666,
              "#ed7953"
             ],
             [
              0.7777777777777778,
              "#fb9f3a"
             ],
             [
              0.8888888888888888,
              "#fdca26"
             ],
             [
              1,
              "#f0f921"
             ]
            ],
            "type": "histogram2d"
           }
          ],
          "histogram2dcontour": [
           {
            "colorbar": {
             "outlinewidth": 0,
             "ticks": ""
            },
            "colorscale": [
             [
              0,
              "#0d0887"
             ],
             [
              0.1111111111111111,
              "#46039f"
             ],
             [
              0.2222222222222222,
              "#7201a8"
             ],
             [
              0.3333333333333333,
              "#9c179e"
             ],
             [
              0.4444444444444444,
              "#bd3786"
             ],
             [
              0.5555555555555556,
              "#d8576b"
             ],
             [
              0.6666666666666666,
              "#ed7953"
             ],
             [
              0.7777777777777778,
              "#fb9f3a"
             ],
             [
              0.8888888888888888,
              "#fdca26"
             ],
             [
              1,
              "#f0f921"
             ]
            ],
            "type": "histogram2dcontour"
           }
          ],
          "mesh3d": [
           {
            "colorbar": {
             "outlinewidth": 0,
             "ticks": ""
            },
            "type": "mesh3d"
           }
          ],
          "parcoords": [
           {
            "line": {
             "colorbar": {
              "outlinewidth": 0,
              "ticks": ""
             }
            },
            "type": "parcoords"
           }
          ],
          "pie": [
           {
            "automargin": true,
            "type": "pie"
           }
          ],
          "scatter": [
           {
            "fillpattern": {
             "fillmode": "overlay",
             "size": 10,
             "solidity": 0.2
            },
            "type": "scatter"
           }
          ],
          "scatter3d": [
           {
            "line": {
             "colorbar": {
              "outlinewidth": 0,
              "ticks": ""
             }
            },
            "marker": {
             "colorbar": {
              "outlinewidth": 0,
              "ticks": ""
             }
            },
            "type": "scatter3d"
           }
          ],
          "scattercarpet": [
           {
            "marker": {
             "colorbar": {
              "outlinewidth": 0,
              "ticks": ""
             }
            },
            "type": "scattercarpet"
           }
          ],
          "scattergeo": [
           {
            "marker": {
             "colorbar": {
              "outlinewidth": 0,
              "ticks": ""
             }
            },
            "type": "scattergeo"
           }
          ],
          "scattergl": [
           {
            "marker": {
             "colorbar": {
              "outlinewidth": 0,
              "ticks": ""
             }
            },
            "type": "scattergl"
           }
          ],
          "scattermap": [
           {
            "marker": {
             "colorbar": {
              "outlinewidth": 0,
              "ticks": ""
             }
            },
            "type": "scattermap"
           }
          ],
          "scattermapbox": [
           {
            "marker": {
             "colorbar": {
              "outlinewidth": 0,
              "ticks": ""
             }
            },
            "type": "scattermapbox"
           }
          ],
          "scatterpolar": [
           {
            "marker": {
             "colorbar": {
              "outlinewidth": 0,
              "ticks": ""
             }
            },
            "type": "scatterpolar"
           }
          ],
          "scatterpolargl": [
           {
            "marker": {
             "colorbar": {
              "outlinewidth": 0,
              "ticks": ""
             }
            },
            "type": "scatterpolargl"
           }
          ],
          "scatterternary": [
           {
            "marker": {
             "colorbar": {
              "outlinewidth": 0,
              "ticks": ""
             }
            },
            "type": "scatterternary"
           }
          ],
          "surface": [
           {
            "colorbar": {
             "outlinewidth": 0,
             "ticks": ""
            },
            "colorscale": [
             [
              0,
              "#0d0887"
             ],
             [
              0.1111111111111111,
              "#46039f"
             ],
             [
              0.2222222222222222,
              "#7201a8"
             ],
             [
              0.3333333333333333,
              "#9c179e"
             ],
             [
              0.4444444444444444,
              "#bd3786"
             ],
             [
              0.5555555555555556,
              "#d8576b"
             ],
             [
              0.6666666666666666,
              "#ed7953"
             ],
             [
              0.7777777777777778,
              "#fb9f3a"
             ],
             [
              0.8888888888888888,
              "#fdca26"
             ],
             [
              1,
              "#f0f921"
             ]
            ],
            "type": "surface"
           }
          ],
          "table": [
           {
            "cells": {
             "fill": {
              "color": "#EBF0F8"
             },
             "line": {
              "color": "white"
             }
            },
            "header": {
             "fill": {
              "color": "#C8D4E3"
             },
             "line": {
              "color": "white"
             }
            },
            "type": "table"
           }
          ]
         },
         "layout": {
          "annotationdefaults": {
           "arrowcolor": "#2a3f5f",
           "arrowhead": 0,
           "arrowwidth": 1
          },
          "autotypenumbers": "strict",
          "coloraxis": {
           "colorbar": {
            "outlinewidth": 0,
            "ticks": ""
           }
          },
          "colorscale": {
           "diverging": [
            [
             0,
             "#8e0152"
            ],
            [
             0.1,
             "#c51b7d"
            ],
            [
             0.2,
             "#de77ae"
            ],
            [
             0.3,
             "#f1b6da"
            ],
            [
             0.4,
             "#fde0ef"
            ],
            [
             0.5,
             "#f7f7f7"
            ],
            [
             0.6,
             "#e6f5d0"
            ],
            [
             0.7,
             "#b8e186"
            ],
            [
             0.8,
             "#7fbc41"
            ],
            [
             0.9,
             "#4d9221"
            ],
            [
             1,
             "#276419"
            ]
           ],
           "sequential": [
            [
             0,
             "#0d0887"
            ],
            [
             0.1111111111111111,
             "#46039f"
            ],
            [
             0.2222222222222222,
             "#7201a8"
            ],
            [
             0.3333333333333333,
             "#9c179e"
            ],
            [
             0.4444444444444444,
             "#bd3786"
            ],
            [
             0.5555555555555556,
             "#d8576b"
            ],
            [
             0.6666666666666666,
             "#ed7953"
            ],
            [
             0.7777777777777778,
             "#fb9f3a"
            ],
            [
             0.8888888888888888,
             "#fdca26"
            ],
            [
             1,
             "#f0f921"
            ]
           ],
           "sequentialminus": [
            [
             0,
             "#0d0887"
            ],
            [
             0.1111111111111111,
             "#46039f"
            ],
            [
             0.2222222222222222,
             "#7201a8"
            ],
            [
             0.3333333333333333,
             "#9c179e"
            ],
            [
             0.4444444444444444,
             "#bd3786"
            ],
            [
             0.5555555555555556,
             "#d8576b"
            ],
            [
             0.6666666666666666,
             "#ed7953"
            ],
            [
             0.7777777777777778,
             "#fb9f3a"
            ],
            [
             0.8888888888888888,
             "#fdca26"
            ],
            [
             1,
             "#f0f921"
            ]
           ]
          },
          "colorway": [
           "#636efa",
           "#EF553B",
           "#00cc96",
           "#ab63fa",
           "#FFA15A",
           "#19d3f3",
           "#FF6692",
           "#B6E880",
           "#FF97FF",
           "#FECB52"
          ],
          "font": {
           "color": "#2a3f5f"
          },
          "geo": {
           "bgcolor": "white",
           "lakecolor": "white",
           "landcolor": "#E5ECF6",
           "showlakes": true,
           "showland": true,
           "subunitcolor": "white"
          },
          "hoverlabel": {
           "align": "left"
          },
          "hovermode": "closest",
          "mapbox": {
           "style": "light"
          },
          "paper_bgcolor": "white",
          "plot_bgcolor": "#E5ECF6",
          "polar": {
           "angularaxis": {
            "gridcolor": "white",
            "linecolor": "white",
            "ticks": ""
           },
           "bgcolor": "#E5ECF6",
           "radialaxis": {
            "gridcolor": "white",
            "linecolor": "white",
            "ticks": ""
           }
          },
          "scene": {
           "xaxis": {
            "backgroundcolor": "#E5ECF6",
            "gridcolor": "white",
            "gridwidth": 2,
            "linecolor": "white",
            "showbackground": true,
            "ticks": "",
            "zerolinecolor": "white"
           },
           "yaxis": {
            "backgroundcolor": "#E5ECF6",
            "gridcolor": "white",
            "gridwidth": 2,
            "linecolor": "white",
            "showbackground": true,
            "ticks": "",
            "zerolinecolor": "white"
           },
           "zaxis": {
            "backgroundcolor": "#E5ECF6",
            "gridcolor": "white",
            "gridwidth": 2,
            "linecolor": "white",
            "showbackground": true,
            "ticks": "",
            "zerolinecolor": "white"
           }
          },
          "shapedefaults": {
           "line": {
            "color": "#2a3f5f"
           }
          },
          "ternary": {
           "aaxis": {
            "gridcolor": "white",
            "linecolor": "white",
            "ticks": ""
           },
           "baxis": {
            "gridcolor": "white",
            "linecolor": "white",
            "ticks": ""
           },
           "bgcolor": "#E5ECF6",
           "caxis": {
            "gridcolor": "white",
            "linecolor": "white",
            "ticks": ""
           }
          },
          "title": {
           "x": 0.05
          },
          "xaxis": {
           "automargin": true,
           "gridcolor": "white",
           "linecolor": "white",
           "ticks": "",
           "title": {
            "standoff": 15
           },
           "zerolinecolor": "white",
           "zerolinewidth": 2
          },
          "yaxis": {
           "automargin": true,
           "gridcolor": "white",
           "linecolor": "white",
           "ticks": "",
           "title": {
            "standoff": 15
           },
           "zerolinecolor": "white",
           "zerolinewidth": 2
          }
         }
        }
       }
      }
     },
     "metadata": {},
     "output_type": "display_data"
    }
   ],
   "source": [
    "df = df_pos\n",
    "df[\"rating\"] = df[\"rating\"].astype(\"category\")\n",
    "fig = px.scatter_3d(df, x='PC1', y='PC2', z='PC3', color='rating')\n",
    "fig.show()"
   ]
  },
  {
   "cell_type": "code",
   "execution_count": 63,
   "id": "3d9f26fb",
   "metadata": {},
   "outputs": [
    {
     "data": {
      "application/vnd.plotly.v1+json": {
       "config": {
        "plotlyServerURL": "https://plot.ly"
       },
       "data": [
        {
         "hovertemplate": "rating=3.0<br>PC1=%{x}<br>PC2=%{y}<extra></extra>",
         "legendgroup": "3.0",
         "marker": {
          "color": "#636efa",
          "size": 12,
          "symbol": "circle"
         },
         "mode": "markers",
         "name": "3.0",
         "orientation": "v",
         "showlegend": true,
         "type": "scatter",
         "x": {
          "bdata": "qRu/rlXslD92oSoHY1bdvzMueua2nuW/SsFMmqBJ479tG1lV7l/nPwnMlAxsPsa//JIwyWGZ6z8=",
          "dtype": "f8"
         },
         "xaxis": "x",
         "y": {
          "bdata": "HE5H9fSAuD8y7GFlr63Mv6Hw+BENN96/oJmNmWsVzL9ZiqlWJlmYv9y6WOqVtuO/uDWdo5sc1D8=",
          "dtype": "f8"
         },
         "yaxis": "y"
        },
        {
         "hovertemplate": "rating=0.0<br>PC1=%{x}<br>PC2=%{y}<extra></extra>",
         "legendgroup": "0.0",
         "marker": {
          "color": "#EF553B",
          "size": 12,
          "symbol": "circle"
         },
         "mode": "markers",
         "name": "0.0",
         "orientation": "v",
         "showlegend": true,
         "type": "scatter",
         "x": {
          "bdata": "UlvYcn7x7D9WSCywS5nIP46xoZ0V8uS/pZiL+kW+ib+/YW6Y0W/gv314e0JTz8A/JRu0aAJ7yr+0pHptk1jgvwWZMLHogOe/mevuWPtt6z8=",
          "dtype": "f8"
         },
         "xaxis": "x",
         "y": {
          "bdata": "3ITY0LhObz9qRSw6p2XOP/2Yrtl9AOG/FzXpRsuY5D/eu+31GMDiP8zYTYMBj80/wJ1CsPOU4r81zZ9uy6DaPywN0nQayLY/99H4D3s8vr8=",
          "dtype": "f8"
         },
         "yaxis": "y"
        },
        {
         "hovertemplate": "rating=1.0<br>PC1=%{x}<br>PC2=%{y}<extra></extra>",
         "legendgroup": "1.0",
         "marker": {
          "color": "#00cc96",
          "size": 12,
          "symbol": "circle"
         },
         "mode": "markers",
         "name": "1.0",
         "orientation": "v",
         "showlegend": true,
         "type": "scatter",
         "x": {
          "bdata": "lTQv1x9z4b9Dns2vfwLiP9rN3j5ni9W/M653Ectb5b+ayhvcWgPpPw==",
          "dtype": "f8"
         },
         "xaxis": "x",
         "y": {
          "bdata": "y44lSPbF4z9nECH8+SjfP8WdJ0IiiuK/B6ZIq5J0vT9udGwKDjm+Pw==",
          "dtype": "f8"
         },
         "yaxis": "y"
        },
        {
         "hovertemplate": "rating=2.0<br>PC1=%{x}<br>PC2=%{y}<extra></extra>",
         "legendgroup": "2.0",
         "marker": {
          "color": "#ab63fa",
          "size": 12,
          "symbol": "circle"
         },
         "mode": "markers",
         "name": "2.0",
         "orientation": "v",
         "showlegend": true,
         "type": "scatter",
         "x": {
          "bdata": "SuHott5j5z94H330+rTjPz7Xxlzv7+W/",
          "dtype": "f8"
         },
         "xaxis": "x",
         "y": {
          "bdata": "cB+f6lSN0r/J0xk4M9Xgv0s8ybVnUdw/",
          "dtype": "f8"
         },
         "yaxis": "y"
        },
        {
         "hovertemplate": "rating=3.0<br>PC1=%{x}<br>PC2=%{y}<extra></extra>",
         "legendgroup": "3.0",
         "marker": {
          "color": "#636efa",
          "size": 12,
          "symbol": "circle"
         },
         "mode": "markers",
         "name": "3.0",
         "orientation": "v",
         "showlegend": true,
         "type": "scatter",
         "x": {
          "bdata": "7cad+5VVqT8ptJlkWzXRvwQ8Bh/+pOC/KIcHp3VA5b+LfofsnADEP/M+CY8l5eK/EAH3BXJb3D8=",
          "dtype": "f8"
         },
         "xaxis": "x2",
         "y": {
          "bdata": "WnCOM/rJnL+Q/4WCqvLCP7MOtXMz+9m/njsPM3fskj9X0JYW+JXWv/66r/Ner46/NZfBO0jO3r8=",
          "dtype": "f8"
         },
         "yaxis": "y2"
        },
        {
         "hovertemplate": "rating=0.0<br>PC1=%{x}<br>PC2=%{y}<extra></extra>",
         "legendgroup": "0.0",
         "marker": {
          "color": "#EF553B",
          "size": 12,
          "symbol": "circle"
         },
         "mode": "markers",
         "name": "0.0",
         "orientation": "v",
         "showlegend": true,
         "type": "scatter",
         "x": {
          "bdata": "1uBREt0y6z8y8s5iHFvFvx8CsbXuUre//jq7jM2W1j8DcAT0PF6qv2XPYaF6ltO/1rqnfXrJ478sFXThQPfXP81PQqoZzOW/aiO1qYzr6j8=",
          "dtype": "f8"
         },
         "xaxis": "x2",
         "y": {
          "bdata": "N+jv1KKXxT/WgGQyXb/kP00Qd7ldh+C/H8U6huvR3T/nA1JkOBjlPx175bWJTIg/oxP/AB4uxD/moTUgmlDdP8rqF+r0k5U/6aJhbfM1sD8=",
          "dtype": "f8"
         },
         "yaxis": "y2"
        },
        {
         "hovertemplate": "rating=1.0<br>PC1=%{x}<br>PC2=%{y}<extra></extra>",
         "legendgroup": "1.0",
         "marker": {
          "color": "#00cc96",
          "size": 12,
          "symbol": "circle"
         },
         "mode": "markers",
         "name": "1.0",
         "orientation": "v",
         "showlegend": true,
         "type": "scatter",
         "x": {
          "bdata": "yVj3iwls5L+8GkeZ3C/nP/g5Xu0nTta/gD7rzGY+2b8PCtHkgUTePw==",
          "dtype": "f8"
         },
         "xaxis": "x2",
         "y": {
          "bdata": "obPRGhZcuL/AesCBMruzP0Xvsql0Csc/J0idpwqv3b8Njsgn1a6/vw==",
          "dtype": "f8"
         },
         "yaxis": "y2"
        },
        {
         "hovertemplate": "rating=2.0<br>PC1=%{x}<br>PC2=%{y}<extra></extra>",
         "legendgroup": "2.0",
         "marker": {
          "color": "#ab63fa",
          "size": 12,
          "symbol": "circle"
         },
         "mode": "markers",
         "name": "2.0",
         "orientation": "v",
         "showlegend": true,
         "type": "scatter",
         "x": {
          "bdata": "3krb/UywqD8wqlY4wgfbP9O5COF0k8u/",
          "dtype": "f8"
         },
         "xaxis": "x2",
         "y": {
          "bdata": "BvLe+5YM1r9SgBtUNvrRv83BtNYtztE/",
          "dtype": "f8"
         },
         "yaxis": "y2"
        }
       ],
       "layout": {
        "annotations": [
         {
          "font": {
           "size": 16
          },
          "showarrow": false,
          "text": "Initialization",
          "x": 0.225,
          "xanchor": "center",
          "xref": "paper",
          "y": 1,
          "yanchor": "bottom",
          "yref": "paper"
         },
         {
          "font": {
           "size": 16
          },
          "showarrow": false,
          "text": "Trained",
          "x": 0.775,
          "xanchor": "center",
          "xref": "paper",
          "y": 1,
          "yanchor": "bottom",
          "yref": "paper"
         }
        ],
        "height": 450,
        "legend": {
         "title": {
          "text": "Group"
         }
        },
        "margin": {
         "b": 40,
         "l": 60,
         "r": 30,
         "t": 60
        },
        "template": {
         "data": {
          "bar": [
           {
            "error_x": {
             "color": "#2a3f5f"
            },
            "error_y": {
             "color": "#2a3f5f"
            },
            "marker": {
             "line": {
              "color": "white",
              "width": 0.5
             },
             "pattern": {
              "fillmode": "overlay",
              "size": 10,
              "solidity": 0.2
             }
            },
            "type": "bar"
           }
          ],
          "barpolar": [
           {
            "marker": {
             "line": {
              "color": "white",
              "width": 0.5
             },
             "pattern": {
              "fillmode": "overlay",
              "size": 10,
              "solidity": 0.2
             }
            },
            "type": "barpolar"
           }
          ],
          "carpet": [
           {
            "aaxis": {
             "endlinecolor": "#2a3f5f",
             "gridcolor": "#C8D4E3",
             "linecolor": "#C8D4E3",
             "minorgridcolor": "#C8D4E3",
             "startlinecolor": "#2a3f5f"
            },
            "baxis": {
             "endlinecolor": "#2a3f5f",
             "gridcolor": "#C8D4E3",
             "linecolor": "#C8D4E3",
             "minorgridcolor": "#C8D4E3",
             "startlinecolor": "#2a3f5f"
            },
            "type": "carpet"
           }
          ],
          "choropleth": [
           {
            "colorbar": {
             "outlinewidth": 0,
             "ticks": ""
            },
            "type": "choropleth"
           }
          ],
          "contour": [
           {
            "colorbar": {
             "outlinewidth": 0,
             "ticks": ""
            },
            "colorscale": [
             [
              0,
              "#0d0887"
             ],
             [
              0.1111111111111111,
              "#46039f"
             ],
             [
              0.2222222222222222,
              "#7201a8"
             ],
             [
              0.3333333333333333,
              "#9c179e"
             ],
             [
              0.4444444444444444,
              "#bd3786"
             ],
             [
              0.5555555555555556,
              "#d8576b"
             ],
             [
              0.6666666666666666,
              "#ed7953"
             ],
             [
              0.7777777777777778,
              "#fb9f3a"
             ],
             [
              0.8888888888888888,
              "#fdca26"
             ],
             [
              1,
              "#f0f921"
             ]
            ],
            "type": "contour"
           }
          ],
          "contourcarpet": [
           {
            "colorbar": {
             "outlinewidth": 0,
             "ticks": ""
            },
            "type": "contourcarpet"
           }
          ],
          "heatmap": [
           {
            "colorbar": {
             "outlinewidth": 0,
             "ticks": ""
            },
            "colorscale": [
             [
              0,
              "#0d0887"
             ],
             [
              0.1111111111111111,
              "#46039f"
             ],
             [
              0.2222222222222222,
              "#7201a8"
             ],
             [
              0.3333333333333333,
              "#9c179e"
             ],
             [
              0.4444444444444444,
              "#bd3786"
             ],
             [
              0.5555555555555556,
              "#d8576b"
             ],
             [
              0.6666666666666666,
              "#ed7953"
             ],
             [
              0.7777777777777778,
              "#fb9f3a"
             ],
             [
              0.8888888888888888,
              "#fdca26"
             ],
             [
              1,
              "#f0f921"
             ]
            ],
            "type": "heatmap"
           }
          ],
          "histogram": [
           {
            "marker": {
             "pattern": {
              "fillmode": "overlay",
              "size": 10,
              "solidity": 0.2
             }
            },
            "type": "histogram"
           }
          ],
          "histogram2d": [
           {
            "colorbar": {
             "outlinewidth": 0,
             "ticks": ""
            },
            "colorscale": [
             [
              0,
              "#0d0887"
             ],
             [
              0.1111111111111111,
              "#46039f"
             ],
             [
              0.2222222222222222,
              "#7201a8"
             ],
             [
              0.3333333333333333,
              "#9c179e"
             ],
             [
              0.4444444444444444,
              "#bd3786"
             ],
             [
              0.5555555555555556,
              "#d8576b"
             ],
             [
              0.6666666666666666,
              "#ed7953"
             ],
             [
              0.7777777777777778,
              "#fb9f3a"
             ],
             [
              0.8888888888888888,
              "#fdca26"
             ],
             [
              1,
              "#f0f921"
             ]
            ],
            "type": "histogram2d"
           }
          ],
          "histogram2dcontour": [
           {
            "colorbar": {
             "outlinewidth": 0,
             "ticks": ""
            },
            "colorscale": [
             [
              0,
              "#0d0887"
             ],
             [
              0.1111111111111111,
              "#46039f"
             ],
             [
              0.2222222222222222,
              "#7201a8"
             ],
             [
              0.3333333333333333,
              "#9c179e"
             ],
             [
              0.4444444444444444,
              "#bd3786"
             ],
             [
              0.5555555555555556,
              "#d8576b"
             ],
             [
              0.6666666666666666,
              "#ed7953"
             ],
             [
              0.7777777777777778,
              "#fb9f3a"
             ],
             [
              0.8888888888888888,
              "#fdca26"
             ],
             [
              1,
              "#f0f921"
             ]
            ],
            "type": "histogram2dcontour"
           }
          ],
          "mesh3d": [
           {
            "colorbar": {
             "outlinewidth": 0,
             "ticks": ""
            },
            "type": "mesh3d"
           }
          ],
          "parcoords": [
           {
            "line": {
             "colorbar": {
              "outlinewidth": 0,
              "ticks": ""
             }
            },
            "type": "parcoords"
           }
          ],
          "pie": [
           {
            "automargin": true,
            "type": "pie"
           }
          ],
          "scatter": [
           {
            "fillpattern": {
             "fillmode": "overlay",
             "size": 10,
             "solidity": 0.2
            },
            "type": "scatter"
           }
          ],
          "scatter3d": [
           {
            "line": {
             "colorbar": {
              "outlinewidth": 0,
              "ticks": ""
             }
            },
            "marker": {
             "colorbar": {
              "outlinewidth": 0,
              "ticks": ""
             }
            },
            "type": "scatter3d"
           }
          ],
          "scattercarpet": [
           {
            "marker": {
             "colorbar": {
              "outlinewidth": 0,
              "ticks": ""
             }
            },
            "type": "scattercarpet"
           }
          ],
          "scattergeo": [
           {
            "marker": {
             "colorbar": {
              "outlinewidth": 0,
              "ticks": ""
             }
            },
            "type": "scattergeo"
           }
          ],
          "scattergl": [
           {
            "marker": {
             "colorbar": {
              "outlinewidth": 0,
              "ticks": ""
             }
            },
            "type": "scattergl"
           }
          ],
          "scattermap": [
           {
            "marker": {
             "colorbar": {
              "outlinewidth": 0,
              "ticks": ""
             }
            },
            "type": "scattermap"
           }
          ],
          "scattermapbox": [
           {
            "marker": {
             "colorbar": {
              "outlinewidth": 0,
              "ticks": ""
             }
            },
            "type": "scattermapbox"
           }
          ],
          "scatterpolar": [
           {
            "marker": {
             "colorbar": {
              "outlinewidth": 0,
              "ticks": ""
             }
            },
            "type": "scatterpolar"
           }
          ],
          "scatterpolargl": [
           {
            "marker": {
             "colorbar": {
              "outlinewidth": 0,
              "ticks": ""
             }
            },
            "type": "scatterpolargl"
           }
          ],
          "scatterternary": [
           {
            "marker": {
             "colorbar": {
              "outlinewidth": 0,
              "ticks": ""
             }
            },
            "type": "scatterternary"
           }
          ],
          "surface": [
           {
            "colorbar": {
             "outlinewidth": 0,
             "ticks": ""
            },
            "colorscale": [
             [
              0,
              "#0d0887"
             ],
             [
              0.1111111111111111,
              "#46039f"
             ],
             [
              0.2222222222222222,
              "#7201a8"
             ],
             [
              0.3333333333333333,
              "#9c179e"
             ],
             [
              0.4444444444444444,
              "#bd3786"
             ],
             [
              0.5555555555555556,
              "#d8576b"
             ],
             [
              0.6666666666666666,
              "#ed7953"
             ],
             [
              0.7777777777777778,
              "#fb9f3a"
             ],
             [
              0.8888888888888888,
              "#fdca26"
             ],
             [
              1,
              "#f0f921"
             ]
            ],
            "type": "surface"
           }
          ],
          "table": [
           {
            "cells": {
             "fill": {
              "color": "#EBF0F8"
             },
             "line": {
              "color": "white"
             }
            },
            "header": {
             "fill": {
              "color": "#C8D4E3"
             },
             "line": {
              "color": "white"
             }
            },
            "type": "table"
           }
          ]
         },
         "layout": {
          "annotationdefaults": {
           "arrowcolor": "#2a3f5f",
           "arrowhead": 0,
           "arrowwidth": 1
          },
          "autotypenumbers": "strict",
          "coloraxis": {
           "colorbar": {
            "outlinewidth": 0,
            "ticks": ""
           }
          },
          "colorscale": {
           "diverging": [
            [
             0,
             "#8e0152"
            ],
            [
             0.1,
             "#c51b7d"
            ],
            [
             0.2,
             "#de77ae"
            ],
            [
             0.3,
             "#f1b6da"
            ],
            [
             0.4,
             "#fde0ef"
            ],
            [
             0.5,
             "#f7f7f7"
            ],
            [
             0.6,
             "#e6f5d0"
            ],
            [
             0.7,
             "#b8e186"
            ],
            [
             0.8,
             "#7fbc41"
            ],
            [
             0.9,
             "#4d9221"
            ],
            [
             1,
             "#276419"
            ]
           ],
           "sequential": [
            [
             0,
             "#0d0887"
            ],
            [
             0.1111111111111111,
             "#46039f"
            ],
            [
             0.2222222222222222,
             "#7201a8"
            ],
            [
             0.3333333333333333,
             "#9c179e"
            ],
            [
             0.4444444444444444,
             "#bd3786"
            ],
            [
             0.5555555555555556,
             "#d8576b"
            ],
            [
             0.6666666666666666,
             "#ed7953"
            ],
            [
             0.7777777777777778,
             "#fb9f3a"
            ],
            [
             0.8888888888888888,
             "#fdca26"
            ],
            [
             1,
             "#f0f921"
            ]
           ],
           "sequentialminus": [
            [
             0,
             "#0d0887"
            ],
            [
             0.1111111111111111,
             "#46039f"
            ],
            [
             0.2222222222222222,
             "#7201a8"
            ],
            [
             0.3333333333333333,
             "#9c179e"
            ],
            [
             0.4444444444444444,
             "#bd3786"
            ],
            [
             0.5555555555555556,
             "#d8576b"
            ],
            [
             0.6666666666666666,
             "#ed7953"
            ],
            [
             0.7777777777777778,
             "#fb9f3a"
            ],
            [
             0.8888888888888888,
             "#fdca26"
            ],
            [
             1,
             "#f0f921"
            ]
           ]
          },
          "colorway": [
           "#636efa",
           "#EF553B",
           "#00cc96",
           "#ab63fa",
           "#FFA15A",
           "#19d3f3",
           "#FF6692",
           "#B6E880",
           "#FF97FF",
           "#FECB52"
          ],
          "font": {
           "color": "#2a3f5f"
          },
          "geo": {
           "bgcolor": "white",
           "lakecolor": "white",
           "landcolor": "white",
           "showlakes": true,
           "showland": true,
           "subunitcolor": "#C8D4E3"
          },
          "hoverlabel": {
           "align": "left"
          },
          "hovermode": "closest",
          "mapbox": {
           "style": "light"
          },
          "paper_bgcolor": "white",
          "plot_bgcolor": "white",
          "polar": {
           "angularaxis": {
            "gridcolor": "#EBF0F8",
            "linecolor": "#EBF0F8",
            "ticks": ""
           },
           "bgcolor": "white",
           "radialaxis": {
            "gridcolor": "#EBF0F8",
            "linecolor": "#EBF0F8",
            "ticks": ""
           }
          },
          "scene": {
           "xaxis": {
            "backgroundcolor": "white",
            "gridcolor": "#DFE8F3",
            "gridwidth": 2,
            "linecolor": "#EBF0F8",
            "showbackground": true,
            "ticks": "",
            "zerolinecolor": "#EBF0F8"
           },
           "yaxis": {
            "backgroundcolor": "white",
            "gridcolor": "#DFE8F3",
            "gridwidth": 2,
            "linecolor": "#EBF0F8",
            "showbackground": true,
            "ticks": "",
            "zerolinecolor": "#EBF0F8"
           },
           "zaxis": {
            "backgroundcolor": "white",
            "gridcolor": "#DFE8F3",
            "gridwidth": 2,
            "linecolor": "#EBF0F8",
            "showbackground": true,
            "ticks": "",
            "zerolinecolor": "#EBF0F8"
           }
          },
          "shapedefaults": {
           "line": {
            "color": "#2a3f5f"
           }
          },
          "ternary": {
           "aaxis": {
            "gridcolor": "#DFE8F3",
            "linecolor": "#A2B1C6",
            "ticks": ""
           },
           "baxis": {
            "gridcolor": "#DFE8F3",
            "linecolor": "#A2B1C6",
            "ticks": ""
           },
           "bgcolor": "white",
           "caxis": {
            "gridcolor": "#DFE8F3",
            "linecolor": "#A2B1C6",
            "ticks": ""
           }
          },
          "title": {
           "x": 0.05
          },
          "xaxis": {
           "automargin": true,
           "gridcolor": "#EBF0F8",
           "linecolor": "#EBF0F8",
           "ticks": "",
           "title": {
            "standoff": 15
           },
           "zerolinecolor": "#EBF0F8",
           "zerolinewidth": 2
          },
          "yaxis": {
           "automargin": true,
           "gridcolor": "#EBF0F8",
           "linecolor": "#EBF0F8",
           "ticks": "",
           "title": {
            "standoff": 15
           },
           "zerolinecolor": "#EBF0F8",
           "zerolinewidth": 2
          }
         }
        },
        "width": 950,
        "xaxis": {
         "anchor": "y",
         "domain": [
          0,
          0.45
         ]
        },
        "xaxis2": {
         "anchor": "y2",
         "domain": [
          0.55,
          1
         ]
        },
        "yaxis": {
         "anchor": "x",
         "domain": [
          0,
          1
         ]
        },
        "yaxis2": {
         "anchor": "x2",
         "domain": [
          0,
          1
         ],
         "matches": "y",
         "showticklabels": false
        }
       }
      }
     },
     "metadata": {},
     "output_type": "display_data"
    }
   ],
   "source": [
    "fig = make_subplots(\n",
    "    rows=1, cols=2,\n",
    "    shared_yaxes=True,          # keep scales aligned (optional)\n",
    "    subplot_titles=(\"Initialization\", \"Trained\")\n",
    ")\n",
    "\n",
    "# --- 3. Create px.scatter for each dataframe and graft its traces ---\n",
    "scatter1 = px.scatter(df_pos_init, x=\"PC1\", y=\"PC2\", color=\"rating\", height=400)\n",
    "scatter1.update_traces(marker=dict(size=12))\n",
    "for tr in scatter1.data:\n",
    "    fig.add_trace(tr, row=1, col=1)       # left axis\n",
    "\n",
    "scatter2 = px.scatter(df_pos, x=\"PC1\", y=\"PC2\", color=\"rating\", height=400)\n",
    "scatter2.update_traces(marker=dict(size=12))\n",
    "for tr in scatter2.data:\n",
    "    fig.add_trace(tr, row=1, col=2)       # right axis\n",
    "\n",
    "# --- 4. Global cosmetics --------------------------------------------\n",
    "fig.update_layout(\n",
    "    template=\"plotly_white\",\n",
    "    width=950, height=450,\n",
    "    legend_title_text=\"Group\",\n",
    "    margin=dict(l=60, r=30, t=60, b=40)\n",
    ")\n",
    "\n",
    "fig.show()"
   ]
  },
  {
   "cell_type": "code",
   "execution_count": null,
   "id": "bc67c419",
   "metadata": {},
   "outputs": [],
   "source": []
  }
 ],
 "metadata": {
  "kernelspec": {
   "display_name": "prochain_transformer",
   "language": "python",
   "name": "python3"
  },
  "language_info": {
   "codemirror_mode": {
    "name": "ipython",
    "version": 3
   },
   "file_extension": ".py",
   "mimetype": "text/x-python",
   "name": "python",
   "nbconvert_exporter": "python",
   "pygments_lexer": "ipython3",
   "version": "3.11.9"
  }
 },
 "nbformat": 4,
 "nbformat_minor": 5
}
