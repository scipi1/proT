{
 "cells": [
  {
   "cell_type": "code",
   "execution_count": 43,
   "id": "df12dddb",
   "metadata": {},
   "outputs": [],
   "source": [
    "import numpy as np\n",
    "import pandas as pd\n",
    "import json\n",
    "import matplotlib.pyplot as plt\n",
    "import torch\n",
    "# import torch.nn as nn\n",
    "# from omegaconf import OmegaConf\n",
    "from os.path import join\n",
    "from os import listdir\n",
    "import re\n",
    "from sklearn.decomposition import PCA\n",
    "import matplotlib.pyplot as plt\n",
    "import seaborn as sns\n",
    "import plotly.express as px\n",
    "from plotly.subplots import make_subplots"
   ]
  },
  {
   "cell_type": "code",
   "execution_count": 26,
   "id": "f2b5aa89",
   "metadata": {},
   "outputs": [],
   "source": [
    "# files\n",
    "var_vocab_filepath = \"../../process_pipeline/data/builds/dx_250415_200_mean_clip/output/variables_vocabulary.json\"\n",
    "pos_vocab_filepath = \"../../process_pipeline/data/builds/dx_250415_200_mean_clip/output/position_vocabulary.json\"\n",
    "rating_filepath = \"../../process_pipeline/data/builds/dx_250415_200_mean_clip/control/steps_selected.xlsx\"\n",
    "\n",
    "with open(var_vocab_filepath, 'r', encoding='utf-8') as file:\n",
    "    inv_var_dict = json.load(file)\n",
    "    \n",
    "with open(pos_vocab_filepath, 'r', encoding='utf-8') as file:\n",
    "    inv_pos_dict = json.load(file)\n",
    "    \n",
    "# maps\n",
    "var_map = {v: k[:3] for k, v in inv_var_dict.items()}\n",
    "pos_map = {v: int(float(k)) for k, v in inv_pos_dict.items()}\n",
    "rate_map = pd.read_excel(rating_filepath).set_index(\"Step\")[\"Bewertung \"].to_dict()"
   ]
  },
  {
   "cell_type": "code",
   "execution_count": 27,
   "id": "cb503cf9",
   "metadata": {},
   "outputs": [
    {
     "data": {
      "text/plain": [
       "{0: 'las',\n",
       " 1: 'las',\n",
       " 2: 'las',\n",
       " 3: 'las',\n",
       " 4: 'las',\n",
       " 5: 'las',\n",
       " 6: 'las',\n",
       " 7: 'las',\n",
       " 8: 'gal',\n",
       " 9: 'gal',\n",
       " 10: 'gal',\n",
       " 11: 'gal',\n",
       " 12: 'gal',\n",
       " 13: 'gal',\n",
       " 14: 'gal',\n",
       " 15: 'gal',\n",
       " 16: 'gal',\n",
       " 17: 'gal',\n",
       " 18: 'gal',\n",
       " 19: 'gal',\n",
       " 20: 'gal',\n",
       " 21: 'gal',\n",
       " 22: 'gal',\n",
       " 23: 'gal',\n",
       " 24: 'gal',\n",
       " 25: 'gal',\n",
       " 26: 'gal',\n",
       " 27: 'gal',\n",
       " 28: 'gal',\n",
       " 29: 'gal',\n",
       " 30: 'gal',\n",
       " 31: 'gal',\n",
       " 32: 'gal',\n",
       " 33: 'gal',\n",
       " 34: 'gal',\n",
       " 35: 'gal',\n",
       " 36: 'gal',\n",
       " 37: 'gal',\n",
       " 38: 'gal',\n",
       " 39: 'gal',\n",
       " 40: 'gal',\n",
       " 41: 'gal',\n",
       " 42: 'gal',\n",
       " 43: 'gal',\n",
       " 44: 'gal',\n",
       " 45: 'gal',\n",
       " 46: 'gal',\n",
       " 47: 'gal',\n",
       " 48: 'gal',\n",
       " 49: 'gal',\n",
       " 50: 'gal',\n",
       " 51: 'gal',\n",
       " 52: 'gal',\n",
       " 53: 'gal',\n",
       " 54: 'gal',\n",
       " 55: 'gal',\n",
       " 56: 'gal',\n",
       " 57: 'gal',\n",
       " 58: 'gal',\n",
       " 59: 'gal',\n",
       " 60: 'gal',\n",
       " 61: 'gal',\n",
       " 62: 'gal',\n",
       " 63: 'gal',\n",
       " 64: 'gal',\n",
       " 65: 'gal',\n",
       " 66: 'gal',\n",
       " 67: 'gal',\n",
       " 68: 'gal',\n",
       " 69: 'gal',\n",
       " 70: 'gal',\n",
       " 71: 'gal',\n",
       " 72: 'gal',\n",
       " 73: 'gal',\n",
       " 74: 'gal',\n",
       " 75: 'gal',\n",
       " 76: 'gal',\n",
       " 77: 'gal',\n",
       " 78: 'gal',\n",
       " 79: 'gal',\n",
       " 80: 'gal',\n",
       " 81: 'gal',\n",
       " 82: 'gal',\n",
       " 83: 'gal',\n",
       " 84: 'gal',\n",
       " 85: 'gal',\n",
       " 86: 'gal',\n",
       " 87: 'gal',\n",
       " 88: 'gal',\n",
       " 89: 'gal',\n",
       " 90: 'gal',\n",
       " 91: 'gal',\n",
       " 92: 'gal',\n",
       " 93: 'gal',\n",
       " 94: 'gal',\n",
       " 95: 'gal',\n",
       " 96: 'gal',\n",
       " 97: 'gal',\n",
       " 98: 'gal',\n",
       " 99: 'gal',\n",
       " 100: 'gal',\n",
       " 101: 'gal',\n",
       " 102: 'gal',\n",
       " 103: 'gal',\n",
       " 104: 'gal',\n",
       " 105: 'gal',\n",
       " 106: 'gal',\n",
       " 107: 'gal',\n",
       " 108: 'gal',\n",
       " 109: 'gal',\n",
       " 110: 'gal',\n",
       " 111: 'gal',\n",
       " 112: 'gal',\n",
       " 113: 'gal',\n",
       " 114: 'gal',\n",
       " 115: 'gal',\n",
       " 116: 'gal',\n",
       " 117: 'gal',\n",
       " 118: 'gal',\n",
       " 119: 'gal',\n",
       " 120: 'gal',\n",
       " 121: 'gal',\n",
       " 122: 'gal',\n",
       " 123: 'gal',\n",
       " 124: 'gal',\n",
       " 125: 'gal',\n",
       " 126: 'gal',\n",
       " 127: 'gal',\n",
       " 128: 'gal',\n",
       " 129: 'gal',\n",
       " 130: 'gal',\n",
       " 131: 'gal',\n",
       " 132: 'gal',\n",
       " 133: 'gal',\n",
       " 134: 'gal',\n",
       " 135: 'gal',\n",
       " 136: 'gal',\n",
       " 137: 'gal',\n",
       " 138: 'gal',\n",
       " 139: 'gal',\n",
       " 140: 'gal',\n",
       " 141: 'gal',\n",
       " 142: 'gal',\n",
       " 143: 'gal',\n",
       " 144: 'gal',\n",
       " 145: 'gal',\n",
       " 146: 'gal',\n",
       " 147: 'gal',\n",
       " 148: 'gal',\n",
       " 149: 'gal',\n",
       " 150: 'gal',\n",
       " 151: 'gal',\n",
       " 152: 'gal',\n",
       " 153: 'gal',\n",
       " 154: 'gal',\n",
       " 155: 'gal',\n",
       " 156: 'gal',\n",
       " 157: 'gal',\n",
       " 158: 'gal',\n",
       " 159: 'gal',\n",
       " 160: 'gal',\n",
       " 161: 'gal',\n",
       " 162: 'gal',\n",
       " 163: 'gal',\n",
       " 164: 'gal',\n",
       " 165: 'gal',\n",
       " 166: 'gal',\n",
       " 167: 'gal',\n",
       " 168: 'gal',\n",
       " 169: 'gal',\n",
       " 170: 'gal',\n",
       " 171: 'gal',\n",
       " 172: 'gal',\n",
       " 173: 'gal',\n",
       " 174: 'gal',\n",
       " 175: 'gal',\n",
       " 176: 'gal',\n",
       " 177: 'gal',\n",
       " 178: 'gal',\n",
       " 179: 'gal',\n",
       " 180: 'gal',\n",
       " 181: 'gal',\n",
       " 182: 'gal',\n",
       " 183: 'gal',\n",
       " 184: 'gal',\n",
       " 185: 'gal',\n",
       " 186: 'gal',\n",
       " 187: 'gal',\n",
       " 188: 'gal',\n",
       " 189: 'gal',\n",
       " 190: 'gal',\n",
       " 191: 'gal',\n",
       " 192: 'gal',\n",
       " 193: 'gal',\n",
       " 194: 'gal',\n",
       " 195: 'gal',\n",
       " 196: 'gal',\n",
       " 197: 'gal',\n",
       " 198: 'gal',\n",
       " 199: 'gal',\n",
       " 200: 'mic',\n",
       " 201: 'mic',\n",
       " 202: 'mic',\n",
       " 203: 'mic',\n",
       " 204: 'mic',\n",
       " 205: 'mic',\n",
       " 206: 'mic',\n",
       " 207: 'mic',\n",
       " 208: 'mic',\n",
       " 209: 'mic',\n",
       " 210: 'mic',\n",
       " 211: 'mic',\n",
       " 212: 'mic',\n",
       " 213: 'mic',\n",
       " 214: 'mic',\n",
       " 215: 'mic',\n",
       " 216: 'mic',\n",
       " 217: 'mic',\n",
       " 218: 'mic',\n",
       " 219: 'mic',\n",
       " 220: 'mic',\n",
       " 221: 'mic',\n",
       " 222: 'mic',\n",
       " 223: 'mic',\n",
       " 224: 'mic',\n",
       " 225: 'mic',\n",
       " 226: 'mic',\n",
       " 227: 'mic',\n",
       " 228: 'mic',\n",
       " 229: 'mic',\n",
       " 230: 'mic',\n",
       " 231: 'mic',\n",
       " 232: 'mic',\n",
       " 233: 'mic',\n",
       " 234: 'mul',\n",
       " 235: 'mul',\n",
       " 236: 'mul',\n",
       " 237: 'mul',\n",
       " 238: 'mul',\n",
       " 239: 'mul',\n",
       " 240: 'mul',\n",
       " 241: 'mul',\n",
       " 242: 'mul',\n",
       " 243: 'mul',\n",
       " 244: 'mul',\n",
       " 245: 'mul',\n",
       " 246: 'mul',\n",
       " 247: 'mul',\n",
       " 248: 'mul',\n",
       " 249: 'mul',\n",
       " 250: 'mul',\n",
       " 251: 'mul',\n",
       " 252: 'mul',\n",
       " 253: 'mul',\n",
       " 254: 'mul',\n",
       " 255: 'mul',\n",
       " 256: 'mul',\n",
       " 257: 'mul',\n",
       " 258: 'mul',\n",
       " 259: 'mul',\n",
       " 260: 'mul',\n",
       " 261: 'mul',\n",
       " 262: 'mul',\n",
       " 263: 'mul',\n",
       " 264: 'mul',\n",
       " 265: 'mul',\n",
       " 266: 'mul',\n",
       " 267: 'mul',\n",
       " 268: 'mul',\n",
       " 269: 'mul',\n",
       " 270: 'mul',\n",
       " 271: 'mul',\n",
       " 272: 'mul',\n",
       " 273: 'mul',\n",
       " 274: 'mul',\n",
       " 275: 'mul',\n",
       " 276: 'mul',\n",
       " 277: 'mul',\n",
       " 278: 'mul',\n",
       " 279: 'mul',\n",
       " 280: 'mul',\n",
       " 281: 'mul',\n",
       " 282: 'mul',\n",
       " 283: 'mul',\n",
       " 284: 'mul',\n",
       " 285: 'mul',\n",
       " 286: 'mul',\n",
       " 287: 'mul',\n",
       " 288: 'mul',\n",
       " 289: 'mul',\n",
       " 290: 'mul',\n",
       " 291: 'mul',\n",
       " 292: 'mul',\n",
       " 293: 'mul',\n",
       " 294: 'mul',\n",
       " 295: 'mul',\n",
       " 296: 'mul',\n",
       " 297: 'mul',\n",
       " 298: 'mul',\n",
       " 299: 'mul',\n",
       " 300: 'mul',\n",
       " 301: 'mul',\n",
       " 302: 'mul',\n",
       " 303: 'mul',\n",
       " 304: 'mul',\n",
       " 305: 'mul',\n",
       " 306: 'mul',\n",
       " 307: 'mul',\n",
       " 308: 'mul',\n",
       " 309: 'mul',\n",
       " 310: 'mul',\n",
       " 311: 'mul',\n",
       " 312: 'mul',\n",
       " 313: 'mul',\n",
       " 314: 'mul',\n",
       " 315: 'mul',\n",
       " 316: 'mul',\n",
       " 317: 'mul',\n",
       " 318: 'mul',\n",
       " 319: 'mul',\n",
       " 320: 'mul',\n",
       " 321: 'mul',\n",
       " 322: 'mul',\n",
       " 323: 'mul',\n",
       " 324: 'mul',\n",
       " 325: 'mul',\n",
       " 326: 'mul',\n",
       " 327: 'mul',\n",
       " 328: 'mul',\n",
       " 329: 'mul',\n",
       " 330: 'mul',\n",
       " 331: 'mul',\n",
       " 332: 'mul',\n",
       " 333: 'mul',\n",
       " 334: 'mul',\n",
       " 335: 'mul',\n",
       " 336: 'mul',\n",
       " 337: 'mul',\n",
       " 338: 'mul',\n",
       " 339: 'mul',\n",
       " 340: 'mul',\n",
       " 341: 'mul',\n",
       " 342: 'mul',\n",
       " 343: 'pla',\n",
       " 344: 'pla',\n",
       " 345: 'pla',\n",
       " 346: 'pla',\n",
       " 347: 'pla',\n",
       " 348: 'pla',\n",
       " 349: 'pla',\n",
       " 350: 'pla',\n",
       " 351: 'pla',\n",
       " 352: 'pla',\n",
       " 353: 'pla',\n",
       " 354: 'pla',\n",
       " 355: 'pla',\n",
       " 356: 'pla',\n",
       " 357: 'pla',\n",
       " 358: 'pla',\n",
       " 359: 'pla',\n",
       " 360: 'pla',\n",
       " 361: 'pla',\n",
       " 362: 'pla',\n",
       " 363: 'pla',\n",
       " 364: 'pla',\n",
       " 365: 'pla',\n",
       " 366: 'pla',\n",
       " 367: 'pla',\n",
       " 368: 'pla',\n",
       " 369: 'pla',\n",
       " 370: 'pla',\n",
       " 371: 'pla',\n",
       " 372: 'pla',\n",
       " 373: 'pla',\n",
       " 374: 'pla',\n",
       " 375: 'pla',\n",
       " 376: 'pla',\n",
       " 377: 'pla',\n",
       " 378: 'pla',\n",
       " 379: 'pla',\n",
       " 380: 'pla',\n",
       " 381: 'pla',\n",
       " 382: 'pla',\n",
       " 383: 'pla',\n",
       " 384: 'pla',\n",
       " 385: 'pla',\n",
       " 386: 'pla',\n",
       " 387: 'pla',\n",
       " 388: 'pla',\n",
       " 389: 'pla',\n",
       " 390: 'pla',\n",
       " 391: 'pla',\n",
       " 392: 'pla',\n",
       " 393: 'pla',\n",
       " 394: 'pla',\n",
       " 395: 'pla',\n",
       " 396: 'pla',\n",
       " 397: 'pla',\n",
       " 398: 'pla',\n",
       " 399: 'del',\n",
       " 400: 'del'}"
      ]
     },
     "execution_count": 27,
     "metadata": {},
     "output_type": "execute_result"
    }
   ],
   "source": [
    "var_map"
   ]
  },
  {
   "cell_type": "code",
   "execution_count": 50,
   "id": "1fffb7c0",
   "metadata": {},
   "outputs": [
    {
     "name": "stdout",
     "output_type": "stream",
     "text": [
      "dict_keys([149, 199, 249, 299, 349, 399, 449, 49, 499, 549, 599, 99])\n",
      "model.enc_embedding.embed_modules_list.0.embedding.embedding.weight torch.Size([400, 100])\n",
      "model.enc_embedding.embed_modules_list.1.embedding.embedding.weight torch.Size([26, 100])\n",
      "model.enc_embedding.embed_modules_list.2.embedding.embedding.weight torch.Size([100, 1])\n",
      "model.enc_embedding.embed_modules_list.2.embedding.embedding.bias torch.Size([100])\n",
      "model.enc_embedding.embed_modules_list.3.embedding.embed_weight torch.Size([5, 20])\n",
      "model.enc_embedding.embed_modules_list.3.embedding.embed_bias torch.Size([5, 20])\n",
      "model.dec_embedding.embed_modules_list.0.embedding.embedding.weight torch.Size([3, 100])\n",
      "model.dec_embedding.embed_modules_list.2.embedding.embedding.weight torch.Size([100, 1])\n",
      "model.dec_embedding.embed_modules_list.2.embedding.embedding.bias torch.Size([100])\n",
      "model.dec_embedding.embed_modules_list.3.embedding.embed_weight torch.Size([5, 20])\n",
      "model.dec_embedding.embed_modules_list.3.embedding.embed_bias torch.Size([5, 20])\n",
      "model.encoder.layers.0.global_attention.query_projection.weight torch.Size([100, 100])\n",
      "model.encoder.layers.0.global_attention.query_projection.bias torch.Size([100])\n",
      "model.encoder.layers.0.global_attention.key_projection.weight torch.Size([100, 100])\n",
      "model.encoder.layers.0.global_attention.key_projection.bias torch.Size([100])\n",
      "model.encoder.layers.0.global_attention.value_projection.weight torch.Size([100, 100])\n",
      "model.encoder.layers.0.global_attention.value_projection.bias torch.Size([100])\n",
      "model.encoder.layers.0.global_attention.out_projection.weight torch.Size([100, 100])\n",
      "model.encoder.layers.0.global_attention.out_projection.bias torch.Size([100])\n",
      "model.encoder.layers.0.norm1.norm.weight torch.Size([100])\n",
      "model.encoder.layers.0.norm1.norm.bias torch.Size([100])\n",
      "model.encoder.layers.0.norm1.norm.running_mean torch.Size([100])\n",
      "model.encoder.layers.0.norm1.norm.running_var torch.Size([100])\n",
      "model.encoder.layers.0.norm1.norm.num_batches_tracked torch.Size([])\n",
      "model.encoder.layers.0.norm2.norm.weight torch.Size([100])\n",
      "model.encoder.layers.0.norm2.norm.bias torch.Size([100])\n",
      "model.encoder.layers.0.norm2.norm.running_mean torch.Size([100])\n",
      "model.encoder.layers.0.norm2.norm.running_var torch.Size([100])\n",
      "model.encoder.layers.0.norm2.norm.num_batches_tracked torch.Size([])\n",
      "model.encoder.layers.0.conv1.weight torch.Size([100, 100, 1])\n",
      "model.encoder.layers.0.conv1.bias torch.Size([100])\n",
      "model.encoder.layers.0.conv2.weight torch.Size([100, 100, 1])\n",
      "model.encoder.layers.0.conv2.bias torch.Size([100])\n",
      "model.encoder.layers.0.linear1.weight torch.Size([100, 100])\n",
      "model.encoder.layers.0.linear1.bias torch.Size([100])\n",
      "model.encoder.layers.0.linear2.weight torch.Size([100, 100])\n",
      "model.encoder.layers.0.linear2.bias torch.Size([100])\n",
      "model.encoder.norm_layer.norm.weight torch.Size([100])\n",
      "model.encoder.norm_layer.norm.bias torch.Size([100])\n",
      "model.encoder.norm_layer.norm.running_mean torch.Size([100])\n",
      "model.encoder.norm_layer.norm.running_var torch.Size([100])\n",
      "model.encoder.norm_layer.norm.num_batches_tracked torch.Size([])\n",
      "model.decoder.layers.0.global_self_attention.query_projection.weight torch.Size([100, 100])\n",
      "model.decoder.layers.0.global_self_attention.query_projection.bias torch.Size([100])\n",
      "model.decoder.layers.0.global_self_attention.key_projection.weight torch.Size([100, 100])\n",
      "model.decoder.layers.0.global_self_attention.key_projection.bias torch.Size([100])\n",
      "model.decoder.layers.0.global_self_attention.value_projection.weight torch.Size([100, 100])\n",
      "model.decoder.layers.0.global_self_attention.value_projection.bias torch.Size([100])\n",
      "model.decoder.layers.0.global_self_attention.out_projection.weight torch.Size([100, 100])\n",
      "model.decoder.layers.0.global_self_attention.out_projection.bias torch.Size([100])\n",
      "model.decoder.layers.0.global_cross_attention.query_projection.weight torch.Size([100, 100])\n",
      "model.decoder.layers.0.global_cross_attention.query_projection.bias torch.Size([100])\n",
      "model.decoder.layers.0.global_cross_attention.key_projection.weight torch.Size([100, 100])\n",
      "model.decoder.layers.0.global_cross_attention.key_projection.bias torch.Size([100])\n",
      "model.decoder.layers.0.global_cross_attention.value_projection.weight torch.Size([100, 100])\n",
      "model.decoder.layers.0.global_cross_attention.value_projection.bias torch.Size([100])\n",
      "model.decoder.layers.0.global_cross_attention.out_projection.weight torch.Size([100, 100])\n",
      "model.decoder.layers.0.global_cross_attention.out_projection.bias torch.Size([100])\n",
      "model.decoder.layers.0.norm1.norm.weight torch.Size([100])\n",
      "model.decoder.layers.0.norm1.norm.bias torch.Size([100])\n",
      "model.decoder.layers.0.norm1.norm.running_mean torch.Size([100])\n",
      "model.decoder.layers.0.norm1.norm.running_var torch.Size([100])\n",
      "model.decoder.layers.0.norm1.norm.num_batches_tracked torch.Size([])\n",
      "model.decoder.layers.0.norm2.norm.weight torch.Size([100])\n",
      "model.decoder.layers.0.norm2.norm.bias torch.Size([100])\n",
      "model.decoder.layers.0.norm2.norm.running_mean torch.Size([100])\n",
      "model.decoder.layers.0.norm2.norm.running_var torch.Size([100])\n",
      "model.decoder.layers.0.norm2.norm.num_batches_tracked torch.Size([])\n",
      "model.decoder.layers.0.norm3.norm.weight torch.Size([100])\n",
      "model.decoder.layers.0.norm3.norm.bias torch.Size([100])\n",
      "model.decoder.layers.0.norm3.norm.running_mean torch.Size([100])\n",
      "model.decoder.layers.0.norm3.norm.running_var torch.Size([100])\n",
      "model.decoder.layers.0.norm3.norm.num_batches_tracked torch.Size([])\n",
      "model.decoder.layers.0.conv1.weight torch.Size([100, 100, 1])\n",
      "model.decoder.layers.0.conv1.bias torch.Size([100])\n",
      "model.decoder.layers.0.conv2.weight torch.Size([100, 100, 1])\n",
      "model.decoder.layers.0.conv2.bias torch.Size([100])\n",
      "model.decoder.layers.0.linear1.weight torch.Size([100, 100])\n",
      "model.decoder.layers.0.linear1.bias torch.Size([100])\n",
      "model.decoder.layers.0.linear2.weight torch.Size([100, 100])\n",
      "model.decoder.layers.0.linear2.bias torch.Size([100])\n",
      "model.decoder.norm_layer.norm.weight torch.Size([100])\n",
      "model.decoder.norm_layer.norm.bias torch.Size([100])\n",
      "model.decoder.norm_layer.norm.running_mean torch.Size([100])\n",
      "model.decoder.norm_layer.norm.running_var torch.Size([100])\n",
      "model.decoder.norm_layer.norm.num_batches_tracked torch.Size([])\n",
      "model.forecaster.weight torch.Size([1, 100])\n",
      "model.forecaster.bias torch.Size([1])\n",
      "model.reconstructor.weight torch.Size([1, 100])\n",
      "model.reconstructor.bias torch.Size([1])\n"
     ]
    }
   ],
   "source": [
    "experiment_dirpath = \"../experiments/training/test_optimizer/\"\n",
    "sweep_subpath = \"\" #\"sweeps/sweep_optimization/sweep_optimization_4\"\n",
    "ckpt_subpath = \"k_0/checkpoints/\"\n",
    "\n",
    "working_dirpath = join(experiment_dirpath, sweep_subpath, ckpt_subpath)\n",
    "\n",
    "regex_pattern = r\"epoch=(\\d+).*\"\n",
    "\n",
    "ckpt_dict = {}\n",
    "\n",
    "for file in listdir(working_dirpath):\n",
    "    match = re.search(regex_pattern, file)\n",
    "    if match:\n",
    "        file_path = join(working_dirpath, file)\n",
    "        ckpt_dict[int(match.group(1))] = torch.load(file_path, map_location=\"cpu\")[\"state_dict\"]\n",
    "\n",
    "\n",
    "\n",
    "print(ckpt_dict.keys())\n",
    "ckpt_example = ckpt_dict[list(ckpt_dict.keys())[0]]\n",
    "\n",
    "\n",
    "for k in ckpt_example.keys():\n",
    "    print(k, ckpt_example[k].shape)"
   ]
  },
  {
   "cell_type": "code",
   "execution_count": 29,
   "id": "e63c1b3a",
   "metadata": {},
   "outputs": [],
   "source": [
    "key_list = [\n",
    "    \"model.enc_embedding.embed_modules_list.0.embedding.embedding.weight\",\n",
    "    \"model.enc_embedding.embed_modules_list.1.embedding.embedding.weight\",\n",
    "    \"model.dec_embedding.embed_modules_list.0.embedding.embedding.weight\",\n",
    "    ]"
   ]
  },
  {
   "cell_type": "code",
   "execution_count": 30,
   "id": "86e6856a",
   "metadata": {},
   "outputs": [
    {
     "data": {
      "text/plain": [
       "OrderedDict([('model.enc_embedding.embed_modules_list.0.embedding.embedding.weight',\n",
       "              tensor([[ 0.0000,  0.0000,  0.0000,  ...,  0.0000,  0.0000,  0.0000],\n",
       "                      [-0.1113,  0.1046, -0.1044,  ..., -0.0747, -0.0147,  0.0005],\n",
       "                      [-0.0184, -0.0123, -0.0433,  ..., -0.1878, -0.0940, -0.0782],\n",
       "                      ...,\n",
       "                      [ 0.1843, -0.0653,  0.0304,  ..., -0.0004,  0.0129, -0.1245],\n",
       "                      [ 0.0151,  0.0299,  0.1024,  ..., -0.1308,  0.1488,  0.1879],\n",
       "                      [ 0.0491, -0.0145,  0.1752,  ..., -0.0087,  0.1268, -0.0779]])),\n",
       "             ('model.enc_embedding.embed_modules_list.1.embedding.embedding.weight',\n",
       "              tensor([[ 0.0000,  0.0000,  0.0000,  ...,  0.0000,  0.0000,  0.0000],\n",
       "                      [ 0.0030,  0.0535, -0.1405,  ..., -0.1126, -0.1094, -0.0674],\n",
       "                      [-0.0261, -0.1389,  0.1251,  ...,  0.0277,  0.1162, -0.0267],\n",
       "                      ...,\n",
       "                      [-0.1165,  0.0675, -0.1295,  ..., -0.0415, -0.0968, -0.0237],\n",
       "                      [-0.0027,  0.0274, -0.1282,  ...,  0.0406, -0.0689,  0.0847],\n",
       "                      [ 0.0517, -0.0226, -0.1481,  ..., -0.0903, -0.1170, -0.0459]])),\n",
       "             ('model.enc_embedding.embed_modules_list.2.embedding.embedding.weight',\n",
       "              tensor([[ 8.3417e-01],\n",
       "                      [-9.1370e-01],\n",
       "                      [ 9.9965e-02],\n",
       "                      [-7.1864e-01],\n",
       "                      [ 9.3954e-01],\n",
       "                      [-1.1981e-01],\n",
       "                      [ 9.4091e-01],\n",
       "                      [-9.9011e-01],\n",
       "                      [-2.6198e-01],\n",
       "                      [ 1.0345e+00],\n",
       "                      [-1.5370e-01],\n",
       "                      [-7.9559e-01],\n",
       "                      [ 8.3267e-01],\n",
       "                      [-6.3857e-01],\n",
       "                      [ 5.3521e-01],\n",
       "                      [-8.9578e-04],\n",
       "                      [-8.1588e-01],\n",
       "                      [ 7.2637e-01],\n",
       "                      [ 4.4597e-01],\n",
       "                      [ 8.2096e-01],\n",
       "                      [-2.7026e-01],\n",
       "                      [ 4.4981e-01],\n",
       "                      [-1.1863e-01],\n",
       "                      [-6.0463e-01],\n",
       "                      [-9.0118e-01],\n",
       "                      [-6.2898e-01],\n",
       "                      [-1.0619e+00],\n",
       "                      [ 1.0452e+00],\n",
       "                      [ 4.9986e-02],\n",
       "                      [-2.4396e-01],\n",
       "                      [ 7.4931e-01],\n",
       "                      [ 4.9014e-01],\n",
       "                      [-1.2766e+00],\n",
       "                      [-1.2138e+00],\n",
       "                      [-6.9605e-01],\n",
       "                      [ 1.5198e-01],\n",
       "                      [-6.1623e-02],\n",
       "                      [ 9.2695e-01],\n",
       "                      [ 4.1550e-01],\n",
       "                      [ 1.1159e-01],\n",
       "                      [ 9.2423e-01],\n",
       "                      [ 1.4183e+00],\n",
       "                      [-7.8297e-01],\n",
       "                      [-1.3540e+00],\n",
       "                      [ 6.1134e-01],\n",
       "                      [ 4.7728e-01],\n",
       "                      [-8.6362e-01],\n",
       "                      [ 1.1698e+00],\n",
       "                      [ 7.2838e-01],\n",
       "                      [ 9.8543e-01],\n",
       "                      [ 1.3138e+00],\n",
       "                      [ 8.4275e-01],\n",
       "                      [-1.7802e-01],\n",
       "                      [-9.5395e-01],\n",
       "                      [-2.7671e-01],\n",
       "                      [ 5.3682e-01],\n",
       "                      [-1.1556e+00],\n",
       "                      [-7.1140e-01],\n",
       "                      [ 4.9214e-01],\n",
       "                      [ 8.8816e-01],\n",
       "                      [ 1.4462e+00],\n",
       "                      [ 3.9096e-01],\n",
       "                      [ 1.1745e+00],\n",
       "                      [-3.1707e-01],\n",
       "                      [-4.1203e-01],\n",
       "                      [-3.4225e-01],\n",
       "                      [-4.5436e-01],\n",
       "                      [-1.1279e+00],\n",
       "                      [-6.2187e-01],\n",
       "                      [ 2.0048e-01],\n",
       "                      [ 3.6315e-01],\n",
       "                      [-4.5266e-01],\n",
       "                      [ 1.3826e+00],\n",
       "                      [-2.9645e-01],\n",
       "                      [-6.4342e-01],\n",
       "                      [ 7.6312e-01],\n",
       "                      [-9.0504e-01],\n",
       "                      [-1.4837e-01],\n",
       "                      [ 1.0296e+00],\n",
       "                      [ 8.0370e-01],\n",
       "                      [ 1.1316e+00],\n",
       "                      [ 6.6343e-01],\n",
       "                      [ 7.4797e-01],\n",
       "                      [ 1.3114e+00],\n",
       "                      [-1.0628e+00],\n",
       "                      [ 1.5071e+00],\n",
       "                      [-7.3462e-01],\n",
       "                      [-1.4749e+00],\n",
       "                      [ 1.1030e+00],\n",
       "                      [-4.8277e-01],\n",
       "                      [-1.2779e+00],\n",
       "                      [-7.0765e-01],\n",
       "                      [-4.9159e-01],\n",
       "                      [ 8.5625e-01],\n",
       "                      [-1.5040e+00],\n",
       "                      [-1.3002e+00],\n",
       "                      [ 5.3214e-01],\n",
       "                      [ 5.5675e-01],\n",
       "                      [ 5.5054e-01],\n",
       "                      [ 6.4560e-02]])),\n",
       "             ('model.enc_embedding.embed_modules_list.2.embedding.embedding.bias',\n",
       "              tensor([ 0.4592, -0.7616, -0.8963, -0.5231, -0.5973,  0.2706,  0.5615,  0.1603,\n",
       "                       0.1598, -0.8510,  0.8103, -0.5456,  0.0957, -0.2041, -0.1745,  0.5921,\n",
       "                      -0.9061,  0.8868, -0.7225,  0.2825,  0.9283, -0.4649,  0.2640, -0.5014,\n",
       "                      -0.3541, -0.1356,  0.2208, -0.9611,  0.1734, -0.7171, -0.7158, -0.0775,\n",
       "                      -0.0757, -0.6271,  0.7622, -0.0337,  0.1537, -0.5346, -0.2633, -0.5015,\n",
       "                      -0.8381,  0.1608, -0.9682,  0.4494,  0.1621,  0.4800,  0.7057,  0.7322,\n",
       "                       0.4488, -0.4665,  0.7041, -0.5453, -0.1058,  0.0191, -0.6890,  0.0188,\n",
       "                       0.4278, -0.8754,  0.8898,  0.9346, -0.8938,  0.1380, -0.6867,  0.1273,\n",
       "                       0.2678, -0.2786,  0.6215, -0.2692, -0.5298,  0.0928, -0.3676, -0.2388,\n",
       "                      -0.5147,  0.2227, -0.5781,  0.2473,  0.6374, -0.1934, -0.4866, -0.5342,\n",
       "                       0.0454, -0.3187,  0.5594,  0.2029, -0.6694,  0.2776,  0.5426,  0.5776,\n",
       "                       0.2925, -0.2209, -0.8161,  0.4588, -0.5509,  0.1527, -0.7940,  0.1059,\n",
       "                       0.1929,  0.6393, -0.7692,  0.3100])),\n",
       "             ('model.enc_embedding.embed_modules_list.3.embedding.embed_weight',\n",
       "              tensor([[ 0.8214,  1.1993,  1.0529,  0.0891,  0.4830,  0.3027,  0.4786,  0.8210,\n",
       "                        0.8173, -0.0490, -0.2281,  0.4653,  0.1965,  0.1094,  0.0817,  0.2152,\n",
       "                        0.1390,  0.1575,  1.0339,  1.0028],\n",
       "                      [ 0.2429,  0.0956,  1.0476,  0.0842,  0.7939,  0.9487,  0.8335,  0.5209,\n",
       "                        0.9065,  1.2414,  0.2249,  0.8325,  0.8591,  0.7558, -0.0760,  0.6148,\n",
       "                        0.1300,  0.9514,  0.8652, -0.1454],\n",
       "                      [ 1.4251,  0.7423,  0.8559,  0.6701,  0.3171,  0.9021, -0.0425,  0.6991,\n",
       "                        0.5483,  0.6400,  0.8963,  0.8511,  1.2167,  0.4278,  0.7462,  0.8528,\n",
       "                        0.8334,  0.3550,  0.4746,  0.4901],\n",
       "                      [ 1.7331,  0.3869,  0.0521, -0.1901, -0.0617, -0.3859, -0.0662,  0.1767,\n",
       "                        0.8691,  0.8194,  0.6112,  1.0005,  0.9908, -0.0261, -0.0123,  0.1493,\n",
       "                       -0.0729,  0.6736,  0.9207,  0.3291],\n",
       "                      [ 1.0034,  0.8831,  0.0301,  0.1364,  0.6436,  1.0378,  0.1275,  0.8760,\n",
       "                        0.5573,  0.5017,  0.3701,  0.3113,  1.0114,  0.6559,  0.0238, -0.0262,\n",
       "                        0.2597,  0.7352,  0.3035,  0.8316]])),\n",
       "             ('model.enc_embedding.embed_modules_list.3.embedding.embed_bias',\n",
       "              tensor([[ 0.3148,  0.6622,  1.3626,  0.2520, -0.0369,  0.4278,  0.4397, -0.0582,\n",
       "                        0.2734,  0.9057,  0.7409,  0.2845, -0.1668,  0.2071,  0.5589,  0.6221,\n",
       "                        0.0835,  0.0868,  1.0544,  0.9425],\n",
       "                      [ 0.2938,  0.4593,  0.2904,  0.4366,  0.8051,  0.2427,  1.0181,  0.6212,\n",
       "                       -0.0675,  0.8893, -0.1873,  0.7360,  0.8529,  0.9098,  0.3156,  0.7753,\n",
       "                        0.0955,  1.1365,  0.7905,  0.7857],\n",
       "                      [ 0.3068,  0.3677,  0.6483,  0.2548,  0.1440,  0.6841,  0.0824,  0.2100,\n",
       "                        1.0768,  1.4083,  0.5802,  0.2606,  0.3566,  0.3046,  0.2841,  1.0394,\n",
       "                        0.6261,  0.5701,  0.6542,  1.1404],\n",
       "                      [ 0.4652,  0.4743,  0.0173,  0.1165,  0.0343, -0.1767,  0.2107,  0.6270,\n",
       "                        0.2472,  0.8921,  1.3278,  0.5746,  0.3283,  0.2896, -0.0231,  0.4300,\n",
       "                        0.1376,  0.5979,  1.1578,  1.0245],\n",
       "                      [ 0.8043,  1.1052,  0.4696,  0.9722,  0.6381,  0.5125, -0.3432, -0.2790,\n",
       "                        0.3331,  0.6812,  0.0054,  0.4698,  0.4196, -0.2900,  0.5594, -0.0211,\n",
       "                        0.5202,  0.3435,  0.5657,  0.4523]])),\n",
       "             ('model.dec_embedding.embed_modules_list.0.embedding.embedding.weight',\n",
       "              tensor([[-1.6683,  0.1640, -0.9771, -0.0607,  0.1278,  0.3159,  1.6895,  1.4773,\n",
       "                        1.2087,  0.2943, -0.7526, -0.8321, -0.5161,  1.1916,  1.4802,  0.1156,\n",
       "                        0.9584, -1.1025,  1.0105,  0.7211, -0.9352, -1.4775, -0.8601, -2.3778,\n",
       "                        0.4491, -1.1194, -1.5343, -1.2467, -0.1498,  0.2685,  0.8192,  0.3093,\n",
       "                        0.7760,  0.9911,  0.7491, -0.9267,  0.2447,  0.9492,  1.4469,  0.2953,\n",
       "                       -0.1326, -0.1555, -0.7600,  0.1937, -0.7978, -0.6957,  0.3102,  0.8114,\n",
       "                       -1.2876, -0.9888,  2.5798, -0.9360, -1.2135, -0.1102, -0.1817, -1.2222,\n",
       "                       -1.4349,  0.4623,  1.9063, -1.1218,  0.5740,  0.6179, -0.2084, -3.0728,\n",
       "                       -0.5905, -0.9088,  2.8285, -0.6779, -1.2182, -1.6615,  2.3997, -0.7362,\n",
       "                       -0.1721, -0.2921,  0.5522, -0.8354,  0.1355, -1.0604,  1.1543,  0.4001,\n",
       "                        1.0261,  1.0066, -1.3816, -2.0475,  0.4420, -0.5754, -0.8679,  0.6096,\n",
       "                       -1.1689,  0.4239,  0.5951, -1.2563,  0.8969, -0.2291, -1.3516, -1.2051,\n",
       "                       -0.1248,  0.5733, -1.1745,  1.5139],\n",
       "                      [ 0.1325,  0.2014,  1.5807,  0.4228,  0.2354, -1.8840, -0.9832, -0.0097,\n",
       "                       -1.3973, -0.9430,  0.3101,  0.0777,  0.4020, -1.5980, -1.1449,  1.4381,\n",
       "                        1.8823, -0.6706,  1.7739, -1.3780,  0.8666, -1.0412, -0.6301, -0.7084,\n",
       "                        1.1538, -0.0063, -0.2133, -0.9935, -1.3750, -0.2820,  0.4603,  1.8545,\n",
       "                        2.0943,  0.1300, -0.8988, -0.9069,  1.4445,  0.7230, -2.2030, -0.7987,\n",
       "                       -2.1671, -0.5190,  1.4112,  0.6350,  1.2807, -0.2952,  0.1267, -0.9895,\n",
       "                       -0.1095,  0.0713, -0.6209,  0.0954,  0.9383,  0.1169, -0.1053, -0.9694,\n",
       "                       -0.3162, -2.0097, -1.2342,  0.9392, -0.9485, -1.1843, -0.0432,  1.5093,\n",
       "                       -0.1837, -1.7500, -0.4024, -0.8655, -1.0198,  1.8503, -1.3658, -0.5264,\n",
       "                       -0.0305,  0.1359,  1.0682, -0.8436,  0.8400, -0.7612, -2.2204,  0.8360,\n",
       "                       -1.3889, -0.5236, -0.9808,  0.2531, -2.8261,  1.1012,  1.0459, -0.1357,\n",
       "                       -1.6802,  0.1111,  1.1139,  0.8124,  0.3907,  0.7441,  0.3599, -0.7509,\n",
       "                        0.6864, -0.0256, -1.9083,  3.2171],\n",
       "                      [-3.1658, -1.4010,  0.4213, -1.4481,  1.2239,  0.6943,  0.0956, -1.6021,\n",
       "                       -1.6512,  0.3412, -0.2974,  0.6338, -0.7507,  1.0311, -0.1614, -1.3014,\n",
       "                        0.6171,  1.7829,  0.5801,  1.7308,  0.0163, -2.4782, -0.2466,  0.1684,\n",
       "                        0.6226, -0.1935, -0.6169, -1.1297,  0.2964,  0.3776,  0.2749,  0.5058,\n",
       "                       -0.8427,  0.4461, -1.1868, -0.0542,  1.4463,  0.1884, -1.3226,  0.5891,\n",
       "                        2.0146, -0.5124,  1.2301,  1.0948,  0.3210, -0.5389, -0.0517, -1.7500,\n",
       "                        0.8820, -1.2554,  0.3270,  0.4915, -0.3207,  0.5874,  1.1146, -0.7721,\n",
       "                       -0.6573,  0.9669, -1.4988, -0.5071,  0.3393, -1.1453, -0.2028,  0.2000,\n",
       "                        1.6125,  1.9097, -0.3468, -2.0705,  0.2181, -1.1987,  0.9024, -0.9420,\n",
       "                        1.8672,  1.3600,  0.7873, -0.9771,  0.0109,  0.1044,  1.9115,  0.6272,\n",
       "                        0.1479,  0.0144, -0.4034,  1.2694, -0.1646,  0.6347,  0.8090,  0.1692,\n",
       "                       -0.7236,  1.3088,  0.4109,  0.1263,  1.1497, -1.3378,  1.0580, -0.2172,\n",
       "                       -1.0197, -0.5592, -0.6108, -1.7046]])),\n",
       "             ('model.dec_embedding.embed_modules_list.2.embedding.embedding.weight',\n",
       "              tensor([[-0.2833],\n",
       "                      [-0.4026],\n",
       "                      [-0.3414],\n",
       "                      [-0.2061],\n",
       "                      [ 0.2701],\n",
       "                      [-0.1702],\n",
       "                      [-0.4931],\n",
       "                      [ 0.6027],\n",
       "                      [-0.4430],\n",
       "                      [ 0.9331],\n",
       "                      [ 0.5015],\n",
       "                      [ 0.9650],\n",
       "                      [ 0.7346],\n",
       "                      [ 0.4284],\n",
       "                      [-0.5496],\n",
       "                      [-0.7887],\n",
       "                      [-0.7812],\n",
       "                      [ 0.3937],\n",
       "                      [-0.7927],\n",
       "                      [-0.0548],\n",
       "                      [ 0.8739],\n",
       "                      [-0.2029],\n",
       "                      [-0.2736],\n",
       "                      [-0.4339],\n",
       "                      [ 0.0650],\n",
       "                      [-0.4063],\n",
       "                      [ 0.2184],\n",
       "                      [-0.8171],\n",
       "                      [-0.2268],\n",
       "                      [ 0.5462],\n",
       "                      [-0.3044],\n",
       "                      [ 0.2015],\n",
       "                      [-0.7575],\n",
       "                      [-0.0041],\n",
       "                      [-0.9903],\n",
       "                      [-0.9682],\n",
       "                      [-0.2450],\n",
       "                      [-0.1409],\n",
       "                      [ 0.4662],\n",
       "                      [ 0.9116],\n",
       "                      [-0.8311],\n",
       "                      [ 0.3609],\n",
       "                      [-0.3311],\n",
       "                      [-0.4142],\n",
       "                      [ 0.5930],\n",
       "                      [ 0.4144],\n",
       "                      [ 0.0888],\n",
       "                      [ 0.3872],\n",
       "                      [-0.0685],\n",
       "                      [-0.9806],\n",
       "                      [-0.9303],\n",
       "                      [-0.3855],\n",
       "                      [-0.9781],\n",
       "                      [ 0.7300],\n",
       "                      [-0.1397],\n",
       "                      [-0.8872],\n",
       "                      [-0.0906],\n",
       "                      [-0.5458],\n",
       "                      [-0.4408],\n",
       "                      [ 0.6872],\n",
       "                      [ 0.0706],\n",
       "                      [ 0.7661],\n",
       "                      [-0.8675],\n",
       "                      [ 0.5253],\n",
       "                      [-0.0827],\n",
       "                      [-0.7053],\n",
       "                      [-0.2732],\n",
       "                      [ 0.6929],\n",
       "                      [-0.6574],\n",
       "                      [-0.2968],\n",
       "                      [ 0.3225],\n",
       "                      [ 0.8006],\n",
       "                      [ 0.2337],\n",
       "                      [ 0.2528],\n",
       "                      [-0.5986],\n",
       "                      [ 0.4514],\n",
       "                      [ 0.0636],\n",
       "                      [-0.3645],\n",
       "                      [ 0.8041],\n",
       "                      [ 0.7451],\n",
       "                      [ 0.3149],\n",
       "                      [-0.6881],\n",
       "                      [ 0.7956],\n",
       "                      [ 0.1433],\n",
       "                      [-0.3134],\n",
       "                      [-0.3761],\n",
       "                      [-0.3511],\n",
       "                      [-0.7393],\n",
       "                      [-0.3170],\n",
       "                      [ 0.9926],\n",
       "                      [ 0.6635],\n",
       "                      [ 0.4856],\n",
       "                      [-0.5829],\n",
       "                      [ 0.4485],\n",
       "                      [ 0.1752],\n",
       "                      [ 0.1666],\n",
       "                      [ 0.3338],\n",
       "                      [-0.5318],\n",
       "                      [ 0.2054],\n",
       "                      [ 0.2210]])),\n",
       "             ('model.dec_embedding.embed_modules_list.2.embedding.embedding.bias',\n",
       "              tensor([ 0.0775,  0.3572, -0.2110,  0.1998, -0.8351,  0.1006,  0.0042, -0.0448,\n",
       "                      -0.0895,  0.2571, -0.9961, -0.1556,  0.6787,  0.2204, -0.5132, -0.5494,\n",
       "                       0.1771, -0.7739,  0.7443,  0.4973, -0.9010,  0.6984,  0.2916,  0.7242,\n",
       "                       0.1770,  0.8686, -0.7663, -0.9978, -0.3285, -0.2740,  0.9974,  0.9056,\n",
       "                      -0.0700,  0.1613,  0.7946,  0.2474, -0.5063,  0.0600, -0.9583, -0.7592,\n",
       "                      -0.1267,  0.8502, -0.4438, -0.2151,  0.9935, -0.9340,  0.8873, -0.4337,\n",
       "                      -0.9582,  0.3394,  0.7844,  0.2661, -0.8785, -0.5618, -0.9344, -0.9543,\n",
       "                      -0.4839,  0.1129,  0.5203, -0.0886,  0.5701,  0.7466, -0.7790, -0.6106,\n",
       "                       0.0269,  0.7152,  0.3390,  0.0701, -0.4864,  0.6860, -0.7086, -0.2910,\n",
       "                      -0.0429,  0.1726,  0.5676, -0.0302, -0.5584,  0.8061, -0.5279,  0.2303,\n",
       "                      -0.2282,  0.1501, -0.5489,  0.3276,  0.6153,  0.2476, -0.8206, -0.5564,\n",
       "                      -0.1042, -0.4454,  0.4271,  0.3213,  0.3377, -0.8944,  0.9771, -0.5820,\n",
       "                       0.2572,  0.4600, -0.3713,  0.3594])),\n",
       "             ('model.dec_embedding.embed_modules_list.3.embedding.embed_weight',\n",
       "              tensor([[ 0.4471,  0.4405,  0.1887,  0.8200,  1.1401,  0.8316,  0.3855,  0.6121,\n",
       "                        0.7189,  0.0847,  0.7006,  0.5214,  0.7246,  0.7511,  0.7062,  0.3208,\n",
       "                        0.5810,  0.5076, -0.4097,  0.4548],\n",
       "                      [ 0.4531,  0.4030,  0.9889,  0.7665,  0.4604,  0.6685,  0.8430,  0.0779,\n",
       "                        0.7017,  0.3858,  0.3998,  0.5897,  0.5857,  1.0711,  0.6434,  0.2214,\n",
       "                        1.0743,  0.5425,  0.5761,  0.6314],\n",
       "                      [ 0.8716,  0.0091,  0.4182,  0.6537,  0.5707,  0.9730,  0.8529,  0.7980,\n",
       "                       -0.1470,  0.5856,  0.4374,  0.4426,  1.1032,  0.3480,  0.9910,  0.2444,\n",
       "                        0.5792,  0.4987,  0.0098,  0.4418],\n",
       "                      [ 1.0239,  0.6992,  1.1006,  0.6042,  0.5698,  0.6924,  0.4865, -0.1597,\n",
       "                        0.7598,  0.5911,  0.8382,  0.2533,  0.7667,  0.8629,  0.7498,  0.4283,\n",
       "                        0.6177,  0.4207,  0.2901,  0.6267],\n",
       "                      [ 1.1133,  0.1176,  0.3049,  0.7081,  0.2642,  1.2675, -0.1191,  0.7806,\n",
       "                        0.6746,  0.9165,  0.7637,  0.6511,  0.5585,  0.8554,  0.4652,  0.3697,\n",
       "                        0.2244,  0.5245,  1.0739, -0.3583]])),\n",
       "             ('model.dec_embedding.embed_modules_list.3.embedding.embed_bias',\n",
       "              tensor([[ 0.5061,  0.4588, -0.0084,  0.8234,  0.6827,  1.0040,  1.2458,  1.4041,\n",
       "                        0.4061,  0.9953,  0.9324,  0.3825,  0.4511,  0.7463,  1.0453,  0.2019,\n",
       "                        0.2410,  0.3216,  0.1020,  0.6505],\n",
       "                      [ 0.2391,  0.2995, -0.2082,  0.7846, -0.1141,  0.5657,  0.2594,  0.5411,\n",
       "                        0.5661,  0.3684,  0.3501,  1.0987, -0.1618, -0.7085, -0.3018, -0.1205,\n",
       "                        0.9106,  0.1795,  0.9595,  0.0821],\n",
       "                      [ 0.4367,  1.2421, -0.2099,  0.1493,  0.0420,  0.2002,  0.4307,  1.1236,\n",
       "                       -0.5172, -0.1010,  0.8408,  0.5137,  0.2982,  0.1803, -0.2091,  0.2196,\n",
       "                        0.2650,  1.0688,  1.0961,  0.8836],\n",
       "                      [ 0.2019,  0.9402,  0.2588, -0.7326,  1.2104,  0.1492, -0.2435,  0.2412,\n",
       "                        0.6351,  0.8797,  0.4397, -0.0697,  0.4708, -0.0261, -0.4741,  0.4929,\n",
       "                        1.3288,  0.3750,  0.2718, -0.7689],\n",
       "                      [ 0.9796,  0.4363,  0.7659,  0.6688,  0.9657,  1.3614,  1.1813,  1.1646,\n",
       "                       -0.0592,  0.3364,  0.0133,  1.3256, -0.1497,  0.1127,  0.8397,  1.4148,\n",
       "                        0.3365,  0.1168,  0.6727, -0.0348]])),\n",
       "             ('model.encoder.layers.0.global_attention.query_projection.weight',\n",
       "              tensor([[-0.2164,  0.1023,  0.2330,  ..., -0.1503, -0.0290, -0.5230],\n",
       "                      [ 0.1315, -0.1439,  0.1165,  ...,  0.2512,  0.2842, -0.0331],\n",
       "                      [ 0.2173, -0.1382,  0.0983,  ...,  0.0641, -0.0928,  0.1529],\n",
       "                      ...,\n",
       "                      [-0.0671, -0.0594, -0.0813,  ...,  0.0148,  0.0923, -0.1037],\n",
       "                      [-0.1565, -0.0836,  0.3930,  ...,  0.2398,  0.2685, -0.0065],\n",
       "                      [ 0.2388, -0.0289,  0.0971,  ..., -0.1796,  0.0723, -0.1211]])),\n",
       "             ('model.encoder.layers.0.global_attention.query_projection.bias',\n",
       "              tensor([-0.2439,  0.1716,  0.3174, -0.2225, -0.1370, -0.0498,  0.3735, -0.0566,\n",
       "                       0.4122,  0.4209,  0.0988,  0.3747,  0.0157,  0.2992, -0.3031, -0.5258,\n",
       "                       0.3143,  0.5197, -0.2330,  0.0464, -0.1338,  0.4356,  0.0795, -0.3429,\n",
       "                      -0.4957,  0.3643, -0.2247,  0.1257, -0.2056, -0.3186,  0.0505, -0.1088,\n",
       "                      -0.3082,  0.1793, -0.2493,  0.5155,  0.0776, -0.1986,  0.2199,  0.1958,\n",
       "                       0.0530,  0.2428,  0.0304, -0.2012,  0.0615,  0.0678, -0.3210,  0.3945,\n",
       "                      -0.2256, -0.3358,  0.2775,  0.0142, -0.3561,  0.0321, -0.0929,  0.1891,\n",
       "                      -0.2368, -0.1896, -0.4211,  0.3775,  0.1309, -0.0893, -0.0644, -0.2631,\n",
       "                       0.0228, -0.0435,  0.1397, -0.1640, -0.0477, -0.1764,  0.0406,  0.2154,\n",
       "                       0.1532,  0.4062, -0.1489, -0.2150, -0.2896, -0.5826, -0.3377,  0.1579,\n",
       "                       0.0476,  0.3748,  0.0224, -0.1143, -0.0739,  0.2272, -0.6898, -0.0716,\n",
       "                      -0.1165, -0.2176, -0.2039, -0.2705,  0.0339, -0.4160, -0.0018, -0.3091,\n",
       "                      -0.1049, -0.0153, -0.0936,  0.2374])),\n",
       "             ('model.encoder.layers.0.global_attention.key_projection.weight',\n",
       "              tensor([[ 0.0479, -0.3630,  0.0258,  ...,  0.4224, -0.0006,  0.3479],\n",
       "                      [ 0.0832, -0.0121, -0.0790,  ...,  0.0346, -0.0881, -0.0197],\n",
       "                      [-0.1380,  0.2088,  0.0230,  ..., -0.2735, -0.1506, -0.1857],\n",
       "                      ...,\n",
       "                      [ 0.1157, -0.2308,  0.1624,  ...,  0.0408,  0.1268,  0.1064],\n",
       "                      [-0.0893,  0.3731, -0.3756,  ..., -0.5133, -0.5597,  0.1262],\n",
       "                      [-0.0550,  0.1524, -0.1661,  ..., -0.0904, -0.3840,  0.1059]])),\n",
       "             ('model.encoder.layers.0.global_attention.key_projection.bias',\n",
       "              tensor([ 0.0106, -0.0047,  0.0379, -0.0799, -0.0383,  0.0184,  0.0786, -0.0225,\n",
       "                       0.0002, -0.1576, -0.0674, -0.1062, -0.0211, -0.1239, -0.0492,  0.0021,\n",
       "                       0.0452, -0.1079,  0.0247, -0.0848, -0.1403, -0.1153,  0.0763, -0.0084,\n",
       "                       0.0040, -0.0097,  0.1077,  0.1118,  0.0701,  0.1684, -0.0549, -0.0320,\n",
       "                       0.0494,  0.0752,  0.0799, -0.0721,  0.0359, -0.0206,  0.0131, -0.0602,\n",
       "                       0.0627,  0.0083,  0.0728, -0.1269,  0.1131, -0.0744, -0.0243, -0.0863,\n",
       "                       0.0795, -0.1031, -0.1464,  0.1466,  0.1573, -0.0272, -0.0307, -0.1841,\n",
       "                      -0.0055,  0.0800,  0.1075,  0.0160,  0.1065,  0.0746,  0.0776, -0.0387,\n",
       "                       0.0536, -0.1438, -0.1154,  0.0525, -0.0712, -0.0560,  0.0973, -0.0738,\n",
       "                      -0.1020, -0.1056,  0.0082, -0.0142,  0.0950,  0.0249, -0.0513, -0.0540,\n",
       "                       0.0205,  0.0147, -0.1142, -0.1449, -0.0298,  0.0551,  0.0817, -0.0091,\n",
       "                       0.1737, -0.0222, -0.1313, -0.0177,  0.1343,  0.1795,  0.1002,  0.0042,\n",
       "                       0.1062,  0.0577, -0.0567, -0.0389])),\n",
       "             ('model.encoder.layers.0.global_attention.value_projection.weight',\n",
       "              tensor([[ 0.1026, -0.0971, -0.0215,  ..., -0.1846, -0.0782,  0.2005],\n",
       "                      [-0.3882,  0.0140, -0.0885,  ...,  0.1768,  0.2522, -0.2366],\n",
       "                      [ 0.2026, -0.1621, -0.1344,  ...,  0.1137,  0.0535,  0.3231],\n",
       "                      ...,\n",
       "                      [-0.2784,  0.1070, -0.1052,  ..., -0.0030, -0.1318, -0.1047],\n",
       "                      [ 0.0203,  0.1150, -0.2011,  ..., -0.1620, -0.1054, -0.0199],\n",
       "                      [ 0.0801, -0.0692, -0.0943,  ..., -0.0112,  0.0255, -0.5542]])),\n",
       "             ('model.encoder.layers.0.global_attention.value_projection.bias',\n",
       "              tensor([ 0.0233, -0.4003,  0.2671, -0.0416,  0.1940,  0.2182, -0.0287, -0.0743,\n",
       "                      -0.2220,  0.1409, -0.1312, -0.1085,  0.0468,  0.0835, -0.2907, -0.1687,\n",
       "                      -0.0284, -0.0322,  0.3273, -0.1564, -0.2212,  0.1605, -0.3273, -0.3236,\n",
       "                      -0.2632, -0.2403, -0.3535,  0.2558,  0.1314, -0.0731, -0.0611,  0.3447,\n",
       "                      -0.0157, -0.3715, -0.0969, -0.0526, -0.1009,  0.0911,  0.2114, -0.0985,\n",
       "                       0.1800, -0.0116, -0.5631, -0.1648,  0.4729,  0.2517, -0.3473,  0.4000,\n",
       "                       0.5775, -0.0251, -0.0207, -0.3549,  0.2869, -0.0712, -0.0054,  0.1114,\n",
       "                      -0.1702,  0.0159, -0.0130, -0.3627,  0.6168,  0.4043,  0.0141,  0.2265,\n",
       "                      -0.0254, -0.2255, -0.2330, -0.4653, -0.2542, -0.3658, -0.3896, -0.4527,\n",
       "                       0.0298,  0.2498,  0.0262,  0.0470, -0.2040, -0.4008,  0.1939, -0.0714,\n",
       "                       0.2805,  0.0682,  0.1290, -0.0146,  0.1423,  0.1454, -0.3630, -0.1096,\n",
       "                       0.3088, -0.2835,  0.0175, -0.3800, -0.1420, -0.0547, -0.1078, -0.2747,\n",
       "                       0.2615, -0.1716, -0.1451,  0.1018])),\n",
       "             ('model.encoder.layers.0.global_attention.out_projection.weight',\n",
       "              tensor([[-0.0150,  0.0479,  0.0613,  ..., -0.0695,  0.0990,  0.0638],\n",
       "                      [-0.0908, -0.0092,  0.0176,  ...,  0.0581,  0.0025,  0.0776],\n",
       "                      [-0.0008,  0.0170, -0.0288,  ..., -0.0317, -0.0227,  0.0903],\n",
       "                      ...,\n",
       "                      [ 0.0759,  0.0395, -0.0530,  ..., -0.0927, -0.0964,  0.0565],\n",
       "                      [-0.0704,  0.0040, -0.0908,  ..., -0.0459, -0.0238,  0.0432],\n",
       "                      [ 0.0755, -0.0549,  0.0369,  ...,  0.0150, -0.0396,  0.0498]])),\n",
       "             ('model.encoder.layers.0.global_attention.out_projection.bias',\n",
       "              tensor([ 0.0882, -0.0304, -0.0385, -0.0967,  0.0451, -0.0682, -0.0893,  0.0437,\n",
       "                       0.0058,  0.0978,  0.0403,  0.0658, -0.0093, -0.0313, -0.0838, -0.0946,\n",
       "                       0.0262, -0.0110,  0.0954, -0.0218, -0.0858,  0.0151, -0.0782, -0.0754,\n",
       "                       0.0468,  0.0490, -0.0153,  0.0577,  0.0807,  0.0078,  0.0394,  0.0995,\n",
       "                      -0.0415, -0.0072,  0.0252,  0.0514,  0.0625, -0.0329,  0.0523,  0.0115,\n",
       "                      -0.0749, -0.0413, -0.0122, -0.0973,  0.0250, -0.0428, -0.0410,  0.0300,\n",
       "                      -0.0203,  0.0650,  0.0094, -0.0196,  0.0780, -0.0416,  0.0851, -0.0020,\n",
       "                       0.0686,  0.0638, -0.0436, -0.0209, -0.0052,  0.0430, -0.0226, -0.0266,\n",
       "                      -0.0041, -0.0262,  0.0832,  0.0920, -0.0486,  0.0893,  0.0971, -0.0693,\n",
       "                       0.0189, -0.0870, -0.0866,  0.0636, -0.0200, -0.0584, -0.0292, -0.0181,\n",
       "                      -0.0703,  0.0408,  0.0369,  0.0261, -0.0267, -0.0596, -0.0385,  0.0301,\n",
       "                      -0.0597,  0.0648, -0.0356, -0.0510,  0.0216, -0.0963,  0.0998,  0.0880,\n",
       "                      -0.0885, -0.0704,  0.0971, -0.0556])),\n",
       "             ('model.encoder.layers.0.norm1.norm.weight',\n",
       "              tensor([1.2263, 0.6806, 1.6319, 0.9692, 0.7778, 1.1281, 1.0287, 0.7109, 1.1656,\n",
       "                      1.0677, 0.5419, 0.6022, 1.2842, 1.3757, 1.4800, 1.4388, 1.0014, 0.7101,\n",
       "                      0.1964, 0.7697, 1.1326, 1.5606, 1.0350, 1.5472, 0.6248, 0.8088, 1.1209,\n",
       "                      0.5613, 1.1399, 0.8230, 0.7735, 0.4954, 0.9598, 0.9192, 1.5172, 0.9310,\n",
       "                      0.8761, 0.5408, 0.4527, 0.6604, 1.1691, 0.3388, 0.6929, 0.4061, 0.7614,\n",
       "                      0.5679, 1.0607, 0.7010, 1.3946, 0.7019, 0.5039, 0.5320, 1.1216, 1.4810,\n",
       "                      0.4276, 0.8497, 0.9149, 0.6114, 0.3264, 0.5533, 0.9045, 1.3599, 0.3537,\n",
       "                      0.7109, 1.2571, 1.4674, 0.8888, 1.2964, 0.7266, 0.8171, 1.3503, 0.8364,\n",
       "                      0.5356, 0.1217, 1.2932, 1.0089, 0.3224, 1.1227, 0.6983, 1.2859, 1.2117,\n",
       "                      1.1358, 1.3063, 1.2512, 0.8729, 0.5769, 1.1032, 0.8978, 0.7036, 0.6207,\n",
       "                      0.6981, 0.8298, 0.8829, 0.6459, 0.6240, 0.9562, 1.7286, 1.2176, 1.3602,\n",
       "                      0.5995])),\n",
       "             ('model.encoder.layers.0.norm1.norm.bias',\n",
       "              tensor([ 0.2437,  0.2621, -0.3895,  0.0271, -0.1580,  0.2104, -0.0404,  0.2425,\n",
       "                      -0.0304, -0.1993,  0.0176, -0.1199, -0.2549,  0.3383, -0.3146, -0.3272,\n",
       "                       0.2722, -0.3274,  0.2988,  0.0098, -0.0175, -0.0248, -0.4050,  0.1897,\n",
       "                       0.0623, -0.0076,  0.2135, -0.7014,  0.3426, -0.2115, -0.5948,  0.1711,\n",
       "                      -0.0525, -0.1700,  0.2399,  0.1770,  0.0871, -0.6084,  0.2161, -0.6513,\n",
       "                       0.3361, -0.6234,  0.5675, -0.5027, -0.0799,  0.2077,  0.2451,  0.0771,\n",
       "                      -0.5764, -0.3039,  0.1334,  0.2751, -0.1443, -0.1194,  0.2226, -0.0253,\n",
       "                       0.1551, -0.3532, -0.3352, -0.2815, -0.1511,  0.1198, -0.2400,  0.1151,\n",
       "                       0.0383, -0.0496, -0.4596,  0.2630,  0.7887, -0.0009, -0.0660, -0.0633,\n",
       "                      -0.4940,  0.1141,  0.4465, -0.0551,  0.1155, -0.4643, -0.1368,  0.0453,\n",
       "                       0.7830, -0.4735, -0.1000,  0.0249, -0.1643, -0.5019,  0.0519, -0.0879,\n",
       "                      -0.1207, -0.5853, -0.1996, -0.3380,  0.0679, -0.5690,  0.0355, -0.0652,\n",
       "                      -0.1041, -0.3921, -0.5247,  0.1366])),\n",
       "             ('model.encoder.layers.0.norm1.norm.running_mean',\n",
       "              tensor([ 1.1750e+03, -5.6540e-01, -6.8371e-01, -1.2994e+00, -5.5800e-01,\n",
       "                       4.1398e-01,  1.1007e+00,  2.1777e-01,  4.5745e-01,  2.3641e-01,\n",
       "                       2.6818e-01, -1.1295e+00,  3.8664e-01, -1.5983e-01,  4.3907e-02,\n",
       "                       3.7205e-01, -1.5684e+00,  1.0449e+00, -6.2424e-01,  7.5999e-01,\n",
       "                       2.4368e+00,  4.5281e-01,  2.0606e-01,  1.9757e-02, -3.5767e-01,\n",
       "                      -3.7459e-01,  4.8777e-02, -5.1204e-01,  1.8447e-01, -4.6731e-01,\n",
       "                      -3.7947e-03,  2.8644e-01, -3.3745e-01, -6.8521e-01,  4.1481e-01,\n",
       "                       4.0096e-01,  7.0117e-01, -1.5778e-01,  9.6063e-03, -5.2108e-01,\n",
       "                       1.5472e+01,  7.0732e-01, -1.0395e+00,  1.1087e-01,  5.2823e-01,\n",
       "                       8.9863e-01,  9.8634e-02,  1.2323e+00,  9.4066e-01,  1.5103e-01,\n",
       "                       1.3557e+00, -2.0028e-01, -5.1755e-02, -2.0349e-01, -7.1556e-01,\n",
       "                       4.6004e-01,  2.0808e-01, -9.1566e-01,  1.2713e+00,  1.5106e+00,\n",
       "                       1.4157e+01,  5.1157e-01,  7.9850e-02, -1.9060e-01, -3.1205e-01,\n",
       "                      -5.3820e-01,  1.3426e-01, -3.3211e-01, -6.7780e-01,  3.4291e-01,\n",
       "                       1.1256e-01, -2.6175e-01,  3.9652e-02,  2.2882e-01, -9.5987e-01,\n",
       "                       9.6308e-01, -2.1900e-02,  2.2367e-02,  1.2413e-01,  4.0181e-02,\n",
       "                       9.4273e+00,  5.6126e-01,  1.3899e+00,  1.2951e+00, -5.8748e-01,\n",
       "                       1.1388e+00,  6.1056e-02, -1.0190e-01,  9.1350e-01,  6.7504e-02,\n",
       "                      -1.2399e+00,  5.4065e-01, -4.0476e-01,  2.3855e-01, -6.6932e-01,\n",
       "                      -5.1680e-01,  7.7891e-01,  1.0723e+00, -1.8788e-01,  6.6739e-01])),\n",
       "             ('model.encoder.layers.0.norm1.norm.running_var',\n",
       "              tensor([5.6669e+05, 2.9336e-01, 3.5657e-01, 5.1440e-01, 1.7032e-01, 1.4074e-01,\n",
       "                      2.2910e-01, 1.7991e-01, 9.7132e-02, 1.9546e-01, 6.2500e-01, 4.5684e-01,\n",
       "                      2.8183e-01, 1.6389e-01, 1.8431e-01, 3.1836e-01, 3.9002e-01, 1.0995e-01,\n",
       "                      3.6874e-01, 2.3270e-01, 8.8210e-01, 1.3783e-01, 3.6827e-01, 7.5411e-02,\n",
       "                      6.3427e-01, 4.5404e-01, 8.8803e-01, 4.4116e-01, 3.3587e-01, 4.3510e-01,\n",
       "                      4.5652e-01, 3.7628e-01, 9.3399e-01, 7.7255e-01, 2.5579e-01, 2.7240e-01,\n",
       "                      1.1817e-01, 4.9900e-01, 4.0375e-01, 3.2543e-01, 2.1162e+02, 6.4759e-01,\n",
       "                      6.3255e-01, 7.7725e-01, 4.0092e-01, 3.9918e-01, 3.6037e-01, 6.0779e-01,\n",
       "                      4.9242e-01, 5.6991e-01, 5.6526e-01, 4.8622e-01, 3.9649e-01, 5.4714e-01,\n",
       "                      4.0581e-01, 4.6756e-01, 7.9567e-01, 5.9273e-01, 4.2699e-01, 5.2606e-01,\n",
       "                      1.7449e+02, 3.9349e-01, 5.1384e-01, 3.0719e-01, 2.5558e-01, 3.9925e-01,\n",
       "                      3.3537e-01, 6.7801e-01, 4.6446e-01, 4.8124e-01, 4.6937e-01, 5.0985e-01,\n",
       "                      6.6716e-01, 8.0930e-02, 1.2260e-01, 2.7760e-01, 4.8960e-01, 4.0601e-01,\n",
       "                      5.3369e-01, 4.7713e-01, 2.6484e+02, 2.6147e-01, 2.1600e-01, 4.3548e-01,\n",
       "                      4.4054e-01, 5.0120e-01, 2.1236e-01, 4.8145e-01, 3.2171e-01, 3.0561e-01,\n",
       "                      4.2616e-01, 3.0529e-01, 2.2265e-01, 3.2772e-01, 3.7944e-01, 4.7216e-01,\n",
       "                      1.8165e-01, 1.9593e-01, 2.0762e-01, 1.8921e-01])),\n",
       "             ('model.encoder.layers.0.norm1.norm.num_batches_tracked',\n",
       "              tensor(4000)),\n",
       "             ('model.encoder.layers.0.norm2.norm.weight',\n",
       "              tensor([1.9096, 0.6270, 0.8513, 0.6507, 0.6879, 0.5645, 0.4873, 0.5383, 0.5032,\n",
       "                      0.3107, 0.6162, 0.3551, 0.4823, 0.6986, 0.4783, 0.6350, 0.6173, 0.6353,\n",
       "                      0.4328, 0.3377, 0.7283, 0.6030, 0.9320, 0.6595, 0.7692, 0.6956, 0.8101,\n",
       "                      0.4156, 0.8450, 1.2309, 0.5710, 0.7362, 0.7081, 0.7357, 0.5556, 0.8143,\n",
       "                      1.0525, 0.5377, 0.8116, 0.6808, 0.5966, 0.9174, 0.9006, 0.6793, 0.5208,\n",
       "                      0.7079, 0.6602, 0.7785, 1.1292, 0.6226, 0.5572, 0.8775, 0.8015, 1.0517,\n",
       "                      0.6068, 0.7063, 1.1773, 0.3921, 1.0087, 1.1824, 0.7169, 1.2897, 0.3760,\n",
       "                      0.4521, 0.5884, 0.6290, 0.4228, 0.7080, 0.9063, 0.8185, 0.8775, 1.0639,\n",
       "                      0.6511, 0.5421, 0.5242, 0.5006, 0.6864, 0.7560, 0.9310, 0.9213, 0.4701,\n",
       "                      0.8571, 0.7431, 0.7163, 1.4154, 0.8387, 0.8155, 0.4547, 0.4885, 0.6135,\n",
       "                      0.6949, 0.8626, 1.0313, 0.5784, 0.4731, 1.0710, 0.6113, 0.7285, 0.6932,\n",
       "                      0.8542])),\n",
       "             ('model.encoder.layers.0.norm2.norm.bias',\n",
       "              tensor([-0.5605,  0.3449,  0.1312, -0.6150, -0.2191,  0.0707, -0.2401,  0.2426,\n",
       "                      -0.2133,  0.2538,  0.0783, -0.1338, -0.4255, -0.1650,  0.3902,  0.0156,\n",
       "                       0.1612, -0.1908,  0.0237,  0.0456, -0.1081,  0.1792,  0.1426,  0.0603,\n",
       "                      -0.2889,  0.2018, -0.3498,  0.1141, -0.2756, -0.0219,  0.1958,  0.0756,\n",
       "                      -0.0497,  0.2906,  0.0257, -0.0756,  0.1747,  0.1248, -0.1396,  0.1373,\n",
       "                       0.3461,  0.1895,  0.2214,  0.1813,  0.0251,  0.0590, -0.1231, -0.1836,\n",
       "                       0.2966,  0.1255, -0.1632,  0.2178,  0.0160, -0.3024, -0.1748,  0.0698,\n",
       "                      -0.2587, -0.0222,  0.2144, -0.0842,  0.1350,  0.2357, -0.0729, -0.1933,\n",
       "                      -0.0990, -0.1519,  0.0556, -0.1834, -0.2155,  0.3031,  0.2775,  0.2296,\n",
       "                      -0.0287,  0.3295, -0.0010, -0.2647,  0.1577,  0.0184,  0.0971, -0.0049,\n",
       "                       0.3397, -0.0169,  0.2294, -0.0792,  0.1987,  0.0396,  0.0656, -0.0516,\n",
       "                      -0.0420, -0.2601, -0.2277,  0.2899, -0.0465,  0.3417, -0.3102, -0.0833,\n",
       "                       0.1953,  0.1045, -0.0920,  0.0586])),\n",
       "             ('model.encoder.layers.0.norm2.norm.running_mean',\n",
       "              tensor([ 1.1749e+03, -1.9335e+00,  9.8846e-01, -1.0980e+00, -2.6002e-01,\n",
       "                       1.2195e+00,  7.6403e-01, -2.6894e-01, -7.8814e-01,  1.8193e-01,\n",
       "                      -3.4254e-01, -1.3517e+00, -1.1431e-02,  5.7125e-01, -1.6736e+00,\n",
       "                      -1.5099e+00, -1.4490e+00, -3.2946e-01,  6.0189e-01, -2.3370e-01,\n",
       "                       1.4412e+00,  7.2887e-01, -1.1641e+00, -1.1470e+00, -7.6161e-01,\n",
       "                      -3.0617e-01, -1.2218e+00, -5.2638e-01,  7.6518e-01,  2.0201e-01,\n",
       "                      -5.9408e-01,  1.4266e+00, -7.4804e-01, -2.0559e+00, -6.9928e-02,\n",
       "                       1.2177e-01, -4.9538e-01, -3.3320e-01,  2.7244e-02, -1.4990e+00,\n",
       "                       1.6706e+01, -6.6380e-01, -2.9130e+00, -3.2475e-01,  2.9751e+00,\n",
       "                       1.5367e+00, -1.5232e+00,  1.6753e+00,  4.3043e+00,  4.5863e-01,\n",
       "                      -5.8090e-02, -1.6738e+00,  1.3656e+00, -7.1333e-01, -3.2728e-01,\n",
       "                       1.0204e+00, -3.3750e-01, -4.3084e-01,  2.5890e+00, -4.5027e-01,\n",
       "                       1.6778e+01,  2.4506e+00, -1.2316e-01,  8.4684e-01, -4.5422e-01,\n",
       "                      -9.4407e-01, -3.9869e-01, -2.4266e+00, -3.2967e-01, -1.2041e+00,\n",
       "                      -4.4570e-01, -4.6070e+00, -4.4690e-02,  2.4728e+00, -9.5698e-01,\n",
       "                       6.6391e-01, -1.2163e+00, -1.6448e+00, -4.6498e-01,  1.0998e-01,\n",
       "                       9.3834e+00,  1.2560e+00,  1.7870e+00,  1.2471e+00,  3.2707e-01,\n",
       "                       1.1975e+00, -1.8236e+00, -5.1139e-01,  5.9483e-01, -8.1710e-01,\n",
       "                      -1.3813e+00, -7.4013e-01, -2.5588e+00, -4.4825e-01, -9.6379e-01,\n",
       "                      -1.4311e+00,  2.3755e+00,  6.9343e-01, -1.0088e+00,  2.3352e+00])),\n",
       "             ('model.encoder.layers.0.norm2.norm.running_var',\n",
       "              tensor([5.6660e+05, 3.3134e+00, 8.4580e+00, 1.9721e+01, 1.8107e+01, 3.0808e+00,\n",
       "                      1.0782e+01, 3.9591e+01, 1.4959e+01, 6.1097e+01, 1.1389e+01, 4.5963e+01,\n",
       "                      3.8978e+00, 3.6130e+01, 2.1075e+01, 1.0178e+01, 1.8987e+01, 2.8833e+01,\n",
       "                      4.0188e+00, 3.2130e+01, 6.2527e+00, 3.3803e+01, 6.7141e+00, 1.8439e+01,\n",
       "                      2.0003e+00, 2.6937e+01, 8.6656e+00, 1.5019e+01, 1.1954e+01, 8.8886e+00,\n",
       "                      7.2808e+01, 9.2703e+00, 3.6123e+01, 2.3306e+01, 3.2750e+01, 3.5397e+01,\n",
       "                      9.1116e+00, 2.0355e+01, 1.6588e+01, 3.9844e+00, 2.3455e+02, 2.1664e+01,\n",
       "                      1.1013e+01, 2.4661e+01, 1.8458e+01, 1.8827e+01, 1.4564e+01, 3.3788e+01,\n",
       "                      1.0061e+01, 5.6211e+01, 4.2448e+01, 4.5490e+01, 2.0986e+01, 4.1804e+01,\n",
       "                      3.2605e+01, 1.4685e+01, 2.9108e+01, 9.1351e+01, 2.6054e+01, 4.6343e+00,\n",
       "                      2.1443e+02, 5.1579e+00, 2.2692e+01, 3.7289e+01, 1.9930e+01, 2.0043e+01,\n",
       "                      2.7154e+01, 7.1126e+00, 1.1987e+01, 4.8398e+00, 2.4105e+01, 1.9815e+01,\n",
       "                      3.6363e+01, 1.6745e+01, 2.4819e+01, 1.1830e+00, 1.9960e+01, 4.0980e+01,\n",
       "                      1.6612e+01, 1.9583e+01, 2.9554e+02, 4.4560e+01, 1.1567e+01, 7.8688e+01,\n",
       "                      2.1964e+00, 2.2636e+01, 7.9347e+00, 4.8392e+01, 4.7354e+01, 2.9523e+01,\n",
       "                      4.1064e+01, 1.6370e+01, 2.8796e+01, 1.9844e+01, 5.8975e+01, 4.1689e+01,\n",
       "                      5.3773e+01, 3.2557e+01, 5.3395e+01, 1.8665e+01])),\n",
       "             ('model.encoder.layers.0.norm2.norm.num_batches_tracked',\n",
       "              tensor(4000)),\n",
       "             ('model.encoder.layers.0.conv1.weight',\n",
       "              tensor([[[-0.0261],\n",
       "                       [-0.0319],\n",
       "                       [-0.0628],\n",
       "                       ...,\n",
       "                       [ 0.0763],\n",
       "                       [-0.0876],\n",
       "                       [ 0.0657]],\n",
       "              \n",
       "                      [[-0.0147],\n",
       "                       [-0.0911],\n",
       "                       [ 0.0384],\n",
       "                       ...,\n",
       "                       [-0.0380],\n",
       "                       [ 0.0554],\n",
       "                       [-0.0863]],\n",
       "              \n",
       "                      [[ 0.0971],\n",
       "                       [-0.0598],\n",
       "                       [-0.0833],\n",
       "                       ...,\n",
       "                       [-0.0891],\n",
       "                       [ 0.0472],\n",
       "                       [ 0.0719]],\n",
       "              \n",
       "                      ...,\n",
       "              \n",
       "                      [[-0.0739],\n",
       "                       [-0.0084],\n",
       "                       [ 0.0137],\n",
       "                       ...,\n",
       "                       [-0.0178],\n",
       "                       [ 0.0982],\n",
       "                       [ 0.0771]],\n",
       "              \n",
       "                      [[ 0.0090],\n",
       "                       [-0.0747],\n",
       "                       [ 0.0247],\n",
       "                       ...,\n",
       "                       [-0.0490],\n",
       "                       [-0.0075],\n",
       "                       [-0.0910]],\n",
       "              \n",
       "                      [[ 0.0644],\n",
       "                       [-0.0803],\n",
       "                       [-0.0378],\n",
       "                       ...,\n",
       "                       [-0.0068],\n",
       "                       [-0.0717],\n",
       "                       [ 0.0127]]])),\n",
       "             ('model.encoder.layers.0.conv1.bias',\n",
       "              tensor([ 0.0279,  0.0746,  0.0960, -0.0549, -0.0292, -0.0292, -0.0669,  0.0529,\n",
       "                       0.0334, -0.0185,  0.0656, -0.0070,  0.0486,  0.0502, -0.0942, -0.0074,\n",
       "                       0.0533, -0.0270, -0.0163,  0.0519, -0.0012, -0.0543,  0.0724,  0.0519,\n",
       "                       0.0164, -0.0687, -0.0726, -0.0130,  0.0055,  0.0798,  0.0113, -0.0009,\n",
       "                       0.0282, -0.0885, -0.0047,  0.0362, -0.0367,  0.0247, -0.0287, -0.0989,\n",
       "                      -0.0796, -0.0035, -0.0882,  0.0826,  0.0441,  0.0995, -0.0286,  0.0679,\n",
       "                      -0.0901,  0.0346,  0.0448,  0.0120, -0.0462, -0.0440, -0.0350,  0.0815,\n",
       "                       0.0286, -0.0373, -0.0314,  0.0033,  0.0363,  0.0915,  0.0653,  0.0848,\n",
       "                      -0.0406,  0.0252,  0.0684,  0.0832,  0.0139,  0.0908, -0.0619, -0.0949,\n",
       "                       0.0253,  0.0579,  0.0571, -0.0754,  0.0877, -0.0847,  0.0832, -0.0346,\n",
       "                       0.0953,  0.0477,  0.0659,  0.0041, -0.0975, -0.0862, -0.0854, -0.0361,\n",
       "                      -0.0312,  0.0282, -0.0903, -0.0779, -0.0099, -0.0228, -0.0191, -0.0863,\n",
       "                      -0.0950, -0.0879, -0.0488, -0.0149])),\n",
       "             ('model.encoder.layers.0.conv2.weight',\n",
       "              tensor([[[-0.0751],\n",
       "                       [-0.0911],\n",
       "                       [-0.0127],\n",
       "                       ...,\n",
       "                       [ 0.0507],\n",
       "                       [-0.0848],\n",
       "                       [ 0.0521]],\n",
       "              \n",
       "                      [[ 0.0290],\n",
       "                       [ 0.0948],\n",
       "                       [ 0.0966],\n",
       "                       ...,\n",
       "                       [-0.0749],\n",
       "                       [-0.0706],\n",
       "                       [ 0.0237]],\n",
       "              \n",
       "                      [[ 0.0612],\n",
       "                       [-0.0923],\n",
       "                       [ 0.0367],\n",
       "                       ...,\n",
       "                       [ 0.0212],\n",
       "                       [ 0.0968],\n",
       "                       [-0.0429]],\n",
       "              \n",
       "                      ...,\n",
       "              \n",
       "                      [[-0.0058],\n",
       "                       [ 0.0648],\n",
       "                       [ 0.0872],\n",
       "                       ...,\n",
       "                       [-0.0550],\n",
       "                       [-0.0375],\n",
       "                       [ 0.0992]],\n",
       "              \n",
       "                      [[-0.0818],\n",
       "                       [ 0.0113],\n",
       "                       [-0.0584],\n",
       "                       ...,\n",
       "                       [-0.0158],\n",
       "                       [ 0.0868],\n",
       "                       [ 0.0210]],\n",
       "              \n",
       "                      [[ 0.0845],\n",
       "                       [ 0.0702],\n",
       "                       [-0.0257],\n",
       "                       ...,\n",
       "                       [ 0.0951],\n",
       "                       [ 0.0302],\n",
       "                       [ 0.0597]]])),\n",
       "             ('model.encoder.layers.0.conv2.bias',\n",
       "              tensor([ 0.0910,  0.0141, -0.0442, -0.0871, -0.0099, -0.0919, -0.0816,  0.0975,\n",
       "                       0.0891,  0.0593,  0.0902,  0.0757,  0.0860,  0.0105,  0.0665,  0.0908,\n",
       "                      -0.0053, -0.0050, -0.0357, -0.0333, -0.0116, -0.0828, -0.0536, -0.0276,\n",
       "                       0.0784, -0.0329,  0.0701, -0.0910,  0.0006,  0.0699,  0.0127,  0.0056,\n",
       "                       0.0632,  0.0033, -0.0922,  0.0906, -0.0703, -0.0927, -0.0325, -0.0623,\n",
       "                       0.0002,  0.0230, -0.0122,  0.0075, -0.0815, -0.0206, -0.0134,  0.0489,\n",
       "                      -0.0003, -0.0907,  0.0960, -0.0787,  0.0940, -0.0928, -0.0786, -0.0563,\n",
       "                       0.0269, -0.0816, -0.0010, -0.0159, -0.0753,  0.0298, -0.0642, -0.0086,\n",
       "                       0.0526, -0.0877,  0.0082, -0.0688,  0.0147,  0.0964,  0.0031, -0.0083,\n",
       "                      -0.0970, -0.0506, -0.0188,  0.0238, -0.0706,  0.0407,  0.0765, -0.0539,\n",
       "                       0.0732, -0.0606,  0.0965,  0.0769,  0.0575,  0.0914,  0.0169, -0.0751,\n",
       "                       0.0153,  0.0924,  0.0919,  0.0559, -0.0947,  0.0009,  0.0131,  0.0925,\n",
       "                      -0.0544, -0.0841, -0.0399, -0.0552])),\n",
       "             ('model.encoder.layers.0.linear1.weight',\n",
       "              tensor([[-0.1405,  0.0961, -0.1470,  ...,  0.2671,  0.1972, -0.0645],\n",
       "                      [-0.3441,  0.0862, -0.0913,  ..., -0.0796, -0.1280, -0.0686],\n",
       "                      [-0.0917,  0.0683, -0.0795,  ...,  0.1235, -0.0056,  0.0112],\n",
       "                      ...,\n",
       "                      [-0.0309, -0.1879, -0.0378,  ..., -0.1597, -0.1557, -0.0781],\n",
       "                      [ 0.0057, -0.0599, -0.1077,  ..., -0.1565, -0.0909, -0.1860],\n",
       "                      [-0.0404, -0.0902, -0.1223,  ..., -0.0126, -0.0307,  0.0140]])),\n",
       "             ('model.encoder.layers.0.linear1.bias',\n",
       "              tensor([-3.9897e-01,  6.6202e-02, -1.7122e-01, -1.3005e-01, -1.2720e-01,\n",
       "                      -2.4524e-01,  1.0638e-01,  7.3313e-02, -5.3824e-01, -7.4291e-04,\n",
       "                      -2.9953e-01, -1.1229e-01, -7.7310e-02, -5.3799e-02, -1.7300e-01,\n",
       "                      -4.4015e-01, -2.2577e-01, -1.3298e-01,  1.0673e-01,  3.1075e-02,\n",
       "                       5.7596e-02, -1.8566e-01,  4.2468e-05, -1.0751e-01,  2.1191e-01,\n",
       "                      -5.5378e-02, -3.2913e-01, -2.7446e-01, -6.5258e-02, -2.0089e-01,\n",
       "                       3.4994e-01, -1.1642e-01, -2.0255e-01, -1.4456e-01,  9.5074e-02,\n",
       "                       3.8730e-02, -3.7730e-01, -5.5487e-02, -2.5849e-01,  3.5202e-02,\n",
       "                      -2.1978e-01, -2.4091e-01,  5.6374e-02,  8.0605e-03,  2.6909e-01,\n",
       "                      -4.4117e-01, -2.9072e-01,  1.8836e-02, -6.7185e-02, -8.9370e-02,\n",
       "                       9.2583e-02, -3.6371e-01,  2.5719e-01, -3.9837e-03, -2.1558e-01,\n",
       "                      -5.4826e-01, -1.9546e-01, -2.7877e-01, -9.8633e-02, -3.5101e-02,\n",
       "                       3.6073e-02,  1.0832e-01, -2.6718e-01, -2.0777e-01,  7.0324e-02,\n",
       "                      -2.9792e-01, -3.0985e-01,  3.2936e-02,  1.4783e-01, -1.8452e-02,\n",
       "                      -5.4109e-01, -3.7265e-01, -5.2648e-05,  1.2592e-02, -2.8113e-01,\n",
       "                      -5.5427e-02, -8.7802e-03, -3.4369e-01,  2.5918e-01, -5.7898e-01,\n",
       "                      -2.0730e-01, -1.9944e-01, -1.8666e-01, -1.6970e-02, -1.0407e-01,\n",
       "                      -9.4146e-02, -1.1054e-01, -9.8810e-02, -2.4014e-01,  1.4075e-02,\n",
       "                      -6.6179e-03, -1.0374e-01, -2.7197e-02,  2.7810e-02, -2.5711e-01,\n",
       "                      -1.8628e-01, -3.1901e-02, -1.9909e-01, -2.8138e-01, -7.6202e-02])),\n",
       "             ('model.encoder.layers.0.linear2.weight',\n",
       "              tensor([[-0.0840,  0.0920,  0.1116,  ..., -0.1906,  0.0400,  0.0859],\n",
       "                      [ 0.1113,  0.0363, -0.0176,  ..., -0.2621, -0.0273, -0.0308],\n",
       "                      [-0.0071, -0.1209, -0.0143,  ...,  0.0009,  0.2396,  0.1088],\n",
       "                      ...,\n",
       "                      [-0.0634,  0.1496,  0.0692,  ..., -0.0890, -0.2775,  0.0605],\n",
       "                      [-0.0819,  0.0610, -0.0972,  ...,  0.0472, -0.0262,  0.1919],\n",
       "                      [-0.1563,  0.0717,  0.0738,  ..., -0.1274, -0.2611, -0.1410]])),\n",
       "             ('model.encoder.layers.0.linear2.bias',\n",
       "              tensor([-0.0179,  0.0772,  0.0146, -0.0545,  0.0322,  0.0332, -0.0712, -0.0228,\n",
       "                       0.0782,  0.0809, -0.0519,  0.0599, -0.0359, -0.0934,  0.0976,  0.0177,\n",
       "                       0.0431,  0.0506,  0.0563, -0.0225,  0.0883, -0.0367,  0.0514,  0.0810,\n",
       "                       0.0946, -0.0982,  0.0550, -0.0554, -0.0018,  0.0454,  0.0318,  0.0938,\n",
       "                      -0.0225, -0.0354,  0.0759,  0.0043,  0.0385,  0.0611,  0.0795,  0.0149,\n",
       "                      -0.0208,  0.0878, -0.0351, -0.0198, -0.0937,  0.0057, -0.0915, -0.0516,\n",
       "                      -0.0810, -0.0398,  0.0297, -0.0082, -0.0216, -0.0722, -0.0192,  0.0496,\n",
       "                      -0.0591,  0.0964, -0.0085, -0.0622,  0.0303,  0.0199,  0.0104, -0.0402,\n",
       "                       0.0741,  0.0650,  0.0614, -0.0423, -0.0455,  0.0925,  0.0808,  0.0944,\n",
       "                      -0.0849,  0.0320, -0.0500, -0.0520,  0.0763,  0.0298, -0.0915,  0.0744,\n",
       "                       0.0343, -0.0835, -0.0699, -0.0248,  0.0749, -0.0514,  0.0116,  0.0862,\n",
       "                       0.0057, -0.0165,  0.0200, -0.0620, -0.0683, -0.0519, -0.0583, -0.0338,\n",
       "                       0.0942,  0.0367, -0.0146, -0.0097])),\n",
       "             ('model.encoder.norm_layer.norm.weight',\n",
       "              tensor([0.3398, 0.3054, 0.3802, 0.2690, 0.3325, 0.2577, 0.2797, 0.5673, 0.2485,\n",
       "                      0.3811, 0.3763, 0.4772, 0.4428, 0.2703, 0.4864, 0.4797, 0.3920, 0.2595,\n",
       "                      0.4329, 0.2055, 0.2697, 0.2207, 0.3088, 0.4311, 0.4405, 0.2761, 0.3632,\n",
       "                      0.2588, 0.2861, 0.3709, 0.2849, 0.3370, 0.4173, 0.3070, 0.3562, 0.5793,\n",
       "                      0.3280, 0.4360, 0.4302, 0.5560, 0.8931, 0.5103, 0.4544, 0.5698, 0.4299,\n",
       "                      0.4737, 0.3949, 0.3408, 0.3283, 0.3508, 0.4664, 0.3974, 0.2122, 0.4679,\n",
       "                      0.3553, 0.3403, 0.1405, 0.3931, 0.4445, 0.7563, 0.5862, 0.5341, 0.4188,\n",
       "                      0.2228, 0.5546, 0.3993, 0.4837, 0.4469, 0.4178, 0.5827, 0.2000, 0.5047,\n",
       "                      0.3659, 0.5554, 0.3531, 0.5213, 0.2276, 0.4942, 0.2059, 0.3823, 0.6914,\n",
       "                      0.4548, 0.2634, 0.5676, 0.5335, 0.2165, 0.5224, 0.4717, 0.1321, 0.4349,\n",
       "                      0.4078, 0.4581, 0.4698, 0.5355, 0.4202, 0.4525, 0.4107, 0.3439, 0.4854,\n",
       "                      0.4475])),\n",
       "             ('model.encoder.norm_layer.norm.bias',\n",
       "              tensor([ 1.2402e-02,  5.7596e-02,  1.0361e-02, -2.6668e-02,  1.1241e-01,\n",
       "                       1.6025e-02, -6.8560e-02, -1.9776e-04, -6.5787e-02,  4.4666e-02,\n",
       "                       7.8470e-02,  1.0774e-02, -9.5078e-02, -1.0277e-01, -1.5927e-02,\n",
       "                       2.2151e-03,  6.6914e-02, -2.0991e-03,  4.1052e-03,  1.7011e-02,\n",
       "                      -4.6149e-02,  2.1668e-02,  1.6729e-02, -1.2878e-01,  1.0891e-02,\n",
       "                       5.7042e-02,  5.3876e-02,  5.8489e-02, -5.4781e-02,  3.4256e-03,\n",
       "                       1.0803e-02, -2.8390e-03,  3.4530e-02, -3.0413e-02, -1.2105e-01,\n",
       "                       4.7662e-03,  2.1323e-02,  2.4148e-02, -3.4193e-02, -9.4961e-03,\n",
       "                       9.2146e-02, -7.2762e-02, -4.9078e-04, -2.0449e-02, -1.4538e-02,\n",
       "                       1.1048e-01, -4.0158e-02, -3.8557e-02,  6.9997e-02,  1.5667e-03,\n",
       "                      -4.8486e-02,  1.0003e-01, -9.1792e-02, -9.5148e-03, -1.1553e-01,\n",
       "                      -2.0707e-02, -1.2023e-03, -1.8839e-02, -3.2866e-05, -6.5747e-02,\n",
       "                       8.5664e-02, -9.1165e-03, -6.1185e-02, -2.1344e-02,  2.8461e-03,\n",
       "                      -5.3147e-02, -5.4738e-02, -2.0817e-02,  4.6941e-02, -8.3043e-02,\n",
       "                       4.4470e-02,  4.3497e-02,  6.4576e-02, -2.0114e-02,  9.0752e-03,\n",
       "                       4.5243e-02,  6.4270e-03,  5.5118e-02,  4.7871e-02,  3.3935e-02,\n",
       "                      -2.6792e-02, -4.4411e-03, -9.1347e-03,  2.1778e-03, -5.7146e-02,\n",
       "                       1.8711e-02,  3.5832e-02,  2.4260e-02,  1.0806e-01, -3.7951e-02,\n",
       "                      -1.8090e-01, -3.7167e-02,  1.3697e-01, -5.3578e-02, -7.9252e-02,\n",
       "                       6.4981e-02,  1.2138e-02, -2.4574e-02, -1.6281e-02, -3.4304e-03])),\n",
       "             ('model.encoder.norm_layer.norm.running_mean',\n",
       "              tensor([ 1.1719e+03, -6.0743e+00,  4.9347e+00, -4.0428e+00,  2.3543e+00,\n",
       "                       4.3286e+00,  2.2852e+00, -4.3631e+00, -7.8485e+00,  6.9292e+00,\n",
       "                      -6.1052e+00, -4.4254e+00, -3.8239e+00, -3.0363e+00, -3.3100e+00,\n",
       "                       6.8515e-01, -3.1305e+00,  1.0871e+00, -8.9457e-01, -1.0461e+00,\n",
       "                      -4.1933e+00, -9.0423e-01,  1.5298e+00, -1.8560e+00, -7.3486e+00,\n",
       "                      -7.1383e+00, -5.8649e+00,  5.5618e+00,  1.3129e+00, -2.2147e+00,\n",
       "                      -6.2574e+00,  5.6414e+00, -5.0995e+00, -3.3198e+00, -1.5699e+00,\n",
       "                       3.4484e+00, -1.7775e+00, -4.2804e-01,  6.2945e+00,  4.1493e+00,\n",
       "                       1.5524e+01, -2.2301e+00, -2.8710e-01, -5.4626e-01,  3.8077e+00,\n",
       "                       5.0513e+00, -1.6299e+00,  9.6020e+00,  7.2756e+00,  2.1423e+00,\n",
       "                       5.6482e+00, -4.4863e+00, -1.3125e-02,  1.2974e+00, -4.8312e+00,\n",
       "                       1.1209e+00,  3.3352e+00, -1.3941e+00,  5.5934e-01, -3.4759e+00,\n",
       "                       1.6388e+01,  7.1151e-01,  5.4430e+00, -1.3475e+00,  5.2187e+00,\n",
       "                      -1.3302e+00, -5.3421e+00, -4.6869e+00,  3.1553e+00,  6.8948e+00,\n",
       "                      -9.6007e-01, -2.3879e+00,  2.9442e+00,  6.7906e+00,  2.9893e+00,\n",
       "                       1.0205e+00, -5.3157e+00, -8.8506e+00, -7.2267e+00,  9.3232e-01,\n",
       "                       9.8660e+00,  9.1451e+00,  1.9242e+00,  2.2335e+00, -6.5526e-01,\n",
       "                       6.5177e+00, -6.0650e+00, -8.7720e+00, -1.0333e-01, -5.1499e+00,\n",
       "                      -1.5304e-01, -3.3162e+00, -3.0821e-01,  4.7961e+00,  3.6044e-01,\n",
       "                       1.1800e+00,  7.4913e+00, -3.2330e+00, -8.0875e-01, -2.9330e+00])),\n",
       "             ('model.encoder.norm_layer.norm.running_var',\n",
       "              tensor([5.6492e+05, 1.3071e+02, 1.1048e+02, 1.4176e+02, 7.0729e+01, 1.1906e+02,\n",
       "                      1.0301e+02, 2.4390e+02, 1.3297e+02, 2.5614e+02, 8.8165e+01, 2.0875e+02,\n",
       "                      6.6077e+01, 1.1053e+02, 1.2533e+02, 1.4264e+02, 2.4114e+02, 1.0181e+02,\n",
       "                      9.1401e+01, 9.7235e+01, 5.2305e+01, 5.2010e+01, 7.3479e+01, 1.1839e+02,\n",
       "                      1.2544e+02, 2.3589e+02, 2.3368e+02, 9.7082e+01, 5.4707e+01, 1.8383e+02,\n",
       "                      1.2309e+02, 9.3819e+01, 1.3772e+02, 2.6505e+02, 9.7646e+01, 1.3736e+02,\n",
       "                      6.3865e+01, 1.1632e+02, 1.2866e+02, 5.5681e+01, 3.0545e+02, 1.8639e+02,\n",
       "                      8.0891e+01, 1.2111e+02, 2.3545e+02, 1.5211e+02, 7.7801e+01, 2.6101e+02,\n",
       "                      1.8883e+02, 2.7318e+02, 2.4944e+02, 2.2631e+02, 9.9966e+01, 2.4772e+02,\n",
       "                      1.0695e+02, 9.8388e+01, 4.0752e+01, 1.2385e+02, 1.3462e+02, 1.1665e+02,\n",
       "                      3.5880e+02, 9.3573e+01, 1.1930e+02, 1.1453e+02, 2.1241e+02, 1.2077e+02,\n",
       "                      1.6204e+02, 8.4364e+01, 6.0830e+01, 6.6097e+01, 1.0917e+02, 1.1075e+02,\n",
       "                      7.1266e+01, 1.4820e+02, 1.1444e+02, 8.1996e+01, 1.4052e+02, 8.7784e+01,\n",
       "                      2.8283e+01, 5.5905e+01, 3.1400e+02, 1.9723e+02, 6.9799e+01, 7.1213e+01,\n",
       "                      4.5293e+01, 1.2555e+02, 1.1457e+02, 1.8492e+02, 1.5293e+02, 1.4572e+02,\n",
       "                      8.0760e+01, 1.5411e+02, 5.6515e+01, 1.0374e+02, 1.5748e+02, 1.4887e+02,\n",
       "                      6.5373e+01, 1.8638e+02, 1.6888e+02, 1.3694e+02])),\n",
       "             ('model.encoder.norm_layer.norm.num_batches_tracked',\n",
       "              tensor(4000)),\n",
       "             ('model.decoder.layers.0.global_self_attention.query_projection.weight',\n",
       "              tensor([[ 3.0850e-01, -2.0448e-02, -1.6485e-01,  ...,  4.2255e-02,\n",
       "                        1.0569e-01,  5.7747e-02],\n",
       "                      [ 7.7284e-01, -1.1771e-01, -6.5914e-06,  ..., -1.5953e-01,\n",
       "                       -2.1822e-01,  2.0477e-01],\n",
       "                      [ 5.2374e-02, -2.9092e-02,  3.4107e-01,  ...,  1.5461e-02,\n",
       "                       -4.2126e-02, -1.3983e-01],\n",
       "                      ...,\n",
       "                      [ 3.1022e-01, -7.2035e-02,  4.1482e-02,  ..., -8.7447e-02,\n",
       "                        5.0097e-02, -3.5887e-01],\n",
       "                      [-2.1165e-01,  6.6388e-02,  3.4113e-02,  ..., -2.4856e-01,\n",
       "                        3.6123e-01, -4.3636e-02],\n",
       "                      [-4.8859e-02, -2.3598e-02,  2.2556e-01,  ..., -1.8468e-01,\n",
       "                       -6.2685e-02,  1.7254e-01]])),\n",
       "             ('model.decoder.layers.0.global_self_attention.query_projection.bias',\n",
       "              tensor([ 0.1248, -0.3519,  0.1674,  0.2700,  0.2553, -0.2821,  0.4291,  0.2477,\n",
       "                       0.0441,  0.1270, -0.5824,  0.2046, -0.0449,  0.4583, -0.2892,  0.5942,\n",
       "                      -0.3894, -0.5170, -0.1687, -0.2970, -0.1287,  0.3238, -0.0065, -0.3023,\n",
       "                      -0.1924,  0.1010,  0.4769,  0.0535,  0.5701,  0.1404, -0.2176,  0.0810,\n",
       "                      -0.2971, -0.2116,  0.1742,  0.0624,  0.3650, -0.3196, -0.1597,  0.2688,\n",
       "                       0.5972,  0.0744,  0.3365, -0.0144,  0.1444, -0.2142,  0.2945, -0.3260,\n",
       "                       0.4030,  0.0709,  0.3840, -0.4305,  0.3733,  0.2433, -0.0952,  0.2601,\n",
       "                       0.7816,  0.2880, -0.2243, -0.5648, -0.2462,  0.3214, -0.1603, -0.4932,\n",
       "                       0.0520,  0.4301, -0.0662,  0.5851,  0.1578,  0.1221, -0.1789,  0.3346,\n",
       "                      -0.1794,  0.1670,  0.0999, -0.0230, -0.1033, -0.1290,  0.0657, -0.4159,\n",
       "                      -0.0438,  0.4234, -0.3550, -0.1917,  0.8852, -0.2555,  0.0761,  0.4328,\n",
       "                       0.1641,  0.1135,  0.0010, -0.0812, -0.6455, -0.1900,  0.1624,  0.0734,\n",
       "                      -0.1228, -0.4077, -0.0580,  0.4270])),\n",
       "             ('model.decoder.layers.0.global_self_attention.key_projection.weight',\n",
       "              tensor([[-0.1513,  0.4177,  0.2855,  ..., -0.0415, -0.2114,  0.1746],\n",
       "                      [-0.0483,  0.0697, -0.1136,  ..., -0.7614,  1.0833, -0.9288],\n",
       "                      [-0.2779, -0.2086,  0.2805,  ...,  0.2840, -0.3956,  0.3161],\n",
       "                      ...,\n",
       "                      [ 0.0473, -0.6450,  0.4215,  ...,  0.0786,  0.0056,  0.0313],\n",
       "                      [-0.1214,  0.7171,  0.1157,  ..., -0.0116,  0.1649,  0.0583],\n",
       "                      [ 0.0679,  0.3690, -0.3307,  ..., -0.0125, -0.2352,  0.1905]])),\n",
       "             ('model.decoder.layers.0.global_self_attention.key_projection.bias',\n",
       "              tensor([-0.0765, -0.0509,  0.0648,  0.0366, -0.0865, -0.0259,  0.0025,  0.0432,\n",
       "                       0.0664,  0.0533,  0.0080,  0.0625,  0.0405,  0.0038,  0.0582,  0.0391,\n",
       "                      -0.0504, -0.0723,  0.0773,  0.0717,  0.0713, -0.0006, -0.0748,  0.0394,\n",
       "                       0.0069,  0.0579,  0.0245, -0.0295,  0.0624,  0.0006,  0.0801,  0.0018,\n",
       "                       0.0228,  0.0590,  0.0141,  0.0290,  0.0756, -0.0997, -0.0291, -0.0525,\n",
       "                      -0.0446,  0.0847, -0.0116,  0.0049,  0.0342,  0.0235,  0.0927,  0.0701,\n",
       "                       0.0121, -0.0731, -0.0218, -0.0762, -0.0614, -0.0354,  0.0009, -0.0681,\n",
       "                      -0.0715, -0.0764,  0.0824,  0.0147, -0.0979,  0.0861,  0.1060, -0.0770,\n",
       "                      -0.0528,  0.0891,  0.0208,  0.0716,  0.1095, -0.0388, -0.0834, -0.0491,\n",
       "                       0.0479, -0.0386, -0.0179,  0.0771,  0.0910,  0.0616,  0.0247, -0.0443,\n",
       "                       0.0220, -0.0222,  0.0295,  0.0084, -0.0613, -0.0039,  0.0665,  0.0654,\n",
       "                       0.0813, -0.0105,  0.0789, -0.0002, -0.0851,  0.0327, -0.0978, -0.0839,\n",
       "                      -0.0291, -0.0292, -0.0753, -0.0679])),\n",
       "             ('model.decoder.layers.0.global_self_attention.value_projection.weight',\n",
       "              tensor([[-0.0512,  0.0703,  0.0749,  ...,  0.6691,  0.1206,  0.1345],\n",
       "                      [-0.1662, -0.1591,  0.1021,  ...,  0.0436,  0.2050, -0.1568],\n",
       "                      [ 0.3586,  0.1126,  0.2136,  ...,  0.0846, -0.0428,  0.0393],\n",
       "                      ...,\n",
       "                      [-0.2250,  0.0424, -0.2223,  ...,  0.4634, -0.2199,  0.1405],\n",
       "                      [ 0.2302, -0.0168, -0.1719,  ..., -0.1643,  0.0192,  0.0086],\n",
       "                      [-0.1886, -0.1824, -0.0245,  ..., -0.0113,  0.0320,  0.1312]])),\n",
       "             ('model.decoder.layers.0.global_self_attention.value_projection.bias',\n",
       "              tensor([-0.0260,  0.0503, -0.0187,  0.0333,  0.0743,  0.0004,  0.1310, -0.1105,\n",
       "                       0.0966,  0.0929, -0.0665, -0.0465, -0.0428, -0.0382,  0.0034, -0.1185,\n",
       "                      -0.0622, -0.0485, -0.1434,  0.0390,  0.0931,  0.0620,  0.0179, -0.0695,\n",
       "                       0.0856, -0.1195,  0.0225,  0.0366, -0.0406, -0.0045, -0.0244,  0.0143,\n",
       "                      -0.0015, -0.0827,  0.0637, -0.1158, -0.0246,  0.0269, -0.0719,  0.0387,\n",
       "                       0.0314, -0.0653, -0.0009,  0.0534, -0.0911, -0.0244, -0.0294,  0.0323,\n",
       "                       0.0893, -0.0137,  0.0525, -0.0412, -0.0351,  0.1647, -0.1543,  0.0790,\n",
       "                       0.0549, -0.0492, -0.0236, -0.0605, -0.0178, -0.0434, -0.1518, -0.0799,\n",
       "                      -0.0115,  0.0829,  0.0621,  0.0043,  0.0784,  0.0564, -0.0810,  0.0005,\n",
       "                       0.0091,  0.0531, -0.1029, -0.0098,  0.0502, -0.0942,  0.0921,  0.0419,\n",
       "                       0.0995,  0.0243,  0.0485, -0.0505,  0.0035, -0.0492, -0.0902, -0.0741,\n",
       "                      -0.0565, -0.0795, -0.0436,  0.0084,  0.0219,  0.0314,  0.0882, -0.1161,\n",
       "                      -0.1491, -0.0902,  0.0206,  0.0558])),\n",
       "             ('model.decoder.layers.0.global_self_attention.out_projection.weight',\n",
       "              tensor([[-0.0460,  0.0545,  0.0222,  ..., -0.0287, -0.0971, -0.0960],\n",
       "                      [ 0.0906,  0.0272,  0.0479,  ..., -0.0307, -0.0588,  0.0026],\n",
       "                      [-0.0727,  0.0658,  0.0769,  ...,  0.0037, -0.0754, -0.0181],\n",
       "                      ...,\n",
       "                      [-0.0503,  0.0836,  0.0859,  ...,  0.0212,  0.0773, -0.0274],\n",
       "                      [ 0.0126, -0.0700, -0.0283,  ...,  0.0082, -0.0531,  0.0997],\n",
       "                      [ 0.0960,  0.0162, -0.0772,  ..., -0.0698,  0.0382,  0.0534]])),\n",
       "             ('model.decoder.layers.0.global_self_attention.out_projection.bias',\n",
       "              tensor([ 0.0826, -0.0245, -0.0740,  0.0132,  0.0476,  0.0801, -0.0245,  0.0400,\n",
       "                      -0.0092, -0.0715, -0.0737, -0.0950,  0.0835,  0.0830,  0.0040,  0.0713,\n",
       "                      -0.0866,  0.0898, -0.0348,  0.0152, -0.0189,  0.0066,  0.0756,  0.0129,\n",
       "                       0.0019, -0.0612, -0.0121,  0.0675, -0.0680, -0.0730,  0.0930, -0.0380,\n",
       "                      -0.0650,  0.0458,  0.0032,  0.0630,  0.0784,  0.0367, -0.0164,  0.0227,\n",
       "                       0.0355, -0.0903,  0.0848, -0.0050, -0.0028,  0.0003,  0.0185, -0.0002,\n",
       "                       0.0765,  0.0356,  0.0115,  0.0235,  0.0887, -0.0679,  0.0870,  0.0484,\n",
       "                      -0.0261, -0.0467,  0.0430, -0.0827,  0.0953,  0.0410,  0.0413, -0.0239,\n",
       "                      -0.0148, -0.0724, -0.0527,  0.0225,  0.0036,  0.0919, -0.0582, -0.0544,\n",
       "                      -0.0620, -0.0273, -0.0693,  0.0322,  0.0734, -0.0537, -0.0595,  0.0108,\n",
       "                       0.0254, -0.0731,  0.0957, -0.0140, -0.0563,  0.0018,  0.0895, -0.0560,\n",
       "                       0.0872,  0.0347,  0.0593, -0.0038,  0.0918,  0.0083, -0.0759, -0.0962,\n",
       "                      -0.0231, -0.0833, -0.0454, -0.0079])),\n",
       "             ('model.decoder.layers.0.global_cross_attention.query_projection.weight',\n",
       "              tensor([[ 0.0006,  0.0751,  0.2175,  ..., -0.0949, -0.0032,  0.2592],\n",
       "                      [-0.0835, -0.0262, -0.0609,  ...,  0.2376,  0.1093, -0.0543],\n",
       "                      [-0.0097,  0.1122, -0.1189,  ..., -0.3280, -0.1992,  0.1133],\n",
       "                      ...,\n",
       "                      [-0.0020, -0.3749,  0.0957,  ...,  0.1477,  0.2653, -0.1809],\n",
       "                      [ 0.0586, -0.3372, -0.1241,  ...,  0.0558,  0.2017, -0.2080],\n",
       "                      [ 0.0495,  0.0824, -0.0941,  ..., -0.0561, -0.0072,  0.0748]])),\n",
       "             ('model.decoder.layers.0.global_cross_attention.query_projection.bias',\n",
       "              tensor([-0.1880,  0.2143, -0.2371,  0.0275,  0.2456,  0.2471,  0.0507,  0.0773,\n",
       "                       0.1593, -0.2452,  0.1922, -0.0419, -0.0517, -0.1339,  0.2545,  0.0236,\n",
       "                       0.0478,  0.0663, -0.1472,  0.0376,  0.0649, -0.0037, -0.1987,  0.2487,\n",
       "                      -0.2344, -0.0169,  0.0845, -0.0910,  0.0760,  0.3342, -0.1116, -0.4462,\n",
       "                       0.1884,  0.1290, -0.0100, -0.0197, -0.0223,  0.0701, -0.1587, -0.2069,\n",
       "                      -0.0474,  0.1881,  0.2117,  0.0278,  0.1422, -0.2325, -0.1533, -0.1185,\n",
       "                       0.0972,  0.1744, -0.2665, -0.0455, -0.0912, -0.0017, -0.0160,  0.1085,\n",
       "                      -0.0924, -0.0049, -0.2807,  0.0197,  0.1900,  0.1353, -0.0954, -0.0182,\n",
       "                      -0.0972, -0.1755, -0.0777,  0.0227,  0.2330,  0.0093, -0.2087, -0.1297,\n",
       "                      -0.2522, -0.0801, -0.3073, -0.2332, -0.2864,  0.0230,  0.2769,  0.0895,\n",
       "                       0.1697, -0.0009,  0.0465, -0.1162,  0.1838,  0.0934,  0.0904,  0.0302,\n",
       "                       0.0172,  0.0117,  0.0272, -0.0416, -0.1759, -0.0617,  0.0061, -0.0200,\n",
       "                      -0.2016,  0.0353,  0.2850, -0.0596])),\n",
       "             ('model.decoder.layers.0.global_cross_attention.key_projection.weight',\n",
       "              tensor([[-0.2127, -0.0009, -0.1579,  ...,  0.0592,  0.1979,  0.0233],\n",
       "                      [ 0.0486,  0.0667, -0.3194,  ..., -0.0890, -0.0597, -0.0024],\n",
       "                      [-0.0053, -0.0351, -0.0729,  ...,  0.0011,  0.1874, -0.0157],\n",
       "                      ...,\n",
       "                      [ 0.1114,  0.0628,  0.0639,  ...,  0.1439, -0.1774,  0.0462],\n",
       "                      [-0.0213, -0.0476,  0.0967,  ...,  0.1142, -0.1323,  0.0548],\n",
       "                      [-0.1556, -0.0305,  0.0565,  ...,  0.0217, -0.0899,  0.1480]])),\n",
       "             ('model.decoder.layers.0.global_cross_attention.key_projection.bias',\n",
       "              tensor([-0.0472, -0.0231, -0.0140, -0.0661,  0.0634, -0.0090,  0.0231, -0.0338,\n",
       "                       0.0745,  0.0928, -0.0250, -0.0376,  0.0744,  0.0741, -0.0093,  0.0504,\n",
       "                      -0.0870,  0.0627, -0.0082, -0.0195,  0.0382,  0.0387, -0.0554, -0.1003,\n",
       "                       0.0160,  0.0189, -0.0959,  0.0999,  0.0534,  0.0524, -0.0102,  0.0164,\n",
       "                      -0.0736,  0.1012, -0.0528,  0.0559,  0.0554, -0.0467, -0.0330,  0.0644,\n",
       "                      -0.0542,  0.0639,  0.0074,  0.0749,  0.0485,  0.0517,  0.0527, -0.0081,\n",
       "                       0.0423, -0.0608, -0.0052,  0.0394, -0.0131,  0.0044,  0.0834,  0.0434,\n",
       "                       0.0982,  0.0896,  0.0492,  0.0978,  0.0164,  0.0087, -0.0966,  0.0047,\n",
       "                       0.0291, -0.0831, -0.0872, -0.0466,  0.0020, -0.0994,  0.0656, -0.0680,\n",
       "                      -0.0740,  0.0125,  0.0103, -0.0615,  0.0553,  0.0977, -0.1033, -0.0449,\n",
       "                      -0.0250,  0.0788, -0.0802,  0.0999, -0.0661,  0.0505, -0.0466,  0.0475,\n",
       "                      -0.0637,  0.0452, -0.0235, -0.0924, -0.0276, -0.0909, -0.0165,  0.0146,\n",
       "                       0.0431, -0.0283, -0.0858,  0.0134])),\n",
       "             ('model.decoder.layers.0.global_cross_attention.value_projection.weight',\n",
       "              tensor([[ 2.5860e-01,  1.1336e-01,  2.3821e-02,  ...,  4.6336e-02,\n",
       "                       -1.1983e-02, -1.1104e-01],\n",
       "                      [ 9.3789e-02, -4.1294e-03,  4.4864e-02,  ...,  1.5627e-02,\n",
       "                        9.1615e-03, -3.9026e-02],\n",
       "                      [-1.2101e-02,  1.6111e-01, -4.0361e-02,  ...,  1.8650e-01,\n",
       "                       -3.3561e-01,  2.9779e-01],\n",
       "                      ...,\n",
       "                      [-2.4291e-01,  4.5176e-02, -3.6469e-02,  ..., -4.6828e-02,\n",
       "                       -2.4216e-02,  5.7447e-02],\n",
       "                      [-1.1233e-01, -1.2217e-02, -1.3133e-01,  ...,  4.6021e-02,\n",
       "                        3.3649e-02,  2.2804e-04],\n",
       "                      [ 1.2047e-01,  1.0261e-01, -9.3505e-02,  ...,  1.0665e-01,\n",
       "                       -8.4513e-02,  8.7316e-02]])),\n",
       "             ('model.decoder.layers.0.global_cross_attention.value_projection.bias',\n",
       "              tensor([-0.0684, -0.0424, -0.0514,  0.0715,  0.0564, -0.0269,  0.0843,  0.0529,\n",
       "                       0.0362,  0.0176, -0.1020, -0.0209, -0.0984,  0.0028, -0.1211, -0.0387,\n",
       "                       0.0109,  0.0242, -0.0616,  0.0772, -0.0848, -0.0787, -0.0540, -0.0407,\n",
       "                       0.0663,  0.0434,  0.0043, -0.0996,  0.0244,  0.0409, -0.0617,  0.0420,\n",
       "                      -0.0454, -0.0245,  0.0959, -0.0556,  0.0314, -0.0474,  0.0321, -0.0435,\n",
       "                       0.0048, -0.1037,  0.0033,  0.0622,  0.0472, -0.0276,  0.0838, -0.1345,\n",
       "                      -0.0081,  0.0735, -0.0208, -0.1067,  0.1057,  0.1109,  0.0846, -0.0635,\n",
       "                      -0.0103, -0.0053,  0.0202,  0.0103,  0.0182, -0.1129,  0.0889,  0.0671,\n",
       "                      -0.0054, -0.0289,  0.1387,  0.1119, -0.0704,  0.0152, -0.0149,  0.0042,\n",
       "                       0.0516,  0.0278, -0.0089, -0.0687,  0.0004,  0.0620, -0.0639, -0.0253,\n",
       "                       0.0006, -0.0413, -0.0851, -0.1046, -0.0921, -0.0146, -0.0053, -0.0570,\n",
       "                       0.0126, -0.0285,  0.0466,  0.0160, -0.0364,  0.0869,  0.0445,  0.0496,\n",
       "                      -0.0249,  0.0199,  0.0637,  0.1493])),\n",
       "             ('model.decoder.layers.0.global_cross_attention.out_projection.weight',\n",
       "              tensor([[ 0.0729,  0.0152,  0.0756,  ..., -0.0890,  0.0244,  0.0867],\n",
       "                      [ 0.0747,  0.0907, -0.0613,  ..., -0.0965, -0.0666,  0.0311],\n",
       "                      [ 0.0274,  0.0054, -0.0235,  ..., -0.0419, -0.0931, -0.0394],\n",
       "                      ...,\n",
       "                      [-0.0786, -0.0166, -0.0406,  ...,  0.0141, -0.0427, -0.0451],\n",
       "                      [-0.0742,  0.0957,  0.0949,  ..., -0.0353, -0.0820, -0.0631],\n",
       "                      [-0.0831, -0.0631, -0.0425,  ...,  0.0084, -0.0912, -0.0060]])),\n",
       "             ('model.decoder.layers.0.global_cross_attention.out_projection.bias',\n",
       "              tensor([-0.0504,  0.0489, -0.0600, -0.0909, -0.0296,  0.0216, -0.0886, -0.0153,\n",
       "                      -0.0611, -0.0714, -0.0593, -0.0946, -0.0556, -0.0298, -0.0311, -0.0904,\n",
       "                       0.0101, -0.0861,  0.0674,  0.0630,  0.0499, -0.0451,  0.0501,  0.0650,\n",
       "                       0.0634,  0.0538,  0.0585,  0.0488, -0.0801, -0.0888, -0.0093, -0.0533,\n",
       "                      -0.0840,  0.0462, -0.0548,  0.0991, -0.0107,  0.0892, -0.0820,  0.0648,\n",
       "                       0.0498,  0.0394,  0.0216,  0.0154, -0.0502,  0.0297,  0.0865,  0.0826,\n",
       "                       0.0748,  0.0077,  0.0112,  0.0163, -0.0347, -0.0280, -0.0484, -0.0066,\n",
       "                       0.0648, -0.0302, -0.0683, -0.0879, -0.0464,  0.0792,  0.0197, -0.0366,\n",
       "                       0.0807, -0.0716, -0.0809, -0.0104,  0.0086,  0.0718, -0.0308, -0.0035,\n",
       "                       0.0280,  0.0077,  0.0243, -0.0154,  0.0305,  0.0375, -0.0385, -0.0260,\n",
       "                      -0.0052,  0.0991, -0.0535, -0.0308, -0.0015,  0.0631, -0.0686, -0.0152,\n",
       "                       0.0374, -0.0083, -0.0316, -0.0800, -0.0980,  0.0217, -0.0838, -0.0947,\n",
       "                       0.0088,  0.0620,  0.0807, -0.0401])),\n",
       "             ('model.decoder.layers.0.norm1.norm.weight',\n",
       "              tensor([1.2090, 0.5224, 0.4927, 0.4784, 0.4078, 0.3162, 0.4258, 0.3854, 0.3478,\n",
       "                      0.4784, 0.4116, 0.2885, 0.3886, 0.4324, 0.4417, 0.3071, 0.3529, 0.2310,\n",
       "                      0.5450, 0.5243, 1.0224, 0.6609, 0.7112, 0.6472, 1.0674, 0.6293, 0.5219,\n",
       "                      0.9482, 0.5589, 0.9108, 0.6243, 0.6625, 0.3500, 0.6007, 0.7014, 0.6155,\n",
       "                      0.8201, 0.8033, 1.0594, 0.7591, 0.9350, 1.6485, 0.6496, 0.9542, 0.3896,\n",
       "                      0.8590, 0.6902, 1.1419, 0.5666, 0.5930, 0.8525, 0.3973, 0.7830, 0.9195,\n",
       "                      0.8730, 0.8178, 0.6328, 0.3794, 0.9301, 0.6003, 1.0878, 0.7985, 1.1455,\n",
       "                      0.8909, 0.5691, 0.7179, 0.9680, 0.4089, 0.7821, 0.3125, 1.0019, 1.0493,\n",
       "                      0.6024, 0.8898, 0.5482, 0.3151, 0.3537, 0.1906, 0.1201, 0.6433, 1.0133,\n",
       "                      0.5685, 0.6034, 0.8807, 0.5514, 1.0000, 0.8121, 0.8545, 0.5183, 0.6160,\n",
       "                      0.7722, 0.9797, 0.7148, 0.6218, 0.5806, 0.5503, 0.6780, 0.7179, 0.7228,\n",
       "                      0.4979])),\n",
       "             ('model.decoder.layers.0.norm1.norm.bias',\n",
       "              tensor([-0.7919,  0.1790, -0.0011,  0.2063, -0.2272,  0.1273,  0.0911,  0.1230,\n",
       "                       0.1565,  0.1769,  0.1909,  0.0154, -0.0335,  0.4699,  0.3032, -0.0249,\n",
       "                       0.0129, -0.0809, -0.0096, -0.0184,  0.0172,  0.0547, -0.1074, -0.2719,\n",
       "                      -0.1589,  0.1556, -0.0904,  0.1982, -0.0479,  0.3212,  0.3778,  0.0231,\n",
       "                       0.3744,  0.1196,  0.3156,  0.2084, -0.0784,  0.1850,  0.6882,  0.2764,\n",
       "                      -0.1329,  0.3451,  0.1906,  0.2812, -0.0195,  0.4837,  0.0715,  0.4240,\n",
       "                      -0.1496,  0.3912, -0.2027,  0.3503, -0.2232,  0.4997, -0.2197,  0.2396,\n",
       "                      -0.2770,  0.2511,  0.0184, -0.3615, -0.1062,  0.1806, -0.3340, -0.3299,\n",
       "                      -0.2317, -0.0973,  0.1820,  0.1082, -0.2022, -0.1280,  0.3133, -0.1768,\n",
       "                      -0.2093,  0.0789, -0.3111,  0.0181, -0.0148, -0.1398,  0.0061, -0.4194,\n",
       "                      -0.1947, -0.0836,  0.2011, -0.2299,  0.3185,  0.1086, -0.0911,  0.0805,\n",
       "                       0.0070,  0.2143,  0.1803, -0.1611, -0.0236, -0.1298,  0.2129,  0.1682,\n",
       "                      -0.1390,  0.1583,  0.2416,  0.1582])),\n",
       "             ('model.decoder.layers.0.norm1.norm.running_mean',\n",
       "              tensor([ 8.1332e+02,  1.1863e-01,  6.6626e-01, -6.8331e-02,  1.9119e-01,\n",
       "                      -3.2657e-01, -6.9295e-02, -6.6924e-01, -1.4987e+00,  5.1569e-01,\n",
       "                      -1.2596e+00,  5.0888e-01,  8.6142e-01,  6.5567e-02, -8.6615e-01,\n",
       "                      -8.1976e-02,  1.3586e+00,  1.6754e-01,  1.8582e+00,  6.7396e-01,\n",
       "                       2.4526e+00, -9.7503e-01, -2.4574e-01,  6.0748e-01,  9.7612e-01,\n",
       "                       1.1643e+00, -1.1549e+00, -1.1987e+00, -3.4026e-01, -1.0285e-01,\n",
       "                       1.3770e+00,  2.5001e+00,  7.5392e-01,  3.9602e-01,  2.5866e-01,\n",
       "                       4.5183e-01,  1.1553e+00,  8.2678e-01, -2.0038e+00, -5.0251e-01,\n",
       "                       1.4090e+01,  1.2972e+00,  9.8047e-01,  5.5397e-01,  2.0491e+00,\n",
       "                      -1.2143e+00,  1.6372e+00, -1.2896e+00, -1.4011e-01, -2.8383e-02,\n",
       "                       1.5501e+00,  9.6155e-01, -6.9566e-02,  4.9278e-01,  9.3852e-02,\n",
       "                      -1.1022e+00, -6.7981e-01,  5.3925e-01,  8.1855e-01,  8.8501e-01,\n",
       "                       6.6503e+00,  5.5721e-01, -6.5101e-01,  9.3836e-01,  7.3306e-01,\n",
       "                       1.6401e+00,  7.0093e-01, -8.7383e-01, -9.3237e-01,  1.7257e+00,\n",
       "                      -6.9599e-01,  6.3054e-01,  7.6255e-01,  1.6537e+00,  1.5773e+00,\n",
       "                       2.0888e-01, -2.1042e-01,  1.5993e+00,  1.0977e-01,  2.0684e+00,\n",
       "                       2.9677e+01,  1.1249e+00, -1.1730e+00,  2.0252e+00, -3.5895e-01,\n",
       "                       2.1443e+00,  1.3221e-01,  5.8919e-01, -1.2071e+00,  1.4260e+00,\n",
       "                       1.2673e+00,  1.8376e+00,  1.0762e+00, -2.2470e-01,  1.6840e+00,\n",
       "                      -5.9292e-02,  1.6961e-01,  1.2306e+00, -1.4953e+00,  2.1907e+00])),\n",
       "             ('model.decoder.layers.0.norm1.norm.running_var',\n",
       "              tensor([6.7727e+04, 1.4197e+00, 1.1135e+00, 1.6848e+00, 7.6116e-01, 2.7626e+00,\n",
       "                      1.5891e+00, 2.9690e+00, 1.4014e+00, 1.2421e+00, 5.8878e-01, 5.5955e-01,\n",
       "                      8.1491e-01, 2.9696e+00, 1.5406e+00, 2.2373e+00, 8.7094e-01, 1.8932e+00,\n",
       "                      8.0501e-01, 3.1589e+00, 5.0097e+00, 1.6287e+00, 9.9579e-01, 1.0659e+00,\n",
       "                      9.8239e-01, 7.2356e-01, 1.0393e+00, 4.8367e-01, 1.4089e+00, 1.2438e+00,\n",
       "                      1.0333e+00, 1.1976e+00, 2.5596e+00, 9.7179e-01, 7.8423e-01, 6.4575e-01,\n",
       "                      8.1365e-01, 9.9698e-01, 2.2075e+00, 1.2359e+00, 6.2789e+01, 5.7964e-01,\n",
       "                      1.2290e+00, 9.6711e-01, 1.1856e+00, 9.8700e-01, 5.1670e-01, 2.2525e+00,\n",
       "                      1.4094e+00, 1.1283e+00, 1.3394e+00, 6.4930e-01, 1.1963e+00, 5.5834e-01,\n",
       "                      1.0586e+00, 5.2908e-01, 6.6327e-01, 2.7531e+00, 7.1033e-01, 9.5352e-01,\n",
       "                      1.0754e+01, 1.0587e+00, 4.5896e-01, 2.6432e+00, 1.1770e+00, 3.5357e+00,\n",
       "                      9.3114e-01, 6.2007e-01, 7.2731e-01, 2.6119e+00, 2.2759e+00, 1.5935e-01,\n",
       "                      1.2346e+00, 8.1002e-01, 5.7701e-01, 4.2375e-01, 6.1185e-01, 6.2220e-01,\n",
       "                      4.1200e+00, 5.1069e-01, 4.2072e+02, 6.6635e-01, 4.9874e-01, 1.0956e+00,\n",
       "                      2.5115e+00, 4.4580e-01, 5.7366e-01, 6.1295e-01, 6.4779e-01, 7.6325e-01,\n",
       "                      5.8478e-01, 5.9545e-01, 6.3071e-01, 1.3835e+00, 7.4968e-01, 5.1136e-01,\n",
       "                      1.1044e+00, 5.9939e-01, 8.5095e-01, 5.9305e+00])),\n",
       "             ('model.decoder.layers.0.norm1.norm.num_batches_tracked',\n",
       "              tensor(4000)),\n",
       "             ('model.decoder.layers.0.norm2.norm.weight',\n",
       "              tensor([0.6492, 0.9501, 0.9830, 0.9359, 0.9555, 0.7189, 0.8425, 0.6291, 0.9434,\n",
       "                      0.6349, 0.5942, 0.8420, 0.5839, 0.8233, 0.8877, 0.8177, 0.6837, 0.6923,\n",
       "                      0.9244, 0.9092, 1.0642, 0.7312, 0.8392, 0.7268, 0.9073, 0.9819, 0.8347,\n",
       "                      0.9157, 1.1918, 1.1511, 0.6813, 1.0156, 1.0490, 1.1117, 1.0219, 0.9462,\n",
       "                      1.1671, 0.9941, 0.7109, 1.1947, 1.3169, 0.4782, 0.7437, 1.3396, 0.9657,\n",
       "                      0.7271, 1.2588, 0.6045, 1.1768, 0.6839, 0.5740, 0.9107, 1.0532, 0.6583,\n",
       "                      0.7603, 1.0074, 0.4985, 1.4306, 1.0028, 1.0575, 1.1415, 0.9277, 1.3839,\n",
       "                      0.9773, 1.0289, 1.4926, 1.2418, 1.0423, 0.6949, 0.7385, 0.7217, 0.9443,\n",
       "                      1.2713, 1.0372, 1.1906, 1.1154, 1.4655, 0.7496, 0.8624, 0.8154, 1.0854,\n",
       "                      0.7564, 0.8165, 1.0428, 1.1658, 0.7441, 0.8695, 0.7193, 0.9591, 1.0788,\n",
       "                      0.8083, 0.8248, 1.0495, 1.3579, 1.1160, 0.9720, 1.0009, 1.3898, 0.9050,\n",
       "                      0.9507])),\n",
       "             ('model.decoder.layers.0.norm2.norm.bias',\n",
       "              tensor([-0.0642, -0.1871,  0.5241,  0.3153,  0.1220,  0.0137,  0.1132, -0.0868,\n",
       "                      -0.0633, -0.0675,  0.2834,  0.3395, -0.0604,  0.0968,  0.2954, -0.0736,\n",
       "                      -0.0431,  0.1214,  0.3736,  0.0853, -0.2931,  0.2337, -0.2597,  0.0716,\n",
       "                      -0.3510,  0.4144,  0.3451, -0.2415,  0.0094, -0.1782,  0.1318, -0.3058,\n",
       "                      -0.0593, -0.1129,  0.4326,  0.2582, -0.0343,  0.0649,  0.1085,  0.2814,\n",
       "                       0.1117, -0.2562,  0.4816,  0.1858, -0.0260,  0.1127,  0.1924,  0.1877,\n",
       "                       0.1376, -0.1239, -0.1223,  0.2795, -0.0039, -0.2839,  0.0494,  0.1779,\n",
       "                      -0.1482, -0.0136, -0.1850, -0.1178, -0.1192,  0.3814, -0.2725,  0.3303,\n",
       "                       0.1058,  0.0992,  0.1207, -0.2568,  0.2399, -0.1227,  0.1317, -0.3539,\n",
       "                       0.3026,  0.2972, -0.1345,  0.3777, -0.1520,  0.3282,  0.0536,  0.1228,\n",
       "                       0.2648, -0.2186,  0.2336, -0.0617, -0.1334,  0.1871, -0.2771,  0.0617,\n",
       "                       0.0219,  0.3233, -0.3827,  0.2714, -0.0539, -0.2327,  0.2373, -0.0223,\n",
       "                      -0.1006,  0.4835,  0.3116,  0.0252])),\n",
       "             ('model.decoder.layers.0.norm2.norm.running_mean',\n",
       "              tensor([ 8.1535e+02, -6.6499e-01,  3.3151e+00,  2.6450e+00,  6.5738e-01,\n",
       "                       3.6634e-01,  1.3048e+00, -1.0190e+00, -3.0447e-01,  7.1772e-01,\n",
       "                      -3.5051e-01,  1.8063e+00,  7.5978e-01, -1.5676e-01,  2.4235e-01,\n",
       "                      -6.7486e-01,  2.4481e+00, -2.9313e-01,  2.6348e+00,  8.4407e-01,\n",
       "                       5.1785e-01, -8.1119e-01, -4.8441e-01,  1.1127e+00,  5.9973e-01,\n",
       "                       1.9349e+00, -7.1707e-01, -6.4132e-01, -1.8758e-01, -5.6876e-01,\n",
       "                       1.5649e+00,  8.9113e-02,  4.9742e-01,  1.5292e-02,  3.3706e+00,\n",
       "                       8.7146e-01, -1.4309e-01,  1.6156e+00, -7.6680e-01, -5.3862e-01,\n",
       "                       1.5418e+01,  4.5429e-01,  2.4011e+00,  7.9755e-01,  2.1056e+00,\n",
       "                      -3.5894e-01,  2.1208e+00, -1.1331e-02, -4.1442e-01,  5.2194e-01,\n",
       "                       1.7024e+00,  1.3323e+00,  3.5030e-01,  4.8686e-01,  4.1729e-01,\n",
       "                      -2.1387e+00, -2.1919e+00,  1.3008e-01, -3.2390e-01,  7.4178e-01,\n",
       "                       6.7805e+00,  3.3549e+00, -2.3557e+00,  1.2666e+00, -4.5148e-01,\n",
       "                       7.1900e-01,  9.3345e-01, -1.7352e+00, -1.7759e+00,  2.0752e+00,\n",
       "                      -1.1347e-01, -2.6500e+00,  1.0691e+00,  4.8386e+00,  2.2347e+00,\n",
       "                       5.3468e-01, -4.4717e-01,  3.9950e+00, -5.9686e-01,  1.8422e+00,\n",
       "                       3.0878e+01,  9.8143e-01, -1.1540e+00,  3.0159e+00, -8.1300e-01,\n",
       "                       2.3530e+00,  3.7756e-01, -6.1139e-01, -2.5166e+00,  3.7677e+00,\n",
       "                      -1.6166e+00,  5.0954e+00,  9.8278e-01, -2.2062e+00,  2.0816e+00,\n",
       "                      -4.5535e-02,  4.0626e-02,  1.3033e+00,  7.7879e-02,  3.5022e+00])),\n",
       "             ('model.decoder.layers.0.norm2.norm.running_var',\n",
       "              tensor([6.7626e+04, 5.0587e+00, 9.4686e+00, 1.6492e+01, 3.9664e+00, 4.5958e+00,\n",
       "                      6.2710e+00, 4.6113e+00, 8.6306e+00, 3.1651e+00, 3.3204e+00, 4.5698e+00,\n",
       "                      1.9192e+00, 6.3360e+00, 4.9664e+00, 1.1723e+01, 4.3928e+00, 5.1835e+00,\n",
       "                      8.1305e+00, 3.9656e+00, 1.3031e+01, 2.9212e+00, 2.6469e+00, 3.1569e+00,\n",
       "                      4.3373e+00, 1.9189e+00, 2.6924e+00, 3.8286e+00, 4.1339e+00, 1.9880e+00,\n",
       "                      3.6018e+00, 1.8061e+01, 5.3902e+00, 5.0796e+00, 2.3878e+01, 2.4900e+00,\n",
       "                      4.2543e+00, 3.2684e+00, 7.0915e+00, 4.1894e+00, 5.8414e+01, 1.3192e+01,\n",
       "                      4.8945e+00, 1.8104e+00, 2.8965e+00, 3.1023e+00, 1.2301e+00, 7.0177e+00,\n",
       "                      5.1199e+00, 5.2198e+00, 2.4876e+00, 6.0340e+00, 1.4453e+00, 3.1763e+00,\n",
       "                      8.9691e+00, 4.7104e+00, 6.2137e+00, 3.1060e+00, 3.0815e+00, 7.8960e+00,\n",
       "                      1.7474e+01, 2.2421e+01, 8.7008e+00, 5.7581e+00, 7.9106e+00, 9.6128e+00,\n",
       "                      4.9665e+00, 3.5506e+00, 5.5700e+00, 9.7767e+00, 1.4777e+01, 1.7532e+01,\n",
       "                      3.3646e+00, 2.5404e+01, 9.7705e+00, 4.8220e+00, 4.0780e+00, 1.4283e+01,\n",
       "                      5.6105e+00, 4.2422e+00, 4.2908e+02, 3.2463e+00, 3.1249e+00, 2.9743e+00,\n",
       "                      3.5233e+00, 3.8762e+00, 4.4499e+00, 3.1892e+00, 8.1606e+00, 1.1639e+01,\n",
       "                      1.7648e+01, 1.6551e+01, 5.1548e+00, 9.6841e+00, 3.9890e+00, 1.9972e+00,\n",
       "                      4.8962e+00, 6.4602e+00, 8.2294e+00, 8.2750e+00])),\n",
       "             ('model.decoder.layers.0.norm2.norm.num_batches_tracked',\n",
       "              tensor(4000)),\n",
       "             ('model.decoder.layers.0.norm3.norm.weight',\n",
       "              tensor([1.2506, 0.1765, 0.7528, 0.5090, 0.2599, 0.4726, 0.6221, 0.5639, 0.4748,\n",
       "                      0.4256, 0.3118, 0.3742, 0.2650, 0.4166, 0.5608, 0.6731, 0.4120, 0.4767,\n",
       "                      0.7385, 0.6686, 0.6174, 0.5075, 0.8304, 0.6090, 0.8346, 0.7423, 0.7787,\n",
       "                      0.9117, 1.0217, 0.8967, 0.8747, 0.7789, 1.0130, 1.1231, 0.6195, 1.0115,\n",
       "                      0.9626, 0.9205, 0.6577, 1.3867, 1.0064, 0.4276, 1.1494, 1.0818, 0.9377,\n",
       "                      1.1814, 0.8045, 1.3732, 0.7738, 1.1791, 0.7404, 0.8229, 1.0115, 0.6714,\n",
       "                      0.6760, 0.9329, 0.4836, 0.6420, 0.7133, 0.7878, 1.0796, 0.5272, 1.0986,\n",
       "                      0.6560, 0.7803, 0.5615, 0.8010, 0.7383, 1.0055, 0.6397, 0.5951, 0.5442,\n",
       "                      0.6189, 0.6366, 1.2324, 0.6453, 0.8467, 0.5264, 0.8976, 0.6556, 1.3084,\n",
       "                      0.7301, 0.6263, 1.0342, 0.8320, 1.0639, 0.9666, 0.8606, 0.5659, 0.8642,\n",
       "                      0.6018, 0.4247, 1.1833, 0.7362, 1.0437, 0.8228, 0.3854, 1.1254, 0.4321,\n",
       "                      0.8990])),\n",
       "             ('model.decoder.layers.0.norm3.norm.bias',\n",
       "              tensor([-0.1813,  0.2329, -0.0255, -0.1653, -0.0164,  0.1881, -0.1460,  0.0729,\n",
       "                       0.3346, -0.1604,  0.3585,  0.2043, -0.0808, -0.1951, -0.0332,  0.6016,\n",
       "                       0.4092, -0.1876,  0.0687, -0.1824, -0.4470,  0.2233,  0.0259, -0.0321,\n",
       "                      -0.2360,  0.3150,  0.0157,  0.2763,  0.2546,  0.3722,  0.0172, -0.1743,\n",
       "                       0.6373,  0.2883,  0.0600, -0.1012, -0.2833, -0.3133,  0.2888,  0.4381,\n",
       "                      -0.0786, -0.3394,  0.2168,  0.1300,  0.1292,  0.2742, -0.1458,  0.0665,\n",
       "                       0.2933,  0.2496, -0.3917,  0.0692, -0.1409,  0.1110, -0.3425, -0.6780,\n",
       "                      -0.5352, -0.1622, -0.3276, -0.0939, -0.2734, -0.1296, -0.3015, -0.3318,\n",
       "                      -0.3951, -0.6656,  0.3967,  0.1771,  0.2358,  0.0873,  0.0991,  0.0463,\n",
       "                      -0.3248, -0.3814, -0.1045,  0.4039, -0.2281,  0.0025, -0.6446, -0.0950,\n",
       "                      -0.1288,  0.6281, -0.5876, -0.1452,  0.1964, -0.0309,  0.0233, -0.0656,\n",
       "                      -0.5560, -0.4447,  0.0597,  0.2424, -0.7364,  0.4203, -0.2275, -0.2477,\n",
       "                       0.0153,  0.1620,  0.5475,  0.2285])),\n",
       "             ('model.decoder.layers.0.norm3.norm.running_mean',\n",
       "              tensor([ 8.1475e+02, -9.4400e-01,  3.8360e+00,  3.3079e+00,  6.8455e-01,\n",
       "                       6.4088e-01,  1.1974e+00, -7.7591e-01,  4.0155e-01,  1.2945e+00,\n",
       "                      -7.3401e-01,  1.8062e+00,  4.6847e-01, -4.8133e-01,  4.3813e-01,\n",
       "                      -9.8855e-01,  2.6520e+00, -6.3610e-01,  2.7634e+00,  1.0848e+00,\n",
       "                      -4.6478e-02, -1.1127e+00, -9.7789e-01,  1.2413e+00,  8.5603e-01,\n",
       "                       1.7337e+00, -8.7377e-01, -4.5216e-01,  3.8840e-01, -2.0195e-01,\n",
       "                       1.6282e+00, -1.7887e-01,  6.3886e-01,  4.3682e-01,  3.8934e+00,\n",
       "                       1.2230e+00,  2.4085e-01,  1.0117e+00, -4.9852e-01, -6.2952e-01,\n",
       "                       1.5154e+01,  7.3748e-02,  2.8199e+00,  7.8094e-01,  3.0667e+00,\n",
       "                      -1.5661e-01,  1.9265e+00, -1.8808e-01, -4.7996e-01,  2.8939e-01,\n",
       "                       1.7408e+00,  9.8317e-01,  1.6499e-01,  4.0068e-01,  9.9494e-01,\n",
       "                      -3.0635e+00, -1.8730e+00, -4.5046e-01, -2.6695e-01,  1.0279e+00,\n",
       "                       6.0559e+00,  3.2404e+00, -2.0999e+00,  5.6791e-01, -3.9522e-02,\n",
       "                       7.2238e-01,  2.7928e-01, -1.7019e+00, -1.9311e+00,  1.9888e+00,\n",
       "                       4.0339e-01, -2.4120e+00,  1.5049e+00,  5.1244e+00,  2.4219e+00,\n",
       "                       1.0157e+00, -6.2936e-01,  3.6380e+00, -8.1248e-01,  2.0914e+00,\n",
       "                       3.0444e+01,  1.2611e+00, -1.9468e+00,  3.1546e+00, -4.6349e-01,\n",
       "                       2.0697e+00,  6.1713e-01, -6.0447e-01, -3.1397e+00,  3.5858e+00,\n",
       "                      -1.5027e+00,  4.8166e+00,  1.4433e+00, -2.3176e+00,  2.7005e+00,\n",
       "                      -1.0669e+00, -1.0203e-01,  1.1225e+00, -7.3758e-02,  3.4881e+00])),\n",
       "             ('model.decoder.layers.0.norm3.norm.running_var',\n",
       "              tensor([6.7524e+04, 7.2938e+00, 5.8406e+01, 7.6260e+01, 4.0236e+00, 5.5539e+00,\n",
       "                      6.4189e+00, 4.8371e+00, 8.2897e+00, 3.1244e+00, 3.6750e+00, 2.8368e+00,\n",
       "                      1.9404e+00, 5.5348e+00, 4.9014e+00, 4.0288e+01, 4.2240e+00, 4.6444e+00,\n",
       "                      8.2350e+00, 3.4557e+00, 1.1900e+01, 2.5805e+00, 4.2167e+00, 3.0952e+00,\n",
       "                      3.9107e+00, 1.7520e+00, 2.2844e+00, 3.0416e+00, 4.4671e+00, 2.0870e+00,\n",
       "                      4.2345e+00, 9.9842e+01, 4.5065e+00, 4.5776e+00, 1.0687e+02, 1.7633e+00,\n",
       "                      4.2783e+00, 3.4051e+00, 6.1760e+00, 3.3824e+00, 5.7390e+01, 3.9150e+01,\n",
       "                      3.9960e+00, 1.6746e+00, 3.2183e+00, 2.8784e+00, 1.2895e+00, 6.4254e+00,\n",
       "                      4.9958e+00, 5.1949e+00, 2.8953e+00, 6.9790e+00, 1.4852e+00, 6.1736e+00,\n",
       "                      3.2516e+01, 4.6400e+00, 5.9719e+00, 3.0868e+00, 2.4472e+00, 8.8756e+00,\n",
       "                      1.7231e+01, 5.9551e+01, 9.1979e+00, 5.3960e+00, 6.8977e+00, 9.8742e+00,\n",
       "                      5.5305e+00, 2.3877e+00, 5.7925e+00, 2.0778e+01, 5.2134e+01, 2.3463e+01,\n",
       "                      3.4310e+00, 1.2358e+02, 1.0222e+01, 4.9049e+00, 4.2148e+00, 3.1608e+01,\n",
       "                      5.5454e+00, 3.4958e+01, 4.2838e+02, 3.3761e+00, 2.2201e+00, 3.5335e+00,\n",
       "                      3.4278e+00, 3.6977e+00, 3.8277e+00, 3.3698e+00, 7.6284e+00, 2.5856e+01,\n",
       "                      5.1497e+01, 3.2658e+01, 5.4113e+00, 4.1317e+01, 3.6825e+00, 2.3515e+00,\n",
       "                      1.3378e+01, 6.5591e+00, 6.9530e+00, 7.6655e+00])),\n",
       "             ('model.decoder.layers.0.norm3.norm.num_batches_tracked',\n",
       "              tensor(4000)),\n",
       "             ('model.decoder.layers.0.conv1.weight',\n",
       "              tensor([[[ 0.0011],\n",
       "                       [-0.0523],\n",
       "                       [ 0.0786],\n",
       "                       ...,\n",
       "                       [-0.0316],\n",
       "                       [ 0.0075],\n",
       "                       [-0.0971]],\n",
       "              \n",
       "                      [[-0.0149],\n",
       "                       [ 0.0786],\n",
       "                       [ 0.0070],\n",
       "                       ...,\n",
       "                       [ 0.0492],\n",
       "                       [-0.0548],\n",
       "                       [ 0.0067]],\n",
       "              \n",
       "                      [[ 0.0415],\n",
       "                       [-0.0890],\n",
       "                       [ 0.0557],\n",
       "                       ...,\n",
       "                       [-0.0723],\n",
       "                       [ 0.0677],\n",
       "                       [-0.0282]],\n",
       "              \n",
       "                      ...,\n",
       "              \n",
       "                      [[-0.0753],\n",
       "                       [-0.0536],\n",
       "                       [ 0.0430],\n",
       "                       ...,\n",
       "                       [ 0.0656],\n",
       "                       [-0.0866],\n",
       "                       [-0.0936]],\n",
       "              \n",
       "                      [[-0.0391],\n",
       "                       [-0.0447],\n",
       "                       [-0.0640],\n",
       "                       ...,\n",
       "                       [-0.0067],\n",
       "                       [ 0.0367],\n",
       "                       [-0.0056]],\n",
       "              \n",
       "                      [[ 0.0331],\n",
       "                       [ 0.0268],\n",
       "                       [ 0.0711],\n",
       "                       ...,\n",
       "                       [ 0.0736],\n",
       "                       [ 0.0782],\n",
       "                       [-0.0654]]])),\n",
       "             ('model.decoder.layers.0.conv1.bias',\n",
       "              tensor([-0.0110,  0.0645, -0.0620,  0.0194,  0.0828,  0.0227,  0.0405,  0.0740,\n",
       "                       0.0055,  0.0265,  0.0979,  0.0874,  0.0094,  0.0266,  0.0863, -0.0995,\n",
       "                       0.0956, -0.0015,  0.0105, -0.0809,  0.0806,  0.0421, -0.0295,  0.0016,\n",
       "                      -0.0333,  0.0764, -0.0514, -0.0743,  0.0510,  0.0289, -0.0480, -0.0947,\n",
       "                      -0.0467,  0.0521,  0.0341,  0.0346,  0.0179, -0.0731,  0.0834,  0.0945,\n",
       "                      -0.0460,  0.0957, -0.0925,  0.0235, -0.0559,  0.0127, -0.0768,  0.0546,\n",
       "                      -0.0087,  0.0998, -0.0409,  0.0394,  0.0271, -0.0733,  0.0242, -0.0959,\n",
       "                       0.0595, -0.0588,  0.0046,  0.0547,  0.0047, -0.0786, -0.0173, -0.0405,\n",
       "                       0.0022, -0.0675, -0.0194, -0.0904, -0.0726, -0.0825,  0.0319,  0.0201,\n",
       "                      -0.0722,  0.0102,  0.0098,  0.0700,  0.0650,  0.0499,  0.0111,  0.0568,\n",
       "                       0.0902,  0.0579,  0.0459, -0.0232,  0.0854, -0.0045,  0.0185, -0.0532,\n",
       "                      -0.0941,  0.0702,  0.0782,  0.0416, -0.0408,  0.0612, -0.0527,  0.0812,\n",
       "                       0.0842, -0.0415,  0.0085,  0.0057])),\n",
       "             ('model.decoder.layers.0.conv2.weight',\n",
       "              tensor([[[-0.0700],\n",
       "                       [ 0.0456],\n",
       "                       [ 0.0867],\n",
       "                       ...,\n",
       "                       [ 0.0211],\n",
       "                       [ 0.0772],\n",
       "                       [ 0.0768]],\n",
       "              \n",
       "                      [[ 0.0611],\n",
       "                       [ 0.0177],\n",
       "                       [-0.0416],\n",
       "                       ...,\n",
       "                       [-0.0644],\n",
       "                       [-0.0950],\n",
       "                       [ 0.0456]],\n",
       "              \n",
       "                      [[-0.0827],\n",
       "                       [-0.0512],\n",
       "                       [-0.0136],\n",
       "                       ...,\n",
       "                       [ 0.0737],\n",
       "                       [-0.0944],\n",
       "                       [ 0.0245]],\n",
       "              \n",
       "                      ...,\n",
       "              \n",
       "                      [[-0.0758],\n",
       "                       [ 0.0994],\n",
       "                       [-0.0395],\n",
       "                       ...,\n",
       "                       [-0.0254],\n",
       "                       [ 0.0815],\n",
       "                       [-0.0567]],\n",
       "              \n",
       "                      [[ 0.0371],\n",
       "                       [-0.0247],\n",
       "                       [-0.0549],\n",
       "                       ...,\n",
       "                       [ 0.0510],\n",
       "                       [ 0.0364],\n",
       "                       [ 0.0688]],\n",
       "              \n",
       "                      [[ 0.0246],\n",
       "                       [-0.0208],\n",
       "                       [-0.0309],\n",
       "                       ...,\n",
       "                       [ 0.0452],\n",
       "                       [-0.0780],\n",
       "                       [-0.0177]]])),\n",
       "             ('model.decoder.layers.0.conv2.bias',\n",
       "              tensor([ 0.0680,  0.0354,  0.0189,  0.0953,  0.0003,  0.0457,  0.0700, -0.0588,\n",
       "                       0.0920, -0.0514,  0.0494,  0.0084,  0.0798, -0.0380,  0.0830,  0.0902,\n",
       "                      -0.0940,  0.0368,  0.0586,  0.0498, -0.0953, -0.0219, -0.0894,  0.0052,\n",
       "                       0.0317,  0.0571,  0.0387,  0.0768,  0.0883, -0.0742,  0.0488, -0.0259,\n",
       "                       0.0872, -0.0669, -0.0310, -0.0200,  0.0537, -0.0187, -0.0184, -0.0562,\n",
       "                      -0.0428,  0.0219,  0.0760, -0.0297, -0.0212, -0.0894, -0.0668,  0.0912,\n",
       "                      -0.0271,  0.0116, -0.0883,  0.0594,  0.0496,  0.0245,  0.0977,  0.0513,\n",
       "                      -0.0267, -0.0801,  0.0916,  0.0526,  0.0891, -0.0841,  0.0436,  0.0427,\n",
       "                      -0.0595, -0.0737, -0.0886, -0.0733,  0.0902,  0.0243,  0.0573,  0.0015,\n",
       "                      -0.0800, -0.0467,  0.0054, -0.0336, -0.0087,  0.0917,  0.0003,  0.0024,\n",
       "                       0.0979,  0.0395, -0.0562,  0.0614, -0.0190,  0.0614,  0.0492, -0.0183,\n",
       "                       0.0562,  0.0554,  0.0857, -0.0697,  0.0729,  0.0657,  0.0871,  0.0522,\n",
       "                       0.0238, -0.0362,  0.0151,  0.0583])),\n",
       "             ('model.decoder.layers.0.linear1.weight',\n",
       "              tensor([[-5.5156e-02, -3.8662e-02,  9.2059e-02,  ..., -1.7806e-01,\n",
       "                       -1.4624e-01,  1.1639e-01],\n",
       "                      [-1.5056e-01,  3.4082e-02,  6.8956e-02,  ..., -2.3684e-02,\n",
       "                       -1.1644e-01, -4.3121e-01],\n",
       "                      [-1.0809e-01,  5.0480e-02, -1.9609e-01,  ..., -2.1519e-01,\n",
       "                       -1.3328e-02, -2.2618e-01],\n",
       "                      ...,\n",
       "                      [ 5.1247e-01, -1.0272e-01, -1.6156e-03,  ...,  4.1008e-01,\n",
       "                       -2.7941e-02, -6.2804e-02],\n",
       "                      [-1.0125e-01, -1.7045e-01, -3.5421e-02,  ..., -5.6136e-01,\n",
       "                       -1.0648e-02, -3.6648e-01],\n",
       "                      [ 3.9438e-01,  2.3692e-04, -1.4300e-03,  ..., -5.5062e-02,\n",
       "                        4.8557e-02,  1.7118e-02]])),\n",
       "             ('model.decoder.layers.0.linear1.bias',\n",
       "              tensor([-0.2128, -0.1579, -0.1650, -0.4856, -0.7192, -0.1731, -0.7390, -0.2877,\n",
       "                      -0.5446, -0.3346, -0.3978,  0.0361, -0.1080,  0.0021, -0.5521, -0.0482,\n",
       "                      -0.2793, -0.1211, -0.0296, -0.1463, -0.5378, -0.4856, -0.1350, -0.5693,\n",
       "                       0.0793, -0.5892, -0.2727, -0.3134, -0.9909, -0.3249, -0.0508, -0.2397,\n",
       "                      -0.4467, -0.4320, -0.2497, -0.0574, -0.0725, -0.3693, -0.1670, -0.0593,\n",
       "                      -0.3532, -0.3010, -0.2473, -0.4392, -0.1312, -0.5156, -0.3139, -0.5080,\n",
       "                      -0.4611, -0.3937, -0.0514,  0.2132,  0.0048, -0.3617, -0.3707, -0.2910,\n",
       "                      -0.2885, -0.2821, -0.3912, -0.2905, -0.0636, -0.1761, -0.2742, -0.3419,\n",
       "                      -0.3632, -0.0743, -0.4910, -0.0848, -0.0256, -0.3451, -0.1379,  0.0561,\n",
       "                       0.2132, -0.2744, -0.0749, -0.2490, -0.2128, -0.0486, -0.1740, -0.2093,\n",
       "                       0.0472, -0.1415, -0.1535, -0.1717, -0.1335, -0.2805, -0.7675, -0.5091,\n",
       "                      -0.1700, -0.3565, -0.4545, -0.6359, -0.8483, -0.1056, -0.1198, -0.3274,\n",
       "                      -0.1404,  0.1760, -0.4187, -0.1341])),\n",
       "             ('model.decoder.layers.0.linear2.weight',\n",
       "              tensor([[-0.1004,  0.0129,  0.0195,  ..., -0.2402,  0.1348,  0.1966],\n",
       "                      [ 0.0978,  0.0508, -0.0651,  ..., -0.2235,  0.1821,  0.0706],\n",
       "                      [-0.2343,  0.0478,  0.1715,  ..., -0.2370,  0.2003,  0.1250],\n",
       "                      ...,\n",
       "                      [ 0.2082,  0.0828, -0.1111,  ..., -0.0862, -0.1608, -0.1764],\n",
       "                      [ 0.0200, -0.0392, -0.1933,  ...,  0.0790,  0.3092,  0.2153],\n",
       "                      [-0.0243,  0.0904,  0.0724,  ..., -0.3277,  0.1502, -0.0324]])),\n",
       "             ('model.decoder.layers.0.linear2.bias',\n",
       "              tensor([ 0.0187, -0.0402, -0.0680, -0.0404,  0.0675, -0.0994, -0.0318, -0.0679,\n",
       "                      -0.0402,  0.0007, -0.0380, -0.0805,  0.0113,  0.0085,  0.0689,  0.0502,\n",
       "                      -0.0461, -0.0890,  0.0068,  0.0625, -0.0151,  0.0489,  0.0122, -0.0407,\n",
       "                      -0.0250,  0.0229,  0.0793, -0.0981, -0.0943, -0.0792,  0.0143,  0.0071,\n",
       "                      -0.0178, -0.0703,  0.0304,  0.0258, -0.0096,  0.0451, -0.0230, -0.0381,\n",
       "                      -0.0754, -0.0005,  0.0087,  0.0427, -0.0426,  0.0419, -0.0771, -0.0019,\n",
       "                      -0.0629, -0.0561,  0.0527,  0.0445,  0.0982, -0.0049,  0.0875, -0.0118,\n",
       "                      -0.0042,  0.0159,  0.0063,  0.0558, -0.0580, -0.0778, -0.0960, -0.0822,\n",
       "                       0.0569,  0.0068, -0.0205,  0.0882, -0.0911,  0.0435,  0.0550, -0.0806,\n",
       "                       0.0234,  0.0622, -0.0019, -0.0410,  0.0540, -0.0082,  0.0821, -0.0468,\n",
       "                      -0.0338,  0.0798,  0.0864,  0.0476,  0.0240, -0.0372,  0.0533,  0.0618,\n",
       "                      -0.0690, -0.0656, -0.0347,  0.1010, -0.0833,  0.0685, -0.0862,  0.0099,\n",
       "                      -0.0559,  0.0418, -0.0810, -0.0883])),\n",
       "             ('model.decoder.norm_layer.norm.weight',\n",
       "              tensor([ 1.2258e-01, -1.8562e-11,  7.1450e-01,  6.3281e-01,  1.3233e-01,\n",
       "                      -3.3805e-10,  5.6477e-01,  1.1294e-02,  1.5622e-01,  1.5434e-01,\n",
       "                       4.9093e-01,  1.6091e-01,  4.8695e-01,  2.0690e-01,  4.4171e-01,\n",
       "                       6.8538e-01,  2.7560e-01,  7.3105e-02,  6.9675e-02,  4.4836e-01,\n",
       "                       1.1530e-01, -4.2980e-08,  6.6509e-01,  5.4153e-01,  1.9536e-02,\n",
       "                       1.6099e-01,  2.6087e-01, -5.6684e-05,  1.2466e-01,  2.4432e-02,\n",
       "                       6.6161e-02,  6.7902e-01, -5.3880e-09,  1.7813e-01,  6.8771e-01,\n",
       "                       3.2709e-02,  6.8172e-02,  2.6151e-01,  5.7800e-01,  2.7939e-03,\n",
       "                       7.2057e-03,  7.7217e-01,  2.5759e-01,  1.8487e-01,  3.2973e-01,\n",
       "                       3.8390e-01,  4.7232e-01,  8.0060e-02,  4.2715e-01,  1.6070e-04,\n",
       "                       8.7523e-02,  2.7921e-04,  3.6122e-01,  6.3807e-01,  7.9314e-01,\n",
       "                       7.8237e-02,  5.0096e-01,  3.6240e-01,  6.9937e-06,  4.9833e-02,\n",
       "                       1.5251e-04,  6.5137e-01,  3.5503e-03,  2.1324e-01,  2.7705e-01,\n",
       "                       4.4617e-01,  2.4161e-01,  2.4119e-01,  1.6326e-03,  6.5155e-01,\n",
       "                       7.4453e-01,  5.2846e-01,  4.8641e-01,  7.5088e-01,  7.5321e-09,\n",
       "                       3.7018e-01,  7.8150e-02,  6.1798e-01,  5.2100e-01,  6.5199e-01,\n",
       "                       1.4002e-01,  4.0286e-01, -8.6588e-07,  4.2865e-01,  9.7799e-02,\n",
       "                       6.0684e-02,  2.0913e-01,  3.8934e-02, -1.3680e-07,  6.4947e-01,\n",
       "                       6.5295e-01,  5.3422e-01,  6.2871e-02,  6.1276e-01, -3.0351e-06,\n",
       "                       2.0984e-01,  6.2224e-01,  4.1250e-01,  4.0391e-01,  4.7823e-01])),\n",
       "             ('model.decoder.norm_layer.norm.bias',\n",
       "              tensor([ 1.3000e-03, -5.8708e-13, -1.1173e-01, -7.4286e-02, -2.5340e-04,\n",
       "                       1.5859e-12, -2.1078e-02,  3.5856e-05, -1.7233e-04,  6.9589e-06,\n",
       "                      -6.3006e-04, -1.7762e-04,  2.5817e-04,  1.5560e-04,  1.2652e-03,\n",
       "                      -9.4002e-02, -5.1308e-04,  9.4827e-05,  2.8938e-05, -3.4589e-04,\n",
       "                       1.9293e-04, -3.5859e-10, -4.3085e-02,  4.1718e-03,  5.5234e-06,\n",
       "                       1.4289e-04, -5.8980e-04, -8.4303e-08,  9.5420e-05,  5.7233e-05,\n",
       "                       9.0099e-05,  1.1285e-01, -5.3648e-11,  3.6558e-04, -1.0871e-01,\n",
       "                      -9.5294e-05,  6.9257e-05, -4.1979e-04, -2.7067e-02,  1.0064e-05,\n",
       "                       4.3347e-06, -1.4461e-01,  4.5731e-04,  1.8404e-04,  1.3000e-03,\n",
       "                      -1.4627e-04, -1.0480e-03, -3.5593e-05,  3.1011e-03,  8.0658e-07,\n",
       "                       4.7021e-05,  5.8145e-07, -3.0027e-04, -6.2870e-02,  1.5628e-01,\n",
       "                      -1.7365e-06,  1.2666e-02,  1.6697e-04, -7.2911e-08,  7.9159e-05,\n",
       "                      -4.6488e-07, -8.9529e-02, -2.3693e-05, -1.7202e-04,  2.3566e-04,\n",
       "                       4.4065e-03,  8.2526e-05,  3.0080e-04, -2.0323e-07, -7.8024e-02,\n",
       "                       1.4303e-01,  3.2854e-02, -3.7864e-03, -1.3989e-01,  1.9252e-10,\n",
       "                       9.1329e-04,  1.5137e-04, -7.2163e-02,  3.0427e-04,  7.6188e-02,\n",
       "                       1.5909e-03, -1.2618e-03, -4.8860e-10,  8.0539e-04,  2.8354e-04,\n",
       "                      -2.7476e-04, -1.2803e-04,  1.9474e-04, -1.3378e-09, -8.4367e-02,\n",
       "                       8.9868e-02, -4.1119e-02, -1.3788e-04,  7.1005e-02,  2.1448e-08,\n",
       "                       6.9539e-05, -5.2702e-02,  2.4740e-04, -1.2383e-03, -9.2226e-03])),\n",
       "             ('model.decoder.norm_layer.norm.running_mean',\n",
       "              tensor([ 8.1232e+02, -2.0106e+00,  4.3831e+00,  4.3299e+00, -1.1371e-01,\n",
       "                       1.2548e+00, -2.0846e-01, -2.1111e+00,  1.6331e+00,  1.9122e+00,\n",
       "                      -2.6167e+00,  4.6949e+00,  2.2936e+00,  1.9905e+00, -6.4902e-01,\n",
       "                      -2.0796e+00, -3.6978e-02,  7.9686e-01,  3.9694e+00,  3.5648e+00,\n",
       "                      -1.4305e+00, -1.0443e+00, -1.2907e+00,  3.4596e+00, -1.8055e+00,\n",
       "                       2.2336e+00, -8.4188e-01,  3.6427e-02, -8.1962e-01, -5.1808e-01,\n",
       "                       1.5290e+00, -8.2240e-01,  3.3437e-01,  2.1568e+00,  4.8326e+00,\n",
       "                       5.6596e-01,  3.6537e-01,  1.4189e+00,  8.2706e-01,  3.4929e-01,\n",
       "                       1.3778e+01, -2.6328e+00, -1.6151e+00, -7.7741e-01,  3.3200e+00,\n",
       "                      -1.6032e+00,  1.1131e+00,  1.0442e+00,  1.3847e+00, -1.5233e+00,\n",
       "                       3.3061e+00, -6.7819e-01, -1.2167e+00, -1.3925e+00,  4.5450e+00,\n",
       "                      -2.3185e+00, -2.6299e+00,  1.1510e+00,  8.7024e-01,  9.5593e-01,\n",
       "                       5.8605e+00,  4.6844e+00, -1.3840e+00,  1.3357e+00,  1.7713e+00,\n",
       "                       3.2643e+00,  6.9996e-01, -1.2898e+00, -4.0162e+00, -1.6458e-01,\n",
       "                      -3.5893e-01, -3.4662e+00,  9.4984e-01,  5.8664e+00,  3.7742e+00,\n",
       "                       9.4935e-01,  1.3019e+00,  4.5742e+00,  3.7805e-01,  1.7747e+00,\n",
       "                       2.8286e+01, -5.1850e-01, -1.6219e+00,  2.3535e+00,  8.5900e-01,\n",
       "                       8.3002e-01, -3.9527e-01, -1.7973e-01, -3.3940e+00,  4.1207e+00,\n",
       "                      -1.9536e+00,  5.5208e+00,  2.7645e+00, -3.3520e+00,  5.7275e+00,\n",
       "                       1.2980e+00, -2.1161e+00,  1.4657e+00, -1.1860e-01,  5.9395e-01])),\n",
       "             ('model.decoder.norm_layer.norm.running_var',\n",
       "              tensor([6.7611e+04, 1.0467e+01, 9.5448e+01, 9.7709e+01, 9.6097e+00, 6.6550e+00,\n",
       "                      4.0517e+01, 3.6859e+01, 2.3437e+01, 7.0017e+00, 7.8513e+00, 7.0288e+00,\n",
       "                      1.2097e+01, 8.2823e+00, 8.5234e+00, 6.4758e+01, 4.3664e+01, 1.9493e+01,\n",
       "                      7.2594e+00, 7.5864e+00, 2.2063e+01, 2.9329e+00, 1.0369e+01, 1.8029e+01,\n",
       "                      9.7633e+00, 3.1573e+00, 9.6715e+00, 4.6382e+00, 9.6317e+00, 8.5935e+00,\n",
       "                      3.8431e+00, 1.3652e+02, 8.1054e+00, 6.7235e+00, 1.3359e+02, 3.8818e+00,\n",
       "                      4.4640e+00, 9.6447e+00, 1.4657e+01, 8.1140e+00, 5.5280e+01, 7.1914e+01,\n",
       "                      1.4562e+01, 3.3190e+00, 1.0660e+01, 7.4162e+00, 5.9892e+00, 3.9588e+00,\n",
       "                      2.2576e+01, 2.1013e+01, 5.4430e+00, 5.9324e+00, 1.0416e+01, 1.7016e+01,\n",
       "                      7.1485e+01, 6.9430e+00, 9.5353e+00, 7.4484e+00, 1.0412e+01, 1.7008e+01,\n",
       "                      2.1493e+01, 8.0388e+01, 1.0660e+01, 1.3080e+01, 1.3018e+01, 3.5947e+01,\n",
       "                      6.2720e+00, 1.0625e+01, 1.2799e+01, 5.0044e+01, 6.7482e+01, 4.2956e+01,\n",
       "                      5.4557e+00, 1.6314e+02, 1.3767e+01, 8.6783e+00, 1.4462e+01, 4.9079e+01,\n",
       "                      1.3896e+01, 4.8902e+01, 4.1655e+02, 1.6522e+01, 2.0916e+00, 4.3874e+00,\n",
       "                      5.7804e+00, 8.9078e+00, 1.1549e+01, 6.5237e+00, 1.2203e+01, 4.9842e+01,\n",
       "                      7.5619e+01, 5.0181e+01, 2.1400e+01, 6.8943e+01, 2.3034e+01, 6.7057e+00,\n",
       "                      3.8091e+01, 1.1626e+01, 1.2280e+01, 3.8032e+01])),\n",
       "             ('model.decoder.norm_layer.norm.num_batches_tracked',\n",
       "              tensor(4000)),\n",
       "             ('model.forecaster.weight',\n",
       "              tensor([[ 1.4367e-03, -4.3651e-14, -2.0734e-02, -1.1928e-02,  1.4764e-04,\n",
       "                       -1.1281e-13, -5.6642e-03,  9.9039e-06, -4.2086e-04,  2.2911e-04,\n",
       "                        7.6124e-04, -3.3255e-04,  4.7826e-04,  2.8471e-04,  1.2738e-03,\n",
       "                       -1.6465e-02, -4.8939e-04,  1.5633e-04,  9.3452e-05, -3.4249e-04,\n",
       "                        1.2812e-04, -3.4669e-11, -4.4677e-03,  1.8931e-03,  1.1463e-05,\n",
       "                        5.9854e-05, -1.8313e-04, -7.3074e-08,  6.9427e-05, -2.2757e-07,\n",
       "                        4.6310e-05,  2.4889e-02,  9.1528e-12,  2.7848e-04, -2.3428e-02,\n",
       "                       -2.2992e-05,  5.9658e-05, -3.3475e-04, -5.0226e-03,  2.3812e-06,\n",
       "                        2.4775e-05, -3.6610e-02,  6.5899e-04,  3.7948e-04,  8.2533e-04,\n",
       "                        1.6087e-04, -9.6285e-05, -1.1306e-04,  2.3064e-03,  1.2268e-07,\n",
       "                        2.0298e-05,  5.6879e-11, -3.4560e-04, -8.1719e-03,  4.4522e-02,\n",
       "                        8.5138e-05,  2.7405e-03,  4.0928e-04, -3.9947e-09,  3.0242e-05,\n",
       "                       -1.2092e-07, -1.8298e-02, -8.2261e-06,  1.2001e-04, -6.4908e-05,\n",
       "                        2.6494e-03,  6.4191e-05, -1.3924e-04, -2.0759e-06, -1.3439e-02,\n",
       "                        3.4459e-02,  6.6231e-03, -6.2423e-04, -3.6380e-02,  3.5677e-11,\n",
       "                        3.5166e-04,  7.8146e-06, -1.2868e-02,  3.7229e-04,  1.0018e-02,\n",
       "                        3.3298e-03, -1.2275e-03, -2.5220e-09,  3.0117e-04,  2.0466e-04,\n",
       "                       -1.0811e-04,  1.0013e-04,  4.7357e-05, -6.1921e-11, -1.6612e-02,\n",
       "                        1.7481e-02, -7.6755e-03,  3.7156e-05,  1.1132e-02,  3.3049e-09,\n",
       "                        5.9872e-05, -6.8302e-03,  3.2420e-04, -5.3495e-04, -5.1134e-03]])),\n",
       "             ('model.forecaster.bias', tensor([0.1486])),\n",
       "             ('model.reconstructor.weight',\n",
       "              tensor([[-0.0875,  0.0318,  0.0899, -0.0618,  0.0626,  0.0020,  0.0063,  0.0724,\n",
       "                       -0.0560,  0.0744, -0.0306,  0.0292, -0.0813, -0.0690,  0.0200, -0.0297,\n",
       "                        0.0991,  0.0825, -0.0427, -0.0798, -0.0027, -0.0527,  0.0210,  0.0582,\n",
       "                       -0.0723,  0.0673,  0.0600,  0.0092, -0.0882, -0.0312, -0.0269, -0.0774,\n",
       "                        0.0994,  0.0003,  0.0728, -0.0946,  0.0305,  0.0723, -0.0489,  0.0899,\n",
       "                        0.0549, -0.0069,  0.0723,  0.0046, -0.0516, -0.0605, -0.0753, -0.0051,\n",
       "                        0.0422,  0.0230, -0.0291, -0.0978,  0.0981, -0.0701,  0.0875, -0.0315,\n",
       "                        0.0255,  0.0741,  0.0915, -0.0153,  0.0607,  0.0222,  0.0211,  0.0246,\n",
       "                        0.0171,  0.0666, -0.0630,  0.0253,  0.0056,  0.0126, -0.0805,  0.0389,\n",
       "                       -0.0975,  0.0695,  0.0855, -0.0063, -0.0538,  0.0011, -0.0184, -0.0821,\n",
       "                       -0.0784, -0.0653,  0.0207, -0.0210,  0.0765,  0.0352, -0.0151,  0.0534,\n",
       "                        0.0061,  0.0019, -0.0252, -0.0888,  0.0031, -0.0693,  0.0065, -0.0755,\n",
       "                       -0.0350,  0.0596,  0.0917,  0.0641]])),\n",
       "             ('model.reconstructor.bias', tensor([-0.0652]))])"
      ]
     },
     "execution_count": 30,
     "metadata": {},
     "output_type": "execute_result"
    }
   ],
   "source": [
    "ckpt_dict[999]"
   ]
  },
  {
   "cell_type": "code",
   "execution_count": 51,
   "id": "1c423b48",
   "metadata": {},
   "outputs": [],
   "source": [
    "var_list = []\n",
    "n_pca_comps = 3\n",
    "\n",
    "full_dict = {}\n",
    "for key in key_list:\n",
    "    key_dict = {}\n",
    "    \n",
    "    for k in ckpt_dict.keys():\n",
    "        epoch_dict = {}\n",
    "        embeddings = ckpt_dict[k][key]\n",
    "        pca = PCA(n_components=n_pca_comps)\n",
    "        pcs = pca.fit_transform(embeddings)\n",
    "        epoch_dict[\"explained_var\"] = pca.explained_variance_ratio_\n",
    "        epoch_dict[\"components\"] = pcs\n",
    "        key_dict[int(k)] = epoch_dict\n",
    "    \n",
    "    full_dict[key] = key_dict\n",
    "\n",
    "pcs_var_init = full_dict[key_list[0]][49][\"components\"]\n",
    "pcs_var = full_dict[key_list[0]][599][\"components\"]\n",
    "\n",
    "pcs_pos_init = full_dict[key_list[1]][49][\"components\"]\n",
    "pcs_pos = full_dict[key_list[1]][599][\"components\"]\n"
   ]
  },
  {
   "cell_type": "code",
   "execution_count": 55,
   "id": "bcaf06a2",
   "metadata": {},
   "outputs": [
    {
     "data": {
      "application/vnd.microsoft.datawrangler.viewer.v0+json": {
       "columns": [
        {
         "name": "index",
         "rawType": "int64",
         "type": "integer"
        },
        {
         "name": "PC1",
         "rawType": "float64",
         "type": "float"
        },
        {
         "name": "PC2",
         "rawType": "float64",
         "type": "float"
        },
        {
         "name": "PC3",
         "rawType": "float64",
         "type": "float"
        },
        {
         "name": "process",
         "rawType": "object",
         "type": "string"
        }
       ],
       "ref": "43c87d21-ab3b-4c46-87dd-567b9be20b56",
       "rows": [
        [
         "0",
         "-0.04490983427785444",
         "0.041241200481112295",
         "0.0737921436104312",
         "las"
        ],
        [
         "1",
         "0.5557368981566512",
         "-0.14385737368439383",
         "-0.1708638741349499",
         "las"
        ],
        [
         "2",
         "0.6178397178916225",
         "-0.3629961586302751",
         "0.04054974592901151",
         "las"
        ],
        [
         "3",
         "0.6211273153247898",
         "-0.2999006128992012",
         "0.03454921743787699",
         "las"
        ],
        [
         "4",
         "0.552867711951174",
         "-0.38163206978422465",
         "0.1263151751985849",
         "las"
        ],
        [
         "5",
         "0.5514275963663552",
         "-0.3922222023499064",
         "0.12307039114059401",
         "las"
        ],
        [
         "6",
         "0.6138828888579495",
         "-0.3122643090147545",
         "0.13483520337615398",
         "las"
        ],
        [
         "7",
         "0.5671995818489984",
         "-0.4107528091435458",
         "0.1377119217314806",
         "las"
        ],
        [
         "8",
         "0.5286581761718933",
         "-0.227391321170895",
         "-0.09157894568430522",
         "gal"
        ],
        [
         "9",
         "0.32562054295678144",
         "-0.40645462909144825",
         "-0.0649425232320456",
         "gal"
        ],
        [
         "10",
         "0.6934227542265133",
         "-0.31234950341059875",
         "0.3395435395317421",
         "gal"
        ],
        [
         "11",
         "0.8181023137219056",
         "0.19072464399800304",
         "-0.06667033133582756",
         "gal"
        ],
        [
         "12",
         "0.6947369411432552",
         "-0.3054805436340286",
         "0.32354788747078006",
         "gal"
        ],
        [
         "13",
         "0.5739542647550001",
         "0.29839470321425565",
         "-0.3265618892965944",
         "gal"
        ],
        [
         "14",
         "0.8133050618056307",
         "0.18816194187366655",
         "-0.08854706109395001",
         "gal"
        ],
        [
         "15",
         "0.6800298298995544",
         "-0.29953673142739884",
         "0.3149037936195433",
         "gal"
        ],
        [
         "16",
         "0.693238474367751",
         "-0.3086814625705607",
         "0.32232653720675164",
         "gal"
        ],
        [
         "17",
         "0.3436225789302405",
         "-0.35870391521839023",
         "-0.02461233405915652",
         "gal"
        ],
        [
         "18",
         "0.8198269033241943",
         "0.1901468982360488",
         "-0.07008953705727425",
         "gal"
        ],
        [
         "19",
         "0.5766715295199507",
         "0.2949123330653905",
         "-0.321750715646188",
         "gal"
        ],
        [
         "20",
         "0.701689984028107",
         "-0.28192079320864366",
         "0.30497349864751583",
         "gal"
        ],
        [
         "21",
         "0.6831474092987427",
         "-0.29356185256620476",
         "0.31632338669260035",
         "gal"
        ],
        [
         "22",
         "0.5703239241287188",
         "0.2941852480481779",
         "-0.32680826831965426",
         "gal"
        ],
        [
         "23",
         "0.8191898810598107",
         "0.19378950689309207",
         "-0.06709701329866331",
         "gal"
        ],
        [
         "24",
         "0.7802225638448393",
         "-0.29891187176641715",
         "0.39971044062669586",
         "gal"
        ],
        [
         "25",
         "0.6421248825976539",
         "-0.474936976489128",
         "0.4371523155275479",
         "gal"
        ],
        [
         "26",
         "0.5807918631866182",
         "0.28646719706562374",
         "-0.3254305374149947",
         "gal"
        ],
        [
         "27",
         "0.6829007627695185",
         "-0.29504174039468917",
         "0.3140359869083468",
         "gal"
        ],
        [
         "28",
         "0.5723816659813785",
         "0.29141949759638464",
         "-0.32544179987368527",
         "gal"
        ],
        [
         "29",
         "0.53767945374358",
         "-0.34412286283719873",
         "0.3542823594242207",
         "gal"
        ],
        [
         "30",
         "0.5376269356689113",
         "-0.32677035130663323",
         "0.3439191377549713",
         "gal"
        ],
        [
         "31",
         "0.2750127689592697",
         "0.5911240718895246",
         "-0.4113609898328087",
         "gal"
        ],
        [
         "32",
         "0.6536782980262782",
         "-0.5018095531307564",
         "0.45995225159423947",
         "gal"
        ],
        [
         "33",
         "0.5457702462329851",
         "0.611061020618154",
         "-0.18553375783853177",
         "gal"
        ],
        [
         "34",
         "0.17864835936737058",
         "0.5269665471119852",
         "-0.5054970448200838",
         "gal"
        ],
        [
         "35",
         "0.7546851431215951",
         "0.47413623394743504",
         "0.048685441625151246",
         "gal"
        ],
        [
         "36",
         "0.5655415160931392",
         "0.7007529499675674",
         "-0.16002681427795654",
         "gal"
        ],
        [
         "37",
         "0.3286217636571161",
         "-0.0028161117454143874",
         "-0.17186093096615296",
         "gal"
        ],
        [
         "38",
         "-0.29204066319908245",
         "0.8301990089141638",
         "0.07266390952261642",
         "gal"
        ],
        [
         "39",
         "0.4918069388915218",
         "0.68899538307509",
         "-0.26312117326551454",
         "gal"
        ],
        [
         "40",
         "0.4744829587321873",
         "0.6702097532046865",
         "-0.3181676169344368",
         "gal"
        ],
        [
         "41",
         "0.7735228495935857",
         "-0.33218918528536473",
         "0.42016817865215234",
         "gal"
        ],
        [
         "42",
         "0.7739763088003719",
         "-0.33545965585235327",
         "0.4192932842382763",
         "gal"
        ],
        [
         "43",
         "0.2337124571369089",
         "0.6490157887774908",
         "-0.051431290978753895",
         "gal"
        ],
        [
         "44",
         "0.7096364554725647",
         "-0.488696802673634",
         "0.38758542929235995",
         "gal"
        ],
        [
         "45",
         "0.5758571080290007",
         "0.6802325925223477",
         "-0.15101303470044858",
         "gal"
        ],
        [
         "46",
         "0.7466065443514879",
         "-0.43976374737378976",
         "0.40607690354247",
         "gal"
        ],
        [
         "47",
         "0.48278929350090216",
         "0.7194019076003617",
         "-0.24597614169809057",
         "gal"
        ],
        [
         "48",
         "0.539448074199289",
         "0.6870344634823432",
         "-0.19835770007114154",
         "gal"
        ],
        [
         "49",
         "0.32047125607545035",
         "0.22429049455553848",
         "0.014671549406738517",
         "gal"
        ]
       ],
       "shape": {
        "columns": 4,
        "rows": 400
       }
      },
      "text/html": [
       "<div>\n",
       "<style scoped>\n",
       "    .dataframe tbody tr th:only-of-type {\n",
       "        vertical-align: middle;\n",
       "    }\n",
       "\n",
       "    .dataframe tbody tr th {\n",
       "        vertical-align: top;\n",
       "    }\n",
       "\n",
       "    .dataframe thead th {\n",
       "        text-align: right;\n",
       "    }\n",
       "</style>\n",
       "<table border=\"1\" class=\"dataframe\">\n",
       "  <thead>\n",
       "    <tr style=\"text-align: right;\">\n",
       "      <th></th>\n",
       "      <th>PC1</th>\n",
       "      <th>PC2</th>\n",
       "      <th>PC3</th>\n",
       "      <th>process</th>\n",
       "    </tr>\n",
       "  </thead>\n",
       "  <tbody>\n",
       "    <tr>\n",
       "      <th>0</th>\n",
       "      <td>-0.044910</td>\n",
       "      <td>0.041241</td>\n",
       "      <td>0.073792</td>\n",
       "      <td>las</td>\n",
       "    </tr>\n",
       "    <tr>\n",
       "      <th>1</th>\n",
       "      <td>0.555737</td>\n",
       "      <td>-0.143857</td>\n",
       "      <td>-0.170864</td>\n",
       "      <td>las</td>\n",
       "    </tr>\n",
       "    <tr>\n",
       "      <th>2</th>\n",
       "      <td>0.617840</td>\n",
       "      <td>-0.362996</td>\n",
       "      <td>0.040550</td>\n",
       "      <td>las</td>\n",
       "    </tr>\n",
       "    <tr>\n",
       "      <th>3</th>\n",
       "      <td>0.621127</td>\n",
       "      <td>-0.299901</td>\n",
       "      <td>0.034549</td>\n",
       "      <td>las</td>\n",
       "    </tr>\n",
       "    <tr>\n",
       "      <th>4</th>\n",
       "      <td>0.552868</td>\n",
       "      <td>-0.381632</td>\n",
       "      <td>0.126315</td>\n",
       "      <td>las</td>\n",
       "    </tr>\n",
       "    <tr>\n",
       "      <th>...</th>\n",
       "      <td>...</td>\n",
       "      <td>...</td>\n",
       "      <td>...</td>\n",
       "      <td>...</td>\n",
       "    </tr>\n",
       "    <tr>\n",
       "      <th>395</th>\n",
       "      <td>-0.729022</td>\n",
       "      <td>0.098548</td>\n",
       "      <td>0.389255</td>\n",
       "      <td>pla</td>\n",
       "    </tr>\n",
       "    <tr>\n",
       "      <th>396</th>\n",
       "      <td>-0.515575</td>\n",
       "      <td>-0.113461</td>\n",
       "      <td>0.296720</td>\n",
       "      <td>pla</td>\n",
       "    </tr>\n",
       "    <tr>\n",
       "      <th>397</th>\n",
       "      <td>-0.727601</td>\n",
       "      <td>0.097702</td>\n",
       "      <td>0.391007</td>\n",
       "      <td>pla</td>\n",
       "    </tr>\n",
       "    <tr>\n",
       "      <th>398</th>\n",
       "      <td>-0.762870</td>\n",
       "      <td>-0.083963</td>\n",
       "      <td>0.251134</td>\n",
       "      <td>pla</td>\n",
       "    </tr>\n",
       "    <tr>\n",
       "      <th>399</th>\n",
       "      <td>-0.811029</td>\n",
       "      <td>0.207150</td>\n",
       "      <td>0.443455</td>\n",
       "      <td>del</td>\n",
       "    </tr>\n",
       "  </tbody>\n",
       "</table>\n",
       "<p>400 rows × 4 columns</p>\n",
       "</div>"
      ],
      "text/plain": [
       "          PC1       PC2       PC3 process\n",
       "0   -0.044910  0.041241  0.073792     las\n",
       "1    0.555737 -0.143857 -0.170864     las\n",
       "2    0.617840 -0.362996  0.040550     las\n",
       "3    0.621127 -0.299901  0.034549     las\n",
       "4    0.552868 -0.381632  0.126315     las\n",
       "..        ...       ...       ...     ...\n",
       "395 -0.729022  0.098548  0.389255     pla\n",
       "396 -0.515575 -0.113461  0.296720     pla\n",
       "397 -0.727601  0.097702  0.391007     pla\n",
       "398 -0.762870 -0.083963  0.251134     pla\n",
       "399 -0.811029  0.207150  0.443455     del\n",
       "\n",
       "[400 rows x 4 columns]"
      ]
     },
     "execution_count": 55,
     "metadata": {},
     "output_type": "execute_result"
    }
   ],
   "source": [
    "df_var = pd.DataFrame(pcs_var, columns=[f\"PC{i}\" for i in range(1, n_pca_comps + 1)])\n",
    "df_var[\"process\"]=df_var.index.map(var_map)\n",
    "\n",
    "df_var_init = pd.DataFrame(pcs_var_init, columns=[f\"PC{i}\" for i in range(1, n_pca_comps + 1)])\n",
    "df_var_init[\"process\"]=df_var.index.map(var_map)\n",
    "\n",
    "df_var"
   ]
  },
  {
   "cell_type": "code",
   "execution_count": 56,
   "id": "9733a7bd",
   "metadata": {},
   "outputs": [
    {
     "data": {
      "application/vnd.plotly.v1+json": {
       "config": {
        "plotlyServerURL": "https://plot.ly"
       },
       "data": [
        {
         "hovertemplate": "process=las<br>PC1=%{x}<br>PC2=%{y}<br>PC3=%{z}<extra></extra>",
         "legendgroup": "las",
         "marker": {
          "color": "#636efa",
          "symbol": "circle"
         },
         "mode": "markers",
         "name": "las",
         "scene": "scene",
         "showlegend": true,
         "type": "scatter3d",
         "x": {
          "bdata": "FLu+r5sRo7+w++WwhVrZv3uG8DaKHN6/Cke5G+s+3b9OvZH0ULnbvxo4lFcXj9u/W+gI6TUN3b/yCeGbhavbvw==",
          "dtype": "f8"
         },
         "y": {
          "bdata": "DIYTlSkOsb9UP7Q1LbPFv+2UkB+6rJM/l07noLIElj8XTOaN96q6PwzNilVVkLw/Q8CaeszqND8kDVaJOCa5Pw==",
          "dtype": "f8"
         },
         "z": {
          "bdata": "ZZS8sSUfkb8OtQ8Zm5fiv4thh+88cN+/EccGIaT137/wji2X+OXdv1vKzRGt3t2/xzYs8ypi4L9X1gN091Xevw==",
          "dtype": "f8"
         }
        },
        {
         "hovertemplate": "process=gal<br>PC1=%{x}<br>PC2=%{y}<br>PC3=%{z}<extra></extra>",
         "legendgroup": "gal",
         "marker": {
          "color": "#EF553B",
          "symbol": "circle"
         },
         "mode": "markers",
         "name": "gal",
         "scene": "scene",
         "showlegend": true,
         "type": "scatter3d",
         "x": {
          "bdata": "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",
          "dtype": "f8"
         },
         "y": {
          "bdata": "9xrjDJ5PuL9j1f7kmtnGP6W2AUGujsY/FEVWEzqSm7/7+P4UOrPFP9Ls2yv0HZ6/zkOsh4tYnL/9UtzqMQnQP9NGwiQ6xsU/qVSV6XLcyD9P0uZbTmqav0jc8Nkzwp+/aQIP377pxD8593L1KJrGP2nDoXCwQZ6/DujCB9e5lr9NVxKh4YLXP89NdZPNt94/tR706pjZmT/3X0FD5WDGP6xH6rxOOpy/HV4n7TZPxj+byBInm6/QP4Zq+2JzaNO/ExFAL+f03D8v18qkKbCrvzQLtdZjzMe/dbeDLm+0rb9kS09os6LMv7Gq0+Ft1MM/7j5ufen36b/WAgfJrwTNv/td8UTM58q/XEwUw8a/1D/ba4acqsfUPykMRgzhQIo/9gI3VInY3T/UehzLBjbIv62bUJ3irNo/A73mqaT+zr/LACYI7ljPvx3/rldUIMI/OvnoF6Bu3T/3hvbxz+/aP2M4k+Bag7W/TOiaJEItvr91xkfelBHOv7VwEmV8WtK/gnP6sqLo6b+zwqWWMrTZP+DbWsDqnNG/zEDBsEy70r87Xo28wMbpv+I4rauiWdK/V06Kcb0Vyj/e3SMwFAfbP8w/RPXj3ay/kz3FwOWSyb+R9enfbvfpv/Y4xHlnGNs/D6XDvkc20b9kA00HUYrSv4d/hM1lnLW/MMYdbvxGtb8caZiJqezpvyuIQQrFSds/WdJdp0lY1L/wkMCZoCnGP2S/V0nardS/cYI58zGv3j90xoi89YDBv9IQaFi1g9g/23TYsFAt1L9Kb7Ak8v3Uv8r1UwZ8Bd0/uuYvqrKS3j+lVHSn+hjbP7JsdE2Rvcy/8nYtrtMdyb94Z0+Y4h7qvxfpA5OM2No/gvlQbgyW0b8j3Uw27qrRvz+mNhKvy4A/G8CAQMRAkz8lQE0Omd+qPz1HX/k+t9o/xTYkwAtd0r8SDrKf48HUvy2e8jyuZMY/VM8RLZOzxT9bw9lt0pPfPwfdJqP33Om/nA/Nxmfe2j8eNLf7jVqpvwuTA4wTRqq/Ov3RHSFsuT9uUPWxYQzbP7xtmXcfK8+/SD0ErZomz79jw2LPD7/pv/JqCFaSP9s/KrvwYuX0yr8e5PXdtW/Lv7Tflepd7+m/rJexou0Fmb8FlTvZzPzaP69AglQUb82/eT/ASgnWzL87wQ5Sw1PUP9LfoDGmHNQ/865JyCsYzz9GPnaDIFnbP1VGOWSAzsw/Amb4RgQyxz+Mg/HLJfDpv8DYcBCXz8y/SkpI4akr2z9V3FR8CnzOv3R4OlWdaNC/P+rdZJL16b+wxGqk/7HbPwDmxNlYwtC/XSywmlm/0L/AKiJFvdPpvx/9Vmrzmto/EcaDFDMRzb/VccxKwdnQv1caRt0Ra86/9iHHDPjs6b9tfGUWqVPbP7UdAtV8ANO/lnc4XdBz078iEed8i7PPP6a/owdb7ss/kjnr9boJ1j+uS+k/NHPNP8zAe6kGcaW/0WbEbYNP2j+uuS4XfSPZP7qNuHQoY9Y/bFek6rMSwr+R8JiFkD3eP10MS+Hevem/3gJ/eRH/or9S126Lr7/bPwfct7jhpsy/1NMdB3xvzL8rTNz/18LQv6hE7QUU9tk/hM+L2PP907+GhhBzhKPSv/+yHnD3hcu/vnNnq8Dd6b/EWmaedvLaP32XW79ABdO/gEc3orcV0781tK6HVAvZP3FhCgD2/Ng/j93DXdQUy79sCGvAN6XHP9tH3FNUp9o/GgwzhWWN079n5IZSJjDVv3vvsZUMoJq/5afDg1jsmL/gZgLl9gCYv3SlPjQtcZi/KjaUx5gWxD/skmKAPJXFP2U5fLVrTc4/AzhLPVjKzT+Ub6beJtKYvzEFZ16TzYg/dRDALR1umr9AW+Fnkl3GP8NeTM48WMg/spDwokABxj9F6rpzUiHGPwg0UesZW5m/XdgRJf04nD97I3j/HsjeP6ouMBRvMtE/lmxmncfq6b955YCf+iLDv2I+VrqXA8w/SSK7TH6Bqz9STKeMhxnqv6v7J1j+Zre/dlj1foqqwT97jPsEicXpv/ClAem/RLs/",
          "dtype": "f8"
         },
         "z": {
          "bdata": "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",
          "dtype": "f8"
         }
        },
        {
         "hovertemplate": "process=mic<br>PC1=%{x}<br>PC2=%{y}<br>PC3=%{z}<extra></extra>",
         "legendgroup": "mic",
         "marker": {
          "color": "#00cc96",
          "symbol": "circle"
         },
         "mode": "markers",
         "name": "mic",
         "scene": "scene",
         "showlegend": true,
         "type": "scatter3d",
         "x": {
          "bdata": "TwC3twbx779iGWFiqA3rP1BXLnbC6+o/uH9RIqHQ6j8Rd+k3DlPqP5p3TyJCHus/pVIdDMvS6j/OC0doNOPqP4FKlSSFJ+s/Rbpz8ks46z+LxD7xW5zqP8Jju+BkhOo/lFuNtp8g6z9G/iXUFqrpP8Q5NyL0v+k/bR2WsLvA6T9YkbQq6lbIv+BEliDZ/+k/2pl4yrd+6j+hwXX2Ca3pP4DO1sgjveo/nEIlavLd6T8cQjEVsOXpPwJnOHcC5Ok/eQxNa7Rn6j+i7VSjy0vrP57Rnm627Oo/aPvQzY5b6z/ddD985ofqP6U2lk4MI+s/TLuYPFh+6j/cVkbHSfHqP6lz5k9uL+s/YQBgOo0C6z8=",
          "dtype": "f8"
         },
         "y": {
          "bdata": "0XDhZf5Kmr8UZXt+C0fBP1n8txo3mcA/yaocJti9wj/jjy6j0MfCv0igeXHbGbo/ah/lvW80v7/UM8rjoObAP+zLUfgxv7M/brGVtWtowj8qQTfLnPnLP2RHSdhpMcw/ZG549f27s79dUleBWKvSP/6PPHzqTtI/B8/X80M/0j9HlMwDQ6XnvzFH+d9339A/1l3WpBRSzT9zCUqFAjjSP4Co3n05GLq/UQ7d8lCO0T9wbK0Ou3vRP1NL1QEsjdE/e090cMpJwb/f4hDVzP7CP17gsUiqeco/TgX7E1IqwD8vF1TWdGPAvwosSH9AULm/aAIkorjYwb+93TKn30i8v5TjO9MIgqq/2hMXqrAEvT8=",
          "dtype": "f8"
         },
         "z": {
          "bdata": "O5U9EHZDv78xodYXdirIP5J4o9UJfMo/CY0OsaPAxz+d1b6c0OvDP93J4WNBIMo/ePSEw5Emvz8sKYRaWybIP1dqfP9R5so/J4r4+Dh4xT8gHMww+NrCP5AQTkimBcI/0Dtifm0SxT/G9UJLK6O/PyiqYowuisE/JilLOHiMwT+zru7nrSC9P+ahAz6awr8/jdqoD4fguD/LDiN6iC69PzpdezD0c8o/n/HB4KACxD9ScHQynsnDP8ADH6BywcM/isbMbNiIwz9EWDNnJYjHPxBZUGsJvcI/zNe3Y9vRyD+fJMxCD4/EP+wR7z611Mc/5UOkSn2qwz9ED07Zx4zFP483F3ISRco/DWWW2xN5xD8=",
          "dtype": "f8"
         }
        },
        {
         "hovertemplate": "process=mul<br>PC1=%{x}<br>PC2=%{y}<br>PC3=%{z}<extra></extra>",
         "legendgroup": "mul",
         "marker": {
          "color": "#ab63fa",
          "symbol": "circle"
         },
         "mode": "markers",
         "name": "mul",
         "scene": "scene",
         "showlegend": true,
         "type": "scatter3d",
         "x": {
          "bdata": "9/K+mDXQ6T/EgTcSnbvqP35bimk4xeo/fF5Hu0Lb6T9TbGYtH7XrPyCkgSV5YOw/m7T5+UNk7D/Z1l8x+UXsP3MpFIhhPus/R80Cz10o7D9ytQ+PDk3sP5hBCIjaFew/pic9BcYv7D8L7C/X9OjrP8OUwVr09cO/65v59d3kxL+xsXdUi13EvyMa17h5U8S/YfQNHH+77D9fdbhyPansP6DHDYzGLuw/y7ba5hgp6z/+nyVXnATsPzUs542UkOk/INpylWQM7D/FTeRJCujrP9YMUtnNWuw/HSGVqnuj6z89LtB1To/rP0dVynXds+s/huknAOpm6z9RVZ5eEcPrP1e13t4pqOs/CaTAI3tu6z9OMrKZdA7sPzQLmxZ8Yes/y40p/rJt6z8G2+C1CNXqP+Qgyla5Reo/SvXLSVNw7D9aXQ50x73rPyZu53D6lew/VVz4o/LF6T8NGHvZtCPsPzPbS626Tus/YK2iq4BV6j+ghd7djCLqP1bbnRITIOw/jB0jq8TI6z/1ygxgUtTrP6vTvsSeBes/T+OOd41r7D+5IzFCJynsP/HXkpXYz+k/xeUO2X/06T8i5xOHc3/pP1CJMBu4Qes/wJP5mhDo6T+30jOOvgjqP/6+6LCwZOk/LRefwiDh6j8xZ22pddToPzp6yscN9Ok/yyj+aHv06D+7m61h6UTrP4ZpdFKBcuk/+ogYn02S6j8PocjDjzvpP84HMa2fdOs/JewoUpJ07D8QRbAKFTbsP2uSl9AJvOs/R+EuTmOr6z+CWiMzr8fqP09zBSx4dus/kkerKdWp7D8Cc059Zq/rP5CLDHpM6+g/oUZ43rpL6T8jirmKlqHoP25ErXMEIus/kyhRGXP86D9YbzD4WSzqPwlixsDm9+g/i+7JFZ/e6z+7vOMeYVXpP5im4lgVjuk/r7AbTfzP6D9vSI4zJF7Dv7gwgFs6vuk/0H0Xjpez6T+TC3pO+MPpPxqZQgfSGes/GAYGOo/i6j8SRZKS/0/sP3D/M8MEjOk/X6KqOIeg6j8rJTBiLR/pPx5Pa/pNq+k/nwxdsYhj6T9UnW5q8mjrP8r2tcAgHuo/aAjRd0RY6j/v/j1SEt7pP9J2CZRJiOs/dD7l2oOQ6D9AIpAz6IDpPyOW1/yB4ug/l7lDxk1d6z8=",
          "dtype": "f8"
         },
         "y": {
          "bdata": "ysE4HQIC0j8zK7R/1PXRP/jxTE4e4sw/bO6GzTKb0j/c95VPfFXRv7iXoQWSz8S/0eUr9HWyxb+2iBu/p43EvzthgimJ89K/AnmaFH69yL8wDsSkI2LGv3/STrIHosm/wzreqCACnr9F12MeZL7Qv53+lkQ5Y+e/SiAq1uKV57/GVbix8Hbnv3ZznzmZjue/BD/rxduAtb+YTxJfUsmSvyXezF0FLsW/+yZCNyOP078OOof7uYC7Px0hdUth/tQ/rmk2CQw4wD/ZYRqzrAq5P02w4IB+gcu/+U+Tqi4s0b8QIc4xDbPRvxIdVe59gNC/BTCvlIPF0r+5OecgQZ3Qv3/D8JavS9G/FoZFbsAS0b+nbjfjKXDOv0H92me9oNK/rUBSWpo707/7Y3pO5OHPP0R+YlQ1VdE/180Xy8oooT8MTd5IYF/RvyH8Je5soY+/q/d6kvi61D+h9JtcLyDOv2JPaks2OtO/IZw8K/uwzz9AkpxnB83SP3dHi6xddpo/ZCYLNaMe0b8H0Yu6NxfHP/9HxKVH7ss/hrbzzosTwT/+DHWIp4bNvxB5gzFOwtQ/DpFD0/uo0z/kuWL1v1PVPxMw+dMfPNK/R6v/iL1r0j9U2hqCqWDMP9I5nQa8T9M/FwzjcpUr0L+9833WQDDWP5n1R6RdVNM/zQ4yDzAD1j+fix8X57TSv0hWNQKm/NM/kkC8J2hc0D+9dtCoj8rUPxiGsBz2WtC/ivbsWnzQjb/t2S3IT4Wvvz2e8l31B82/Fkoy9QgVzb/uw+0XStTIP9YiTVaw1L8/zj82S0Z6or9UCqqgh2OyP+/uOo0pHtY/bafH7zi40j+OqWQzukbWP9yx/IJ2qtK/E+4wFqvX1D9KKjD+Q3/QP8sW+/eERtU/DncntoRU0L8TFpiNKXzVP+TJTIvODtQ/MtA41YM61j9hruUzK1Dnv5TQVSkOi9Q/lZYJ+ZNp0j97acdbAjbTP6bCac4X7dK/gZh0oM+QyT8RdyacGfOlPz73t8rpmdM/0znKUYZTwT+vD5kXxMfVPwTRW9Z9X9M/fQQRq+Ot1T9wKn1BqJ3Sv5TtJWs12tE/qc0hGpZuzD8GHvhaySrSP8roQVla5tC/DPf6twGD1j894dnhDR7TPzlhjJ4zO9Y/KAl0kRaj0r8=",
          "dtype": "f8"
         },
         "z": {
          "bdata": "+06sa8GCwT+Dt40C0drCv2AlWHbwYMy/xZizLNO7yr8yBvdk+L/Jv8ZErs556cW/opl9wQ4Qx78VDUmED97Evy+LnAykes2/+rszTJK/xr+zhpaGL4DIv0DJUH4ZRce/SlsU4OTRz7/IzB79cG/LvyNc609XZ7I/ckMmnyNWtD+LxA0VdKm0P2afu1vBrbQ/o98ydEf+zL+qzJ+xN0TLv+r/QIF8pc2/O/aP/HVvyb/U5PlZcpbGv6ZUNVm5Bci/h4+j5N/5xL8hlVj83X/Hv8vzV2O0oc6/hSyKdJh8y79mr9O+QlnMv/j0iSdBQMy/bZZDQS8yzL9OQS/kyC/Lv7b8ZcubaM2/AM1ZgWIkzb9tOF5MT/HLv4r7M5+PzMu/k8lsiZqdyr+o+TVBdJPIv0K+q64x28q/K/NPUcOayr/29b+zPXLJv4hwH5U13Mu/F5F/UuKTx7+1/IWOkg/Lv5kbRPF/UM2/65+XVFZrzr8a3ytzTt/Iv+AkQWYUNc2/dpwDKMegyb+ubeoKb2nFv5B2C0QHy8m/56aSlUplxL9jKeoTv2jJv9y3TALij8a/dH8PaJz5yL824bOjIqzHv0dNZpA2l86/oUTjuUuKzL+I8TrwhS/Qv0vV6E6m08y/CPgspy7Tzr9PFViYStLJv89n0Sm9Gcm/rLKUn9VDyb9AJK9z1PHNv/MQwcK7Xsy/tIX5P+Vsy79HS53DlZHMv+bAboll3sy/ftb1s5smyb/TjiTD6dHNv32G1r09vsu/S5kppuDmzr8VrUtmJFfOv80FOdoBzc6/Hh6tKweVy79hCZbIn1vNvwDJw7oENsm//MyphNMKzL/kKl7iAijKv/Foa59m5s6/fRd+Tqdry7/7MX4dOaXNv5F5/wz6k8u/bWW6jyHvyr+mShfk8yjIvzSmA4aAI8q/xg/9wUneyb+g+9rjw0GwP8CGrOJwesi/C5wvm/TIzL9pQv409PTKv4+TJr18oc6/8nfhmUFJyb89JocwuPTKvye3iQKGm8u/Z7bh2ppR0b/AK3ikZNrIv9mfLW7evsq/25K1tdi3x79+Xo+rClnNvyCKDW9mSsy/K6UNyBWgz79aW0RoSGTNvxyq7KtIAs2/uIJ0oMV0yr99t9WqPvXLvwh1KWG9IMm/UDW9q9jrzb8=",
          "dtype": "f8"
         }
        },
        {
         "hovertemplate": "process=pla<br>PC1=%{x}<br>PC2=%{y}<br>PC3=%{z}<extra></extra>",
         "legendgroup": "pla",
         "marker": {
          "color": "#FFA15A",
          "symbol": "circle"
         },
         "mode": "markers",
         "name": "pla",
         "scene": "scene",
         "showlegend": true,
         "type": "scatter3d",
         "x": {
          "bdata": "kP9k8hfA6T/1sFi5OnDrP0lqY6o9i+k/gZ81LeML7D8Q5wBBFjPqP/3Mw+EhV+w/gifIgJrw6z82DCl9nxvsPykrQ+3KgOo/GN82lmQ16z+MyVi6LxnsP+rEq+BP9us//j+X6Kqi6z9yy5++/EvsP/Osip8tlOs/OCantJjX6z+U/qcd5UbrP2TMY5BdzOs/23i4Of696z/B15O3N+zrPyxc6T7Y9+o/JFqv+/8d7D88CRaCF+brP+adUHMLOuw/NRkM66D06z/z4FpVRfLrP2vyKgByCOk/Qrl6sVBR6j+NXjo+t2vpP+bsi0YYXOk/7ECkvgn76D/pYpR+AFfqP/OCo+8r9es/b1rylSwN7D/I/qPvdM7rP0V0LLaKF+w/S1tXDWLQ6z9Wmv3TipDqP5X6cKCZJ+w/9xxmxQki7D/Ru9JBrPrrP8dohlBWD+w/LeAjbncf6z98BiiAMaXrP/00HlvrFes/E/PGoMGx6z9Oc0eOnxXrP0ZsNqd/s+s/3S11siUR6z9xKzjlDxnrP689GptHK+s/En899Les6z9eFq4uRS/rPxqUeTWYN+s/oCw3A3H66j+tQaJKt0DrPw==",
          "dtype": "f8"
         },
         "y": {
          "bdata": "zDAeJiSG0j++TAtcDUmuP3BXcDg0CtM/X6gv5PdkcL/agVf3tODDv7PX+gVs1mG/L/5mN21/bz+OTQ/uA7B2P7A5opeHFMG//kDZLQvlwb/6WXIBVEmdP0cShAVuMZi/fotNW27ndL9ygOd/k+Ntv+y9Vvyz33O/mkiD9ePXhb+G7Bu9x1mnvxZ0TWugZY6/8rUg7MJycb9K+VdCrrCIv0Q4JJj7U5m/0l+o8FvoqD/C7la6X7OvP3lZS5Wk2qU/QFx8wfXgoD9yuCv65o+bP4k8Kgk2l9I/xvlM5pqwwb8mSY9c/bHDv4WC6MG0kdA/FmtRzfzD0j8a4Zwt+QzCv+fpAn/TAKg/WNi2zJZ9pD/wXDiVxiWiP2SWeq+JXag/8G/MDWfarT/cDyVHxjikP3lSB1TUNqw/ijliUVTppD/4EY/HtsCoPyNk9qatHaQ/FQxQvAiQrb+eYDYF82ijv/GcETUpLK6/i/njoAsip79j0CxLiz6svyRLRRDV46K/iZbBqJhAq78VvGUrCpq3vyy5KLjLFa2/1iYxoIccpL92GvFgk8Gsv3oWFMEVDcg/wOVoIBmxrr+vujMtQhTAPw==",
          "dtype": "f8"
         },
         "z": {
          "bdata": "sx6d8x8/y79vb+v96eDQPy8BwUF61Mg/HLZAkgn8xD8SX/1ynePPPx/YJSZh38E/cVbVo5QHyT+Mngs7r7HEP/5BcBqbcM8/zmDkc/Mmyj+7YMfii4rHP1F4v1IKAcc/9ZWgzMVkyz9xWoLzudPCP1OvCblGbss/RqH4CiOaxT9cyBl2CO3LP6mPXc333cY/tPzuzE/AyT+6qDxWh+HCP8TDSDZ+Nc0/0n5GVr6hzz/kmoZ38THQP4+SuoLM+Mk/hxl9K8pm0T+9r/w7DRzQP3Dneqx3Eck/q2GVJObDzz8H9U5ZEO/RP/194lkzx8k/KC2H6RuXyD+NitcYeevQPyWVBX7+49A/mwkj1Ctkzz+nNPpODFfRP84MRCNUQc8/0Au3XFlh0T9vs7+RhuXNP6y0bPb+ctA/F9WkZydYzz/qOO3oTp3QP/OlE/YJuNA/yZjF/ODr0D+acCTwkLnQP1ipLfhrJNE/RKk33iVXzj/5jkDCRY7QP4mvMN4HMs4/6aLiXXtJ0D/ccWEVsQTQP+jVi5ATfNA/VJgoV15izj8MQve6dRnRP46J2B2gHsk/nJo6NHXE0D+DGtF8H/PIPw==",
          "dtype": "f8"
         }
        },
        {
         "hovertemplate": "process=del<br>PC1=%{x}<br>PC2=%{y}<br>PC3=%{z}<extra></extra>",
         "legendgroup": "del",
         "marker": {
          "color": "#19d3f3",
          "symbol": "circle"
         },
         "mode": "markers",
         "name": "del",
         "scene": "scene",
         "showlegend": true,
         "type": "scatter3d",
         "x": {
          "bdata": "y4E3BHzf6j8=",
          "dtype": "f8"
         },
         "y": {
          "bdata": "SK9GY+uQwL8=",
          "dtype": "f8"
         },
         "z": {
          "bdata": "RHPtjah20D8=",
          "dtype": "f8"
         }
        }
       ],
       "layout": {
        "legend": {
         "title": {
          "text": "process"
         },
         "tracegroupgap": 0
        },
        "margin": {
         "t": 60
        },
        "scene": {
         "domain": {
          "x": [
           0,
           1
          ],
          "y": [
           0,
           1
          ]
         },
         "xaxis": {
          "title": {
           "text": "PC1"
          }
         },
         "yaxis": {
          "title": {
           "text": "PC2"
          }
         },
         "zaxis": {
          "title": {
           "text": "PC3"
          }
         }
        },
        "template": {
         "data": {
          "bar": [
           {
            "error_x": {
             "color": "#2a3f5f"
            },
            "error_y": {
             "color": "#2a3f5f"
            },
            "marker": {
             "line": {
              "color": "#E5ECF6",
              "width": 0.5
             },
             "pattern": {
              "fillmode": "overlay",
              "size": 10,
              "solidity": 0.2
             }
            },
            "type": "bar"
           }
          ],
          "barpolar": [
           {
            "marker": {
             "line": {
              "color": "#E5ECF6",
              "width": 0.5
             },
             "pattern": {
              "fillmode": "overlay",
              "size": 10,
              "solidity": 0.2
             }
            },
            "type": "barpolar"
           }
          ],
          "carpet": [
           {
            "aaxis": {
             "endlinecolor": "#2a3f5f",
             "gridcolor": "white",
             "linecolor": "white",
             "minorgridcolor": "white",
             "startlinecolor": "#2a3f5f"
            },
            "baxis": {
             "endlinecolor": "#2a3f5f",
             "gridcolor": "white",
             "linecolor": "white",
             "minorgridcolor": "white",
             "startlinecolor": "#2a3f5f"
            },
            "type": "carpet"
           }
          ],
          "choropleth": [
           {
            "colorbar": {
             "outlinewidth": 0,
             "ticks": ""
            },
            "type": "choropleth"
           }
          ],
          "contour": [
           {
            "colorbar": {
             "outlinewidth": 0,
             "ticks": ""
            },
            "colorscale": [
             [
              0,
              "#0d0887"
             ],
             [
              0.1111111111111111,
              "#46039f"
             ],
             [
              0.2222222222222222,
              "#7201a8"
             ],
             [
              0.3333333333333333,
              "#9c179e"
             ],
             [
              0.4444444444444444,
              "#bd3786"
             ],
             [
              0.5555555555555556,
              "#d8576b"
             ],
             [
              0.6666666666666666,
              "#ed7953"
             ],
             [
              0.7777777777777778,
              "#fb9f3a"
             ],
             [
              0.8888888888888888,
              "#fdca26"
             ],
             [
              1,
              "#f0f921"
             ]
            ],
            "type": "contour"
           }
          ],
          "contourcarpet": [
           {
            "colorbar": {
             "outlinewidth": 0,
             "ticks": ""
            },
            "type": "contourcarpet"
           }
          ],
          "heatmap": [
           {
            "colorbar": {
             "outlinewidth": 0,
             "ticks": ""
            },
            "colorscale": [
             [
              0,
              "#0d0887"
             ],
             [
              0.1111111111111111,
              "#46039f"
             ],
             [
              0.2222222222222222,
              "#7201a8"
             ],
             [
              0.3333333333333333,
              "#9c179e"
             ],
             [
              0.4444444444444444,
              "#bd3786"
             ],
             [
              0.5555555555555556,
              "#d8576b"
             ],
             [
              0.6666666666666666,
              "#ed7953"
             ],
             [
              0.7777777777777778,
              "#fb9f3a"
             ],
             [
              0.8888888888888888,
              "#fdca26"
             ],
             [
              1,
              "#f0f921"
             ]
            ],
            "type": "heatmap"
           }
          ],
          "histogram": [
           {
            "marker": {
             "pattern": {
              "fillmode": "overlay",
              "size": 10,
              "solidity": 0.2
             }
            },
            "type": "histogram"
           }
          ],
          "histogram2d": [
           {
            "colorbar": {
             "outlinewidth": 0,
             "ticks": ""
            },
            "colorscale": [
             [
              0,
              "#0d0887"
             ],
             [
              0.1111111111111111,
              "#46039f"
             ],
             [
              0.2222222222222222,
              "#7201a8"
             ],
             [
              0.3333333333333333,
              "#9c179e"
             ],
             [
              0.4444444444444444,
              "#bd3786"
             ],
             [
              0.5555555555555556,
              "#d8576b"
             ],
             [
              0.6666666666666666,
              "#ed7953"
             ],
             [
              0.7777777777777778,
              "#fb9f3a"
             ],
             [
              0.8888888888888888,
              "#fdca26"
             ],
             [
              1,
              "#f0f921"
             ]
            ],
            "type": "histogram2d"
           }
          ],
          "histogram2dcontour": [
           {
            "colorbar": {
             "outlinewidth": 0,
             "ticks": ""
            },
            "colorscale": [
             [
              0,
              "#0d0887"
             ],
             [
              0.1111111111111111,
              "#46039f"
             ],
             [
              0.2222222222222222,
              "#7201a8"
             ],
             [
              0.3333333333333333,
              "#9c179e"
             ],
             [
              0.4444444444444444,
              "#bd3786"
             ],
             [
              0.5555555555555556,
              "#d8576b"
             ],
             [
              0.6666666666666666,
              "#ed7953"
             ],
             [
              0.7777777777777778,
              "#fb9f3a"
             ],
             [
              0.8888888888888888,
              "#fdca26"
             ],
             [
              1,
              "#f0f921"
             ]
            ],
            "type": "histogram2dcontour"
           }
          ],
          "mesh3d": [
           {
            "colorbar": {
             "outlinewidth": 0,
             "ticks": ""
            },
            "type": "mesh3d"
           }
          ],
          "parcoords": [
           {
            "line": {
             "colorbar": {
              "outlinewidth": 0,
              "ticks": ""
             }
            },
            "type": "parcoords"
           }
          ],
          "pie": [
           {
            "automargin": true,
            "type": "pie"
           }
          ],
          "scatter": [
           {
            "fillpattern": {
             "fillmode": "overlay",
             "size": 10,
             "solidity": 0.2
            },
            "type": "scatter"
           }
          ],
          "scatter3d": [
           {
            "line": {
             "colorbar": {
              "outlinewidth": 0,
              "ticks": ""
             }
            },
            "marker": {
             "colorbar": {
              "outlinewidth": 0,
              "ticks": ""
             }
            },
            "type": "scatter3d"
           }
          ],
          "scattercarpet": [
           {
            "marker": {
             "colorbar": {
              "outlinewidth": 0,
              "ticks": ""
             }
            },
            "type": "scattercarpet"
           }
          ],
          "scattergeo": [
           {
            "marker": {
             "colorbar": {
              "outlinewidth": 0,
              "ticks": ""
             }
            },
            "type": "scattergeo"
           }
          ],
          "scattergl": [
           {
            "marker": {
             "colorbar": {
              "outlinewidth": 0,
              "ticks": ""
             }
            },
            "type": "scattergl"
           }
          ],
          "scattermap": [
           {
            "marker": {
             "colorbar": {
              "outlinewidth": 0,
              "ticks": ""
             }
            },
            "type": "scattermap"
           }
          ],
          "scattermapbox": [
           {
            "marker": {
             "colorbar": {
              "outlinewidth": 0,
              "ticks": ""
             }
            },
            "type": "scattermapbox"
           }
          ],
          "scatterpolar": [
           {
            "marker": {
             "colorbar": {
              "outlinewidth": 0,
              "ticks": ""
             }
            },
            "type": "scatterpolar"
           }
          ],
          "scatterpolargl": [
           {
            "marker": {
             "colorbar": {
              "outlinewidth": 0,
              "ticks": ""
             }
            },
            "type": "scatterpolargl"
           }
          ],
          "scatterternary": [
           {
            "marker": {
             "colorbar": {
              "outlinewidth": 0,
              "ticks": ""
             }
            },
            "type": "scatterternary"
           }
          ],
          "surface": [
           {
            "colorbar": {
             "outlinewidth": 0,
             "ticks": ""
            },
            "colorscale": [
             [
              0,
              "#0d0887"
             ],
             [
              0.1111111111111111,
              "#46039f"
             ],
             [
              0.2222222222222222,
              "#7201a8"
             ],
             [
              0.3333333333333333,
              "#9c179e"
             ],
             [
              0.4444444444444444,
              "#bd3786"
             ],
             [
              0.5555555555555556,
              "#d8576b"
             ],
             [
              0.6666666666666666,
              "#ed7953"
             ],
             [
              0.7777777777777778,
              "#fb9f3a"
             ],
             [
              0.8888888888888888,
              "#fdca26"
             ],
             [
              1,
              "#f0f921"
             ]
            ],
            "type": "surface"
           }
          ],
          "table": [
           {
            "cells": {
             "fill": {
              "color": "#EBF0F8"
             },
             "line": {
              "color": "white"
             }
            },
            "header": {
             "fill": {
              "color": "#C8D4E3"
             },
             "line": {
              "color": "white"
             }
            },
            "type": "table"
           }
          ]
         },
         "layout": {
          "annotationdefaults": {
           "arrowcolor": "#2a3f5f",
           "arrowhead": 0,
           "arrowwidth": 1
          },
          "autotypenumbers": "strict",
          "coloraxis": {
           "colorbar": {
            "outlinewidth": 0,
            "ticks": ""
           }
          },
          "colorscale": {
           "diverging": [
            [
             0,
             "#8e0152"
            ],
            [
             0.1,
             "#c51b7d"
            ],
            [
             0.2,
             "#de77ae"
            ],
            [
             0.3,
             "#f1b6da"
            ],
            [
             0.4,
             "#fde0ef"
            ],
            [
             0.5,
             "#f7f7f7"
            ],
            [
             0.6,
             "#e6f5d0"
            ],
            [
             0.7,
             "#b8e186"
            ],
            [
             0.8,
             "#7fbc41"
            ],
            [
             0.9,
             "#4d9221"
            ],
            [
             1,
             "#276419"
            ]
           ],
           "sequential": [
            [
             0,
             "#0d0887"
            ],
            [
             0.1111111111111111,
             "#46039f"
            ],
            [
             0.2222222222222222,
             "#7201a8"
            ],
            [
             0.3333333333333333,
             "#9c179e"
            ],
            [
             0.4444444444444444,
             "#bd3786"
            ],
            [
             0.5555555555555556,
             "#d8576b"
            ],
            [
             0.6666666666666666,
             "#ed7953"
            ],
            [
             0.7777777777777778,
             "#fb9f3a"
            ],
            [
             0.8888888888888888,
             "#fdca26"
            ],
            [
             1,
             "#f0f921"
            ]
           ],
           "sequentialminus": [
            [
             0,
             "#0d0887"
            ],
            [
             0.1111111111111111,
             "#46039f"
            ],
            [
             0.2222222222222222,
             "#7201a8"
            ],
            [
             0.3333333333333333,
             "#9c179e"
            ],
            [
             0.4444444444444444,
             "#bd3786"
            ],
            [
             0.5555555555555556,
             "#d8576b"
            ],
            [
             0.6666666666666666,
             "#ed7953"
            ],
            [
             0.7777777777777778,
             "#fb9f3a"
            ],
            [
             0.8888888888888888,
             "#fdca26"
            ],
            [
             1,
             "#f0f921"
            ]
           ]
          },
          "colorway": [
           "#636efa",
           "#EF553B",
           "#00cc96",
           "#ab63fa",
           "#FFA15A",
           "#19d3f3",
           "#FF6692",
           "#B6E880",
           "#FF97FF",
           "#FECB52"
          ],
          "font": {
           "color": "#2a3f5f"
          },
          "geo": {
           "bgcolor": "white",
           "lakecolor": "white",
           "landcolor": "#E5ECF6",
           "showlakes": true,
           "showland": true,
           "subunitcolor": "white"
          },
          "hoverlabel": {
           "align": "left"
          },
          "hovermode": "closest",
          "mapbox": {
           "style": "light"
          },
          "paper_bgcolor": "white",
          "plot_bgcolor": "#E5ECF6",
          "polar": {
           "angularaxis": {
            "gridcolor": "white",
            "linecolor": "white",
            "ticks": ""
           },
           "bgcolor": "#E5ECF6",
           "radialaxis": {
            "gridcolor": "white",
            "linecolor": "white",
            "ticks": ""
           }
          },
          "scene": {
           "xaxis": {
            "backgroundcolor": "#E5ECF6",
            "gridcolor": "white",
            "gridwidth": 2,
            "linecolor": "white",
            "showbackground": true,
            "ticks": "",
            "zerolinecolor": "white"
           },
           "yaxis": {
            "backgroundcolor": "#E5ECF6",
            "gridcolor": "white",
            "gridwidth": 2,
            "linecolor": "white",
            "showbackground": true,
            "ticks": "",
            "zerolinecolor": "white"
           },
           "zaxis": {
            "backgroundcolor": "#E5ECF6",
            "gridcolor": "white",
            "gridwidth": 2,
            "linecolor": "white",
            "showbackground": true,
            "ticks": "",
            "zerolinecolor": "white"
           }
          },
          "shapedefaults": {
           "line": {
            "color": "#2a3f5f"
           }
          },
          "ternary": {
           "aaxis": {
            "gridcolor": "white",
            "linecolor": "white",
            "ticks": ""
           },
           "baxis": {
            "gridcolor": "white",
            "linecolor": "white",
            "ticks": ""
           },
           "bgcolor": "#E5ECF6",
           "caxis": {
            "gridcolor": "white",
            "linecolor": "white",
            "ticks": ""
           }
          },
          "title": {
           "x": 0.05
          },
          "xaxis": {
           "automargin": true,
           "gridcolor": "white",
           "linecolor": "white",
           "ticks": "",
           "title": {
            "standoff": 15
           },
           "zerolinecolor": "white",
           "zerolinewidth": 2
          },
          "yaxis": {
           "automargin": true,
           "gridcolor": "white",
           "linecolor": "white",
           "ticks": "",
           "title": {
            "standoff": 15
           },
           "zerolinecolor": "white",
           "zerolinewidth": 2
          }
         }
        }
       }
      }
     },
     "metadata": {},
     "output_type": "display_data"
    }
   ],
   "source": [
    "df = df_var_init\n",
    "hue_label = \"process\"\n",
    "df[hue_label] = df[hue_label].astype(\"category\")\n",
    "fig = px.scatter_3d(df, x='PC1', y='PC2', z='PC3', color=hue_label)\n",
    "fig.show()\n"
   ]
  },
  {
   "cell_type": "code",
   "execution_count": 57,
   "id": "4c3bd422",
   "metadata": {},
   "outputs": [
    {
     "data": {
      "application/vnd.plotly.v1+json": {
       "config": {
        "plotlyServerURL": "https://plot.ly"
       },
       "data": [
        {
         "hovertemplate": "process=las<br>PC1=%{x}<br>PC2=%{y}<br>PC3=%{z}<extra></extra>",
         "legendgroup": "las",
         "marker": {
          "color": "#636efa",
          "symbol": "circle"
         },
         "mode": "markers",
         "name": "las",
         "scene": "scene",
         "showlegend": true,
         "type": "scatter3d",
         "x": {
          "bdata": "//z7+mv+pr/zbFi/mMjhP9d10MxXxeM/sBw/ZEbg4z9MB7ugF7HhPxsskHxLpeE/MgFnuu2k4z8VFcu8fybiPw==",
          "dtype": "f8"
         },
         "y": {
          "bdata": "KNmgDpEdpT9yp6Ed62nCv5IAeT1UO9e/iPQcV5Ix07+F/rTqqGzYv4fo9iYrGtm/R0q7cCP8078Fv4Amxknavw==",
          "dtype": "f8"
         },
         "z": {
          "bdata": "gS+Cuwrksj++Hb0P3t7FvxGfQLHvwqQ/ogP/XW+woT8PtDt9GCvAPwYGDomKgb8/wc9sqkdCwT8Ykg1Ui6DBPw==",
          "dtype": "f8"
         }
        },
        {
         "hovertemplate": "process=gal<br>PC1=%{x}<br>PC2=%{y}<br>PC3=%{z}<extra></extra>",
         "legendgroup": "gal",
         "marker": {
          "color": "#EF553B",
          "symbol": "circle"
         },
         "mode": "markers",
         "name": "gal",
         "scene": "scene",
         "showlegend": true,
         "type": "scatter3d",
         "x": {
          "bdata": "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",
          "dtype": "f8"
         },
         "y": {
          "bdata": "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",
          "dtype": "f8"
         },
         "z": {
          "bdata": "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",
          "dtype": "f8"
         }
        },
        {
         "hovertemplate": "process=mic<br>PC1=%{x}<br>PC2=%{y}<br>PC3=%{z}<extra></extra>",
         "legendgroup": "mic",
         "marker": {
          "color": "#00cc96",
          "symbol": "circle"
         },
         "mode": "markers",
         "name": "mic",
         "scene": "scene",
         "showlegend": true,
         "type": "scatter3d",
         "x": {
          "bdata": "4/HdFN8D6j8X36ukFszjv5W7xTXRteS/ladcCRBh4793h4+iQnjmvxgGpoO8Fum//EkzXPtp5r8SYscEGAXjv8uCNoHG+uO/+2KbMS2g4r+Fe0TWqTbivxzIo55h+dm/P0fXcL5H6b9rBzJjkRXavwKaLUkkFNm/tmAjZ0wO2b+o8WYGXFvhv/hqf6yWLdq/NWxIAIJv3L9aKVlPxUDZv6BbFI4OD+i/zKd81S0B27/hl6mT1svav0K0mfbMvdy/KRKOoPma57/giZq2Ljrlv8WT9xEA/OO/rY8CYcC+5r9sqmodnXbnv6pwN/eWVee/mmz03CmZ578+QPQ0Xnfnv/nnWOay/ui/gxVyqT6N5b8=",
          "dtype": "f8"
         },
         "y": {
          "bdata": "MDFdZjpVyD9CXq8CiR3Sv0z4qtMvXc6/Yscj/N8J0L9XLxwEGP/HPwbS8v0+jbK/PtaF75Chyj9TCOZhc0rRvy9so/Wqc8y/8L/7bV8T0r+mHvnrjTDUv4dlKgaCRta/hm/qu29/xD/+RiSwSuDav73OPczjUNi/HtCx9NJa2L8OLDdX9eTlP2D5iAXYc9i/VnlYLG7y1b9rLfaqjJ7Zv4G0ZAMNacQ/BIFEHGM52L+hDnBrudTXvxpiJ52b4di/Wcc7urX5xj+wxrSHlcrPv7PdnSls9NC/2BWTKs+Rx7/FJ2xN967HP03Ht42118k/4D8hPh6Sxj8hfruRyjXJP88hu+iEP8I/b1aHaaW4ur8=",
          "dtype": "f8"
         },
         "z": {
          "bdata": "rmzZYBaitb+wigGS3fzSv3KhnvKC2dG/rzb4unl+1L/Yon16vHPXP7G8YXfi5Y2/+LGduDkC2j9kptAVPprVv3J/YpfZZtO/ctodMSG20b9+bQISUL3Mvx7UJPGJgdO/cjZMgHuaxz+0Awl5TYPRv0iFNjK1eNG/xEDWFGZ50b+FzLfs34G6v6VqwGG+ldS/KW+FZEGW1L/uVyGqQcPTvy/dV1pSCNM/Yvv06PUn0b9yBmQDmTzRv2qrVIsWcdC/OzI3rAFw1z/gIwqoaVvIvzjl1oeTkMu/7LgSsycJx79TcNHdbBvWP+IHVSO4OdI/Pf1FZa8R1j85lKQV/3HUP9lZzM/808c/s99B3bjavz8=",
          "dtype": "f8"
         }
        },
        {
         "hovertemplate": "process=mul<br>PC1=%{x}<br>PC2=%{y}<br>PC3=%{z}<extra></extra>",
         "legendgroup": "mul",
         "marker": {
          "color": "#ab63fa",
          "symbol": "circle"
         },
         "mode": "markers",
         "name": "mul",
         "scene": "scene",
         "showlegend": true,
         "type": "scatter3d",
         "x": {
          "bdata": "BJszvNK13L9tYLAzwx2rv4qaQzDAtde/1TlaW+Ssvr9qe+fDAkblv7OJm/MhJ+K/kZ13A4T94b8v4twbwgriv2b495qsDOe/5dnuEnw+4b/68+mUgUnhv+zO2d25ZuG/VUkbLE7E4b+f4fTKIkHmv9mqqkO2MuK/tPkT7t0Y4L9Qon9v6CXiv/+GckLkIeK/0UtxnAks4b8NtXgB0/zYv/GOOAltveW/Q377Kr4c578uHvGH+gnYv1aX9RgqpWI/v2UJdrbyzr8Npf6cjVXbv2YNEBrGkui/eyxfIF2C57/JuYv2rgzov6j40EnJxue/A1Fox3vV5797zUQDMSDov8HlKl1ihui/TzDCt4Ae578dJMW8ZIbnv1Zqed8jtue/F4HTKSuE57/65xW7oeXNv3bUH4xrcsm/ZAmTF5/G2b8BOL9e6Uflv53tfoZKk+G/3cF4H6Qagz8wVIK34YXnvzbAd58RqOe/khF0P0s5zr9OpRsbPbLIv7OnkGMlqtu/S3QQxcll5b8JFaIEeknUv43oxpYYJ8q/4NAY9GP+1r/JoTXGfzjkv28VdNxkv1S/ohvFjkBcVb8o/aH7uO2rv8Hk+8BM7ee/2dXYIy2pyb8lg8flku/WvwQZt+vGH7+/x0P5EsOV47+jMXMM84urvxGtbIUt6I6/ciYkW+IFr7/Vne5ovfvnv67Q9slhqMa/wNc4ZHyJ1b/gGAhyPoC+v7CAl3rwEOO/OAvx85Ju3b8Vau8e6pHWv0G/8bgEy+W/kqD333V+6L9I2dX5s3HRv9e/M4QfVdG/PXYnH/8G47/3DLFkIH7gv33wmZUfXay/0VZEriZeRr8DLsQemGmpv8N0jiE/9ee/vWF700Q2w78iFiyx937Qv7iGkOvX9rO/EIxh42Uu5b8AY0SRn62pv1sx+kfVYmi/wKIokOJBq7/NYNpJcyXiv9qMpOYF77u/9Yj5t1+Iw799w21G7Xi6v1BE6hiMBua/ob/7ho7XxL8otkfCgEXUv5qVuhqWqb2/q3y4Zm8Z2L9XrgnB3EOov0BI55rudWG/GerBw9BfqL+lyXwRIwTov/wkUp0tyMW/wwZV1Uxi07+QTwl8UNDAv2BW4w+FGOW/oOyFJIoZq787GrVxS12Dv1TlwnbDcqm/sJyDMU/2578=",
          "dtype": "f8"
         },
         "y": {
          "bdata": "jx88w7Au1b8Ry48NmuzmvxCGQP9a8uS/AC6sKV5U6L+PIBhJ2I+SPzT13cGrWsw/Un7NxeUgzT9YhCdzHgHLP/4fZTLAZLQ/zY9PnirvyD97SDgYS77QP7hYZeinp84/dYqcip8L0L+3fiIkquGSP8+2mrnDCOM/JbARqq2A5D/DTt/7CUvjPzr/WSaTTOM/jTAu5RP7yr8AUxPwoY7Vv821m898YLK/COW2KNlurT9DgcFG58Dev6kvj8SVE+i/1LNDDp0K4r/H+2PH6RDdv9WZ379Wsbg/+k2/pA6+qL+J52YlZ62RP6vZ7hy37KI/Q8+DNlZTsz99cPepeZWRP9z3NRCS2YE/U6+YI9h3kL8h36f+EOS9P812lN7GdLM/k2kPE9rbtz9SelaQ0Hblv7A+i/C2xuS/jCAsU3iu279kvqr8DZGKPxn6Lr2sAdC/kjBOXnIH6L+flCLUajC6Pzi3qMFdMbc/QUNv1e/+5b9VorhLwNLkv9WGuUVqhte/igPUdeSoij/9E2DXdRDkv36zxmSIaua/zvGLqSlU4r/DiIVLGNyyP8WMRpU22ue/PnBL8Doz5r+IX35dyD3ovxk0Nfu9j7I/97+HIW2Y578BSn2VEV/jv+mwRNAz4ue/fw0rKrRNoT8G9aUln0novyNzuTEG1uW/0nI+6ycj6L9yo5YheCKzP3jGN8PPLei/RlPv/wbl5L85lu2rRkrovxXi1L4taZs/UeG1FeBE2r9BKicGAcPVvy9TMulJhK+/IuXiSzM1oT8HVNMe86Llv7rZt42kduO/NTaPZAFh1b/dDMZQTTPYvxsrfEGlTOi/PpIcPctO5r/7tQpaa1nov03eedXNo7I/3Z0VQD6U6L96JdHbz5Lkv+QIMBSGZei/L2Jem6s7jz+64wcwWoDov8MxXzTKo+e/Tm6AAP4W6L+Ov59iQfPiPyejxVGRdOi/C+OBfvBH5r+FEqDPAOfnv7sMpB2YfKg/kqeBfDMF5b+JdPMhINjfv0rrOh+OEee/AZ7809bl4b9RItG0sTXovxEebzNbO+a/B+GFO4dy6L+A6D5sdxizP/XrucNa6Oa/P01rbTnZ5L8JoDmkbVnmv51V5cL1up8/aBz9MZws6L+gZzNhLRXmvyiIE/X2Tui/5tLJ0tC9sT8=",
          "dtype": "f8"
         },
         "z": {
          "bdata": "gDIo27HTz79f3fiFAePSvyNjem3TBNS/ycdIdLXE2L+pgCMK2uutv/wTmmHyONU/MzyK+J2q1j8oDzuOpaTVP7n8vUXPAqc/dAJ6Zlip0T/BLtOrrV7SP7rxNJ8rAdM/UuIyfXvY4L/bhpIQ1onAv64hogjPjLe/+ZRXstgJqL8TCfIo3vC5v2IDFeWT8bm/IL52JWcQ3b+8WGV2alThv0cAsoyRwtK/Immvh9MMqD8N+qtElo/iv0tFZR+R6ta/ofijEITM4r9FgO74nj/iv6KimUucBX+/c9SseLFSuT85qbAqSoTEP9GMHwyGYMQ/isqa5sknpz8QkHrjsi3BPx/19zTYEcc/hYeZb63Evz/IBK+RIJyiv+HfWixxYKg/nJC/kToqtD/w4/JF4Mzfv8tmKYsHXNO/k4HAg5rT4r+GbHvUoLu4vx+3gm70FeG/nS8/MH0S179oyvi8Zp+nvyAPDTfdwLY/t0tASWq1378ufXilRPrSvzKrWieyOOO/lhYF8x0kuL8cPJeb7OXcv9YpOi5Trti/ock+liUL4L8T3dX/f5rIv/H60BLAAdi/hsgopOBe27/kD+euuozXv9F8H4pPVMM/nHTagz+P279CsBIRSaDPv+ccGrc+o9u/6aTyWlrutL+1Rt1mIr7Xv8cbzDlHz9u/e0PPJJBi179LHV4w00DCP9kBKwSIcdq/EahD+BrF0b8fUqdZ8Bzav85EullGgbm/Wf14D2BE4b/708Nn+Srgv+LEyCehXMS/XccPp2Tvqr/MwDCO5nXev3KCKwn4OOG/XrrxWLpP2b8msSdTkWHdv51yx0tVxte/ODgrBdw42798lXTq9ZnXv+1tFz6S+MI/Dyvn8j1Z2L9CEcn/Y2HWv72asG7Y29i/VlWa8034nb86AyXoah7Xvwq7s6yxZti/2v399qih178qlygure62v9OXE+1psdi/DhX5PC3L1r8QD2nd/K3bv8iBXg2r6mm/dAZoWPjt4L+OsYZkKPfhvyo0wDQ8ONu/jyHQIgXU4L9IGxrTXTfYv5fMvSCXSdu/E169e6ay17/v3oazfmnDPyKPf7V+RN2/B395Dk9o2r9StugV5M3dvy8nRBg8+ai/LQnC9/xD2L/fuUuyH33bv3/MB2qxkNe/yIjCbatKwz8=",
          "dtype": "f8"
         }
        },
        {
         "hovertemplate": "process=pla<br>PC1=%{x}<br>PC2=%{y}<br>PC3=%{z}<extra></extra>",
         "legendgroup": "pla",
         "marker": {
          "color": "#FFA15A",
          "symbol": "circle"
         },
         "mode": "markers",
         "name": "pla",
         "scene": "scene",
         "showlegend": true,
         "type": "scatter3d",
         "x": {
          "bdata": "ktuU9JbeyL+E+GaLJ1Tlv7zdw3HBEua/9nlV9jZz6b/jW4ufbpbqv4trC85cIem/LcNON7J46b8AzWCqSrjov27ZWzE0Jum/WFcj3UiB6r8DxU5e+cPov4RxH4p4Ieq/4GnMaWTY6b/lE2ZEYx7pv+W1Ic9anum/dYJptDiH6b8V49D8VNrqv6/XzkC8WOm/1WUioK9w6b/m9gWl7Ebpv6dsshaTo+i/DFzHYKJH6r8DYQTRyxTqv9H/DyZk7Oq/8X+g71AE6r/EnqvngyPqv1Z9o6Qsttm/VnBmvStN678WcVq+e97qv92A+jjxWtq/GBEBrl6/2b9LQNI9vh3rvxfeGWXdzem/sCkmpAEE6r+GkeK5Usbpv6G0MfEXR+q/oj2l6mvI6b8qNRgZgfbpv2+ipkHP3em/s0+XCLXp6b+44hpqxMrpv8UFdLYJ+em/J1tyOfFG579uHBQlXXznv2M8EcY/Sue/FyMauYiD578kgKwk/jnnv8P6t+IOL+e/fG4A36NA579mcvPOVhTpv4rUjhAJPee/eCAnbole579/SvZGJVTnv4soKYuXf+C//usH4YJI578YA8Ocbmnovw==",
          "dtype": "f8"
         },
         "y": {
          "bdata": "M29AbHEy6L+q/7x6JkaqPxbMq5Hhpbm/F+eQ76aItz+DAzz1idTHP4zNtRbRHrM/7Zzz36bGrD+OPIWHWRWvP9N4kbWxT8Y/MOMclTbexT/DAAS2Srl8P7/N+JqOJcE/OMAx0Cq3rD9sue4cWIK0P9g/h3WYuK0/WhiPHL9btD9k0dEjM5C/P98qhPSln7Q/tNcAPG0FsD+RNdWr+Ky4P+dou43wKaY/Gscw56cMwT8Sn2Gv7pC/PwJy2KXsI68/XFFZuMG2xD/xzO10MynEP6UcQlD5Vs+/p5G3lclAxj9EOf85qZjEP97JNt48DtG/kg9nesMQ0L9D8iG209LFPyWeLXy9/sM/DlrACm56wj8U0kDwyxLEP/1jHbrWtsA/G0qGq564wj/J9JrwNcrCP3RelL34AcQ/6qcE9/Tvwj+UTa3dB/bDPyTzbctLB8M/tTpd7SceuT/+lJRmbDG3P10wocpombg/4WkcJUT1uT9rQY3iWOK5PzOfq6i06rg/1Smme2zmuT8F0HcM8d7GPwtgvJvAlrw/7KfZyQHstz/Y6e8odTq5P4g+iK/JC72/GXIx3f8CuT9utgK6kn61vw==",
          "dtype": "f8"
         },
         "z": {
          "bdata": "e0eD8Pce2b+dfwzz9mbaP8Z7jUxxEdQ/41zrYupd1j+4/Cl5PGHbP5cD/KlpRNU/+zvhOGeb0j8dp4M+ST7VP9yFmj5W8dw/jbTeOOXp3T8H431FrcbRPxUj66kY09c/wukn5hm/0z8OnvSvSNPVP4vsiQEZC9Q/pkgvQxqp1T9fgOFkJ8nVPxuTdqmAANY/YRdbe2uq0z9gROxRKCXWPzGrdG+Ajs8/a9N0R5l12z/vHn03kALaPyG0pq3sc9Q/Oy3nsLJa3D9dj3x6ZFndPyfGnRHrl7s/j3JMAi102j9lRmnWIyrYP21GQzADm7k//P0b47VIuz8Izw1588naP2xBlVWPkdw/fgdEgdwE3T8zRG+rB3/cP9uikAwGDds/Qx4CVMKw2j89W4jKmirdP1lSW2gtTtw/x6rCxJjN3D9BF8MAIEHcP23LUIKGb90/0LDES0ry2D+PMo1i1xDaP1h3ZwaK2Ng/K8YyxDQX2j85veoQM5LYP1TG0UGZjNk/jTP8FaCn2D9BnFK97MjZP8h72Tpvotc/jvQgL+jj2T/5bppojunYP1Cnigp2/dI/UTZbu0AG2T8pOrOulBLQPw==",
          "dtype": "f8"
         }
        },
        {
         "hovertemplate": "process=del<br>PC1=%{x}<br>PC2=%{y}<br>PC3=%{z}<extra></extra>",
         "legendgroup": "del",
         "marker": {
          "color": "#19d3f3",
          "symbol": "circle"
         },
         "mode": "markers",
         "name": "del",
         "scene": "scene",
         "showlegend": true,
         "type": "scatter3d",
         "x": {
          "bdata": "FmQwdPPz6b8=",
          "dtype": "f8"
         },
         "y": {
          "bdata": "1Wwp8+eDyj8=",
          "dtype": "f8"
         },
         "z": {
          "bdata": "fK7sXpFh3D8=",
          "dtype": "f8"
         }
        }
       ],
       "layout": {
        "legend": {
         "title": {
          "text": "process"
         },
         "tracegroupgap": 0
        },
        "margin": {
         "t": 60
        },
        "scene": {
         "domain": {
          "x": [
           0,
           1
          ],
          "y": [
           0,
           1
          ]
         },
         "xaxis": {
          "title": {
           "text": "PC1"
          }
         },
         "yaxis": {
          "title": {
           "text": "PC2"
          }
         },
         "zaxis": {
          "title": {
           "text": "PC3"
          }
         }
        },
        "template": {
         "data": {
          "bar": [
           {
            "error_x": {
             "color": "#2a3f5f"
            },
            "error_y": {
             "color": "#2a3f5f"
            },
            "marker": {
             "line": {
              "color": "#E5ECF6",
              "width": 0.5
             },
             "pattern": {
              "fillmode": "overlay",
              "size": 10,
              "solidity": 0.2
             }
            },
            "type": "bar"
           }
          ],
          "barpolar": [
           {
            "marker": {
             "line": {
              "color": "#E5ECF6",
              "width": 0.5
             },
             "pattern": {
              "fillmode": "overlay",
              "size": 10,
              "solidity": 0.2
             }
            },
            "type": "barpolar"
           }
          ],
          "carpet": [
           {
            "aaxis": {
             "endlinecolor": "#2a3f5f",
             "gridcolor": "white",
             "linecolor": "white",
             "minorgridcolor": "white",
             "startlinecolor": "#2a3f5f"
            },
            "baxis": {
             "endlinecolor": "#2a3f5f",
             "gridcolor": "white",
             "linecolor": "white",
             "minorgridcolor": "white",
             "startlinecolor": "#2a3f5f"
            },
            "type": "carpet"
           }
          ],
          "choropleth": [
           {
            "colorbar": {
             "outlinewidth": 0,
             "ticks": ""
            },
            "type": "choropleth"
           }
          ],
          "contour": [
           {
            "colorbar": {
             "outlinewidth": 0,
             "ticks": ""
            },
            "colorscale": [
             [
              0,
              "#0d0887"
             ],
             [
              0.1111111111111111,
              "#46039f"
             ],
             [
              0.2222222222222222,
              "#7201a8"
             ],
             [
              0.3333333333333333,
              "#9c179e"
             ],
             [
              0.4444444444444444,
              "#bd3786"
             ],
             [
              0.5555555555555556,
              "#d8576b"
             ],
             [
              0.6666666666666666,
              "#ed7953"
             ],
             [
              0.7777777777777778,
              "#fb9f3a"
             ],
             [
              0.8888888888888888,
              "#fdca26"
             ],
             [
              1,
              "#f0f921"
             ]
            ],
            "type": "contour"
           }
          ],
          "contourcarpet": [
           {
            "colorbar": {
             "outlinewidth": 0,
             "ticks": ""
            },
            "type": "contourcarpet"
           }
          ],
          "heatmap": [
           {
            "colorbar": {
             "outlinewidth": 0,
             "ticks": ""
            },
            "colorscale": [
             [
              0,
              "#0d0887"
             ],
             [
              0.1111111111111111,
              "#46039f"
             ],
             [
              0.2222222222222222,
              "#7201a8"
             ],
             [
              0.3333333333333333,
              "#9c179e"
             ],
             [
              0.4444444444444444,
              "#bd3786"
             ],
             [
              0.5555555555555556,
              "#d8576b"
             ],
             [
              0.6666666666666666,
              "#ed7953"
             ],
             [
              0.7777777777777778,
              "#fb9f3a"
             ],
             [
              0.8888888888888888,
              "#fdca26"
             ],
             [
              1,
              "#f0f921"
             ]
            ],
            "type": "heatmap"
           }
          ],
          "histogram": [
           {
            "marker": {
             "pattern": {
              "fillmode": "overlay",
              "size": 10,
              "solidity": 0.2
             }
            },
            "type": "histogram"
           }
          ],
          "histogram2d": [
           {
            "colorbar": {
             "outlinewidth": 0,
             "ticks": ""
            },
            "colorscale": [
             [
              0,
              "#0d0887"
             ],
             [
              0.1111111111111111,
              "#46039f"
             ],
             [
              0.2222222222222222,
              "#7201a8"
             ],
             [
              0.3333333333333333,
              "#9c179e"
             ],
             [
              0.4444444444444444,
              "#bd3786"
             ],
             [
              0.5555555555555556,
              "#d8576b"
             ],
             [
              0.6666666666666666,
              "#ed7953"
             ],
             [
              0.7777777777777778,
              "#fb9f3a"
             ],
             [
              0.8888888888888888,
              "#fdca26"
             ],
             [
              1,
              "#f0f921"
             ]
            ],
            "type": "histogram2d"
           }
          ],
          "histogram2dcontour": [
           {
            "colorbar": {
             "outlinewidth": 0,
             "ticks": ""
            },
            "colorscale": [
             [
              0,
              "#0d0887"
             ],
             [
              0.1111111111111111,
              "#46039f"
             ],
             [
              0.2222222222222222,
              "#7201a8"
             ],
             [
              0.3333333333333333,
              "#9c179e"
             ],
             [
              0.4444444444444444,
              "#bd3786"
             ],
             [
              0.5555555555555556,
              "#d8576b"
             ],
             [
              0.6666666666666666,
              "#ed7953"
             ],
             [
              0.7777777777777778,
              "#fb9f3a"
             ],
             [
              0.8888888888888888,
              "#fdca26"
             ],
             [
              1,
              "#f0f921"
             ]
            ],
            "type": "histogram2dcontour"
           }
          ],
          "mesh3d": [
           {
            "colorbar": {
             "outlinewidth": 0,
             "ticks": ""
            },
            "type": "mesh3d"
           }
          ],
          "parcoords": [
           {
            "line": {
             "colorbar": {
              "outlinewidth": 0,
              "ticks": ""
             }
            },
            "type": "parcoords"
           }
          ],
          "pie": [
           {
            "automargin": true,
            "type": "pie"
           }
          ],
          "scatter": [
           {
            "fillpattern": {
             "fillmode": "overlay",
             "size": 10,
             "solidity": 0.2
            },
            "type": "scatter"
           }
          ],
          "scatter3d": [
           {
            "line": {
             "colorbar": {
              "outlinewidth": 0,
              "ticks": ""
             }
            },
            "marker": {
             "colorbar": {
              "outlinewidth": 0,
              "ticks": ""
             }
            },
            "type": "scatter3d"
           }
          ],
          "scattercarpet": [
           {
            "marker": {
             "colorbar": {
              "outlinewidth": 0,
              "ticks": ""
             }
            },
            "type": "scattercarpet"
           }
          ],
          "scattergeo": [
           {
            "marker": {
             "colorbar": {
              "outlinewidth": 0,
              "ticks": ""
             }
            },
            "type": "scattergeo"
           }
          ],
          "scattergl": [
           {
            "marker": {
             "colorbar": {
              "outlinewidth": 0,
              "ticks": ""
             }
            },
            "type": "scattergl"
           }
          ],
          "scattermap": [
           {
            "marker": {
             "colorbar": {
              "outlinewidth": 0,
              "ticks": ""
             }
            },
            "type": "scattermap"
           }
          ],
          "scattermapbox": [
           {
            "marker": {
             "colorbar": {
              "outlinewidth": 0,
              "ticks": ""
             }
            },
            "type": "scattermapbox"
           }
          ],
          "scatterpolar": [
           {
            "marker": {
             "colorbar": {
              "outlinewidth": 0,
              "ticks": ""
             }
            },
            "type": "scatterpolar"
           }
          ],
          "scatterpolargl": [
           {
            "marker": {
             "colorbar": {
              "outlinewidth": 0,
              "ticks": ""
             }
            },
            "type": "scatterpolargl"
           }
          ],
          "scatterternary": [
           {
            "marker": {
             "colorbar": {
              "outlinewidth": 0,
              "ticks": ""
             }
            },
            "type": "scatterternary"
           }
          ],
          "surface": [
           {
            "colorbar": {
             "outlinewidth": 0,
             "ticks": ""
            },
            "colorscale": [
             [
              0,
              "#0d0887"
             ],
             [
              0.1111111111111111,
              "#46039f"
             ],
             [
              0.2222222222222222,
              "#7201a8"
             ],
             [
              0.3333333333333333,
              "#9c179e"
             ],
             [
              0.4444444444444444,
              "#bd3786"
             ],
             [
              0.5555555555555556,
              "#d8576b"
             ],
             [
              0.6666666666666666,
              "#ed7953"
             ],
             [
              0.7777777777777778,
              "#fb9f3a"
             ],
             [
              0.8888888888888888,
              "#fdca26"
             ],
             [
              1,
              "#f0f921"
             ]
            ],
            "type": "surface"
           }
          ],
          "table": [
           {
            "cells": {
             "fill": {
              "color": "#EBF0F8"
             },
             "line": {
              "color": "white"
             }
            },
            "header": {
             "fill": {
              "color": "#C8D4E3"
             },
             "line": {
              "color": "white"
             }
            },
            "type": "table"
           }
          ]
         },
         "layout": {
          "annotationdefaults": {
           "arrowcolor": "#2a3f5f",
           "arrowhead": 0,
           "arrowwidth": 1
          },
          "autotypenumbers": "strict",
          "coloraxis": {
           "colorbar": {
            "outlinewidth": 0,
            "ticks": ""
           }
          },
          "colorscale": {
           "diverging": [
            [
             0,
             "#8e0152"
            ],
            [
             0.1,
             "#c51b7d"
            ],
            [
             0.2,
             "#de77ae"
            ],
            [
             0.3,
             "#f1b6da"
            ],
            [
             0.4,
             "#fde0ef"
            ],
            [
             0.5,
             "#f7f7f7"
            ],
            [
             0.6,
             "#e6f5d0"
            ],
            [
             0.7,
             "#b8e186"
            ],
            [
             0.8,
             "#7fbc41"
            ],
            [
             0.9,
             "#4d9221"
            ],
            [
             1,
             "#276419"
            ]
           ],
           "sequential": [
            [
             0,
             "#0d0887"
            ],
            [
             0.1111111111111111,
             "#46039f"
            ],
            [
             0.2222222222222222,
             "#7201a8"
            ],
            [
             0.3333333333333333,
             "#9c179e"
            ],
            [
             0.4444444444444444,
             "#bd3786"
            ],
            [
             0.5555555555555556,
             "#d8576b"
            ],
            [
             0.6666666666666666,
             "#ed7953"
            ],
            [
             0.7777777777777778,
             "#fb9f3a"
            ],
            [
             0.8888888888888888,
             "#fdca26"
            ],
            [
             1,
             "#f0f921"
            ]
           ],
           "sequentialminus": [
            [
             0,
             "#0d0887"
            ],
            [
             0.1111111111111111,
             "#46039f"
            ],
            [
             0.2222222222222222,
             "#7201a8"
            ],
            [
             0.3333333333333333,
             "#9c179e"
            ],
            [
             0.4444444444444444,
             "#bd3786"
            ],
            [
             0.5555555555555556,
             "#d8576b"
            ],
            [
             0.6666666666666666,
             "#ed7953"
            ],
            [
             0.7777777777777778,
             "#fb9f3a"
            ],
            [
             0.8888888888888888,
             "#fdca26"
            ],
            [
             1,
             "#f0f921"
            ]
           ]
          },
          "colorway": [
           "#636efa",
           "#EF553B",
           "#00cc96",
           "#ab63fa",
           "#FFA15A",
           "#19d3f3",
           "#FF6692",
           "#B6E880",
           "#FF97FF",
           "#FECB52"
          ],
          "font": {
           "color": "#2a3f5f"
          },
          "geo": {
           "bgcolor": "white",
           "lakecolor": "white",
           "landcolor": "#E5ECF6",
           "showlakes": true,
           "showland": true,
           "subunitcolor": "white"
          },
          "hoverlabel": {
           "align": "left"
          },
          "hovermode": "closest",
          "mapbox": {
           "style": "light"
          },
          "paper_bgcolor": "white",
          "plot_bgcolor": "#E5ECF6",
          "polar": {
           "angularaxis": {
            "gridcolor": "white",
            "linecolor": "white",
            "ticks": ""
           },
           "bgcolor": "#E5ECF6",
           "radialaxis": {
            "gridcolor": "white",
            "linecolor": "white",
            "ticks": ""
           }
          },
          "scene": {
           "xaxis": {
            "backgroundcolor": "#E5ECF6",
            "gridcolor": "white",
            "gridwidth": 2,
            "linecolor": "white",
            "showbackground": true,
            "ticks": "",
            "zerolinecolor": "white"
           },
           "yaxis": {
            "backgroundcolor": "#E5ECF6",
            "gridcolor": "white",
            "gridwidth": 2,
            "linecolor": "white",
            "showbackground": true,
            "ticks": "",
            "zerolinecolor": "white"
           },
           "zaxis": {
            "backgroundcolor": "#E5ECF6",
            "gridcolor": "white",
            "gridwidth": 2,
            "linecolor": "white",
            "showbackground": true,
            "ticks": "",
            "zerolinecolor": "white"
           }
          },
          "shapedefaults": {
           "line": {
            "color": "#2a3f5f"
           }
          },
          "ternary": {
           "aaxis": {
            "gridcolor": "white",
            "linecolor": "white",
            "ticks": ""
           },
           "baxis": {
            "gridcolor": "white",
            "linecolor": "white",
            "ticks": ""
           },
           "bgcolor": "#E5ECF6",
           "caxis": {
            "gridcolor": "white",
            "linecolor": "white",
            "ticks": ""
           }
          },
          "title": {
           "x": 0.05
          },
          "xaxis": {
           "automargin": true,
           "gridcolor": "white",
           "linecolor": "white",
           "ticks": "",
           "title": {
            "standoff": 15
           },
           "zerolinecolor": "white",
           "zerolinewidth": 2
          },
          "yaxis": {
           "automargin": true,
           "gridcolor": "white",
           "linecolor": "white",
           "ticks": "",
           "title": {
            "standoff": 15
           },
           "zerolinecolor": "white",
           "zerolinewidth": 2
          }
         }
        }
       }
      }
     },
     "metadata": {},
     "output_type": "display_data"
    }
   ],
   "source": [
    "df = df_var\n",
    "hue_label = \"process\"\n",
    "df[hue_label] = df[hue_label].astype(\"category\")\n",
    "fig = px.scatter_3d(df, x='PC1', y='PC2', z='PC3', color=hue_label)\n",
    "fig.show()"
   ]
  },
  {
   "cell_type": "code",
   "execution_count": 58,
   "id": "dcddd315",
   "metadata": {},
   "outputs": [
    {
     "data": {
      "application/vnd.plotly.v1+json": {
       "config": {
        "plotlyServerURL": "https://plot.ly"
       },
       "data": [
        {
         "hovertemplate": "process=las<br>PC1=%{x}<br>PC2=%{y}<extra></extra>",
         "legendgroup": "las",
         "marker": {
          "color": "#636efa",
          "size": 12,
          "symbol": "circle"
         },
         "mode": "markers",
         "name": "las",
         "orientation": "v",
         "showlegend": true,
         "type": "scatter",
         "x": {
          "bdata": "FLu+r5sRo7+w++WwhVrZv3uG8DaKHN6/Cke5G+s+3b9OvZH0ULnbvxo4lFcXj9u/W+gI6TUN3b/yCeGbhavbvw==",
          "dtype": "f8"
         },
         "xaxis": "x",
         "y": {
          "bdata": "DIYTlSkOsb9UP7Q1LbPFv+2UkB+6rJM/l07noLIElj8XTOaN96q6PwzNilVVkLw/Q8CaeszqND8kDVaJOCa5Pw==",
          "dtype": "f8"
         },
         "yaxis": "y"
        },
        {
         "hovertemplate": "process=gal<br>PC1=%{x}<br>PC2=%{y}<extra></extra>",
         "legendgroup": "gal",
         "marker": {
          "color": "#EF553B",
          "size": 12,
          "symbol": "circle"
         },
         "mode": "markers",
         "name": "gal",
         "orientation": "v",
         "showlegend": true,
         "type": "scatter",
         "x": {
          "bdata": "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",
          "dtype": "f8"
         },
         "xaxis": "x",
         "y": {
          "bdata": "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",
          "dtype": "f8"
         },
         "yaxis": "y"
        },
        {
         "hovertemplate": "process=mic<br>PC1=%{x}<br>PC2=%{y}<extra></extra>",
         "legendgroup": "mic",
         "marker": {
          "color": "#00cc96",
          "size": 12,
          "symbol": "circle"
         },
         "mode": "markers",
         "name": "mic",
         "orientation": "v",
         "showlegend": true,
         "type": "scatter",
         "x": {
          "bdata": "TwC3twbx779iGWFiqA3rP1BXLnbC6+o/uH9RIqHQ6j8Rd+k3DlPqP5p3TyJCHus/pVIdDMvS6j/OC0doNOPqP4FKlSSFJ+s/Rbpz8ks46z+LxD7xW5zqP8Jju+BkhOo/lFuNtp8g6z9G/iXUFqrpP8Q5NyL0v+k/bR2WsLvA6T9YkbQq6lbIv+BEliDZ/+k/2pl4yrd+6j+hwXX2Ca3pP4DO1sgjveo/nEIlavLd6T8cQjEVsOXpPwJnOHcC5Ok/eQxNa7Rn6j+i7VSjy0vrP57Rnm627Oo/aPvQzY5b6z/ddD985ofqP6U2lk4MI+s/TLuYPFh+6j/cVkbHSfHqP6lz5k9uL+s/YQBgOo0C6z8=",
          "dtype": "f8"
         },
         "xaxis": "x",
         "y": {
          "bdata": "0XDhZf5Kmr8UZXt+C0fBP1n8txo3mcA/yaocJti9wj/jjy6j0MfCv0igeXHbGbo/ah/lvW80v7/UM8rjoObAP+zLUfgxv7M/brGVtWtowj8qQTfLnPnLP2RHSdhpMcw/ZG549f27s79dUleBWKvSP/6PPHzqTtI/B8/X80M/0j9HlMwDQ6XnvzFH+d9339A/1l3WpBRSzT9zCUqFAjjSP4Co3n05GLq/UQ7d8lCO0T9wbK0Ou3vRP1NL1QEsjdE/e090cMpJwb/f4hDVzP7CP17gsUiqeco/TgX7E1IqwD8vF1TWdGPAvwosSH9AULm/aAIkorjYwb+93TKn30i8v5TjO9MIgqq/2hMXqrAEvT8=",
          "dtype": "f8"
         },
         "yaxis": "y"
        },
        {
         "hovertemplate": "process=mul<br>PC1=%{x}<br>PC2=%{y}<extra></extra>",
         "legendgroup": "mul",
         "marker": {
          "color": "#ab63fa",
          "size": 12,
          "symbol": "circle"
         },
         "mode": "markers",
         "name": "mul",
         "orientation": "v",
         "showlegend": true,
         "type": "scatter",
         "x": {
          "bdata": "9/K+mDXQ6T/EgTcSnbvqP35bimk4xeo/fF5Hu0Lb6T9TbGYtH7XrPyCkgSV5YOw/m7T5+UNk7D/Z1l8x+UXsP3MpFIhhPus/R80Cz10o7D9ytQ+PDk3sP5hBCIjaFew/pic9BcYv7D8L7C/X9OjrP8OUwVr09cO/65v59d3kxL+xsXdUi13EvyMa17h5U8S/YfQNHH+77D9fdbhyPansP6DHDYzGLuw/y7ba5hgp6z/+nyVXnATsPzUs542UkOk/INpylWQM7D/FTeRJCujrP9YMUtnNWuw/HSGVqnuj6z89LtB1To/rP0dVynXds+s/huknAOpm6z9RVZ5eEcPrP1e13t4pqOs/CaTAI3tu6z9OMrKZdA7sPzQLmxZ8Yes/y40p/rJt6z8G2+C1CNXqP+Qgyla5Reo/SvXLSVNw7D9aXQ50x73rPyZu53D6lew/VVz4o/LF6T8NGHvZtCPsPzPbS626Tus/YK2iq4BV6j+ghd7djCLqP1bbnRITIOw/jB0jq8TI6z/1ygxgUtTrP6vTvsSeBes/T+OOd41r7D+5IzFCJynsP/HXkpXYz+k/xeUO2X/06T8i5xOHc3/pP1CJMBu4Qes/wJP5mhDo6T+30jOOvgjqP/6+6LCwZOk/LRefwiDh6j8xZ22pddToPzp6yscN9Ok/yyj+aHv06D+7m61h6UTrP4ZpdFKBcuk/+ogYn02S6j8PocjDjzvpP84HMa2fdOs/JewoUpJ07D8QRbAKFTbsP2uSl9AJvOs/R+EuTmOr6z+CWiMzr8fqP09zBSx4dus/kkerKdWp7D8Cc059Zq/rP5CLDHpM6+g/oUZ43rpL6T8jirmKlqHoP25ErXMEIus/kyhRGXP86D9YbzD4WSzqPwlixsDm9+g/i+7JFZ/e6z+7vOMeYVXpP5im4lgVjuk/r7AbTfzP6D9vSI4zJF7Dv7gwgFs6vuk/0H0Xjpez6T+TC3pO+MPpPxqZQgfSGes/GAYGOo/i6j8SRZKS/0/sP3D/M8MEjOk/X6KqOIeg6j8rJTBiLR/pPx5Pa/pNq+k/nwxdsYhj6T9UnW5q8mjrP8r2tcAgHuo/aAjRd0RY6j/v/j1SEt7pP9J2CZRJiOs/dD7l2oOQ6D9AIpAz6IDpPyOW1/yB4ug/l7lDxk1d6z8=",
          "dtype": "f8"
         },
         "xaxis": "x",
         "y": {
          "bdata": "ysE4HQIC0j8zK7R/1PXRP/jxTE4e4sw/bO6GzTKb0j/c95VPfFXRv7iXoQWSz8S/0eUr9HWyxb+2iBu/p43EvzthgimJ89K/AnmaFH69yL8wDsSkI2LGv3/STrIHosm/wzreqCACnr9F12MeZL7Qv53+lkQ5Y+e/SiAq1uKV57/GVbix8Hbnv3ZznzmZjue/BD/rxduAtb+YTxJfUsmSvyXezF0FLsW/+yZCNyOP078OOof7uYC7Px0hdUth/tQ/rmk2CQw4wD/ZYRqzrAq5P02w4IB+gcu/+U+Tqi4s0b8QIc4xDbPRvxIdVe59gNC/BTCvlIPF0r+5OecgQZ3Qv3/D8JavS9G/FoZFbsAS0b+nbjfjKXDOv0H92me9oNK/rUBSWpo707/7Y3pO5OHPP0R+YlQ1VdE/180Xy8oooT8MTd5IYF/RvyH8Je5soY+/q/d6kvi61D+h9JtcLyDOv2JPaks2OtO/IZw8K/uwzz9AkpxnB83SP3dHi6xddpo/ZCYLNaMe0b8H0Yu6NxfHP/9HxKVH7ss/hrbzzosTwT/+DHWIp4bNvxB5gzFOwtQ/DpFD0/uo0z/kuWL1v1PVPxMw+dMfPNK/R6v/iL1r0j9U2hqCqWDMP9I5nQa8T9M/FwzjcpUr0L+9833WQDDWP5n1R6RdVNM/zQ4yDzAD1j+fix8X57TSv0hWNQKm/NM/kkC8J2hc0D+9dtCoj8rUPxiGsBz2WtC/ivbsWnzQjb/t2S3IT4Wvvz2e8l31B82/Fkoy9QgVzb/uw+0XStTIP9YiTVaw1L8/zj82S0Z6or9UCqqgh2OyP+/uOo0pHtY/bafH7zi40j+OqWQzukbWP9yx/IJ2qtK/E+4wFqvX1D9KKjD+Q3/QP8sW+/eERtU/DncntoRU0L8TFpiNKXzVP+TJTIvODtQ/MtA41YM61j9hruUzK1Dnv5TQVSkOi9Q/lZYJ+ZNp0j97acdbAjbTP6bCac4X7dK/gZh0oM+QyT8RdyacGfOlPz73t8rpmdM/0znKUYZTwT+vD5kXxMfVPwTRW9Z9X9M/fQQRq+Ot1T9wKn1BqJ3Sv5TtJWs12tE/qc0hGpZuzD8GHvhaySrSP8roQVla5tC/DPf6twGD1j894dnhDR7TPzlhjJ4zO9Y/KAl0kRaj0r8=",
          "dtype": "f8"
         },
         "yaxis": "y"
        },
        {
         "hovertemplate": "process=pla<br>PC1=%{x}<br>PC2=%{y}<extra></extra>",
         "legendgroup": "pla",
         "marker": {
          "color": "#FFA15A",
          "size": 12,
          "symbol": "circle"
         },
         "mode": "markers",
         "name": "pla",
         "orientation": "v",
         "showlegend": true,
         "type": "scatter",
         "x": {
          "bdata": "kP9k8hfA6T/1sFi5OnDrP0lqY6o9i+k/gZ81LeML7D8Q5wBBFjPqP/3Mw+EhV+w/gifIgJrw6z82DCl9nxvsPykrQ+3KgOo/GN82lmQ16z+MyVi6LxnsP+rEq+BP9us//j+X6Kqi6z9yy5++/EvsP/Osip8tlOs/OCantJjX6z+U/qcd5UbrP2TMY5BdzOs/23i4Of696z/B15O3N+zrPyxc6T7Y9+o/JFqv+/8d7D88CRaCF+brP+adUHMLOuw/NRkM66D06z/z4FpVRfLrP2vyKgByCOk/Qrl6sVBR6j+NXjo+t2vpP+bsi0YYXOk/7ECkvgn76D/pYpR+AFfqP/OCo+8r9es/b1rylSwN7D/I/qPvdM7rP0V0LLaKF+w/S1tXDWLQ6z9Wmv3TipDqP5X6cKCZJ+w/9xxmxQki7D/Ru9JBrPrrP8dohlBWD+w/LeAjbncf6z98BiiAMaXrP/00HlvrFes/E/PGoMGx6z9Oc0eOnxXrP0ZsNqd/s+s/3S11siUR6z9xKzjlDxnrP689GptHK+s/En899Les6z9eFq4uRS/rPxqUeTWYN+s/oCw3A3H66j+tQaJKt0DrPw==",
          "dtype": "f8"
         },
         "xaxis": "x",
         "y": {
          "bdata": "zDAeJiSG0j++TAtcDUmuP3BXcDg0CtM/X6gv5PdkcL/agVf3tODDv7PX+gVs1mG/L/5mN21/bz+OTQ/uA7B2P7A5opeHFMG//kDZLQvlwb/6WXIBVEmdP0cShAVuMZi/fotNW27ndL9ygOd/k+Ntv+y9Vvyz33O/mkiD9ePXhb+G7Bu9x1mnvxZ0TWugZY6/8rUg7MJycb9K+VdCrrCIv0Q4JJj7U5m/0l+o8FvoqD/C7la6X7OvP3lZS5Wk2qU/QFx8wfXgoD9yuCv65o+bP4k8Kgk2l9I/xvlM5pqwwb8mSY9c/bHDv4WC6MG0kdA/FmtRzfzD0j8a4Zwt+QzCv+fpAn/TAKg/WNi2zJZ9pD/wXDiVxiWiP2SWeq+JXag/8G/MDWfarT/cDyVHxjikP3lSB1TUNqw/ijliUVTppD/4EY/HtsCoPyNk9qatHaQ/FQxQvAiQrb+eYDYF82ijv/GcETUpLK6/i/njoAsip79j0CxLiz6svyRLRRDV46K/iZbBqJhAq78VvGUrCpq3vyy5KLjLFa2/1iYxoIccpL92GvFgk8Gsv3oWFMEVDcg/wOVoIBmxrr+vujMtQhTAPw==",
          "dtype": "f8"
         },
         "yaxis": "y"
        },
        {
         "hovertemplate": "process=del<br>PC1=%{x}<br>PC2=%{y}<extra></extra>",
         "legendgroup": "del",
         "marker": {
          "color": "#19d3f3",
          "size": 12,
          "symbol": "circle"
         },
         "mode": "markers",
         "name": "del",
         "orientation": "v",
         "showlegend": true,
         "type": "scatter",
         "x": {
          "bdata": "y4E3BHzf6j8=",
          "dtype": "f8"
         },
         "xaxis": "x",
         "y": {
          "bdata": "SK9GY+uQwL8=",
          "dtype": "f8"
         },
         "yaxis": "y"
        },
        {
         "hovertemplate": "process=las<br>PC1=%{x}<br>PC2=%{y}<extra></extra>",
         "legendgroup": "las",
         "marker": {
          "color": "#636efa",
          "size": 12,
          "symbol": "circle"
         },
         "mode": "markers",
         "name": "las",
         "orientation": "v",
         "showlegend": true,
         "type": "scatter",
         "x": {
          "bdata": "//z7+mv+pr/zbFi/mMjhP9d10MxXxeM/sBw/ZEbg4z9MB7ugF7HhPxsskHxLpeE/MgFnuu2k4z8VFcu8fybiPw==",
          "dtype": "f8"
         },
         "xaxis": "x2",
         "y": {
          "bdata": "KNmgDpEdpT9yp6Ed62nCv5IAeT1UO9e/iPQcV5Ix07+F/rTqqGzYv4fo9iYrGtm/R0q7cCP8078Fv4Amxknavw==",
          "dtype": "f8"
         },
         "yaxis": "y2"
        },
        {
         "hovertemplate": "process=gal<br>PC1=%{x}<br>PC2=%{y}<extra></extra>",
         "legendgroup": "gal",
         "marker": {
          "color": "#EF553B",
          "size": 12,
          "symbol": "circle"
         },
         "mode": "markers",
         "name": "gal",
         "orientation": "v",
         "showlegend": true,
         "type": "scatter",
         "x": {
          "bdata": "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",
          "dtype": "f8"
         },
         "xaxis": "x2",
         "y": {
          "bdata": "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",
          "dtype": "f8"
         },
         "yaxis": "y2"
        },
        {
         "hovertemplate": "process=mic<br>PC1=%{x}<br>PC2=%{y}<extra></extra>",
         "legendgroup": "mic",
         "marker": {
          "color": "#00cc96",
          "size": 12,
          "symbol": "circle"
         },
         "mode": "markers",
         "name": "mic",
         "orientation": "v",
         "showlegend": true,
         "type": "scatter",
         "x": {
          "bdata": "4/HdFN8D6j8X36ukFszjv5W7xTXRteS/ladcCRBh4793h4+iQnjmvxgGpoO8Fum//EkzXPtp5r8SYscEGAXjv8uCNoHG+uO/+2KbMS2g4r+Fe0TWqTbivxzIo55h+dm/P0fXcL5H6b9rBzJjkRXavwKaLUkkFNm/tmAjZ0wO2b+o8WYGXFvhv/hqf6yWLdq/NWxIAIJv3L9aKVlPxUDZv6BbFI4OD+i/zKd81S0B27/hl6mT1svav0K0mfbMvdy/KRKOoPma57/giZq2Ljrlv8WT9xEA/OO/rY8CYcC+5r9sqmodnXbnv6pwN/eWVee/mmz03CmZ578+QPQ0Xnfnv/nnWOay/ui/gxVyqT6N5b8=",
          "dtype": "f8"
         },
         "xaxis": "x2",
         "y": {
          "bdata": "MDFdZjpVyD9CXq8CiR3Sv0z4qtMvXc6/Yscj/N8J0L9XLxwEGP/HPwbS8v0+jbK/PtaF75Chyj9TCOZhc0rRvy9so/Wqc8y/8L/7bV8T0r+mHvnrjTDUv4dlKgaCRta/hm/qu29/xD/+RiSwSuDav73OPczjUNi/HtCx9NJa2L8OLDdX9eTlP2D5iAXYc9i/VnlYLG7y1b9rLfaqjJ7Zv4G0ZAMNacQ/BIFEHGM52L+hDnBrudTXvxpiJ52b4di/Wcc7urX5xj+wxrSHlcrPv7PdnSls9NC/2BWTKs+Rx7/FJ2xN967HP03Ht42118k/4D8hPh6Sxj8hfruRyjXJP88hu+iEP8I/b1aHaaW4ur8=",
          "dtype": "f8"
         },
         "yaxis": "y2"
        },
        {
         "hovertemplate": "process=mul<br>PC1=%{x}<br>PC2=%{y}<extra></extra>",
         "legendgroup": "mul",
         "marker": {
          "color": "#ab63fa",
          "size": 12,
          "symbol": "circle"
         },
         "mode": "markers",
         "name": "mul",
         "orientation": "v",
         "showlegend": true,
         "type": "scatter",
         "x": {
          "bdata": "BJszvNK13L9tYLAzwx2rv4qaQzDAtde/1TlaW+Ssvr9qe+fDAkblv7OJm/MhJ+K/kZ13A4T94b8v4twbwgriv2b495qsDOe/5dnuEnw+4b/68+mUgUnhv+zO2d25ZuG/VUkbLE7E4b+f4fTKIkHmv9mqqkO2MuK/tPkT7t0Y4L9Qon9v6CXiv/+GckLkIeK/0UtxnAks4b8NtXgB0/zYv/GOOAltveW/Q377Kr4c578uHvGH+gnYv1aX9RgqpWI/v2UJdrbyzr8Npf6cjVXbv2YNEBrGkui/eyxfIF2C57/JuYv2rgzov6j40EnJxue/A1Fox3vV5797zUQDMSDov8HlKl1ihui/TzDCt4Ae578dJMW8ZIbnv1Zqed8jtue/F4HTKSuE57/65xW7oeXNv3bUH4xrcsm/ZAmTF5/G2b8BOL9e6Uflv53tfoZKk+G/3cF4H6Qagz8wVIK34YXnvzbAd58RqOe/khF0P0s5zr9OpRsbPbLIv7OnkGMlqtu/S3QQxcll5b8JFaIEeknUv43oxpYYJ8q/4NAY9GP+1r/JoTXGfzjkv28VdNxkv1S/ohvFjkBcVb8o/aH7uO2rv8Hk+8BM7ee/2dXYIy2pyb8lg8flku/WvwQZt+vGH7+/x0P5EsOV47+jMXMM84urvxGtbIUt6I6/ciYkW+IFr7/Vne5ovfvnv67Q9slhqMa/wNc4ZHyJ1b/gGAhyPoC+v7CAl3rwEOO/OAvx85Ju3b8Vau8e6pHWv0G/8bgEy+W/kqD333V+6L9I2dX5s3HRv9e/M4QfVdG/PXYnH/8G47/3DLFkIH7gv33wmZUfXay/0VZEriZeRr8DLsQemGmpv8N0jiE/9ee/vWF700Q2w78iFiyx937Qv7iGkOvX9rO/EIxh42Uu5b8AY0SRn62pv1sx+kfVYmi/wKIokOJBq7/NYNpJcyXiv9qMpOYF77u/9Yj5t1+Iw799w21G7Xi6v1BE6hiMBua/ob/7ho7XxL8otkfCgEXUv5qVuhqWqb2/q3y4Zm8Z2L9XrgnB3EOov0BI55rudWG/GerBw9BfqL+lyXwRIwTov/wkUp0tyMW/wwZV1Uxi07+QTwl8UNDAv2BW4w+FGOW/oOyFJIoZq787GrVxS12Dv1TlwnbDcqm/sJyDMU/2578=",
          "dtype": "f8"
         },
         "xaxis": "x2",
         "y": {
          "bdata": "jx88w7Au1b8Ry48NmuzmvxCGQP9a8uS/AC6sKV5U6L+PIBhJ2I+SPzT13cGrWsw/Un7NxeUgzT9YhCdzHgHLP/4fZTLAZLQ/zY9PnirvyD97SDgYS77QP7hYZeinp84/dYqcip8L0L+3fiIkquGSP8+2mrnDCOM/JbARqq2A5D/DTt/7CUvjPzr/WSaTTOM/jTAu5RP7yr8AUxPwoY7Vv821m898YLK/COW2KNlurT9DgcFG58Dev6kvj8SVE+i/1LNDDp0K4r/H+2PH6RDdv9WZ379Wsbg/+k2/pA6+qL+J52YlZ62RP6vZ7hy37KI/Q8+DNlZTsz99cPepeZWRP9z3NRCS2YE/U6+YI9h3kL8h36f+EOS9P812lN7GdLM/k2kPE9rbtz9SelaQ0Hblv7A+i/C2xuS/jCAsU3iu279kvqr8DZGKPxn6Lr2sAdC/kjBOXnIH6L+flCLUajC6Pzi3qMFdMbc/QUNv1e/+5b9VorhLwNLkv9WGuUVqhte/igPUdeSoij/9E2DXdRDkv36zxmSIaua/zvGLqSlU4r/DiIVLGNyyP8WMRpU22ue/PnBL8Doz5r+IX35dyD3ovxk0Nfu9j7I/97+HIW2Y578BSn2VEV/jv+mwRNAz4ue/fw0rKrRNoT8G9aUln0novyNzuTEG1uW/0nI+6ycj6L9yo5YheCKzP3jGN8PPLei/RlPv/wbl5L85lu2rRkrovxXi1L4taZs/UeG1FeBE2r9BKicGAcPVvy9TMulJhK+/IuXiSzM1oT8HVNMe86Llv7rZt42kduO/NTaPZAFh1b/dDMZQTTPYvxsrfEGlTOi/PpIcPctO5r/7tQpaa1nov03eedXNo7I/3Z0VQD6U6L96JdHbz5Lkv+QIMBSGZei/L2Jem6s7jz+64wcwWoDov8MxXzTKo+e/Tm6AAP4W6L+Ov59iQfPiPyejxVGRdOi/C+OBfvBH5r+FEqDPAOfnv7sMpB2YfKg/kqeBfDMF5b+JdPMhINjfv0rrOh+OEee/AZ7809bl4b9RItG0sTXovxEebzNbO+a/B+GFO4dy6L+A6D5sdxizP/XrucNa6Oa/P01rbTnZ5L8JoDmkbVnmv51V5cL1up8/aBz9MZws6L+gZzNhLRXmvyiIE/X2Tui/5tLJ0tC9sT8=",
          "dtype": "f8"
         },
         "yaxis": "y2"
        },
        {
         "hovertemplate": "process=pla<br>PC1=%{x}<br>PC2=%{y}<extra></extra>",
         "legendgroup": "pla",
         "marker": {
          "color": "#FFA15A",
          "size": 12,
          "symbol": "circle"
         },
         "mode": "markers",
         "name": "pla",
         "orientation": "v",
         "showlegend": true,
         "type": "scatter",
         "x": {
          "bdata": "ktuU9JbeyL+E+GaLJ1Tlv7zdw3HBEua/9nlV9jZz6b/jW4ufbpbqv4trC85cIem/LcNON7J46b8AzWCqSrjov27ZWzE0Jum/WFcj3UiB6r8DxU5e+cPov4RxH4p4Ieq/4GnMaWTY6b/lE2ZEYx7pv+W1Ic9anum/dYJptDiH6b8V49D8VNrqv6/XzkC8WOm/1WUioK9w6b/m9gWl7Ebpv6dsshaTo+i/DFzHYKJH6r8DYQTRyxTqv9H/DyZk7Oq/8X+g71AE6r/EnqvngyPqv1Z9o6Qsttm/VnBmvStN678WcVq+e97qv92A+jjxWtq/GBEBrl6/2b9LQNI9vh3rvxfeGWXdzem/sCkmpAEE6r+GkeK5Usbpv6G0MfEXR+q/oj2l6mvI6b8qNRgZgfbpv2+ipkHP3em/s0+XCLXp6b+44hpqxMrpv8UFdLYJ+em/J1tyOfFG579uHBQlXXznv2M8EcY/Sue/FyMauYiD578kgKwk/jnnv8P6t+IOL+e/fG4A36NA579mcvPOVhTpv4rUjhAJPee/eCAnbole579/SvZGJVTnv4soKYuXf+C//usH4YJI578YA8Ocbmnovw==",
          "dtype": "f8"
         },
         "xaxis": "x2",
         "y": {
          "bdata": "M29AbHEy6L+q/7x6JkaqPxbMq5Hhpbm/F+eQ76aItz+DAzz1idTHP4zNtRbRHrM/7Zzz36bGrD+OPIWHWRWvP9N4kbWxT8Y/MOMclTbexT/DAAS2Srl8P7/N+JqOJcE/OMAx0Cq3rD9sue4cWIK0P9g/h3WYuK0/WhiPHL9btD9k0dEjM5C/P98qhPSln7Q/tNcAPG0FsD+RNdWr+Ky4P+dou43wKaY/Gscw56cMwT8Sn2Gv7pC/PwJy2KXsI68/XFFZuMG2xD/xzO10MynEP6UcQlD5Vs+/p5G3lclAxj9EOf85qZjEP97JNt48DtG/kg9nesMQ0L9D8iG209LFPyWeLXy9/sM/DlrACm56wj8U0kDwyxLEP/1jHbrWtsA/G0qGq564wj/J9JrwNcrCP3RelL34AcQ/6qcE9/Tvwj+UTa3dB/bDPyTzbctLB8M/tTpd7SceuT/+lJRmbDG3P10wocpombg/4WkcJUT1uT9rQY3iWOK5PzOfq6i06rg/1Smme2zmuT8F0HcM8d7GPwtgvJvAlrw/7KfZyQHstz/Y6e8odTq5P4g+iK/JC72/GXIx3f8CuT9utgK6kn61vw==",
          "dtype": "f8"
         },
         "yaxis": "y2"
        },
        {
         "hovertemplate": "process=del<br>PC1=%{x}<br>PC2=%{y}<extra></extra>",
         "legendgroup": "del",
         "marker": {
          "color": "#19d3f3",
          "size": 12,
          "symbol": "circle"
         },
         "mode": "markers",
         "name": "del",
         "orientation": "v",
         "showlegend": true,
         "type": "scatter",
         "x": {
          "bdata": "FmQwdPPz6b8=",
          "dtype": "f8"
         },
         "xaxis": "x2",
         "y": {
          "bdata": "1Wwp8+eDyj8=",
          "dtype": "f8"
         },
         "yaxis": "y2"
        }
       ],
       "layout": {
        "annotations": [
         {
          "font": {
           "size": 16
          },
          "showarrow": false,
          "text": "Initialization",
          "x": 0.225,
          "xanchor": "center",
          "xref": "paper",
          "y": 1,
          "yanchor": "bottom",
          "yref": "paper"
         },
         {
          "font": {
           "size": 16
          },
          "showarrow": false,
          "text": "Trained",
          "x": 0.775,
          "xanchor": "center",
          "xref": "paper",
          "y": 1,
          "yanchor": "bottom",
          "yref": "paper"
         }
        ],
        "height": 450,
        "legend": {
         "title": {
          "text": "Group"
         }
        },
        "margin": {
         "b": 40,
         "l": 60,
         "r": 30,
         "t": 60
        },
        "template": {
         "data": {
          "bar": [
           {
            "error_x": {
             "color": "#2a3f5f"
            },
            "error_y": {
             "color": "#2a3f5f"
            },
            "marker": {
             "line": {
              "color": "white",
              "width": 0.5
             },
             "pattern": {
              "fillmode": "overlay",
              "size": 10,
              "solidity": 0.2
             }
            },
            "type": "bar"
           }
          ],
          "barpolar": [
           {
            "marker": {
             "line": {
              "color": "white",
              "width": 0.5
             },
             "pattern": {
              "fillmode": "overlay",
              "size": 10,
              "solidity": 0.2
             }
            },
            "type": "barpolar"
           }
          ],
          "carpet": [
           {
            "aaxis": {
             "endlinecolor": "#2a3f5f",
             "gridcolor": "#C8D4E3",
             "linecolor": "#C8D4E3",
             "minorgridcolor": "#C8D4E3",
             "startlinecolor": "#2a3f5f"
            },
            "baxis": {
             "endlinecolor": "#2a3f5f",
             "gridcolor": "#C8D4E3",
             "linecolor": "#C8D4E3",
             "minorgridcolor": "#C8D4E3",
             "startlinecolor": "#2a3f5f"
            },
            "type": "carpet"
           }
          ],
          "choropleth": [
           {
            "colorbar": {
             "outlinewidth": 0,
             "ticks": ""
            },
            "type": "choropleth"
           }
          ],
          "contour": [
           {
            "colorbar": {
             "outlinewidth": 0,
             "ticks": ""
            },
            "colorscale": [
             [
              0,
              "#0d0887"
             ],
             [
              0.1111111111111111,
              "#46039f"
             ],
             [
              0.2222222222222222,
              "#7201a8"
             ],
             [
              0.3333333333333333,
              "#9c179e"
             ],
             [
              0.4444444444444444,
              "#bd3786"
             ],
             [
              0.5555555555555556,
              "#d8576b"
             ],
             [
              0.6666666666666666,
              "#ed7953"
             ],
             [
              0.7777777777777778,
              "#fb9f3a"
             ],
             [
              0.8888888888888888,
              "#fdca26"
             ],
             [
              1,
              "#f0f921"
             ]
            ],
            "type": "contour"
           }
          ],
          "contourcarpet": [
           {
            "colorbar": {
             "outlinewidth": 0,
             "ticks": ""
            },
            "type": "contourcarpet"
           }
          ],
          "heatmap": [
           {
            "colorbar": {
             "outlinewidth": 0,
             "ticks": ""
            },
            "colorscale": [
             [
              0,
              "#0d0887"
             ],
             [
              0.1111111111111111,
              "#46039f"
             ],
             [
              0.2222222222222222,
              "#7201a8"
             ],
             [
              0.3333333333333333,
              "#9c179e"
             ],
             [
              0.4444444444444444,
              "#bd3786"
             ],
             [
              0.5555555555555556,
              "#d8576b"
             ],
             [
              0.6666666666666666,
              "#ed7953"
             ],
             [
              0.7777777777777778,
              "#fb9f3a"
             ],
             [
              0.8888888888888888,
              "#fdca26"
             ],
             [
              1,
              "#f0f921"
             ]
            ],
            "type": "heatmap"
           }
          ],
          "histogram": [
           {
            "marker": {
             "pattern": {
              "fillmode": "overlay",
              "size": 10,
              "solidity": 0.2
             }
            },
            "type": "histogram"
           }
          ],
          "histogram2d": [
           {
            "colorbar": {
             "outlinewidth": 0,
             "ticks": ""
            },
            "colorscale": [
             [
              0,
              "#0d0887"
             ],
             [
              0.1111111111111111,
              "#46039f"
             ],
             [
              0.2222222222222222,
              "#7201a8"
             ],
             [
              0.3333333333333333,
              "#9c179e"
             ],
             [
              0.4444444444444444,
              "#bd3786"
             ],
             [
              0.5555555555555556,
              "#d8576b"
             ],
             [
              0.6666666666666666,
              "#ed7953"
             ],
             [
              0.7777777777777778,
              "#fb9f3a"
             ],
             [
              0.8888888888888888,
              "#fdca26"
             ],
             [
              1,
              "#f0f921"
             ]
            ],
            "type": "histogram2d"
           }
          ],
          "histogram2dcontour": [
           {
            "colorbar": {
             "outlinewidth": 0,
             "ticks": ""
            },
            "colorscale": [
             [
              0,
              "#0d0887"
             ],
             [
              0.1111111111111111,
              "#46039f"
             ],
             [
              0.2222222222222222,
              "#7201a8"
             ],
             [
              0.3333333333333333,
              "#9c179e"
             ],
             [
              0.4444444444444444,
              "#bd3786"
             ],
             [
              0.5555555555555556,
              "#d8576b"
             ],
             [
              0.6666666666666666,
              "#ed7953"
             ],
             [
              0.7777777777777778,
              "#fb9f3a"
             ],
             [
              0.8888888888888888,
              "#fdca26"
             ],
             [
              1,
              "#f0f921"
             ]
            ],
            "type": "histogram2dcontour"
           }
          ],
          "mesh3d": [
           {
            "colorbar": {
             "outlinewidth": 0,
             "ticks": ""
            },
            "type": "mesh3d"
           }
          ],
          "parcoords": [
           {
            "line": {
             "colorbar": {
              "outlinewidth": 0,
              "ticks": ""
             }
            },
            "type": "parcoords"
           }
          ],
          "pie": [
           {
            "automargin": true,
            "type": "pie"
           }
          ],
          "scatter": [
           {
            "fillpattern": {
             "fillmode": "overlay",
             "size": 10,
             "solidity": 0.2
            },
            "type": "scatter"
           }
          ],
          "scatter3d": [
           {
            "line": {
             "colorbar": {
              "outlinewidth": 0,
              "ticks": ""
             }
            },
            "marker": {
             "colorbar": {
              "outlinewidth": 0,
              "ticks": ""
             }
            },
            "type": "scatter3d"
           }
          ],
          "scattercarpet": [
           {
            "marker": {
             "colorbar": {
              "outlinewidth": 0,
              "ticks": ""
             }
            },
            "type": "scattercarpet"
           }
          ],
          "scattergeo": [
           {
            "marker": {
             "colorbar": {
              "outlinewidth": 0,
              "ticks": ""
             }
            },
            "type": "scattergeo"
           }
          ],
          "scattergl": [
           {
            "marker": {
             "colorbar": {
              "outlinewidth": 0,
              "ticks": ""
             }
            },
            "type": "scattergl"
           }
          ],
          "scattermap": [
           {
            "marker": {
             "colorbar": {
              "outlinewidth": 0,
              "ticks": ""
             }
            },
            "type": "scattermap"
           }
          ],
          "scattermapbox": [
           {
            "marker": {
             "colorbar": {
              "outlinewidth": 0,
              "ticks": ""
             }
            },
            "type": "scattermapbox"
           }
          ],
          "scatterpolar": [
           {
            "marker": {
             "colorbar": {
              "outlinewidth": 0,
              "ticks": ""
             }
            },
            "type": "scatterpolar"
           }
          ],
          "scatterpolargl": [
           {
            "marker": {
             "colorbar": {
              "outlinewidth": 0,
              "ticks": ""
             }
            },
            "type": "scatterpolargl"
           }
          ],
          "scatterternary": [
           {
            "marker": {
             "colorbar": {
              "outlinewidth": 0,
              "ticks": ""
             }
            },
            "type": "scatterternary"
           }
          ],
          "surface": [
           {
            "colorbar": {
             "outlinewidth": 0,
             "ticks": ""
            },
            "colorscale": [
             [
              0,
              "#0d0887"
             ],
             [
              0.1111111111111111,
              "#46039f"
             ],
             [
              0.2222222222222222,
              "#7201a8"
             ],
             [
              0.3333333333333333,
              "#9c179e"
             ],
             [
              0.4444444444444444,
              "#bd3786"
             ],
             [
              0.5555555555555556,
              "#d8576b"
             ],
             [
              0.6666666666666666,
              "#ed7953"
             ],
             [
              0.7777777777777778,
              "#fb9f3a"
             ],
             [
              0.8888888888888888,
              "#fdca26"
             ],
             [
              1,
              "#f0f921"
             ]
            ],
            "type": "surface"
           }
          ],
          "table": [
           {
            "cells": {
             "fill": {
              "color": "#EBF0F8"
             },
             "line": {
              "color": "white"
             }
            },
            "header": {
             "fill": {
              "color": "#C8D4E3"
             },
             "line": {
              "color": "white"
             }
            },
            "type": "table"
           }
          ]
         },
         "layout": {
          "annotationdefaults": {
           "arrowcolor": "#2a3f5f",
           "arrowhead": 0,
           "arrowwidth": 1
          },
          "autotypenumbers": "strict",
          "coloraxis": {
           "colorbar": {
            "outlinewidth": 0,
            "ticks": ""
           }
          },
          "colorscale": {
           "diverging": [
            [
             0,
             "#8e0152"
            ],
            [
             0.1,
             "#c51b7d"
            ],
            [
             0.2,
             "#de77ae"
            ],
            [
             0.3,
             "#f1b6da"
            ],
            [
             0.4,
             "#fde0ef"
            ],
            [
             0.5,
             "#f7f7f7"
            ],
            [
             0.6,
             "#e6f5d0"
            ],
            [
             0.7,
             "#b8e186"
            ],
            [
             0.8,
             "#7fbc41"
            ],
            [
             0.9,
             "#4d9221"
            ],
            [
             1,
             "#276419"
            ]
           ],
           "sequential": [
            [
             0,
             "#0d0887"
            ],
            [
             0.1111111111111111,
             "#46039f"
            ],
            [
             0.2222222222222222,
             "#7201a8"
            ],
            [
             0.3333333333333333,
             "#9c179e"
            ],
            [
             0.4444444444444444,
             "#bd3786"
            ],
            [
             0.5555555555555556,
             "#d8576b"
            ],
            [
             0.6666666666666666,
             "#ed7953"
            ],
            [
             0.7777777777777778,
             "#fb9f3a"
            ],
            [
             0.8888888888888888,
             "#fdca26"
            ],
            [
             1,
             "#f0f921"
            ]
           ],
           "sequentialminus": [
            [
             0,
             "#0d0887"
            ],
            [
             0.1111111111111111,
             "#46039f"
            ],
            [
             0.2222222222222222,
             "#7201a8"
            ],
            [
             0.3333333333333333,
             "#9c179e"
            ],
            [
             0.4444444444444444,
             "#bd3786"
            ],
            [
             0.5555555555555556,
             "#d8576b"
            ],
            [
             0.6666666666666666,
             "#ed7953"
            ],
            [
             0.7777777777777778,
             "#fb9f3a"
            ],
            [
             0.8888888888888888,
             "#fdca26"
            ],
            [
             1,
             "#f0f921"
            ]
           ]
          },
          "colorway": [
           "#636efa",
           "#EF553B",
           "#00cc96",
           "#ab63fa",
           "#FFA15A",
           "#19d3f3",
           "#FF6692",
           "#B6E880",
           "#FF97FF",
           "#FECB52"
          ],
          "font": {
           "color": "#2a3f5f"
          },
          "geo": {
           "bgcolor": "white",
           "lakecolor": "white",
           "landcolor": "white",
           "showlakes": true,
           "showland": true,
           "subunitcolor": "#C8D4E3"
          },
          "hoverlabel": {
           "align": "left"
          },
          "hovermode": "closest",
          "mapbox": {
           "style": "light"
          },
          "paper_bgcolor": "white",
          "plot_bgcolor": "white",
          "polar": {
           "angularaxis": {
            "gridcolor": "#EBF0F8",
            "linecolor": "#EBF0F8",
            "ticks": ""
           },
           "bgcolor": "white",
           "radialaxis": {
            "gridcolor": "#EBF0F8",
            "linecolor": "#EBF0F8",
            "ticks": ""
           }
          },
          "scene": {
           "xaxis": {
            "backgroundcolor": "white",
            "gridcolor": "#DFE8F3",
            "gridwidth": 2,
            "linecolor": "#EBF0F8",
            "showbackground": true,
            "ticks": "",
            "zerolinecolor": "#EBF0F8"
           },
           "yaxis": {
            "backgroundcolor": "white",
            "gridcolor": "#DFE8F3",
            "gridwidth": 2,
            "linecolor": "#EBF0F8",
            "showbackground": true,
            "ticks": "",
            "zerolinecolor": "#EBF0F8"
           },
           "zaxis": {
            "backgroundcolor": "white",
            "gridcolor": "#DFE8F3",
            "gridwidth": 2,
            "linecolor": "#EBF0F8",
            "showbackground": true,
            "ticks": "",
            "zerolinecolor": "#EBF0F8"
           }
          },
          "shapedefaults": {
           "line": {
            "color": "#2a3f5f"
           }
          },
          "ternary": {
           "aaxis": {
            "gridcolor": "#DFE8F3",
            "linecolor": "#A2B1C6",
            "ticks": ""
           },
           "baxis": {
            "gridcolor": "#DFE8F3",
            "linecolor": "#A2B1C6",
            "ticks": ""
           },
           "bgcolor": "white",
           "caxis": {
            "gridcolor": "#DFE8F3",
            "linecolor": "#A2B1C6",
            "ticks": ""
           }
          },
          "title": {
           "x": 0.05
          },
          "xaxis": {
           "automargin": true,
           "gridcolor": "#EBF0F8",
           "linecolor": "#EBF0F8",
           "ticks": "",
           "title": {
            "standoff": 15
           },
           "zerolinecolor": "#EBF0F8",
           "zerolinewidth": 2
          },
          "yaxis": {
           "automargin": true,
           "gridcolor": "#EBF0F8",
           "linecolor": "#EBF0F8",
           "ticks": "",
           "title": {
            "standoff": 15
           },
           "zerolinecolor": "#EBF0F8",
           "zerolinewidth": 2
          }
         }
        },
        "width": 950,
        "xaxis": {
         "anchor": "y",
         "domain": [
          0,
          0.45
         ]
        },
        "xaxis2": {
         "anchor": "y2",
         "domain": [
          0.55,
          1
         ]
        },
        "yaxis": {
         "anchor": "x",
         "domain": [
          0,
          1
         ]
        },
        "yaxis2": {
         "anchor": "x2",
         "domain": [
          0,
          1
         ],
         "matches": "y",
         "showticklabels": false
        }
       }
      }
     },
     "metadata": {},
     "output_type": "display_data"
    }
   ],
   "source": [
    "fig = make_subplots(\n",
    "    rows=1, cols=2,\n",
    "    shared_yaxes=True,          # keep scales aligned (optional)\n",
    "    subplot_titles=(\"Initialization\", \"Trained\")\n",
    ")\n",
    "\n",
    "# --- 3. Create px.scatter for each dataframe and graft its traces ---\n",
    "scatter1 = px.scatter(df_var_init, x=\"PC1\", y=\"PC2\", color=\"process\", height=400)\n",
    "scatter1.update_traces(marker=dict(size=12))\n",
    "for tr in scatter1.data:\n",
    "    fig.add_trace(tr, row=1, col=1)       # left axis\n",
    "\n",
    "scatter2 = px.scatter(df_var, x=\"PC1\", y=\"PC2\", color=\"process\", height=400)\n",
    "scatter2.update_traces(marker=dict(size=12))\n",
    "for tr in scatter2.data:\n",
    "    fig.add_trace(tr, row=1, col=2)       # right axis\n",
    "\n",
    "# --- 4. Global cosmetics --------------------------------------------\n",
    "fig.update_layout(\n",
    "    template=\"plotly_white\",\n",
    "    width=950, height=450,\n",
    "    legend_title_text=\"Group\",\n",
    "    margin=dict(l=60, r=30, t=60, b=40)\n",
    ")\n",
    "\n",
    "fig.show()"
   ]
  },
  {
   "cell_type": "code",
   "execution_count": 59,
   "id": "5d8e7488",
   "metadata": {},
   "outputs": [
    {
     "data": {
      "application/vnd.microsoft.datawrangler.viewer.v0+json": {
       "columns": [
        {
         "name": "index",
         "rawType": "int64",
         "type": "integer"
        },
        {
         "name": "PC1",
         "rawType": "float64",
         "type": "float"
        },
        {
         "name": "PC2",
         "rawType": "float64",
         "type": "float"
        },
        {
         "name": "PC3",
         "rawType": "float64",
         "type": "float"
        },
        {
         "name": "rating",
         "rawType": "float64",
         "type": "float"
        }
       ],
       "ref": "d6bc82c9-7619-4065-b886-23990cbbfa26",
       "rows": [
        [
         "0",
         "0.04948109337318649",
         "-0.028114232441666644",
         "0.05220500117459266",
         "3.0"
        ],
        [
         "1",
         "-0.2688816530633767",
         "0.14803058026518245",
         "0.34002989695481367",
         "3.0"
        ],
        [
         "2",
         "0.8499589307603184",
         "0.1686900653583636",
         "0.2836974097346522",
         "0.0"
        ],
        [
         "3",
         "-0.6381881459917845",
         "-0.09515512614025436",
         "-0.2559692251252618",
         "1.0"
        ],
        [
         "4",
         "-0.5201407056755447",
         "-0.4059570913270633",
         "0.0037260176250300653",
         "3.0"
        ],
        [
         "5",
         "-0.1668429834807213",
         "0.6483598694067279",
         "0.06325255852428881",
         "0.0"
        ],
        [
         "6",
         "-0.09110919891191614",
         "-0.5165241834988678",
         "0.18071594478630618",
         "0.0"
        ],
        [
         "7",
         "0.04822006796680055",
         "-0.3445184192349021",
         "0.5749922739161137",
         "2.0"
        ],
        [
         "8",
         "0.7245924943643653",
         "0.07707515399713838",
         "-0.31154063533832127",
         "1.0"
        ],
        [
         "9",
         "-0.34852026157832894",
         "0.18000658308107567",
         "0.03210418522119828",
         "1.0"
        ],
        [
         "10",
         "-0.6641186010640228",
         "0.01848016976492383",
         "0.26725428930586126",
         "3.0"
        ],
        [
         "11",
         "0.35295428031251663",
         "0.4659375010333679",
         "-0.04734134498973438",
         "0.0"
        ],
        [
         "12",
         "-0.3944336892281868",
         "-0.463808692632599",
         "-0.12777281140663943",
         "1.0"
        ],
        [
         "13",
         "0.15626870679169644",
         "-0.35290338712662134",
         "-0.4456760762658182",
         "3.0"
        ],
        [
         "14",
         "-0.05150022963263725",
         "0.6592065772421137",
         "-0.022683405987593337",
         "0.0"
        ],
        [
         "15",
         "-0.3060595108029161",
         "0.0118647345195178",
         "0.36155426531902657",
         "0.0"
        ],
        [
         "16",
         "0.42234855176744457",
         "-0.2808967419969167",
         "0.41242849827938954",
         "2.0"
        ],
        [
         "17",
         "0.4729313597237316",
         "-0.12376148434901087",
         "-0.5187455137401858",
         "1.0"
        ],
        [
         "18",
         "-0.6183445409968396",
         "0.15765738533641835",
         "-0.33612386566313257",
         "0.0"
        ],
        [
         "19",
         "-0.5904720109628826",
         "-0.014982930957527337",
         "-0.20995887283835135",
         "3.0"
        ],
        [
         "20",
         "0.3744661523526982",
         "0.4580445589586176",
         "-0.03109725824749585",
         "0.0"
        ],
        [
         "21",
         "-0.2154375170516248",
         "0.2782091709841808",
         "-0.4267441268398217",
         "2.0"
        ],
        [
         "22",
         "0.4430813844919763",
         "-0.4813404639775059",
         "-0.447655307722903",
         "3.0"
        ],
        [
         "23",
         "-0.6811645818111117",
         "0.021072222507408957",
         "0.2669794871789709",
         "0.0"
        ],
        [
         "24",
         "0.8412535967446335",
         "0.06332322521633284",
         "0.18824083450691656",
         "0.0"
        ],
        [
         "25",
         "0.819657011602524",
         "-0.24799504398843442",
         "0.15412778163809895",
         null
        ]
       ],
       "shape": {
        "columns": 4,
        "rows": 26
       }
      },
      "text/html": [
       "<div>\n",
       "<style scoped>\n",
       "    .dataframe tbody tr th:only-of-type {\n",
       "        vertical-align: middle;\n",
       "    }\n",
       "\n",
       "    .dataframe tbody tr th {\n",
       "        vertical-align: top;\n",
       "    }\n",
       "\n",
       "    .dataframe thead th {\n",
       "        text-align: right;\n",
       "    }\n",
       "</style>\n",
       "<table border=\"1\" class=\"dataframe\">\n",
       "  <thead>\n",
       "    <tr style=\"text-align: right;\">\n",
       "      <th></th>\n",
       "      <th>PC1</th>\n",
       "      <th>PC2</th>\n",
       "      <th>PC3</th>\n",
       "      <th>rating</th>\n",
       "    </tr>\n",
       "  </thead>\n",
       "  <tbody>\n",
       "    <tr>\n",
       "      <th>0</th>\n",
       "      <td>0.049481</td>\n",
       "      <td>-0.028114</td>\n",
       "      <td>0.052205</td>\n",
       "      <td>3.0</td>\n",
       "    </tr>\n",
       "    <tr>\n",
       "      <th>1</th>\n",
       "      <td>-0.268882</td>\n",
       "      <td>0.148031</td>\n",
       "      <td>0.340030</td>\n",
       "      <td>3.0</td>\n",
       "    </tr>\n",
       "    <tr>\n",
       "      <th>2</th>\n",
       "      <td>0.849959</td>\n",
       "      <td>0.168690</td>\n",
       "      <td>0.283697</td>\n",
       "      <td>0.0</td>\n",
       "    </tr>\n",
       "    <tr>\n",
       "      <th>3</th>\n",
       "      <td>-0.638188</td>\n",
       "      <td>-0.095155</td>\n",
       "      <td>-0.255969</td>\n",
       "      <td>1.0</td>\n",
       "    </tr>\n",
       "    <tr>\n",
       "      <th>4</th>\n",
       "      <td>-0.520141</td>\n",
       "      <td>-0.405957</td>\n",
       "      <td>0.003726</td>\n",
       "      <td>3.0</td>\n",
       "    </tr>\n",
       "    <tr>\n",
       "      <th>5</th>\n",
       "      <td>-0.166843</td>\n",
       "      <td>0.648360</td>\n",
       "      <td>0.063253</td>\n",
       "      <td>0.0</td>\n",
       "    </tr>\n",
       "    <tr>\n",
       "      <th>6</th>\n",
       "      <td>-0.091109</td>\n",
       "      <td>-0.516524</td>\n",
       "      <td>0.180716</td>\n",
       "      <td>0.0</td>\n",
       "    </tr>\n",
       "    <tr>\n",
       "      <th>7</th>\n",
       "      <td>0.048220</td>\n",
       "      <td>-0.344518</td>\n",
       "      <td>0.574992</td>\n",
       "      <td>2.0</td>\n",
       "    </tr>\n",
       "    <tr>\n",
       "      <th>8</th>\n",
       "      <td>0.724592</td>\n",
       "      <td>0.077075</td>\n",
       "      <td>-0.311541</td>\n",
       "      <td>1.0</td>\n",
       "    </tr>\n",
       "    <tr>\n",
       "      <th>9</th>\n",
       "      <td>-0.348520</td>\n",
       "      <td>0.180007</td>\n",
       "      <td>0.032104</td>\n",
       "      <td>1.0</td>\n",
       "    </tr>\n",
       "    <tr>\n",
       "      <th>10</th>\n",
       "      <td>-0.664119</td>\n",
       "      <td>0.018480</td>\n",
       "      <td>0.267254</td>\n",
       "      <td>3.0</td>\n",
       "    </tr>\n",
       "    <tr>\n",
       "      <th>11</th>\n",
       "      <td>0.352954</td>\n",
       "      <td>0.465938</td>\n",
       "      <td>-0.047341</td>\n",
       "      <td>0.0</td>\n",
       "    </tr>\n",
       "    <tr>\n",
       "      <th>12</th>\n",
       "      <td>-0.394434</td>\n",
       "      <td>-0.463809</td>\n",
       "      <td>-0.127773</td>\n",
       "      <td>1.0</td>\n",
       "    </tr>\n",
       "    <tr>\n",
       "      <th>13</th>\n",
       "      <td>0.156269</td>\n",
       "      <td>-0.352903</td>\n",
       "      <td>-0.445676</td>\n",
       "      <td>3.0</td>\n",
       "    </tr>\n",
       "    <tr>\n",
       "      <th>14</th>\n",
       "      <td>-0.051500</td>\n",
       "      <td>0.659207</td>\n",
       "      <td>-0.022683</td>\n",
       "      <td>0.0</td>\n",
       "    </tr>\n",
       "    <tr>\n",
       "      <th>15</th>\n",
       "      <td>-0.306060</td>\n",
       "      <td>0.011865</td>\n",
       "      <td>0.361554</td>\n",
       "      <td>0.0</td>\n",
       "    </tr>\n",
       "    <tr>\n",
       "      <th>16</th>\n",
       "      <td>0.422349</td>\n",
       "      <td>-0.280897</td>\n",
       "      <td>0.412428</td>\n",
       "      <td>2.0</td>\n",
       "    </tr>\n",
       "    <tr>\n",
       "      <th>17</th>\n",
       "      <td>0.472931</td>\n",
       "      <td>-0.123761</td>\n",
       "      <td>-0.518746</td>\n",
       "      <td>1.0</td>\n",
       "    </tr>\n",
       "    <tr>\n",
       "      <th>18</th>\n",
       "      <td>-0.618345</td>\n",
       "      <td>0.157657</td>\n",
       "      <td>-0.336124</td>\n",
       "      <td>0.0</td>\n",
       "    </tr>\n",
       "    <tr>\n",
       "      <th>19</th>\n",
       "      <td>-0.590472</td>\n",
       "      <td>-0.014983</td>\n",
       "      <td>-0.209959</td>\n",
       "      <td>3.0</td>\n",
       "    </tr>\n",
       "    <tr>\n",
       "      <th>20</th>\n",
       "      <td>0.374466</td>\n",
       "      <td>0.458045</td>\n",
       "      <td>-0.031097</td>\n",
       "      <td>0.0</td>\n",
       "    </tr>\n",
       "    <tr>\n",
       "      <th>21</th>\n",
       "      <td>-0.215438</td>\n",
       "      <td>0.278209</td>\n",
       "      <td>-0.426744</td>\n",
       "      <td>2.0</td>\n",
       "    </tr>\n",
       "    <tr>\n",
       "      <th>22</th>\n",
       "      <td>0.443081</td>\n",
       "      <td>-0.481340</td>\n",
       "      <td>-0.447655</td>\n",
       "      <td>3.0</td>\n",
       "    </tr>\n",
       "    <tr>\n",
       "      <th>23</th>\n",
       "      <td>-0.681165</td>\n",
       "      <td>0.021072</td>\n",
       "      <td>0.266979</td>\n",
       "      <td>0.0</td>\n",
       "    </tr>\n",
       "    <tr>\n",
       "      <th>24</th>\n",
       "      <td>0.841254</td>\n",
       "      <td>0.063323</td>\n",
       "      <td>0.188241</td>\n",
       "      <td>0.0</td>\n",
       "    </tr>\n",
       "    <tr>\n",
       "      <th>25</th>\n",
       "      <td>0.819657</td>\n",
       "      <td>-0.247995</td>\n",
       "      <td>0.154128</td>\n",
       "      <td>NaN</td>\n",
       "    </tr>\n",
       "  </tbody>\n",
       "</table>\n",
       "</div>"
      ],
      "text/plain": [
       "         PC1       PC2       PC3  rating\n",
       "0   0.049481 -0.028114  0.052205     3.0\n",
       "1  -0.268882  0.148031  0.340030     3.0\n",
       "2   0.849959  0.168690  0.283697     0.0\n",
       "3  -0.638188 -0.095155 -0.255969     1.0\n",
       "4  -0.520141 -0.405957  0.003726     3.0\n",
       "5  -0.166843  0.648360  0.063253     0.0\n",
       "6  -0.091109 -0.516524  0.180716     0.0\n",
       "7   0.048220 -0.344518  0.574992     2.0\n",
       "8   0.724592  0.077075 -0.311541     1.0\n",
       "9  -0.348520  0.180007  0.032104     1.0\n",
       "10 -0.664119  0.018480  0.267254     3.0\n",
       "11  0.352954  0.465938 -0.047341     0.0\n",
       "12 -0.394434 -0.463809 -0.127773     1.0\n",
       "13  0.156269 -0.352903 -0.445676     3.0\n",
       "14 -0.051500  0.659207 -0.022683     0.0\n",
       "15 -0.306060  0.011865  0.361554     0.0\n",
       "16  0.422349 -0.280897  0.412428     2.0\n",
       "17  0.472931 -0.123761 -0.518746     1.0\n",
       "18 -0.618345  0.157657 -0.336124     0.0\n",
       "19 -0.590472 -0.014983 -0.209959     3.0\n",
       "20  0.374466  0.458045 -0.031097     0.0\n",
       "21 -0.215438  0.278209 -0.426744     2.0\n",
       "22  0.443081 -0.481340 -0.447655     3.0\n",
       "23 -0.681165  0.021072  0.266979     0.0\n",
       "24  0.841254  0.063323  0.188241     0.0\n",
       "25  0.819657 -0.247995  0.154128     NaN"
      ]
     },
     "execution_count": 59,
     "metadata": {},
     "output_type": "execute_result"
    }
   ],
   "source": [
    "df_pos = pd.DataFrame(pcs_pos, columns=[f\"PC{i}\" for i in range(1, n_pca_comps + 1)])\n",
    "df_pos[\"rating\"]=df_pos.index.map(pos_map).map(rate_map)\n",
    "\n",
    "df_pos_init = pd.DataFrame(pcs_pos_init, columns=[f\"PC{i}\" for i in range(1, n_pca_comps + 1)])\n",
    "df_pos_init[\"rating\"]=df_pos_init.index.map(pos_map).map(rate_map)\n",
    "\n",
    "df_pos"
   ]
  },
  {
   "cell_type": "code",
   "execution_count": 60,
   "id": "0df230e2",
   "metadata": {},
   "outputs": [
    {
     "data": {
      "application/vnd.plotly.v1+json": {
       "config": {
        "plotlyServerURL": "https://plot.ly"
       },
       "data": [
        {
         "hovertemplate": "rating=3.0<br>PC1=%{x}<br>PC2=%{y}<br>PC3=%{z}<extra></extra>",
         "legendgroup": "3.0",
         "marker": {
          "color": "#636efa",
          "symbol": "circle"
         },
         "mode": "markers",
         "name": "3.0",
         "scene": "scene",
         "showlegend": true,
         "type": "scatter3d",
         "x": {
          "bdata": "qRu/rlXslD92oSoHY1bdvzMueua2nuW/SsFMmqBJ479tG1lV7l/nPwnMlAxsPsa//JIwyWGZ6z8=",
          "dtype": "f8"
         },
         "y": {
          "bdata": "HE5H9fSAuD8y7GFlr63Mv6Hw+BENN96/oJmNmWsVzL9ZiqlWJlmYv9y6WOqVtuO/uDWdo5sc1D8=",
          "dtype": "f8"
         },
         "z": {
          "bdata": "gfmwtE4oiD85cpZPgsHfPxEjJ57kdL4/4fYg5DYKzb+HUM7uBHbZv+tS332gJca/x0lvsQ2Fwr8=",
          "dtype": "f8"
         }
        },
        {
         "hovertemplate": "rating=0.0<br>PC1=%{x}<br>PC2=%{y}<br>PC3=%{z}<extra></extra>",
         "legendgroup": "0.0",
         "marker": {
          "color": "#EF553B",
          "symbol": "circle"
         },
         "mode": "markers",
         "name": "0.0",
         "scene": "scene",
         "showlegend": true,
         "type": "scatter3d",
         "x": {
          "bdata": "UlvYcn7x7D9WSCywS5nIP46xoZ0V8uS/pZiL+kW+ib+/YW6Y0W/gv314e0JTz8A/JRu0aAJ7yr+0pHptk1jgvwWZMLHogOe/mevuWPtt6z8=",
          "dtype": "f8"
         },
         "y": {
          "bdata": "3ITY0LhObz9qRSw6p2XOP/2Yrtl9AOG/FzXpRsuY5D/eu+31GMDiP8zYTYMBj80/wJ1CsPOU4r81zZ9uy6DaPywN0nQayLY/99H4D3s8vr8=",
          "dtype": "f8"
         },
         "z": {
          "bdata": "GhW63KTYqj90qMiKZlW/vxvCZzUI/KS/dvbwLXuM0D8iG1r1eiLSP0MzT2JTQ+U/6hlPetBMzL/f3o0x4bHPPxrDyf2HQdQ/UWtifzxrxD8=",
          "dtype": "f8"
         }
        },
        {
         "hovertemplate": "rating=1.0<br>PC1=%{x}<br>PC2=%{y}<br>PC3=%{z}<extra></extra>",
         "legendgroup": "1.0",
         "marker": {
          "color": "#00cc96",
          "symbol": "circle"
         },
         "mode": "markers",
         "name": "1.0",
         "scene": "scene",
         "showlegend": true,
         "type": "scatter3d",
         "x": {
          "bdata": "lTQv1x9z4b9Dns2vfwLiP9rN3j5ni9W/M653Ectb5b+ayhvcWgPpPw==",
          "dtype": "f8"
         },
         "y": {
          "bdata": "y44lSPbF4z9nECH8+SjfP8WdJ0IiiuK/B6ZIq5J0vT9udGwKDjm+Pw==",
          "dtype": "f8"
         },
         "z": {
          "bdata": "nZnV6pyc1L/jVFMOI9DDv+l8n/HEI8O/DHSlS+wv2L/QGbnCTFrWvw==",
          "dtype": "f8"
         }
        },
        {
         "hovertemplate": "rating=2.0<br>PC1=%{x}<br>PC2=%{y}<br>PC3=%{z}<extra></extra>",
         "legendgroup": "2.0",
         "marker": {
          "color": "#ab63fa",
          "symbol": "circle"
         },
         "mode": "markers",
         "name": "2.0",
         "scene": "scene",
         "showlegend": true,
         "type": "scatter3d",
         "x": {
          "bdata": "SuHott5j5z94H330+rTjPz7Xxlzv7+W/",
          "dtype": "f8"
         },
         "y": {
          "bdata": "cB+f6lSN0r/J0xk4M9Xgv0s8ybVnUdw/",
          "dtype": "f8"
         },
         "z": {
          "bdata": "wkmrzvlvzT+iLOPbpQfTP91QDr4E5tq/",
          "dtype": "f8"
         }
        }
       ],
       "layout": {
        "legend": {
         "title": {
          "text": "rating"
         },
         "tracegroupgap": 0
        },
        "margin": {
         "t": 60
        },
        "scene": {
         "domain": {
          "x": [
           0,
           1
          ],
          "y": [
           0,
           1
          ]
         },
         "xaxis": {
          "title": {
           "text": "PC1"
          }
         },
         "yaxis": {
          "title": {
           "text": "PC2"
          }
         },
         "zaxis": {
          "title": {
           "text": "PC3"
          }
         }
        },
        "template": {
         "data": {
          "bar": [
           {
            "error_x": {
             "color": "#2a3f5f"
            },
            "error_y": {
             "color": "#2a3f5f"
            },
            "marker": {
             "line": {
              "color": "#E5ECF6",
              "width": 0.5
             },
             "pattern": {
              "fillmode": "overlay",
              "size": 10,
              "solidity": 0.2
             }
            },
            "type": "bar"
           }
          ],
          "barpolar": [
           {
            "marker": {
             "line": {
              "color": "#E5ECF6",
              "width": 0.5
             },
             "pattern": {
              "fillmode": "overlay",
              "size": 10,
              "solidity": 0.2
             }
            },
            "type": "barpolar"
           }
          ],
          "carpet": [
           {
            "aaxis": {
             "endlinecolor": "#2a3f5f",
             "gridcolor": "white",
             "linecolor": "white",
             "minorgridcolor": "white",
             "startlinecolor": "#2a3f5f"
            },
            "baxis": {
             "endlinecolor": "#2a3f5f",
             "gridcolor": "white",
             "linecolor": "white",
             "minorgridcolor": "white",
             "startlinecolor": "#2a3f5f"
            },
            "type": "carpet"
           }
          ],
          "choropleth": [
           {
            "colorbar": {
             "outlinewidth": 0,
             "ticks": ""
            },
            "type": "choropleth"
           }
          ],
          "contour": [
           {
            "colorbar": {
             "outlinewidth": 0,
             "ticks": ""
            },
            "colorscale": [
             [
              0,
              "#0d0887"
             ],
             [
              0.1111111111111111,
              "#46039f"
             ],
             [
              0.2222222222222222,
              "#7201a8"
             ],
             [
              0.3333333333333333,
              "#9c179e"
             ],
             [
              0.4444444444444444,
              "#bd3786"
             ],
             [
              0.5555555555555556,
              "#d8576b"
             ],
             [
              0.6666666666666666,
              "#ed7953"
             ],
             [
              0.7777777777777778,
              "#fb9f3a"
             ],
             [
              0.8888888888888888,
              "#fdca26"
             ],
             [
              1,
              "#f0f921"
             ]
            ],
            "type": "contour"
           }
          ],
          "contourcarpet": [
           {
            "colorbar": {
             "outlinewidth": 0,
             "ticks": ""
            },
            "type": "contourcarpet"
           }
          ],
          "heatmap": [
           {
            "colorbar": {
             "outlinewidth": 0,
             "ticks": ""
            },
            "colorscale": [
             [
              0,
              "#0d0887"
             ],
             [
              0.1111111111111111,
              "#46039f"
             ],
             [
              0.2222222222222222,
              "#7201a8"
             ],
             [
              0.3333333333333333,
              "#9c179e"
             ],
             [
              0.4444444444444444,
              "#bd3786"
             ],
             [
              0.5555555555555556,
              "#d8576b"
             ],
             [
              0.6666666666666666,
              "#ed7953"
             ],
             [
              0.7777777777777778,
              "#fb9f3a"
             ],
             [
              0.8888888888888888,
              "#fdca26"
             ],
             [
              1,
              "#f0f921"
             ]
            ],
            "type": "heatmap"
           }
          ],
          "histogram": [
           {
            "marker": {
             "pattern": {
              "fillmode": "overlay",
              "size": 10,
              "solidity": 0.2
             }
            },
            "type": "histogram"
           }
          ],
          "histogram2d": [
           {
            "colorbar": {
             "outlinewidth": 0,
             "ticks": ""
            },
            "colorscale": [
             [
              0,
              "#0d0887"
             ],
             [
              0.1111111111111111,
              "#46039f"
             ],
             [
              0.2222222222222222,
              "#7201a8"
             ],
             [
              0.3333333333333333,
              "#9c179e"
             ],
             [
              0.4444444444444444,
              "#bd3786"
             ],
             [
              0.5555555555555556,
              "#d8576b"
             ],
             [
              0.6666666666666666,
              "#ed7953"
             ],
             [
              0.7777777777777778,
              "#fb9f3a"
             ],
             [
              0.8888888888888888,
              "#fdca26"
             ],
             [
              1,
              "#f0f921"
             ]
            ],
            "type": "histogram2d"
           }
          ],
          "histogram2dcontour": [
           {
            "colorbar": {
             "outlinewidth": 0,
             "ticks": ""
            },
            "colorscale": [
             [
              0,
              "#0d0887"
             ],
             [
              0.1111111111111111,
              "#46039f"
             ],
             [
              0.2222222222222222,
              "#7201a8"
             ],
             [
              0.3333333333333333,
              "#9c179e"
             ],
             [
              0.4444444444444444,
              "#bd3786"
             ],
             [
              0.5555555555555556,
              "#d8576b"
             ],
             [
              0.6666666666666666,
              "#ed7953"
             ],
             [
              0.7777777777777778,
              "#fb9f3a"
             ],
             [
              0.8888888888888888,
              "#fdca26"
             ],
             [
              1,
              "#f0f921"
             ]
            ],
            "type": "histogram2dcontour"
           }
          ],
          "mesh3d": [
           {
            "colorbar": {
             "outlinewidth": 0,
             "ticks": ""
            },
            "type": "mesh3d"
           }
          ],
          "parcoords": [
           {
            "line": {
             "colorbar": {
              "outlinewidth": 0,
              "ticks": ""
             }
            },
            "type": "parcoords"
           }
          ],
          "pie": [
           {
            "automargin": true,
            "type": "pie"
           }
          ],
          "scatter": [
           {
            "fillpattern": {
             "fillmode": "overlay",
             "size": 10,
             "solidity": 0.2
            },
            "type": "scatter"
           }
          ],
          "scatter3d": [
           {
            "line": {
             "colorbar": {
              "outlinewidth": 0,
              "ticks": ""
             }
            },
            "marker": {
             "colorbar": {
              "outlinewidth": 0,
              "ticks": ""
             }
            },
            "type": "scatter3d"
           }
          ],
          "scattercarpet": [
           {
            "marker": {
             "colorbar": {
              "outlinewidth": 0,
              "ticks": ""
             }
            },
            "type": "scattercarpet"
           }
          ],
          "scattergeo": [
           {
            "marker": {
             "colorbar": {
              "outlinewidth": 0,
              "ticks": ""
             }
            },
            "type": "scattergeo"
           }
          ],
          "scattergl": [
           {
            "marker": {
             "colorbar": {
              "outlinewidth": 0,
              "ticks": ""
             }
            },
            "type": "scattergl"
           }
          ],
          "scattermap": [
           {
            "marker": {
             "colorbar": {
              "outlinewidth": 0,
              "ticks": ""
             }
            },
            "type": "scattermap"
           }
          ],
          "scattermapbox": [
           {
            "marker": {
             "colorbar": {
              "outlinewidth": 0,
              "ticks": ""
             }
            },
            "type": "scattermapbox"
           }
          ],
          "scatterpolar": [
           {
            "marker": {
             "colorbar": {
              "outlinewidth": 0,
              "ticks": ""
             }
            },
            "type": "scatterpolar"
           }
          ],
          "scatterpolargl": [
           {
            "marker": {
             "colorbar": {
              "outlinewidth": 0,
              "ticks": ""
             }
            },
            "type": "scatterpolargl"
           }
          ],
          "scatterternary": [
           {
            "marker": {
             "colorbar": {
              "outlinewidth": 0,
              "ticks": ""
             }
            },
            "type": "scatterternary"
           }
          ],
          "surface": [
           {
            "colorbar": {
             "outlinewidth": 0,
             "ticks": ""
            },
            "colorscale": [
             [
              0,
              "#0d0887"
             ],
             [
              0.1111111111111111,
              "#46039f"
             ],
             [
              0.2222222222222222,
              "#7201a8"
             ],
             [
              0.3333333333333333,
              "#9c179e"
             ],
             [
              0.4444444444444444,
              "#bd3786"
             ],
             [
              0.5555555555555556,
              "#d8576b"
             ],
             [
              0.6666666666666666,
              "#ed7953"
             ],
             [
              0.7777777777777778,
              "#fb9f3a"
             ],
             [
              0.8888888888888888,
              "#fdca26"
             ],
             [
              1,
              "#f0f921"
             ]
            ],
            "type": "surface"
           }
          ],
          "table": [
           {
            "cells": {
             "fill": {
              "color": "#EBF0F8"
             },
             "line": {
              "color": "white"
             }
            },
            "header": {
             "fill": {
              "color": "#C8D4E3"
             },
             "line": {
              "color": "white"
             }
            },
            "type": "table"
           }
          ]
         },
         "layout": {
          "annotationdefaults": {
           "arrowcolor": "#2a3f5f",
           "arrowhead": 0,
           "arrowwidth": 1
          },
          "autotypenumbers": "strict",
          "coloraxis": {
           "colorbar": {
            "outlinewidth": 0,
            "ticks": ""
           }
          },
          "colorscale": {
           "diverging": [
            [
             0,
             "#8e0152"
            ],
            [
             0.1,
             "#c51b7d"
            ],
            [
             0.2,
             "#de77ae"
            ],
            [
             0.3,
             "#f1b6da"
            ],
            [
             0.4,
             "#fde0ef"
            ],
            [
             0.5,
             "#f7f7f7"
            ],
            [
             0.6,
             "#e6f5d0"
            ],
            [
             0.7,
             "#b8e186"
            ],
            [
             0.8,
             "#7fbc41"
            ],
            [
             0.9,
             "#4d9221"
            ],
            [
             1,
             "#276419"
            ]
           ],
           "sequential": [
            [
             0,
             "#0d0887"
            ],
            [
             0.1111111111111111,
             "#46039f"
            ],
            [
             0.2222222222222222,
             "#7201a8"
            ],
            [
             0.3333333333333333,
             "#9c179e"
            ],
            [
             0.4444444444444444,
             "#bd3786"
            ],
            [
             0.5555555555555556,
             "#d8576b"
            ],
            [
             0.6666666666666666,
             "#ed7953"
            ],
            [
             0.7777777777777778,
             "#fb9f3a"
            ],
            [
             0.8888888888888888,
             "#fdca26"
            ],
            [
             1,
             "#f0f921"
            ]
           ],
           "sequentialminus": [
            [
             0,
             "#0d0887"
            ],
            [
             0.1111111111111111,
             "#46039f"
            ],
            [
             0.2222222222222222,
             "#7201a8"
            ],
            [
             0.3333333333333333,
             "#9c179e"
            ],
            [
             0.4444444444444444,
             "#bd3786"
            ],
            [
             0.5555555555555556,
             "#d8576b"
            ],
            [
             0.6666666666666666,
             "#ed7953"
            ],
            [
             0.7777777777777778,
             "#fb9f3a"
            ],
            [
             0.8888888888888888,
             "#fdca26"
            ],
            [
             1,
             "#f0f921"
            ]
           ]
          },
          "colorway": [
           "#636efa",
           "#EF553B",
           "#00cc96",
           "#ab63fa",
           "#FFA15A",
           "#19d3f3",
           "#FF6692",
           "#B6E880",
           "#FF97FF",
           "#FECB52"
          ],
          "font": {
           "color": "#2a3f5f"
          },
          "geo": {
           "bgcolor": "white",
           "lakecolor": "white",
           "landcolor": "#E5ECF6",
           "showlakes": true,
           "showland": true,
           "subunitcolor": "white"
          },
          "hoverlabel": {
           "align": "left"
          },
          "hovermode": "closest",
          "mapbox": {
           "style": "light"
          },
          "paper_bgcolor": "white",
          "plot_bgcolor": "#E5ECF6",
          "polar": {
           "angularaxis": {
            "gridcolor": "white",
            "linecolor": "white",
            "ticks": ""
           },
           "bgcolor": "#E5ECF6",
           "radialaxis": {
            "gridcolor": "white",
            "linecolor": "white",
            "ticks": ""
           }
          },
          "scene": {
           "xaxis": {
            "backgroundcolor": "#E5ECF6",
            "gridcolor": "white",
            "gridwidth": 2,
            "linecolor": "white",
            "showbackground": true,
            "ticks": "",
            "zerolinecolor": "white"
           },
           "yaxis": {
            "backgroundcolor": "#E5ECF6",
            "gridcolor": "white",
            "gridwidth": 2,
            "linecolor": "white",
            "showbackground": true,
            "ticks": "",
            "zerolinecolor": "white"
           },
           "zaxis": {
            "backgroundcolor": "#E5ECF6",
            "gridcolor": "white",
            "gridwidth": 2,
            "linecolor": "white",
            "showbackground": true,
            "ticks": "",
            "zerolinecolor": "white"
           }
          },
          "shapedefaults": {
           "line": {
            "color": "#2a3f5f"
           }
          },
          "ternary": {
           "aaxis": {
            "gridcolor": "white",
            "linecolor": "white",
            "ticks": ""
           },
           "baxis": {
            "gridcolor": "white",
            "linecolor": "white",
            "ticks": ""
           },
           "bgcolor": "#E5ECF6",
           "caxis": {
            "gridcolor": "white",
            "linecolor": "white",
            "ticks": ""
           }
          },
          "title": {
           "x": 0.05
          },
          "xaxis": {
           "automargin": true,
           "gridcolor": "white",
           "linecolor": "white",
           "ticks": "",
           "title": {
            "standoff": 15
           },
           "zerolinecolor": "white",
           "zerolinewidth": 2
          },
          "yaxis": {
           "automargin": true,
           "gridcolor": "white",
           "linecolor": "white",
           "ticks": "",
           "title": {
            "standoff": 15
           },
           "zerolinecolor": "white",
           "zerolinewidth": 2
          }
         }
        }
       }
      }
     },
     "metadata": {},
     "output_type": "display_data"
    }
   ],
   "source": [
    "df = df_pos_init\n",
    "df[\"rating\"] = df[\"rating\"].astype(\"category\")\n",
    "fig = px.scatter_3d(df, x='PC1', y='PC2', z='PC3', color='rating')\n",
    "fig.show()"
   ]
  },
  {
   "cell_type": "code",
   "execution_count": 61,
   "id": "f964d7a5",
   "metadata": {},
   "outputs": [
    {
     "data": {
      "application/vnd.plotly.v1+json": {
       "config": {
        "plotlyServerURL": "https://plot.ly"
       },
       "data": [
        {
         "hovertemplate": "rating=3.0<br>PC1=%{x}<br>PC2=%{y}<br>PC3=%{z}<extra></extra>",
         "legendgroup": "3.0",
         "marker": {
          "color": "#636efa",
          "symbol": "circle"
         },
         "mode": "markers",
         "name": "3.0",
         "scene": "scene",
         "showlegend": true,
         "type": "scatter3d",
         "x": {
          "bdata": "7cad+5VVqT8ptJlkWzXRvwQ8Bh/+pOC/KIcHp3VA5b+LfofsnADEP/M+CY8l5eK/EAH3BXJb3D8=",
          "dtype": "f8"
         },
         "y": {
          "bdata": "WnCOM/rJnL+Q/4WCqvLCP7MOtXMz+9m/njsPM3fskj9X0JYW+JXWv/66r/Ner46/NZfBO0jO3r8=",
          "dtype": "f8"
         },
         "z": {
          "bdata": "egx3KZ26qj+8UsXBDMPVP5uaAHsGhm4/jjMSvLEa0T9u9grz9IXcv0RBLK7u38q/az6jcmKm3L8=",
          "dtype": "f8"
         }
        },
        {
         "hovertemplate": "rating=0.0<br>PC1=%{x}<br>PC2=%{y}<br>PC3=%{z}<extra></extra>",
         "legendgroup": "0.0",
         "marker": {
          "color": "#EF553B",
          "symbol": "circle"
         },
         "mode": "markers",
         "name": "0.0",
         "scene": "scene",
         "showlegend": true,
         "type": "scatter3d",
         "x": {
          "bdata": "1uBREt0y6z8y8s5iHFvFvx8CsbXuUre//jq7jM2W1j8DcAT0PF6qv2XPYaF6ltO/1rqnfXrJ478sFXThQPfXP81PQqoZzOW/aiO1qYzr6j8=",
          "dtype": "f8"
         },
         "y": {
          "bdata": "N+jv1KKXxT/WgGQyXb/kP00Qd7ldh+C/H8U6huvR3T/nA1JkOBjlPx175bWJTIg/oxP/AB4uxD/moTUgmlDdP8rqF+r0k5U/6aJhbfM1sD8=",
          "dtype": "f8"
         },
         "z": {
          "bdata": "qksxLhko0j+ZCUDWUTGwP92IXDizIcc/O4n18B89qL/CsIObUTqXv9aRUYC0I9c/emibrA2D1b+ZTKys9defv+68iCExFtE/ZU79kUYYyD8=",
          "dtype": "f8"
         }
        },
        {
         "hovertemplate": "rating=1.0<br>PC1=%{x}<br>PC2=%{y}<br>PC3=%{z}<extra></extra>",
         "legendgroup": "1.0",
         "marker": {
          "color": "#00cc96",
          "symbol": "circle"
         },
         "mode": "markers",
         "name": "1.0",
         "scene": "scene",
         "showlegend": true,
         "type": "scatter3d",
         "x": {
          "bdata": "yVj3iwls5L+8GkeZ3C/nP/g5Xu0nTta/gD7rzGY+2b8PCtHkgUTePw==",
          "dtype": "f8"
         },
         "y": {
          "bdata": "obPRGhZcuL/AesCBMruzP0Xvsql0Csc/J0idpwqv3b8Njsgn1a6/vw==",
          "dtype": "f8"
         },
         "z": {
          "bdata": "b4Ksvsxh0L89zQkiSPDTv7/2LbP1b6A/cJ0nB9xawL8Dvw4xkJngvw==",
          "dtype": "f8"
         }
        },
        {
         "hovertemplate": "rating=2.0<br>PC1=%{x}<br>PC2=%{y}<br>PC3=%{z}<extra></extra>",
         "legendgroup": "2.0",
         "marker": {
          "color": "#ab63fa",
          "symbol": "circle"
         },
         "mode": "markers",
         "name": "2.0",
         "scene": "scene",
         "showlegend": true,
         "type": "scatter3d",
         "x": {
          "bdata": "3krb/UywqD8wqlY4wgfbP9O5COF0k8u/",
          "dtype": "f8"
         },
         "y": {
          "bdata": "BvLe+5YM1r9SgBtUNvrRv83BtNYtztE/",
          "dtype": "f8"
         },
         "z": {
          "bdata": "KIR9MlZm4j+AGAOAOmXaPwNgIpnGT9u/",
          "dtype": "f8"
         }
        }
       ],
       "layout": {
        "legend": {
         "title": {
          "text": "rating"
         },
         "tracegroupgap": 0
        },
        "margin": {
         "t": 60
        },
        "scene": {
         "domain": {
          "x": [
           0,
           1
          ],
          "y": [
           0,
           1
          ]
         },
         "xaxis": {
          "title": {
           "text": "PC1"
          }
         },
         "yaxis": {
          "title": {
           "text": "PC2"
          }
         },
         "zaxis": {
          "title": {
           "text": "PC3"
          }
         }
        },
        "template": {
         "data": {
          "bar": [
           {
            "error_x": {
             "color": "#2a3f5f"
            },
            "error_y": {
             "color": "#2a3f5f"
            },
            "marker": {
             "line": {
              "color": "#E5ECF6",
              "width": 0.5
             },
             "pattern": {
              "fillmode": "overlay",
              "size": 10,
              "solidity": 0.2
             }
            },
            "type": "bar"
           }
          ],
          "barpolar": [
           {
            "marker": {
             "line": {
              "color": "#E5ECF6",
              "width": 0.5
             },
             "pattern": {
              "fillmode": "overlay",
              "size": 10,
              "solidity": 0.2
             }
            },
            "type": "barpolar"
           }
          ],
          "carpet": [
           {
            "aaxis": {
             "endlinecolor": "#2a3f5f",
             "gridcolor": "white",
             "linecolor": "white",
             "minorgridcolor": "white",
             "startlinecolor": "#2a3f5f"
            },
            "baxis": {
             "endlinecolor": "#2a3f5f",
             "gridcolor": "white",
             "linecolor": "white",
             "minorgridcolor": "white",
             "startlinecolor": "#2a3f5f"
            },
            "type": "carpet"
           }
          ],
          "choropleth": [
           {
            "colorbar": {
             "outlinewidth": 0,
             "ticks": ""
            },
            "type": "choropleth"
           }
          ],
          "contour": [
           {
            "colorbar": {
             "outlinewidth": 0,
             "ticks": ""
            },
            "colorscale": [
             [
              0,
              "#0d0887"
             ],
             [
              0.1111111111111111,
              "#46039f"
             ],
             [
              0.2222222222222222,
              "#7201a8"
             ],
             [
              0.3333333333333333,
              "#9c179e"
             ],
             [
              0.4444444444444444,
              "#bd3786"
             ],
             [
              0.5555555555555556,
              "#d8576b"
             ],
             [
              0.6666666666666666,
              "#ed7953"
             ],
             [
              0.7777777777777778,
              "#fb9f3a"
             ],
             [
              0.8888888888888888,
              "#fdca26"
             ],
             [
              1,
              "#f0f921"
             ]
            ],
            "type": "contour"
           }
          ],
          "contourcarpet": [
           {
            "colorbar": {
             "outlinewidth": 0,
             "ticks": ""
            },
            "type": "contourcarpet"
           }
          ],
          "heatmap": [
           {
            "colorbar": {
             "outlinewidth": 0,
             "ticks": ""
            },
            "colorscale": [
             [
              0,
              "#0d0887"
             ],
             [
              0.1111111111111111,
              "#46039f"
             ],
             [
              0.2222222222222222,
              "#7201a8"
             ],
             [
              0.3333333333333333,
              "#9c179e"
             ],
             [
              0.4444444444444444,
              "#bd3786"
             ],
             [
              0.5555555555555556,
              "#d8576b"
             ],
             [
              0.6666666666666666,
              "#ed7953"
             ],
             [
              0.7777777777777778,
              "#fb9f3a"
             ],
             [
              0.8888888888888888,
              "#fdca26"
             ],
             [
              1,
              "#f0f921"
             ]
            ],
            "type": "heatmap"
           }
          ],
          "histogram": [
           {
            "marker": {
             "pattern": {
              "fillmode": "overlay",
              "size": 10,
              "solidity": 0.2
             }
            },
            "type": "histogram"
           }
          ],
          "histogram2d": [
           {
            "colorbar": {
             "outlinewidth": 0,
             "ticks": ""
            },
            "colorscale": [
             [
              0,
              "#0d0887"
             ],
             [
              0.1111111111111111,
              "#46039f"
             ],
             [
              0.2222222222222222,
              "#7201a8"
             ],
             [
              0.3333333333333333,
              "#9c179e"
             ],
             [
              0.4444444444444444,
              "#bd3786"
             ],
             [
              0.5555555555555556,
              "#d8576b"
             ],
             [
              0.6666666666666666,
              "#ed7953"
             ],
             [
              0.7777777777777778,
              "#fb9f3a"
             ],
             [
              0.8888888888888888,
              "#fdca26"
             ],
             [
              1,
              "#f0f921"
             ]
            ],
            "type": "histogram2d"
           }
          ],
          "histogram2dcontour": [
           {
            "colorbar": {
             "outlinewidth": 0,
             "ticks": ""
            },
            "colorscale": [
             [
              0,
              "#0d0887"
             ],
             [
              0.1111111111111111,
              "#46039f"
             ],
             [
              0.2222222222222222,
              "#7201a8"
             ],
             [
              0.3333333333333333,
              "#9c179e"
             ],
             [
              0.4444444444444444,
              "#bd3786"
             ],
             [
              0.5555555555555556,
              "#d8576b"
             ],
             [
              0.6666666666666666,
              "#ed7953"
             ],
             [
              0.7777777777777778,
              "#fb9f3a"
             ],
             [
              0.8888888888888888,
              "#fdca26"
             ],
             [
              1,
              "#f0f921"
             ]
            ],
            "type": "histogram2dcontour"
           }
          ],
          "mesh3d": [
           {
            "colorbar": {
             "outlinewidth": 0,
             "ticks": ""
            },
            "type": "mesh3d"
           }
          ],
          "parcoords": [
           {
            "line": {
             "colorbar": {
              "outlinewidth": 0,
              "ticks": ""
             }
            },
            "type": "parcoords"
           }
          ],
          "pie": [
           {
            "automargin": true,
            "type": "pie"
           }
          ],
          "scatter": [
           {
            "fillpattern": {
             "fillmode": "overlay",
             "size": 10,
             "solidity": 0.2
            },
            "type": "scatter"
           }
          ],
          "scatter3d": [
           {
            "line": {
             "colorbar": {
              "outlinewidth": 0,
              "ticks": ""
             }
            },
            "marker": {
             "colorbar": {
              "outlinewidth": 0,
              "ticks": ""
             }
            },
            "type": "scatter3d"
           }
          ],
          "scattercarpet": [
           {
            "marker": {
             "colorbar": {
              "outlinewidth": 0,
              "ticks": ""
             }
            },
            "type": "scattercarpet"
           }
          ],
          "scattergeo": [
           {
            "marker": {
             "colorbar": {
              "outlinewidth": 0,
              "ticks": ""
             }
            },
            "type": "scattergeo"
           }
          ],
          "scattergl": [
           {
            "marker": {
             "colorbar": {
              "outlinewidth": 0,
              "ticks": ""
             }
            },
            "type": "scattergl"
           }
          ],
          "scattermap": [
           {
            "marker": {
             "colorbar": {
              "outlinewidth": 0,
              "ticks": ""
             }
            },
            "type": "scattermap"
           }
          ],
          "scattermapbox": [
           {
            "marker": {
             "colorbar": {
              "outlinewidth": 0,
              "ticks": ""
             }
            },
            "type": "scattermapbox"
           }
          ],
          "scatterpolar": [
           {
            "marker": {
             "colorbar": {
              "outlinewidth": 0,
              "ticks": ""
             }
            },
            "type": "scatterpolar"
           }
          ],
          "scatterpolargl": [
           {
            "marker": {
             "colorbar": {
              "outlinewidth": 0,
              "ticks": ""
             }
            },
            "type": "scatterpolargl"
           }
          ],
          "scatterternary": [
           {
            "marker": {
             "colorbar": {
              "outlinewidth": 0,
              "ticks": ""
             }
            },
            "type": "scatterternary"
           }
          ],
          "surface": [
           {
            "colorbar": {
             "outlinewidth": 0,
             "ticks": ""
            },
            "colorscale": [
             [
              0,
              "#0d0887"
             ],
             [
              0.1111111111111111,
              "#46039f"
             ],
             [
              0.2222222222222222,
              "#7201a8"
             ],
             [
              0.3333333333333333,
              "#9c179e"
             ],
             [
              0.4444444444444444,
              "#bd3786"
             ],
             [
              0.5555555555555556,
              "#d8576b"
             ],
             [
              0.6666666666666666,
              "#ed7953"
             ],
             [
              0.7777777777777778,
              "#fb9f3a"
             ],
             [
              0.8888888888888888,
              "#fdca26"
             ],
             [
              1,
              "#f0f921"
             ]
            ],
            "type": "surface"
           }
          ],
          "table": [
           {
            "cells": {
             "fill": {
              "color": "#EBF0F8"
             },
             "line": {
              "color": "white"
             }
            },
            "header": {
             "fill": {
              "color": "#C8D4E3"
             },
             "line": {
              "color": "white"
             }
            },
            "type": "table"
           }
          ]
         },
         "layout": {
          "annotationdefaults": {
           "arrowcolor": "#2a3f5f",
           "arrowhead": 0,
           "arrowwidth": 1
          },
          "autotypenumbers": "strict",
          "coloraxis": {
           "colorbar": {
            "outlinewidth": 0,
            "ticks": ""
           }
          },
          "colorscale": {
           "diverging": [
            [
             0,
             "#8e0152"
            ],
            [
             0.1,
             "#c51b7d"
            ],
            [
             0.2,
             "#de77ae"
            ],
            [
             0.3,
             "#f1b6da"
            ],
            [
             0.4,
             "#fde0ef"
            ],
            [
             0.5,
             "#f7f7f7"
            ],
            [
             0.6,
             "#e6f5d0"
            ],
            [
             0.7,
             "#b8e186"
            ],
            [
             0.8,
             "#7fbc41"
            ],
            [
             0.9,
             "#4d9221"
            ],
            [
             1,
             "#276419"
            ]
           ],
           "sequential": [
            [
             0,
             "#0d0887"
            ],
            [
             0.1111111111111111,
             "#46039f"
            ],
            [
             0.2222222222222222,
             "#7201a8"
            ],
            [
             0.3333333333333333,
             "#9c179e"
            ],
            [
             0.4444444444444444,
             "#bd3786"
            ],
            [
             0.5555555555555556,
             "#d8576b"
            ],
            [
             0.6666666666666666,
             "#ed7953"
            ],
            [
             0.7777777777777778,
             "#fb9f3a"
            ],
            [
             0.8888888888888888,
             "#fdca26"
            ],
            [
             1,
             "#f0f921"
            ]
           ],
           "sequentialminus": [
            [
             0,
             "#0d0887"
            ],
            [
             0.1111111111111111,
             "#46039f"
            ],
            [
             0.2222222222222222,
             "#7201a8"
            ],
            [
             0.3333333333333333,
             "#9c179e"
            ],
            [
             0.4444444444444444,
             "#bd3786"
            ],
            [
             0.5555555555555556,
             "#d8576b"
            ],
            [
             0.6666666666666666,
             "#ed7953"
            ],
            [
             0.7777777777777778,
             "#fb9f3a"
            ],
            [
             0.8888888888888888,
             "#fdca26"
            ],
            [
             1,
             "#f0f921"
            ]
           ]
          },
          "colorway": [
           "#636efa",
           "#EF553B",
           "#00cc96",
           "#ab63fa",
           "#FFA15A",
           "#19d3f3",
           "#FF6692",
           "#B6E880",
           "#FF97FF",
           "#FECB52"
          ],
          "font": {
           "color": "#2a3f5f"
          },
          "geo": {
           "bgcolor": "white",
           "lakecolor": "white",
           "landcolor": "#E5ECF6",
           "showlakes": true,
           "showland": true,
           "subunitcolor": "white"
          },
          "hoverlabel": {
           "align": "left"
          },
          "hovermode": "closest",
          "mapbox": {
           "style": "light"
          },
          "paper_bgcolor": "white",
          "plot_bgcolor": "#E5ECF6",
          "polar": {
           "angularaxis": {
            "gridcolor": "white",
            "linecolor": "white",
            "ticks": ""
           },
           "bgcolor": "#E5ECF6",
           "radialaxis": {
            "gridcolor": "white",
            "linecolor": "white",
            "ticks": ""
           }
          },
          "scene": {
           "xaxis": {
            "backgroundcolor": "#E5ECF6",
            "gridcolor": "white",
            "gridwidth": 2,
            "linecolor": "white",
            "showbackground": true,
            "ticks": "",
            "zerolinecolor": "white"
           },
           "yaxis": {
            "backgroundcolor": "#E5ECF6",
            "gridcolor": "white",
            "gridwidth": 2,
            "linecolor": "white",
            "showbackground": true,
            "ticks": "",
            "zerolinecolor": "white"
           },
           "zaxis": {
            "backgroundcolor": "#E5ECF6",
            "gridcolor": "white",
            "gridwidth": 2,
            "linecolor": "white",
            "showbackground": true,
            "ticks": "",
            "zerolinecolor": "white"
           }
          },
          "shapedefaults": {
           "line": {
            "color": "#2a3f5f"
           }
          },
          "ternary": {
           "aaxis": {
            "gridcolor": "white",
            "linecolor": "white",
            "ticks": ""
           },
           "baxis": {
            "gridcolor": "white",
            "linecolor": "white",
            "ticks": ""
           },
           "bgcolor": "#E5ECF6",
           "caxis": {
            "gridcolor": "white",
            "linecolor": "white",
            "ticks": ""
           }
          },
          "title": {
           "x": 0.05
          },
          "xaxis": {
           "automargin": true,
           "gridcolor": "white",
           "linecolor": "white",
           "ticks": "",
           "title": {
            "standoff": 15
           },
           "zerolinecolor": "white",
           "zerolinewidth": 2
          },
          "yaxis": {
           "automargin": true,
           "gridcolor": "white",
           "linecolor": "white",
           "ticks": "",
           "title": {
            "standoff": 15
           },
           "zerolinecolor": "white",
           "zerolinewidth": 2
          }
         }
        }
       }
      }
     },
     "metadata": {},
     "output_type": "display_data"
    }
   ],
   "source": [
    "df = df_pos\n",
    "df[\"rating\"] = df[\"rating\"].astype(\"category\")\n",
    "fig = px.scatter_3d(df, x='PC1', y='PC2', z='PC3', color='rating')\n",
    "fig.show()"
   ]
  },
  {
   "cell_type": "code",
   "execution_count": 63,
   "id": "3d9f26fb",
   "metadata": {},
   "outputs": [
    {
     "data": {
      "application/vnd.plotly.v1+json": {
       "config": {
        "plotlyServerURL": "https://plot.ly"
       },
       "data": [
        {
         "hovertemplate": "rating=3.0<br>PC1=%{x}<br>PC2=%{y}<extra></extra>",
         "legendgroup": "3.0",
         "marker": {
          "color": "#636efa",
          "size": 12,
          "symbol": "circle"
         },
         "mode": "markers",
         "name": "3.0",
         "orientation": "v",
         "showlegend": true,
         "type": "scatter",
         "x": {
          "bdata": "qRu/rlXslD92oSoHY1bdvzMueua2nuW/SsFMmqBJ479tG1lV7l/nPwnMlAxsPsa//JIwyWGZ6z8=",
          "dtype": "f8"
         },
         "xaxis": "x",
         "y": {
          "bdata": "HE5H9fSAuD8y7GFlr63Mv6Hw+BENN96/oJmNmWsVzL9ZiqlWJlmYv9y6WOqVtuO/uDWdo5sc1D8=",
          "dtype": "f8"
         },
         "yaxis": "y"
        },
        {
         "hovertemplate": "rating=0.0<br>PC1=%{x}<br>PC2=%{y}<extra></extra>",
         "legendgroup": "0.0",
         "marker": {
          "color": "#EF553B",
          "size": 12,
          "symbol": "circle"
         },
         "mode": "markers",
         "name": "0.0",
         "orientation": "v",
         "showlegend": true,
         "type": "scatter",
         "x": {
          "bdata": "UlvYcn7x7D9WSCywS5nIP46xoZ0V8uS/pZiL+kW+ib+/YW6Y0W/gv314e0JTz8A/JRu0aAJ7yr+0pHptk1jgvwWZMLHogOe/mevuWPtt6z8=",
          "dtype": "f8"
         },
         "xaxis": "x",
         "y": {
          "bdata": "3ITY0LhObz9qRSw6p2XOP/2Yrtl9AOG/FzXpRsuY5D/eu+31GMDiP8zYTYMBj80/wJ1CsPOU4r81zZ9uy6DaPywN0nQayLY/99H4D3s8vr8=",
          "dtype": "f8"
         },
         "yaxis": "y"
        },
        {
         "hovertemplate": "rating=1.0<br>PC1=%{x}<br>PC2=%{y}<extra></extra>",
         "legendgroup": "1.0",
         "marker": {
          "color": "#00cc96",
          "size": 12,
          "symbol": "circle"
         },
         "mode": "markers",
         "name": "1.0",
         "orientation": "v",
         "showlegend": true,
         "type": "scatter",
         "x": {
          "bdata": "lTQv1x9z4b9Dns2vfwLiP9rN3j5ni9W/M653Ectb5b+ayhvcWgPpPw==",
          "dtype": "f8"
         },
         "xaxis": "x",
         "y": {
          "bdata": "y44lSPbF4z9nECH8+SjfP8WdJ0IiiuK/B6ZIq5J0vT9udGwKDjm+Pw==",
          "dtype": "f8"
         },
         "yaxis": "y"
        },
        {
         "hovertemplate": "rating=2.0<br>PC1=%{x}<br>PC2=%{y}<extra></extra>",
         "legendgroup": "2.0",
         "marker": {
          "color": "#ab63fa",
          "size": 12,
          "symbol": "circle"
         },
         "mode": "markers",
         "name": "2.0",
         "orientation": "v",
         "showlegend": true,
         "type": "scatter",
         "x": {
          "bdata": "SuHott5j5z94H330+rTjPz7Xxlzv7+W/",
          "dtype": "f8"
         },
         "xaxis": "x",
         "y": {
          "bdata": "cB+f6lSN0r/J0xk4M9Xgv0s8ybVnUdw/",
          "dtype": "f8"
         },
         "yaxis": "y"
        },
        {
         "hovertemplate": "rating=3.0<br>PC1=%{x}<br>PC2=%{y}<extra></extra>",
         "legendgroup": "3.0",
         "marker": {
          "color": "#636efa",
          "size": 12,
          "symbol": "circle"
         },
         "mode": "markers",
         "name": "3.0",
         "orientation": "v",
         "showlegend": true,
         "type": "scatter",
         "x": {
          "bdata": "7cad+5VVqT8ptJlkWzXRvwQ8Bh/+pOC/KIcHp3VA5b+LfofsnADEP/M+CY8l5eK/EAH3BXJb3D8=",
          "dtype": "f8"
         },
         "xaxis": "x2",
         "y": {
          "bdata": "WnCOM/rJnL+Q/4WCqvLCP7MOtXMz+9m/njsPM3fskj9X0JYW+JXWv/66r/Ner46/NZfBO0jO3r8=",
          "dtype": "f8"
         },
         "yaxis": "y2"
        },
        {
         "hovertemplate": "rating=0.0<br>PC1=%{x}<br>PC2=%{y}<extra></extra>",
         "legendgroup": "0.0",
         "marker": {
          "color": "#EF553B",
          "size": 12,
          "symbol": "circle"
         },
         "mode": "markers",
         "name": "0.0",
         "orientation": "v",
         "showlegend": true,
         "type": "scatter",
         "x": {
          "bdata": "1uBREt0y6z8y8s5iHFvFvx8CsbXuUre//jq7jM2W1j8DcAT0PF6qv2XPYaF6ltO/1rqnfXrJ478sFXThQPfXP81PQqoZzOW/aiO1qYzr6j8=",
          "dtype": "f8"
         },
         "xaxis": "x2",
         "y": {
          "bdata": "N+jv1KKXxT/WgGQyXb/kP00Qd7ldh+C/H8U6huvR3T/nA1JkOBjlPx175bWJTIg/oxP/AB4uxD/moTUgmlDdP8rqF+r0k5U/6aJhbfM1sD8=",
          "dtype": "f8"
         },
         "yaxis": "y2"
        },
        {
         "hovertemplate": "rating=1.0<br>PC1=%{x}<br>PC2=%{y}<extra></extra>",
         "legendgroup": "1.0",
         "marker": {
          "color": "#00cc96",
          "size": 12,
          "symbol": "circle"
         },
         "mode": "markers",
         "name": "1.0",
         "orientation": "v",
         "showlegend": true,
         "type": "scatter",
         "x": {
          "bdata": "yVj3iwls5L+8GkeZ3C/nP/g5Xu0nTta/gD7rzGY+2b8PCtHkgUTePw==",
          "dtype": "f8"
         },
         "xaxis": "x2",
         "y": {
          "bdata": "obPRGhZcuL/AesCBMruzP0Xvsql0Csc/J0idpwqv3b8Njsgn1a6/vw==",
          "dtype": "f8"
         },
         "yaxis": "y2"
        },
        {
         "hovertemplate": "rating=2.0<br>PC1=%{x}<br>PC2=%{y}<extra></extra>",
         "legendgroup": "2.0",
         "marker": {
          "color": "#ab63fa",
          "size": 12,
          "symbol": "circle"
         },
         "mode": "markers",
         "name": "2.0",
         "orientation": "v",
         "showlegend": true,
         "type": "scatter",
         "x": {
          "bdata": "3krb/UywqD8wqlY4wgfbP9O5COF0k8u/",
          "dtype": "f8"
         },
         "xaxis": "x2",
         "y": {
          "bdata": "BvLe+5YM1r9SgBtUNvrRv83BtNYtztE/",
          "dtype": "f8"
         },
         "yaxis": "y2"
        }
       ],
       "layout": {
        "annotations": [
         {
          "font": {
           "size": 16
          },
          "showarrow": false,
          "text": "Initialization",
          "x": 0.225,
          "xanchor": "center",
          "xref": "paper",
          "y": 1,
          "yanchor": "bottom",
          "yref": "paper"
         },
         {
          "font": {
           "size": 16
          },
          "showarrow": false,
          "text": "Trained",
          "x": 0.775,
          "xanchor": "center",
          "xref": "paper",
          "y": 1,
          "yanchor": "bottom",
          "yref": "paper"
         }
        ],
        "height": 450,
        "legend": {
         "title": {
          "text": "Group"
         }
        },
        "margin": {
         "b": 40,
         "l": 60,
         "r": 30,
         "t": 60
        },
        "template": {
         "data": {
          "bar": [
           {
            "error_x": {
             "color": "#2a3f5f"
            },
            "error_y": {
             "color": "#2a3f5f"
            },
            "marker": {
             "line": {
              "color": "white",
              "width": 0.5
             },
             "pattern": {
              "fillmode": "overlay",
              "size": 10,
              "solidity": 0.2
             }
            },
            "type": "bar"
           }
          ],
          "barpolar": [
           {
            "marker": {
             "line": {
              "color": "white",
              "width": 0.5
             },
             "pattern": {
              "fillmode": "overlay",
              "size": 10,
              "solidity": 0.2
             }
            },
            "type": "barpolar"
           }
          ],
          "carpet": [
           {
            "aaxis": {
             "endlinecolor": "#2a3f5f",
             "gridcolor": "#C8D4E3",
             "linecolor": "#C8D4E3",
             "minorgridcolor": "#C8D4E3",
             "startlinecolor": "#2a3f5f"
            },
            "baxis": {
             "endlinecolor": "#2a3f5f",
             "gridcolor": "#C8D4E3",
             "linecolor": "#C8D4E3",
             "minorgridcolor": "#C8D4E3",
             "startlinecolor": "#2a3f5f"
            },
            "type": "carpet"
           }
          ],
          "choropleth": [
           {
            "colorbar": {
             "outlinewidth": 0,
             "ticks": ""
            },
            "type": "choropleth"
           }
          ],
          "contour": [
           {
            "colorbar": {
             "outlinewidth": 0,
             "ticks": ""
            },
            "colorscale": [
             [
              0,
              "#0d0887"
             ],
             [
              0.1111111111111111,
              "#46039f"
             ],
             [
              0.2222222222222222,
              "#7201a8"
             ],
             [
              0.3333333333333333,
              "#9c179e"
             ],
             [
              0.4444444444444444,
              "#bd3786"
             ],
             [
              0.5555555555555556,
              "#d8576b"
             ],
             [
              0.6666666666666666,
              "#ed7953"
             ],
             [
              0.7777777777777778,
              "#fb9f3a"
             ],
             [
              0.8888888888888888,
              "#fdca26"
             ],
             [
              1,
              "#f0f921"
             ]
            ],
            "type": "contour"
           }
          ],
          "contourcarpet": [
           {
            "colorbar": {
             "outlinewidth": 0,
             "ticks": ""
            },
            "type": "contourcarpet"
           }
          ],
          "heatmap": [
           {
            "colorbar": {
             "outlinewidth": 0,
             "ticks": ""
            },
            "colorscale": [
             [
              0,
              "#0d0887"
             ],
             [
              0.1111111111111111,
              "#46039f"
             ],
             [
              0.2222222222222222,
              "#7201a8"
             ],
             [
              0.3333333333333333,
              "#9c179e"
             ],
             [
              0.4444444444444444,
              "#bd3786"
             ],
             [
              0.5555555555555556,
              "#d8576b"
             ],
             [
              0.6666666666666666,
              "#ed7953"
             ],
             [
              0.7777777777777778,
              "#fb9f3a"
             ],
             [
              0.8888888888888888,
              "#fdca26"
             ],
             [
              1,
              "#f0f921"
             ]
            ],
            "type": "heatmap"
           }
          ],
          "histogram": [
           {
            "marker": {
             "pattern": {
              "fillmode": "overlay",
              "size": 10,
              "solidity": 0.2
             }
            },
            "type": "histogram"
           }
          ],
          "histogram2d": [
           {
            "colorbar": {
             "outlinewidth": 0,
             "ticks": ""
            },
            "colorscale": [
             [
              0,
              "#0d0887"
             ],
             [
              0.1111111111111111,
              "#46039f"
             ],
             [
              0.2222222222222222,
              "#7201a8"
             ],
             [
              0.3333333333333333,
              "#9c179e"
             ],
             [
              0.4444444444444444,
              "#bd3786"
             ],
             [
              0.5555555555555556,
              "#d8576b"
             ],
             [
              0.6666666666666666,
              "#ed7953"
             ],
             [
              0.7777777777777778,
              "#fb9f3a"
             ],
             [
              0.8888888888888888,
              "#fdca26"
             ],
             [
              1,
              "#f0f921"
             ]
            ],
            "type": "histogram2d"
           }
          ],
          "histogram2dcontour": [
           {
            "colorbar": {
             "outlinewidth": 0,
             "ticks": ""
            },
            "colorscale": [
             [
              0,
              "#0d0887"
             ],
             [
              0.1111111111111111,
              "#46039f"
             ],
             [
              0.2222222222222222,
              "#7201a8"
             ],
             [
              0.3333333333333333,
              "#9c179e"
             ],
             [
              0.4444444444444444,
              "#bd3786"
             ],
             [
              0.5555555555555556,
              "#d8576b"
             ],
             [
              0.6666666666666666,
              "#ed7953"
             ],
             [
              0.7777777777777778,
              "#fb9f3a"
             ],
             [
              0.8888888888888888,
              "#fdca26"
             ],
             [
              1,
              "#f0f921"
             ]
            ],
            "type": "histogram2dcontour"
           }
          ],
          "mesh3d": [
           {
            "colorbar": {
             "outlinewidth": 0,
             "ticks": ""
            },
            "type": "mesh3d"
           }
          ],
          "parcoords": [
           {
            "line": {
             "colorbar": {
              "outlinewidth": 0,
              "ticks": ""
             }
            },
            "type": "parcoords"
           }
          ],
          "pie": [
           {
            "automargin": true,
            "type": "pie"
           }
          ],
          "scatter": [
           {
            "fillpattern": {
             "fillmode": "overlay",
             "size": 10,
             "solidity": 0.2
            },
            "type": "scatter"
           }
          ],
          "scatter3d": [
           {
            "line": {
             "colorbar": {
              "outlinewidth": 0,
              "ticks": ""
             }
            },
            "marker": {
             "colorbar": {
              "outlinewidth": 0,
              "ticks": ""
             }
            },
            "type": "scatter3d"
           }
          ],
          "scattercarpet": [
           {
            "marker": {
             "colorbar": {
              "outlinewidth": 0,
              "ticks": ""
             }
            },
            "type": "scattercarpet"
           }
          ],
          "scattergeo": [
           {
            "marker": {
             "colorbar": {
              "outlinewidth": 0,
              "ticks": ""
             }
            },
            "type": "scattergeo"
           }
          ],
          "scattergl": [
           {
            "marker": {
             "colorbar": {
              "outlinewidth": 0,
              "ticks": ""
             }
            },
            "type": "scattergl"
           }
          ],
          "scattermap": [
           {
            "marker": {
             "colorbar": {
              "outlinewidth": 0,
              "ticks": ""
             }
            },
            "type": "scattermap"
           }
          ],
          "scattermapbox": [
           {
            "marker": {
             "colorbar": {
              "outlinewidth": 0,
              "ticks": ""
             }
            },
            "type": "scattermapbox"
           }
          ],
          "scatterpolar": [
           {
            "marker": {
             "colorbar": {
              "outlinewidth": 0,
              "ticks": ""
             }
            },
            "type": "scatterpolar"
           }
          ],
          "scatterpolargl": [
           {
            "marker": {
             "colorbar": {
              "outlinewidth": 0,
              "ticks": ""
             }
            },
            "type": "scatterpolargl"
           }
          ],
          "scatterternary": [
           {
            "marker": {
             "colorbar": {
              "outlinewidth": 0,
              "ticks": ""
             }
            },
            "type": "scatterternary"
           }
          ],
          "surface": [
           {
            "colorbar": {
             "outlinewidth": 0,
             "ticks": ""
            },
            "colorscale": [
             [
              0,
              "#0d0887"
             ],
             [
              0.1111111111111111,
              "#46039f"
             ],
             [
              0.2222222222222222,
              "#7201a8"
             ],
             [
              0.3333333333333333,
              "#9c179e"
             ],
             [
              0.4444444444444444,
              "#bd3786"
             ],
             [
              0.5555555555555556,
              "#d8576b"
             ],
             [
              0.6666666666666666,
              "#ed7953"
             ],
             [
              0.7777777777777778,
              "#fb9f3a"
             ],
             [
              0.8888888888888888,
              "#fdca26"
             ],
             [
              1,
              "#f0f921"
             ]
            ],
            "type": "surface"
           }
          ],
          "table": [
           {
            "cells": {
             "fill": {
              "color": "#EBF0F8"
             },
             "line": {
              "color": "white"
             }
            },
            "header": {
             "fill": {
              "color": "#C8D4E3"
             },
             "line": {
              "color": "white"
             }
            },
            "type": "table"
           }
          ]
         },
         "layout": {
          "annotationdefaults": {
           "arrowcolor": "#2a3f5f",
           "arrowhead": 0,
           "arrowwidth": 1
          },
          "autotypenumbers": "strict",
          "coloraxis": {
           "colorbar": {
            "outlinewidth": 0,
            "ticks": ""
           }
          },
          "colorscale": {
           "diverging": [
            [
             0,
             "#8e0152"
            ],
            [
             0.1,
             "#c51b7d"
            ],
            [
             0.2,
             "#de77ae"
            ],
            [
             0.3,
             "#f1b6da"
            ],
            [
             0.4,
             "#fde0ef"
            ],
            [
             0.5,
             "#f7f7f7"
            ],
            [
             0.6,
             "#e6f5d0"
            ],
            [
             0.7,
             "#b8e186"
            ],
            [
             0.8,
             "#7fbc41"
            ],
            [
             0.9,
             "#4d9221"
            ],
            [
             1,
             "#276419"
            ]
           ],
           "sequential": [
            [
             0,
             "#0d0887"
            ],
            [
             0.1111111111111111,
             "#46039f"
            ],
            [
             0.2222222222222222,
             "#7201a8"
            ],
            [
             0.3333333333333333,
             "#9c179e"
            ],
            [
             0.4444444444444444,
             "#bd3786"
            ],
            [
             0.5555555555555556,
             "#d8576b"
            ],
            [
             0.6666666666666666,
             "#ed7953"
            ],
            [
             0.7777777777777778,
             "#fb9f3a"
            ],
            [
             0.8888888888888888,
             "#fdca26"
            ],
            [
             1,
             "#f0f921"
            ]
           ],
           "sequentialminus": [
            [
             0,
             "#0d0887"
            ],
            [
             0.1111111111111111,
             "#46039f"
            ],
            [
             0.2222222222222222,
             "#7201a8"
            ],
            [
             0.3333333333333333,
             "#9c179e"
            ],
            [
             0.4444444444444444,
             "#bd3786"
            ],
            [
             0.5555555555555556,
             "#d8576b"
            ],
            [
             0.6666666666666666,
             "#ed7953"
            ],
            [
             0.7777777777777778,
             "#fb9f3a"
            ],
            [
             0.8888888888888888,
             "#fdca26"
            ],
            [
             1,
             "#f0f921"
            ]
           ]
          },
          "colorway": [
           "#636efa",
           "#EF553B",
           "#00cc96",
           "#ab63fa",
           "#FFA15A",
           "#19d3f3",
           "#FF6692",
           "#B6E880",
           "#FF97FF",
           "#FECB52"
          ],
          "font": {
           "color": "#2a3f5f"
          },
          "geo": {
           "bgcolor": "white",
           "lakecolor": "white",
           "landcolor": "white",
           "showlakes": true,
           "showland": true,
           "subunitcolor": "#C8D4E3"
          },
          "hoverlabel": {
           "align": "left"
          },
          "hovermode": "closest",
          "mapbox": {
           "style": "light"
          },
          "paper_bgcolor": "white",
          "plot_bgcolor": "white",
          "polar": {
           "angularaxis": {
            "gridcolor": "#EBF0F8",
            "linecolor": "#EBF0F8",
            "ticks": ""
           },
           "bgcolor": "white",
           "radialaxis": {
            "gridcolor": "#EBF0F8",
            "linecolor": "#EBF0F8",
            "ticks": ""
           }
          },
          "scene": {
           "xaxis": {
            "backgroundcolor": "white",
            "gridcolor": "#DFE8F3",
            "gridwidth": 2,
            "linecolor": "#EBF0F8",
            "showbackground": true,
            "ticks": "",
            "zerolinecolor": "#EBF0F8"
           },
           "yaxis": {
            "backgroundcolor": "white",
            "gridcolor": "#DFE8F3",
            "gridwidth": 2,
            "linecolor": "#EBF0F8",
            "showbackground": true,
            "ticks": "",
            "zerolinecolor": "#EBF0F8"
           },
           "zaxis": {
            "backgroundcolor": "white",
            "gridcolor": "#DFE8F3",
            "gridwidth": 2,
            "linecolor": "#EBF0F8",
            "showbackground": true,
            "ticks": "",
            "zerolinecolor": "#EBF0F8"
           }
          },
          "shapedefaults": {
           "line": {
            "color": "#2a3f5f"
           }
          },
          "ternary": {
           "aaxis": {
            "gridcolor": "#DFE8F3",
            "linecolor": "#A2B1C6",
            "ticks": ""
           },
           "baxis": {
            "gridcolor": "#DFE8F3",
            "linecolor": "#A2B1C6",
            "ticks": ""
           },
           "bgcolor": "white",
           "caxis": {
            "gridcolor": "#DFE8F3",
            "linecolor": "#A2B1C6",
            "ticks": ""
           }
          },
          "title": {
           "x": 0.05
          },
          "xaxis": {
           "automargin": true,
           "gridcolor": "#EBF0F8",
           "linecolor": "#EBF0F8",
           "ticks": "",
           "title": {
            "standoff": 15
           },
           "zerolinecolor": "#EBF0F8",
           "zerolinewidth": 2
          },
          "yaxis": {
           "automargin": true,
           "gridcolor": "#EBF0F8",
           "linecolor": "#EBF0F8",
           "ticks": "",
           "title": {
            "standoff": 15
           },
           "zerolinecolor": "#EBF0F8",
           "zerolinewidth": 2
          }
         }
        },
        "width": 950,
        "xaxis": {
         "anchor": "y",
         "domain": [
          0,
          0.45
         ]
        },
        "xaxis2": {
         "anchor": "y2",
         "domain": [
          0.55,
          1
         ]
        },
        "yaxis": {
         "anchor": "x",
         "domain": [
          0,
          1
         ]
        },
        "yaxis2": {
         "anchor": "x2",
         "domain": [
          0,
          1
         ],
         "matches": "y",
         "showticklabels": false
        }
       }
      }
     },
     "metadata": {},
     "output_type": "display_data"
    }
   ],
   "source": [
    "fig = make_subplots(\n",
    "    rows=1, cols=2,\n",
    "    shared_yaxes=True,          # keep scales aligned (optional)\n",
    "    subplot_titles=(\"Initialization\", \"Trained\")\n",
    ")\n",
    "\n",
    "# --- 3. Create px.scatter for each dataframe and graft its traces ---\n",
    "scatter1 = px.scatter(df_pos_init, x=\"PC1\", y=\"PC2\", color=\"rating\", height=400)\n",
    "scatter1.update_traces(marker=dict(size=12))\n",
    "for tr in scatter1.data:\n",
    "    fig.add_trace(tr, row=1, col=1)       # left axis\n",
    "\n",
    "scatter2 = px.scatter(df_pos, x=\"PC1\", y=\"PC2\", color=\"rating\", height=400)\n",
    "scatter2.update_traces(marker=dict(size=12))\n",
    "for tr in scatter2.data:\n",
    "    fig.add_trace(tr, row=1, col=2)       # right axis\n",
    "\n",
    "# --- 4. Global cosmetics --------------------------------------------\n",
    "fig.update_layout(\n",
    "    template=\"plotly_white\",\n",
    "    width=950, height=450,\n",
    "    legend_title_text=\"Group\",\n",
    "    margin=dict(l=60, r=30, t=60, b=40)\n",
    ")\n",
    "\n",
    "fig.show()"
   ]
  },
  {
   "cell_type": "code",
   "execution_count": null,
   "id": "bc67c419",
   "metadata": {},
   "outputs": [],
   "source": []
  }
 ],
 "metadata": {
  "kernelspec": {
   "display_name": "prochain_transformer",
   "language": "python",
   "name": "python3"
  },
  "language_info": {
   "codemirror_mode": {
    "name": "ipython",
    "version": 3
   },
   "file_extension": ".py",
   "mimetype": "text/x-python",
   "name": "python",
   "nbconvert_exporter": "python",
   "pygments_lexer": "ipython3",
   "version": "3.11.9"
  }
 },
 "nbformat": 4,
 "nbformat_minor": 5
}
