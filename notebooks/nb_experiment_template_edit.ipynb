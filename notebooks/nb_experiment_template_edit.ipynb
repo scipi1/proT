{
    "cells": [
        {
            "cell_type": "markdown",
            "id": "config-cell",
            "metadata": {},
            "source": [
                "# Experiment Report\n",
                "\n",
                "## Experiment Configuration\n",
                "```yaml\n",
                "{{ config_content }}\n",
                "```\n",
                "\n",
                "## Results\n",
                "\n",
                "### Metrics\n",
                "\n",
                "Accuracy: {{ accuracy }}\n",
                "Loss: {{ loss }}\n",
                "\n",
                "## Analysis\n",
                "\n",
                "The model performed with an accuracy of {{ accuracy }} and a loss of {{ loss }}. Further tuning of hyperparameters is recommended to improve performance.\n",
                "\n",
                "## Training"
            ]
        },
        {
            "cell_type": "code",
            "execution_count": null,
            "id": "plots-cell",
            "metadata": {},
            "outputs": [],
            "source": [
                "import os\n",
                "import re\n",
                "import pandas as pd\n",
                "import matplotlib.pyplot as plt\n",
                "\n",
                "def find_latest_version_folder(directory):\n",
                "    version_pattern = re.compile(r'version_(\\d)')\n",
                "    latest_version = 0\n",
                "    latest_version_folder = None\n",
                "\n",
                "    for folder_name in os.listdir(directory):\n",
                "        match = version_pattern.match(folder_name)\n",
                "        if match:\n",
                "            version_number = int(match.group(1))\n",
                "            if version_number > latest_version:\n",
                "                latest_version = version_number\n",
                "                latest_version_folder = folder_name\n",
                "\n",
                "    return latest_version_folder\n",
                "\n",
                "# get most recent version:\n",
                "directory_path = r'{{ plots_path }}'\n",
                "latest_folder = find_latest_version_folder(directory_path)\n",
                "\n",
                "filename = \"metrics.csv\"\n",
                "results = pd.read_csv(os.path.join(directory_path,latest_folder,filename))\n",
                "# Plot accuracy\n",
                "cols = [\"train_loss\",\"val_loss\"]\n",
                "\n",
                "\n",
                "plt.figure(figsize=(10, 5))\n",
                "for col in cols:\n",
                "    data = results.set_index([\"epoch\",\"step\"])[col].dropna().reset_index()\n",
                "    plt.plot(data['epoch'], data[col], label=col)\n",
                "\n",
                "plt.xlabel('Epoch')\n",
                "plt.ylabel('Loss')\n",
                "plt.title('Training and Validation Loss')\n",
                "plt.grid(True)\n",
                "plt.legend()\n",
                "plt.show()"
            ]
        },
        {
            "cell_type": "markdown",
            "id": "8e4bed3f",
            "metadata": {},
            "source": [
                "## Predict"
            ]
        },
        {
            "cell_type": "code",
            "execution_count": null,
            "id": "b305a546",
            "metadata": {},
            "outputs": [],
            "source": [
                "import sys\n",
                "ROOT_DIR = \"../\"\n",
                "sys.path.append(ROOT_DIR)\n",
                "\n",
                "from prochain_transformer.predict import predict\n",
                "\n",
                "exp_id = r'{{ exp_id }}'\n",
                "checkpoint = r'{{ checkpoint }}'\n",
                "predict(exp_id=exp_id,checkpoint=checkpoint)"
            ]
        }
    ],
    "metadata": {
        "language_info": {
            "name": "python"
        }
    },
    "nbformat": 4,
    "nbformat_minor": 5
}
